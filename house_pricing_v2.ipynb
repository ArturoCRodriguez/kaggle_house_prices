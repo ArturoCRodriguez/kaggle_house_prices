{
 "metadata": {
  "language_info": {
   "codemirror_mode": {
    "name": "ipython",
    "version": 3
   },
   "file_extension": ".py",
   "mimetype": "text/x-python",
   "name": "python",
   "nbconvert_exporter": "python",
   "pygments_lexer": "ipython3",
   "version": 3
  },
  "orig_nbformat": 2,
  "kernelspec": {
   "name": "python_defaultSpec_1595844914943",
   "display_name": "Python 3.7.7 64-bit ('tf': conda)"
  }
 },
 "nbformat": 4,
 "nbformat_minor": 2,
 "cells": [
  {
   "cell_type": "code",
   "execution_count": 115,
   "metadata": {},
   "outputs": [],
   "source": [
    "%matplotlib inline\n",
    "import pandas as pd\n",
    "import numpy as np\n",
    "import seaborn as sns\n",
    "import matplotlib.pyplot as plt\n",
    "from sklearn.preprocessing import OneHotEncoder, RobustScaler, OrdinalEncoder, MinMaxScaler\n",
    "from sklearn.experimental import enable_iterative_imputer\n",
    "from sklearn.impute import KNNImputer, IterativeImputer\n",
    "from sklearn.pipeline import Pipeline\n",
    "from sklearn.compose import ColumnTransformer\n",
    "from sklearn.model_selection import train_test_split, cross_val_score\n",
    "from sklearn.metrics import mean_squared_error, mean_squared_log_error\n",
    "from sklearn.model_selection import GridSearchCV\n",
    "from xgboost import XGBRegressor\n",
    "from lightgbm import LGBMRegressor\n",
    "from sklearn.linear_model import LinearRegression\n",
    "from sklearn.neural_network import MLPRegressor\n",
    "from sklearn.svm import SVR\n",
    "from sklearn.inspection import permutation_importance\n",
    "from sklearn.ensemble import VotingRegressor\n",
    "import math"
   ]
  },
  {
   "cell_type": "code",
   "execution_count": 116,
   "metadata": {
    "tags": []
   },
   "outputs": [
    {
     "output_type": "stream",
     "name": "stdout",
     "text": "<class 'pandas.core.frame.DataFrame'>\nRangeIndex: 2919 entries, 0 to 2918\nData columns (total 83 columns):\n #   Column         Non-Null Count  Dtype  \n---  ------         --------------  -----  \n 0   index          2919 non-null   int64  \n 1   Id             2919 non-null   int64  \n 2   MSSubClass     2919 non-null   int64  \n 3   MSZoning       2915 non-null   object \n 4   LotFrontage    2433 non-null   float64\n 5   LotArea        2919 non-null   int64  \n 6   Street         2919 non-null   object \n 7   Alley          198 non-null    object \n 8   LotShape       2919 non-null   object \n 9   LandContour    2919 non-null   object \n 10  Utilities      2917 non-null   object \n 11  LotConfig      2919 non-null   object \n 12  LandSlope      2919 non-null   object \n 13  Neighborhood   2919 non-null   object \n 14  Condition1     2919 non-null   object \n 15  Condition2     2919 non-null   object \n 16  BldgType       2919 non-null   object \n 17  HouseStyle     2919 non-null   object \n 18  OverallQual    2919 non-null   int64  \n 19  OverallCond    2919 non-null   int64  \n 20  YearBuilt      2919 non-null   int64  \n 21  YearRemodAdd   2919 non-null   int64  \n 22  RoofStyle      2919 non-null   object \n 23  RoofMatl       2919 non-null   object \n 24  Exterior1st    2918 non-null   object \n 25  Exterior2nd    2918 non-null   object \n 26  MasVnrType     2895 non-null   object \n 27  MasVnrArea     2896 non-null   float64\n 28  ExterQual      2919 non-null   object \n 29  ExterCond      2919 non-null   object \n 30  Foundation     2919 non-null   object \n 31  BsmtQual       2838 non-null   object \n 32  BsmtCond       2837 non-null   object \n 33  BsmtExposure   2837 non-null   object \n 34  BsmtFinType1   2840 non-null   object \n 35  BsmtFinSF1     2918 non-null   float64\n 36  BsmtFinType2   2839 non-null   object \n 37  BsmtFinSF2     2918 non-null   float64\n 38  BsmtUnfSF      2918 non-null   float64\n 39  TotalBsmtSF    2918 non-null   float64\n 40  Heating        2919 non-null   object \n 41  HeatingQC      2919 non-null   object \n 42  CentralAir     2919 non-null   object \n 43  Electrical     2918 non-null   object \n 44  1stFlrSF       2919 non-null   int64  \n 45  2ndFlrSF       2919 non-null   int64  \n 46  LowQualFinSF   2919 non-null   int64  \n 47  GrLivArea      2919 non-null   int64  \n 48  BsmtFullBath   2917 non-null   float64\n 49  BsmtHalfBath   2917 non-null   float64\n 50  FullBath       2919 non-null   int64  \n 51  HalfBath       2919 non-null   int64  \n 52  BedroomAbvGr   2919 non-null   int64  \n 53  KitchenAbvGr   2919 non-null   int64  \n 54  KitchenQual    2918 non-null   object \n 55  TotRmsAbvGrd   2919 non-null   int64  \n 56  Functional     2917 non-null   object \n 57  Fireplaces     2919 non-null   int64  \n 58  FireplaceQu    1499 non-null   object \n 59  GarageType     2762 non-null   object \n 60  GarageYrBlt    2760 non-null   float64\n 61  GarageFinish   2760 non-null   object \n 62  GarageCars     2918 non-null   float64\n 63  GarageArea     2918 non-null   float64\n 64  GarageQual     2760 non-null   object \n 65  GarageCond     2760 non-null   object \n 66  PavedDrive     2919 non-null   object \n 67  WoodDeckSF     2919 non-null   int64  \n 68  OpenPorchSF    2919 non-null   int64  \n 69  EnclosedPorch  2919 non-null   int64  \n 70  3SsnPorch      2919 non-null   int64  \n 71  ScreenPorch    2919 non-null   int64  \n 72  PoolArea       2919 non-null   int64  \n 73  PoolQC         10 non-null     object \n 74  Fence          571 non-null    object \n 75  MiscFeature    105 non-null    object \n 76  MiscVal        2919 non-null   int64  \n 77  MoSold         2919 non-null   int64  \n 78  YrSold         2919 non-null   int64  \n 79  SaleType       2918 non-null   object \n 80  SaleCondition  2919 non-null   object \n 81  SalePrice      2919 non-null   int64  \n 82  Type           2919 non-null   object \ndtypes: float64(11), int64(28), object(44)\nmemory usage: 1.8+ MB\n"
    }
   ],
   "source": [
    "data_train = pd.read_csv('train.csv')\n",
    "data_test = pd.read_csv('test.csv')\n",
    "data_test['SalePrice'] = -1\n",
    "all_data = pd.concat([data_train,data_test]).reset_index()\n",
    "all_data['Type'] = all_data.apply(lambda x: 'train' if x['SalePrice'] > -1 else 'test',axis=1)\n",
    "all_data.info()"
   ]
  },
  {
   "cell_type": "code",
   "execution_count": 117,
   "metadata": {
    "tags": []
   },
   "outputs": [],
   "source": [
    "# Cleaning\n",
    "# Primero rellenamos con 'NA' aquellos valores vacíos que no lo son en realidad\n",
    "NA_features = ['Alley','BsmtQual','BsmtCond','BsmtExposure','BsmtFinType1','BsmtFinType2','FireplaceQu','GarageType','GarageFinish','GarageQual','GarageCond','PoolQC','Fence','MiscFeature']\n",
    "all_data[NA_features] = all_data[NA_features].fillna('NA')\n",
    "# all_data.loc[(all_data.GarageType == 'NA') & (all_data.GarageCars != 0) ,'GarageCars']\n",
    "\n",
    "\n"
   ]
  },
  {
   "cell_type": "code",
   "execution_count": 118,
   "metadata": {
    "tags": []
   },
   "outputs": [
    {
     "output_type": "stream",
     "name": "stdout",
     "text": "<class 'pandas.core.frame.DataFrame'>\nRangeIndex: 2919 entries, 0 to 2918\nData columns (total 83 columns):\n #   Column         Non-Null Count  Dtype  \n---  ------         --------------  -----  \n 0   index          2919 non-null   int64  \n 1   Id             2919 non-null   int64  \n 2   MSSubClass     2919 non-null   int64  \n 3   MSZoning       2915 non-null   object \n 4   LotFrontage    2433 non-null   float64\n 5   LotArea        2919 non-null   int64  \n 6   Street         2919 non-null   object \n 7   Alley          2919 non-null   object \n 8   LotShape       2919 non-null   object \n 9   LandContour    2919 non-null   object \n 10  Utilities      2917 non-null   object \n 11  LotConfig      2919 non-null   object \n 12  LandSlope      2919 non-null   object \n 13  Neighborhood   2919 non-null   object \n 14  Condition1     2919 non-null   object \n 15  Condition2     2919 non-null   object \n 16  BldgType       2919 non-null   object \n 17  HouseStyle     2919 non-null   object \n 18  OverallQual    2919 non-null   int64  \n 19  OverallCond    2919 non-null   int64  \n 20  YearBuilt      2919 non-null   int64  \n 21  YearRemodAdd   2919 non-null   int64  \n 22  RoofStyle      2919 non-null   object \n 23  RoofMatl       2919 non-null   object \n 24  Exterior1st    2918 non-null   object \n 25  Exterior2nd    2918 non-null   object \n 26  MasVnrType     2895 non-null   object \n 27  MasVnrArea     2896 non-null   float64\n 28  ExterQual      2919 non-null   object \n 29  ExterCond      2919 non-null   object \n 30  Foundation     2919 non-null   object \n 31  BsmtQual       2919 non-null   object \n 32  BsmtCond       2919 non-null   object \n 33  BsmtExposure   2919 non-null   object \n 34  BsmtFinType1   2919 non-null   object \n 35  BsmtFinSF1     2918 non-null   float64\n 36  BsmtFinType2   2919 non-null   object \n 37  BsmtFinSF2     2918 non-null   float64\n 38  BsmtUnfSF      2918 non-null   float64\n 39  TotalBsmtSF    2918 non-null   float64\n 40  Heating        2919 non-null   object \n 41  HeatingQC      2919 non-null   object \n 42  CentralAir     2919 non-null   object \n 43  Electrical     2918 non-null   object \n 44  1stFlrSF       2919 non-null   int64  \n 45  2ndFlrSF       2919 non-null   int64  \n 46  LowQualFinSF   2919 non-null   int64  \n 47  GrLivArea      2919 non-null   int64  \n 48  BsmtFullBath   2917 non-null   float64\n 49  BsmtHalfBath   2917 non-null   float64\n 50  FullBath       2919 non-null   int64  \n 51  HalfBath       2919 non-null   int64  \n 52  BedroomAbvGr   2919 non-null   int64  \n 53  KitchenAbvGr   2919 non-null   int64  \n 54  KitchenQual    2918 non-null   object \n 55  TotRmsAbvGrd   2919 non-null   int64  \n 56  Functional     2919 non-null   object \n 57  Fireplaces     2919 non-null   int64  \n 58  FireplaceQu    2919 non-null   object \n 59  GarageType     2919 non-null   object \n 60  GarageYrBlt    2760 non-null   float64\n 61  GarageFinish   2919 non-null   object \n 62  GarageCars     2918 non-null   float64\n 63  GarageArea     2918 non-null   float64\n 64  GarageQual     2919 non-null   object \n 65  GarageCond     2919 non-null   object \n 66  PavedDrive     2919 non-null   object \n 67  WoodDeckSF     2919 non-null   int64  \n 68  OpenPorchSF    2919 non-null   int64  \n 69  EnclosedPorch  2919 non-null   int64  \n 70  3SsnPorch      2919 non-null   int64  \n 71  ScreenPorch    2919 non-null   int64  \n 72  PoolArea       2919 non-null   int64  \n 73  PoolQC         2919 non-null   object \n 74  Fence          2919 non-null   object \n 75  MiscFeature    2919 non-null   object \n 76  MiscVal        2919 non-null   int64  \n 77  MoSold         2919 non-null   int64  \n 78  YrSold         2919 non-null   int64  \n 79  SaleType       2918 non-null   object \n 80  SaleCondition  2919 non-null   object \n 81  SalePrice      2919 non-null   int64  \n 82  Type           2919 non-null   object \ndtypes: float64(11), int64(28), object(44)\nmemory usage: 1.8+ MB\n"
    }
   ],
   "source": [
    "# Data_description.txt nos dice que Functional es typical a menos que Deductions estén garantizadas/justificadas\n",
    "all_data[['Functional']] = all_data[['Functional']].fillna('Typ')\n",
    "all_data.info()"
   ]
  },
  {
   "cell_type": "code",
   "execution_count": 119,
   "metadata": {},
   "outputs": [
    {
     "output_type": "execute_result",
     "data": {
      "text/plain": "        Id GarageType  GarageYrBlt GarageFinish  GarageCars  GarageArea  \\\n2126  2127     Detchd          NaN           NA         1.0       360.0   \n\n     GarageQual GarageCond  Type  \n2126         NA         NA  test  ",
      "text/html": "<div>\n<style scoped>\n    .dataframe tbody tr th:only-of-type {\n        vertical-align: middle;\n    }\n\n    .dataframe tbody tr th {\n        vertical-align: top;\n    }\n\n    .dataframe thead th {\n        text-align: right;\n    }\n</style>\n<table border=\"1\" class=\"dataframe\">\n  <thead>\n    <tr style=\"text-align: right;\">\n      <th></th>\n      <th>Id</th>\n      <th>GarageType</th>\n      <th>GarageYrBlt</th>\n      <th>GarageFinish</th>\n      <th>GarageCars</th>\n      <th>GarageArea</th>\n      <th>GarageQual</th>\n      <th>GarageCond</th>\n      <th>Type</th>\n    </tr>\n  </thead>\n  <tbody>\n    <tr>\n      <th>2126</th>\n      <td>2127</td>\n      <td>Detchd</td>\n      <td>NaN</td>\n      <td>NA</td>\n      <td>1.0</td>\n      <td>360.0</td>\n      <td>NA</td>\n      <td>NA</td>\n      <td>test</td>\n    </tr>\n  </tbody>\n</table>\n</div>"
     },
     "metadata": {},
     "execution_count": 119
    }
   ],
   "source": [
    "# GarageCars / GarageArea\n",
    "garage_features = ['Id','GarageType','GarageYrBlt','GarageFinish','GarageCars','GarageArea','GarageQual','GarageCond','Type']\n",
    "# El registro con Id 2577 parece no tener Garaje, a pesar de que en su GarageType pone Detchd\n",
    "# Cambiamos ese valor por NA\n",
    "all_data.loc[all_data.Id == 2577,'GarageType'] = 'NA'\n",
    "all_data.loc[(all_data.GarageType != 'NA') & (all_data.GarageYrBlt.isnull()) ,garage_features]\n",
    "\n"
   ]
  },
  {
   "cell_type": "markdown",
   "metadata": {},
   "source": [
    "El registro Id 2127 nos da información contradictoria. Por un lado nos dice que tiene un Garaje tipo Detchd en el que cabe 1 coche y por otro nos dice que no tiene según Finish Qual y Cond.\n",
    "Tenemos que tomar la decisión de cuál es la info correcta. Optamos por dar por válido el hecho de que tiene garaje. \n",
    "Para rellenar Finish vemos que la mayoría de los garajes tipo Detchd son 'Unf'\n",
    "Más concretamente, vemos que para las casas con GarageCars == 1, la combinación más habitual de Finish, Qual y Cond es 'Unf', 'TA', 'TA' (481)\n",
    "Además debemos rellenar el GarageYrBlt. Usamos la fecha de última remodelación (1983)"
   ]
  },
  {
   "cell_type": "code",
   "execution_count": 120,
   "metadata": {
    "tags": []
   },
   "outputs": [
    {
     "output_type": "stream",
     "name": "stdout",
     "text": "<class 'pandas.core.frame.DataFrame'>\nRangeIndex: 2919 entries, 0 to 2918\nData columns (total 83 columns):\n #   Column         Non-Null Count  Dtype  \n---  ------         --------------  -----  \n 0   index          2919 non-null   int64  \n 1   Id             2919 non-null   int64  \n 2   MSSubClass     2919 non-null   int64  \n 3   MSZoning       2915 non-null   object \n 4   LotFrontage    2433 non-null   float64\n 5   LotArea        2919 non-null   int64  \n 6   Street         2919 non-null   object \n 7   Alley          2919 non-null   object \n 8   LotShape       2919 non-null   object \n 9   LandContour    2919 non-null   object \n 10  Utilities      2917 non-null   object \n 11  LotConfig      2919 non-null   object \n 12  LandSlope      2919 non-null   object \n 13  Neighborhood   2919 non-null   object \n 14  Condition1     2919 non-null   object \n 15  Condition2     2919 non-null   object \n 16  BldgType       2919 non-null   object \n 17  HouseStyle     2919 non-null   object \n 18  OverallQual    2919 non-null   int64  \n 19  OverallCond    2919 non-null   int64  \n 20  YearBuilt      2919 non-null   int64  \n 21  YearRemodAdd   2919 non-null   int64  \n 22  RoofStyle      2919 non-null   object \n 23  RoofMatl       2919 non-null   object \n 24  Exterior1st    2918 non-null   object \n 25  Exterior2nd    2918 non-null   object \n 26  MasVnrType     2895 non-null   object \n 27  MasVnrArea     2896 non-null   float64\n 28  ExterQual      2919 non-null   object \n 29  ExterCond      2919 non-null   object \n 30  Foundation     2919 non-null   object \n 31  BsmtQual       2919 non-null   object \n 32  BsmtCond       2919 non-null   object \n 33  BsmtExposure   2919 non-null   object \n 34  BsmtFinType1   2919 non-null   object \n 35  BsmtFinSF1     2918 non-null   float64\n 36  BsmtFinType2   2919 non-null   object \n 37  BsmtFinSF2     2918 non-null   float64\n 38  BsmtUnfSF      2918 non-null   float64\n 39  TotalBsmtSF    2918 non-null   float64\n 40  Heating        2919 non-null   object \n 41  HeatingQC      2919 non-null   object \n 42  CentralAir     2919 non-null   object \n 43  Electrical     2918 non-null   object \n 44  1stFlrSF       2919 non-null   int64  \n 45  2ndFlrSF       2919 non-null   int64  \n 46  LowQualFinSF   2919 non-null   int64  \n 47  GrLivArea      2919 non-null   int64  \n 48  BsmtFullBath   2917 non-null   float64\n 49  BsmtHalfBath   2917 non-null   float64\n 50  FullBath       2919 non-null   int64  \n 51  HalfBath       2919 non-null   int64  \n 52  BedroomAbvGr   2919 non-null   int64  \n 53  KitchenAbvGr   2919 non-null   int64  \n 54  KitchenQual    2918 non-null   object \n 55  TotRmsAbvGrd   2919 non-null   int64  \n 56  Functional     2919 non-null   object \n 57  Fireplaces     2919 non-null   int64  \n 58  FireplaceQu    2919 non-null   object \n 59  GarageType     2919 non-null   object \n 60  GarageYrBlt    2761 non-null   float64\n 61  GarageFinish   2919 non-null   object \n 62  GarageCars     2918 non-null   float64\n 63  GarageArea     2918 non-null   float64\n 64  GarageQual     2919 non-null   object \n 65  GarageCond     2919 non-null   object \n 66  PavedDrive     2919 non-null   object \n 67  WoodDeckSF     2919 non-null   int64  \n 68  OpenPorchSF    2919 non-null   int64  \n 69  EnclosedPorch  2919 non-null   int64  \n 70  3SsnPorch      2919 non-null   int64  \n 71  ScreenPorch    2919 non-null   int64  \n 72  PoolArea       2919 non-null   int64  \n 73  PoolQC         2919 non-null   object \n 74  Fence          2919 non-null   object \n 75  MiscFeature    2919 non-null   object \n 76  MiscVal        2919 non-null   int64  \n 77  MoSold         2919 non-null   int64  \n 78  YrSold         2919 non-null   int64  \n 79  SaleType       2918 non-null   object \n 80  SaleCondition  2919 non-null   object \n 81  SalePrice      2919 non-null   int64  \n 82  Type           2919 non-null   object \ndtypes: float64(11), int64(28), object(44)\nmemory usage: 1.8+ MB\n"
    }
   ],
   "source": [
    "all_data.loc[(all_data.GarageCars == 1)].groupby(['GarageFinish','GarageQual','GarageCond']).count()\n",
    "all_data.loc[(all_data.GarageCars == 1) & (all_data.GarageFinish == 'Unf') & (all_data.GarageQual == 'TA') & (all_data.GarageCond == 'TA')]\n",
    "all_data.loc[all_data.Id == 2127,['GarageFinish','GarageQual','GarageCond']] = ['Unf','TA','TA']\n",
    "all_data.loc[all_data.Id == 2127,['GarageYrBlt']] = all_data.loc[(all_data.Id == 2127),'YearRemodAdd'].values\n",
    "all_data.loc[(all_data.GarageType != 'NA') & (all_data.GarageYrBlt.isnull()) ,garage_features]\n",
    "all_data.info()"
   ]
  },
  {
   "cell_type": "code",
   "execution_count": 121,
   "metadata": {
    "tags": []
   },
   "outputs": [
    {
     "output_type": "stream",
     "name": "stdout",
     "text": "<class 'pandas.core.frame.DataFrame'>\nRangeIndex: 2919 entries, 0 to 2918\nData columns (total 83 columns):\n #   Column         Non-Null Count  Dtype  \n---  ------         --------------  -----  \n 0   index          2919 non-null   int64  \n 1   Id             2919 non-null   int64  \n 2   MSSubClass     2919 non-null   int64  \n 3   MSZoning       2915 non-null   object \n 4   LotFrontage    2433 non-null   float64\n 5   LotArea        2919 non-null   int64  \n 6   Street         2919 non-null   object \n 7   Alley          2919 non-null   object \n 8   LotShape       2919 non-null   object \n 9   LandContour    2919 non-null   object \n 10  Utilities      2917 non-null   object \n 11  LotConfig      2919 non-null   object \n 12  LandSlope      2919 non-null   object \n 13  Neighborhood   2919 non-null   object \n 14  Condition1     2919 non-null   object \n 15  Condition2     2919 non-null   object \n 16  BldgType       2919 non-null   object \n 17  HouseStyle     2919 non-null   object \n 18  OverallQual    2919 non-null   int64  \n 19  OverallCond    2919 non-null   int64  \n 20  YearBuilt      2919 non-null   int64  \n 21  YearRemodAdd   2919 non-null   int64  \n 22  RoofStyle      2919 non-null   object \n 23  RoofMatl       2919 non-null   object \n 24  Exterior1st    2918 non-null   object \n 25  Exterior2nd    2918 non-null   object \n 26  MasVnrType     2895 non-null   object \n 27  MasVnrArea     2896 non-null   float64\n 28  ExterQual      2919 non-null   object \n 29  ExterCond      2919 non-null   object \n 30  Foundation     2919 non-null   object \n 31  BsmtQual       2919 non-null   object \n 32  BsmtCond       2919 non-null   object \n 33  BsmtExposure   2919 non-null   object \n 34  BsmtFinType1   2919 non-null   object \n 35  BsmtFinSF1     2918 non-null   float64\n 36  BsmtFinType2   2919 non-null   object \n 37  BsmtFinSF2     2918 non-null   float64\n 38  BsmtUnfSF      2918 non-null   float64\n 39  TotalBsmtSF    2918 non-null   float64\n 40  Heating        2919 non-null   object \n 41  HeatingQC      2919 non-null   object \n 42  CentralAir     2919 non-null   object \n 43  Electrical     2918 non-null   object \n 44  1stFlrSF       2919 non-null   int64  \n 45  2ndFlrSF       2919 non-null   int64  \n 46  LowQualFinSF   2919 non-null   int64  \n 47  GrLivArea      2919 non-null   int64  \n 48  BsmtFullBath   2917 non-null   float64\n 49  BsmtHalfBath   2917 non-null   float64\n 50  FullBath       2919 non-null   int64  \n 51  HalfBath       2919 non-null   int64  \n 52  BedroomAbvGr   2919 non-null   int64  \n 53  KitchenAbvGr   2919 non-null   int64  \n 54  KitchenQual    2918 non-null   object \n 55  TotRmsAbvGrd   2919 non-null   int64  \n 56  Functional     2919 non-null   object \n 57  Fireplaces     2919 non-null   int64  \n 58  FireplaceQu    2919 non-null   object \n 59  GarageType     2919 non-null   object \n 60  GarageYrBlt    2761 non-null   float64\n 61  GarageFinish   2919 non-null   object \n 62  GarageCars     2919 non-null   float64\n 63  GarageArea     2919 non-null   float64\n 64  GarageQual     2919 non-null   object \n 65  GarageCond     2919 non-null   object \n 66  PavedDrive     2919 non-null   object \n 67  WoodDeckSF     2919 non-null   int64  \n 68  OpenPorchSF    2919 non-null   int64  \n 69  EnclosedPorch  2919 non-null   int64  \n 70  3SsnPorch      2919 non-null   int64  \n 71  ScreenPorch    2919 non-null   int64  \n 72  PoolArea       2919 non-null   int64  \n 73  PoolQC         2919 non-null   object \n 74  Fence          2919 non-null   object \n 75  MiscFeature    2919 non-null   object \n 76  MiscVal        2919 non-null   int64  \n 77  MoSold         2919 non-null   int64  \n 78  YrSold         2919 non-null   int64  \n 79  SaleType       2918 non-null   object \n 80  SaleCondition  2919 non-null   object \n 81  SalePrice      2919 non-null   int64  \n 82  Type           2919 non-null   object \ndtypes: float64(11), int64(28), object(44)\nmemory usage: 1.8+ MB\n"
    }
   ],
   "source": [
    "# Rellenamos los nulos de Cars y Area con cero puesto que es un registro que no tiene garaje\n",
    "all_data[['GarageCars','GarageArea']] = all_data[['GarageCars','GarageArea']].fillna(0)\n",
    "all_data.info()"
   ]
  },
  {
   "cell_type": "code",
   "execution_count": 122,
   "metadata": {
    "tags": []
   },
   "outputs": [
    {
     "output_type": "execute_result",
     "data": {
      "text/plain": "                                  index    Id  MSSubClass  MSZoning  \\\nGarageType GarageQual GarageCond                                      \n2Types     Fa         Fa              1     1           1         1   \n                      TA              1     1           1         1   \n           TA         TA             21    21          21        21   \nAttchd     Fa         Fa              1     1           1         1   \n                      Po              1     1           1         0   \n                      TA             14    14          14        13   \n           Gd         Gd              6     6           6         6   \n                      TA             11    11          11        11   \n           TA         Fa              4     4           4         4   \n                      Gd              6     6           6         6   \n                      Po              1     1           1         1   \n                      TA           1679  1679        1679      1679   \nBasment    Fa         TA              4     4           4         4   \n           Gd         TA              1     1           1         1   \n           TA         TA             31    31          31        31   \nBuiltIn    Fa         TA              3     3           3         3   \n           Gd         TA              1     1           1         1   \n           TA         TA            182   182         182       182   \nCarPort    Fa         Fa              1     1           1         1   \n                      TA              1     1           1         1   \n           TA         TA             13    13          13        13   \nDetchd     Ex         Ex              2     2           2         2   \n                      TA              1     1           1         1   \n           Fa         Fa             36    36          36        36   \n                      Po              7     7           7         7   \n                      TA             54    54          54        54   \n           Gd         Ex              1     1           1         1   \n                      TA              4     4           4         4   \n           Po         Fa              1     1           1         1   \n                      Po              4     4           4         4   \n           TA         Fa             30    30          30        29   \n                      Gd              3     3           3         3   \n                      Po              1     1           1         1   \n                      TA            634   634         634       633   \nNA         NA         NA            158   158         158       158   \n\n                                  LotFrontage  LotArea  Street  Alley  \\\nGarageType GarageQual GarageCond                                        \n2Types     Fa         Fa                    1        1       1      1   \n                      TA                    0        1       1      1   \n           TA         TA                   17       21      21     21   \nAttchd     Fa         Fa                    1        1       1      1   \n                      Po                    1        1       1      1   \n                      TA                   13       14      14     14   \n           Gd         Gd                    4        6       6      6   \n                      TA                   10       11      11     11   \n           TA         Fa                    4        4       4      4   \n                      Gd                    2        6       6      6   \n                      Po                    1        1       1      1   \n                      TA                 1357     1679    1679   1679   \nBasment    Fa         TA                    3        4       4      4   \n           Gd         TA                    0        1       1      1   \n           TA         TA                   23       31      31     31   \nBuiltIn    Fa         TA                    2        3       3      3   \n           Gd         TA                    1        1       1      1   \n           TA         TA                  137      182     182    182   \nCarPort    Fa         Fa                    1        1       1      1   \n                      TA                    1        1       1      1   \n           TA         TA                   10       13      13     13   \nDetchd     Ex         Ex                    2        2       2      2   \n                      TA                    1        1       1      1   \n           Fa         Fa                   34       36      36     36   \n                      Po                    6        7       7      7   \n                      TA                   53       54      54     54   \n           Gd         Ex                    1        1       1      1   \n                      TA                    4        4       4      4   \n           Po         Fa                    1        1       1      1   \n                      Po                    4        4       4      4   \n           TA         Fa                   24       30      30     30   \n                      Gd                    3        3       3      3   \n                      Po                    1        1       1      1   \n                      TA                  563      634     634    634   \nNA         NA         NA                  147      158     158    158   \n\n                                  LotShape  LandContour  ...  PoolQC  Fence  \\\nGarageType GarageQual GarageCond                         ...                  \n2Types     Fa         Fa                 1            1  ...       1      1   \n                      TA                 1            1  ...       1      1   \n           TA         TA                21           21  ...      21     21   \nAttchd     Fa         Fa                 1            1  ...       1      1   \n                      Po                 1            1  ...       1      1   \n                      TA                14           14  ...      14     14   \n           Gd         Gd                 6            6  ...       6      6   \n                      TA                11           11  ...      11     11   \n           TA         Fa                 4            4  ...       4      4   \n                      Gd                 6            6  ...       6      6   \n                      Po                 1            1  ...       1      1   \n                      TA              1679         1679  ...    1679   1679   \nBasment    Fa         TA                 4            4  ...       4      4   \n           Gd         TA                 1            1  ...       1      1   \n           TA         TA                31           31  ...      31     31   \nBuiltIn    Fa         TA                 3            3  ...       3      3   \n           Gd         TA                 1            1  ...       1      1   \n           TA         TA               182          182  ...     182    182   \nCarPort    Fa         Fa                 1            1  ...       1      1   \n                      TA                 1            1  ...       1      1   \n           TA         TA                13           13  ...      13     13   \nDetchd     Ex         Ex                 2            2  ...       2      2   \n                      TA                 1            1  ...       1      1   \n           Fa         Fa                36           36  ...      36     36   \n                      Po                 7            7  ...       7      7   \n                      TA                54           54  ...      54     54   \n           Gd         Ex                 1            1  ...       1      1   \n                      TA                 4            4  ...       4      4   \n           Po         Fa                 1            1  ...       1      1   \n                      Po                 4            4  ...       4      4   \n           TA         Fa                30           30  ...      30     30   \n                      Gd                 3            3  ...       3      3   \n                      Po                 1            1  ...       1      1   \n                      TA               634          634  ...     634    634   \nNA         NA         NA               158          158  ...     158    158   \n\n                                  MiscFeature  MiscVal  MoSold  YrSold  \\\nGarageType GarageQual GarageCond                                         \n2Types     Fa         Fa                    1        1       1       1   \n                      TA                    1        1       1       1   \n           TA         TA                   21       21      21      21   \nAttchd     Fa         Fa                    1        1       1       1   \n                      Po                    1        1       1       1   \n                      TA                   14       14      14      14   \n           Gd         Gd                    6        6       6       6   \n                      TA                   11       11      11      11   \n           TA         Fa                    4        4       4       4   \n                      Gd                    6        6       6       6   \n                      Po                    1        1       1       1   \n                      TA                 1679     1679    1679    1679   \nBasment    Fa         TA                    4        4       4       4   \n           Gd         TA                    1        1       1       1   \n           TA         TA                   31       31      31      31   \nBuiltIn    Fa         TA                    3        3       3       3   \n           Gd         TA                    1        1       1       1   \n           TA         TA                  182      182     182     182   \nCarPort    Fa         Fa                    1        1       1       1   \n                      TA                    1        1       1       1   \n           TA         TA                   13       13      13      13   \nDetchd     Ex         Ex                    2        2       2       2   \n                      TA                    1        1       1       1   \n           Fa         Fa                   36       36      36      36   \n                      Po                    7        7       7       7   \n                      TA                   54       54      54      54   \n           Gd         Ex                    1        1       1       1   \n                      TA                    4        4       4       4   \n           Po         Fa                    1        1       1       1   \n                      Po                    4        4       4       4   \n           TA         Fa                   30       30      30      30   \n                      Gd                    3        3       3       3   \n                      Po                    1        1       1       1   \n                      TA                  634      634     634     634   \nNA         NA         NA                  158      158     158     158   \n\n                                  SaleType  SaleCondition  SalePrice  Type  \nGarageType GarageQual GarageCond                                            \n2Types     Fa         Fa                 1              1          1     1  \n                      TA                 1              1          1     1  \n           TA         TA                21             21         21    21  \nAttchd     Fa         Fa                 1              1          1     1  \n                      Po                 1              1          1     1  \n                      TA                14             14         14    14  \n           Gd         Gd                 6              6          6     6  \n                      TA                11             11         11    11  \n           TA         Fa                 4              4          4     4  \n                      Gd                 6              6          6     6  \n                      Po                 1              1          1     1  \n                      TA              1678           1679       1679  1679  \nBasment    Fa         TA                 4              4          4     4  \n           Gd         TA                 1              1          1     1  \n           TA         TA                31             31         31    31  \nBuiltIn    Fa         TA                 3              3          3     3  \n           Gd         TA                 1              1          1     1  \n           TA         TA               182            182        182   182  \nCarPort    Fa         Fa                 1              1          1     1  \n                      TA                 1              1          1     1  \n           TA         TA                13             13         13    13  \nDetchd     Ex         Ex                 2              2          2     2  \n                      TA                 1              1          1     1  \n           Fa         Fa                36             36         36    36  \n                      Po                 7              7          7     7  \n                      TA                54             54         54    54  \n           Gd         Ex                 1              1          1     1  \n                      TA                 4              4          4     4  \n           Po         Fa                 1              1          1     1  \n                      Po                 4              4          4     4  \n           TA         Fa                30             30         30    30  \n                      Gd                 3              3          3     3  \n                      Po                 1              1          1     1  \n                      TA               634            634        634   634  \nNA         NA         NA               158            158        158   158  \n\n[35 rows x 80 columns]",
      "text/html": "<div>\n<style scoped>\n    .dataframe tbody tr th:only-of-type {\n        vertical-align: middle;\n    }\n\n    .dataframe tbody tr th {\n        vertical-align: top;\n    }\n\n    .dataframe thead th {\n        text-align: right;\n    }\n</style>\n<table border=\"1\" class=\"dataframe\">\n  <thead>\n    <tr style=\"text-align: right;\">\n      <th></th>\n      <th></th>\n      <th></th>\n      <th>index</th>\n      <th>Id</th>\n      <th>MSSubClass</th>\n      <th>MSZoning</th>\n      <th>LotFrontage</th>\n      <th>LotArea</th>\n      <th>Street</th>\n      <th>Alley</th>\n      <th>LotShape</th>\n      <th>LandContour</th>\n      <th>...</th>\n      <th>PoolQC</th>\n      <th>Fence</th>\n      <th>MiscFeature</th>\n      <th>MiscVal</th>\n      <th>MoSold</th>\n      <th>YrSold</th>\n      <th>SaleType</th>\n      <th>SaleCondition</th>\n      <th>SalePrice</th>\n      <th>Type</th>\n    </tr>\n    <tr>\n      <th>GarageType</th>\n      <th>GarageQual</th>\n      <th>GarageCond</th>\n      <th></th>\n      <th></th>\n      <th></th>\n      <th></th>\n      <th></th>\n      <th></th>\n      <th></th>\n      <th></th>\n      <th></th>\n      <th></th>\n      <th></th>\n      <th></th>\n      <th></th>\n      <th></th>\n      <th></th>\n      <th></th>\n      <th></th>\n      <th></th>\n      <th></th>\n      <th></th>\n      <th></th>\n    </tr>\n  </thead>\n  <tbody>\n    <tr>\n      <th rowspan=\"3\" valign=\"top\">2Types</th>\n      <th rowspan=\"2\" valign=\"top\">Fa</th>\n      <th>Fa</th>\n      <td>1</td>\n      <td>1</td>\n      <td>1</td>\n      <td>1</td>\n      <td>1</td>\n      <td>1</td>\n      <td>1</td>\n      <td>1</td>\n      <td>1</td>\n      <td>1</td>\n      <td>...</td>\n      <td>1</td>\n      <td>1</td>\n      <td>1</td>\n      <td>1</td>\n      <td>1</td>\n      <td>1</td>\n      <td>1</td>\n      <td>1</td>\n      <td>1</td>\n      <td>1</td>\n    </tr>\n    <tr>\n      <th>TA</th>\n      <td>1</td>\n      <td>1</td>\n      <td>1</td>\n      <td>1</td>\n      <td>0</td>\n      <td>1</td>\n      <td>1</td>\n      <td>1</td>\n      <td>1</td>\n      <td>1</td>\n      <td>...</td>\n      <td>1</td>\n      <td>1</td>\n      <td>1</td>\n      <td>1</td>\n      <td>1</td>\n      <td>1</td>\n      <td>1</td>\n      <td>1</td>\n      <td>1</td>\n      <td>1</td>\n    </tr>\n    <tr>\n      <th>TA</th>\n      <th>TA</th>\n      <td>21</td>\n      <td>21</td>\n      <td>21</td>\n      <td>21</td>\n      <td>17</td>\n      <td>21</td>\n      <td>21</td>\n      <td>21</td>\n      <td>21</td>\n      <td>21</td>\n      <td>...</td>\n      <td>21</td>\n      <td>21</td>\n      <td>21</td>\n      <td>21</td>\n      <td>21</td>\n      <td>21</td>\n      <td>21</td>\n      <td>21</td>\n      <td>21</td>\n      <td>21</td>\n    </tr>\n    <tr>\n      <th rowspan=\"9\" valign=\"top\">Attchd</th>\n      <th rowspan=\"3\" valign=\"top\">Fa</th>\n      <th>Fa</th>\n      <td>1</td>\n      <td>1</td>\n      <td>1</td>\n      <td>1</td>\n      <td>1</td>\n      <td>1</td>\n      <td>1</td>\n      <td>1</td>\n      <td>1</td>\n      <td>1</td>\n      <td>...</td>\n      <td>1</td>\n      <td>1</td>\n      <td>1</td>\n      <td>1</td>\n      <td>1</td>\n      <td>1</td>\n      <td>1</td>\n      <td>1</td>\n      <td>1</td>\n      <td>1</td>\n    </tr>\n    <tr>\n      <th>Po</th>\n      <td>1</td>\n      <td>1</td>\n      <td>1</td>\n      <td>0</td>\n      <td>1</td>\n      <td>1</td>\n      <td>1</td>\n      <td>1</td>\n      <td>1</td>\n      <td>1</td>\n      <td>...</td>\n      <td>1</td>\n      <td>1</td>\n      <td>1</td>\n      <td>1</td>\n      <td>1</td>\n      <td>1</td>\n      <td>1</td>\n      <td>1</td>\n      <td>1</td>\n      <td>1</td>\n    </tr>\n    <tr>\n      <th>TA</th>\n      <td>14</td>\n      <td>14</td>\n      <td>14</td>\n      <td>13</td>\n      <td>13</td>\n      <td>14</td>\n      <td>14</td>\n      <td>14</td>\n      <td>14</td>\n      <td>14</td>\n      <td>...</td>\n      <td>14</td>\n      <td>14</td>\n      <td>14</td>\n      <td>14</td>\n      <td>14</td>\n      <td>14</td>\n      <td>14</td>\n      <td>14</td>\n      <td>14</td>\n      <td>14</td>\n    </tr>\n    <tr>\n      <th rowspan=\"2\" valign=\"top\">Gd</th>\n      <th>Gd</th>\n      <td>6</td>\n      <td>6</td>\n      <td>6</td>\n      <td>6</td>\n      <td>4</td>\n      <td>6</td>\n      <td>6</td>\n      <td>6</td>\n      <td>6</td>\n      <td>6</td>\n      <td>...</td>\n      <td>6</td>\n      <td>6</td>\n      <td>6</td>\n      <td>6</td>\n      <td>6</td>\n      <td>6</td>\n      <td>6</td>\n      <td>6</td>\n      <td>6</td>\n      <td>6</td>\n    </tr>\n    <tr>\n      <th>TA</th>\n      <td>11</td>\n      <td>11</td>\n      <td>11</td>\n      <td>11</td>\n      <td>10</td>\n      <td>11</td>\n      <td>11</td>\n      <td>11</td>\n      <td>11</td>\n      <td>11</td>\n      <td>...</td>\n      <td>11</td>\n      <td>11</td>\n      <td>11</td>\n      <td>11</td>\n      <td>11</td>\n      <td>11</td>\n      <td>11</td>\n      <td>11</td>\n      <td>11</td>\n      <td>11</td>\n    </tr>\n    <tr>\n      <th rowspan=\"4\" valign=\"top\">TA</th>\n      <th>Fa</th>\n      <td>4</td>\n      <td>4</td>\n      <td>4</td>\n      <td>4</td>\n      <td>4</td>\n      <td>4</td>\n      <td>4</td>\n      <td>4</td>\n      <td>4</td>\n      <td>4</td>\n      <td>...</td>\n      <td>4</td>\n      <td>4</td>\n      <td>4</td>\n      <td>4</td>\n      <td>4</td>\n      <td>4</td>\n      <td>4</td>\n      <td>4</td>\n      <td>4</td>\n      <td>4</td>\n    </tr>\n    <tr>\n      <th>Gd</th>\n      <td>6</td>\n      <td>6</td>\n      <td>6</td>\n      <td>6</td>\n      <td>2</td>\n      <td>6</td>\n      <td>6</td>\n      <td>6</td>\n      <td>6</td>\n      <td>6</td>\n      <td>...</td>\n      <td>6</td>\n      <td>6</td>\n      <td>6</td>\n      <td>6</td>\n      <td>6</td>\n      <td>6</td>\n      <td>6</td>\n      <td>6</td>\n      <td>6</td>\n      <td>6</td>\n    </tr>\n    <tr>\n      <th>Po</th>\n      <td>1</td>\n      <td>1</td>\n      <td>1</td>\n      <td>1</td>\n      <td>1</td>\n      <td>1</td>\n      <td>1</td>\n      <td>1</td>\n      <td>1</td>\n      <td>1</td>\n      <td>...</td>\n      <td>1</td>\n      <td>1</td>\n      <td>1</td>\n      <td>1</td>\n      <td>1</td>\n      <td>1</td>\n      <td>1</td>\n      <td>1</td>\n      <td>1</td>\n      <td>1</td>\n    </tr>\n    <tr>\n      <th>TA</th>\n      <td>1679</td>\n      <td>1679</td>\n      <td>1679</td>\n      <td>1679</td>\n      <td>1357</td>\n      <td>1679</td>\n      <td>1679</td>\n      <td>1679</td>\n      <td>1679</td>\n      <td>1679</td>\n      <td>...</td>\n      <td>1679</td>\n      <td>1679</td>\n      <td>1679</td>\n      <td>1679</td>\n      <td>1679</td>\n      <td>1679</td>\n      <td>1678</td>\n      <td>1679</td>\n      <td>1679</td>\n      <td>1679</td>\n    </tr>\n    <tr>\n      <th rowspan=\"3\" valign=\"top\">Basment</th>\n      <th>Fa</th>\n      <th>TA</th>\n      <td>4</td>\n      <td>4</td>\n      <td>4</td>\n      <td>4</td>\n      <td>3</td>\n      <td>4</td>\n      <td>4</td>\n      <td>4</td>\n      <td>4</td>\n      <td>4</td>\n      <td>...</td>\n      <td>4</td>\n      <td>4</td>\n      <td>4</td>\n      <td>4</td>\n      <td>4</td>\n      <td>4</td>\n      <td>4</td>\n      <td>4</td>\n      <td>4</td>\n      <td>4</td>\n    </tr>\n    <tr>\n      <th>Gd</th>\n      <th>TA</th>\n      <td>1</td>\n      <td>1</td>\n      <td>1</td>\n      <td>1</td>\n      <td>0</td>\n      <td>1</td>\n      <td>1</td>\n      <td>1</td>\n      <td>1</td>\n      <td>1</td>\n      <td>...</td>\n      <td>1</td>\n      <td>1</td>\n      <td>1</td>\n      <td>1</td>\n      <td>1</td>\n      <td>1</td>\n      <td>1</td>\n      <td>1</td>\n      <td>1</td>\n      <td>1</td>\n    </tr>\n    <tr>\n      <th>TA</th>\n      <th>TA</th>\n      <td>31</td>\n      <td>31</td>\n      <td>31</td>\n      <td>31</td>\n      <td>23</td>\n      <td>31</td>\n      <td>31</td>\n      <td>31</td>\n      <td>31</td>\n      <td>31</td>\n      <td>...</td>\n      <td>31</td>\n      <td>31</td>\n      <td>31</td>\n      <td>31</td>\n      <td>31</td>\n      <td>31</td>\n      <td>31</td>\n      <td>31</td>\n      <td>31</td>\n      <td>31</td>\n    </tr>\n    <tr>\n      <th rowspan=\"3\" valign=\"top\">BuiltIn</th>\n      <th>Fa</th>\n      <th>TA</th>\n      <td>3</td>\n      <td>3</td>\n      <td>3</td>\n      <td>3</td>\n      <td>2</td>\n      <td>3</td>\n      <td>3</td>\n      <td>3</td>\n      <td>3</td>\n      <td>3</td>\n      <td>...</td>\n      <td>3</td>\n      <td>3</td>\n      <td>3</td>\n      <td>3</td>\n      <td>3</td>\n      <td>3</td>\n      <td>3</td>\n      <td>3</td>\n      <td>3</td>\n      <td>3</td>\n    </tr>\n    <tr>\n      <th>Gd</th>\n      <th>TA</th>\n      <td>1</td>\n      <td>1</td>\n      <td>1</td>\n      <td>1</td>\n      <td>1</td>\n      <td>1</td>\n      <td>1</td>\n      <td>1</td>\n      <td>1</td>\n      <td>1</td>\n      <td>...</td>\n      <td>1</td>\n      <td>1</td>\n      <td>1</td>\n      <td>1</td>\n      <td>1</td>\n      <td>1</td>\n      <td>1</td>\n      <td>1</td>\n      <td>1</td>\n      <td>1</td>\n    </tr>\n    <tr>\n      <th>TA</th>\n      <th>TA</th>\n      <td>182</td>\n      <td>182</td>\n      <td>182</td>\n      <td>182</td>\n      <td>137</td>\n      <td>182</td>\n      <td>182</td>\n      <td>182</td>\n      <td>182</td>\n      <td>182</td>\n      <td>...</td>\n      <td>182</td>\n      <td>182</td>\n      <td>182</td>\n      <td>182</td>\n      <td>182</td>\n      <td>182</td>\n      <td>182</td>\n      <td>182</td>\n      <td>182</td>\n      <td>182</td>\n    </tr>\n    <tr>\n      <th rowspan=\"3\" valign=\"top\">CarPort</th>\n      <th rowspan=\"2\" valign=\"top\">Fa</th>\n      <th>Fa</th>\n      <td>1</td>\n      <td>1</td>\n      <td>1</td>\n      <td>1</td>\n      <td>1</td>\n      <td>1</td>\n      <td>1</td>\n      <td>1</td>\n      <td>1</td>\n      <td>1</td>\n      <td>...</td>\n      <td>1</td>\n      <td>1</td>\n      <td>1</td>\n      <td>1</td>\n      <td>1</td>\n      <td>1</td>\n      <td>1</td>\n      <td>1</td>\n      <td>1</td>\n      <td>1</td>\n    </tr>\n    <tr>\n      <th>TA</th>\n      <td>1</td>\n      <td>1</td>\n      <td>1</td>\n      <td>1</td>\n      <td>1</td>\n      <td>1</td>\n      <td>1</td>\n      <td>1</td>\n      <td>1</td>\n      <td>1</td>\n      <td>...</td>\n      <td>1</td>\n      <td>1</td>\n      <td>1</td>\n      <td>1</td>\n      <td>1</td>\n      <td>1</td>\n      <td>1</td>\n      <td>1</td>\n      <td>1</td>\n      <td>1</td>\n    </tr>\n    <tr>\n      <th>TA</th>\n      <th>TA</th>\n      <td>13</td>\n      <td>13</td>\n      <td>13</td>\n      <td>13</td>\n      <td>10</td>\n      <td>13</td>\n      <td>13</td>\n      <td>13</td>\n      <td>13</td>\n      <td>13</td>\n      <td>...</td>\n      <td>13</td>\n      <td>13</td>\n      <td>13</td>\n      <td>13</td>\n      <td>13</td>\n      <td>13</td>\n      <td>13</td>\n      <td>13</td>\n      <td>13</td>\n      <td>13</td>\n    </tr>\n    <tr>\n      <th rowspan=\"13\" valign=\"top\">Detchd</th>\n      <th rowspan=\"2\" valign=\"top\">Ex</th>\n      <th>Ex</th>\n      <td>2</td>\n      <td>2</td>\n      <td>2</td>\n      <td>2</td>\n      <td>2</td>\n      <td>2</td>\n      <td>2</td>\n      <td>2</td>\n      <td>2</td>\n      <td>2</td>\n      <td>...</td>\n      <td>2</td>\n      <td>2</td>\n      <td>2</td>\n      <td>2</td>\n      <td>2</td>\n      <td>2</td>\n      <td>2</td>\n      <td>2</td>\n      <td>2</td>\n      <td>2</td>\n    </tr>\n    <tr>\n      <th>TA</th>\n      <td>1</td>\n      <td>1</td>\n      <td>1</td>\n      <td>1</td>\n      <td>1</td>\n      <td>1</td>\n      <td>1</td>\n      <td>1</td>\n      <td>1</td>\n      <td>1</td>\n      <td>...</td>\n      <td>1</td>\n      <td>1</td>\n      <td>1</td>\n      <td>1</td>\n      <td>1</td>\n      <td>1</td>\n      <td>1</td>\n      <td>1</td>\n      <td>1</td>\n      <td>1</td>\n    </tr>\n    <tr>\n      <th rowspan=\"3\" valign=\"top\">Fa</th>\n      <th>Fa</th>\n      <td>36</td>\n      <td>36</td>\n      <td>36</td>\n      <td>36</td>\n      <td>34</td>\n      <td>36</td>\n      <td>36</td>\n      <td>36</td>\n      <td>36</td>\n      <td>36</td>\n      <td>...</td>\n      <td>36</td>\n      <td>36</td>\n      <td>36</td>\n      <td>36</td>\n      <td>36</td>\n      <td>36</td>\n      <td>36</td>\n      <td>36</td>\n      <td>36</td>\n      <td>36</td>\n    </tr>\n    <tr>\n      <th>Po</th>\n      <td>7</td>\n      <td>7</td>\n      <td>7</td>\n      <td>7</td>\n      <td>6</td>\n      <td>7</td>\n      <td>7</td>\n      <td>7</td>\n      <td>7</td>\n      <td>7</td>\n      <td>...</td>\n      <td>7</td>\n      <td>7</td>\n      <td>7</td>\n      <td>7</td>\n      <td>7</td>\n      <td>7</td>\n      <td>7</td>\n      <td>7</td>\n      <td>7</td>\n      <td>7</td>\n    </tr>\n    <tr>\n      <th>TA</th>\n      <td>54</td>\n      <td>54</td>\n      <td>54</td>\n      <td>54</td>\n      <td>53</td>\n      <td>54</td>\n      <td>54</td>\n      <td>54</td>\n      <td>54</td>\n      <td>54</td>\n      <td>...</td>\n      <td>54</td>\n      <td>54</td>\n      <td>54</td>\n      <td>54</td>\n      <td>54</td>\n      <td>54</td>\n      <td>54</td>\n      <td>54</td>\n      <td>54</td>\n      <td>54</td>\n    </tr>\n    <tr>\n      <th rowspan=\"2\" valign=\"top\">Gd</th>\n      <th>Ex</th>\n      <td>1</td>\n      <td>1</td>\n      <td>1</td>\n      <td>1</td>\n      <td>1</td>\n      <td>1</td>\n      <td>1</td>\n      <td>1</td>\n      <td>1</td>\n      <td>1</td>\n      <td>...</td>\n      <td>1</td>\n      <td>1</td>\n      <td>1</td>\n      <td>1</td>\n      <td>1</td>\n      <td>1</td>\n      <td>1</td>\n      <td>1</td>\n      <td>1</td>\n      <td>1</td>\n    </tr>\n    <tr>\n      <th>TA</th>\n      <td>4</td>\n      <td>4</td>\n      <td>4</td>\n      <td>4</td>\n      <td>4</td>\n      <td>4</td>\n      <td>4</td>\n      <td>4</td>\n      <td>4</td>\n      <td>4</td>\n      <td>...</td>\n      <td>4</td>\n      <td>4</td>\n      <td>4</td>\n      <td>4</td>\n      <td>4</td>\n      <td>4</td>\n      <td>4</td>\n      <td>4</td>\n      <td>4</td>\n      <td>4</td>\n    </tr>\n    <tr>\n      <th rowspan=\"2\" valign=\"top\">Po</th>\n      <th>Fa</th>\n      <td>1</td>\n      <td>1</td>\n      <td>1</td>\n      <td>1</td>\n      <td>1</td>\n      <td>1</td>\n      <td>1</td>\n      <td>1</td>\n      <td>1</td>\n      <td>1</td>\n      <td>...</td>\n      <td>1</td>\n      <td>1</td>\n      <td>1</td>\n      <td>1</td>\n      <td>1</td>\n      <td>1</td>\n      <td>1</td>\n      <td>1</td>\n      <td>1</td>\n      <td>1</td>\n    </tr>\n    <tr>\n      <th>Po</th>\n      <td>4</td>\n      <td>4</td>\n      <td>4</td>\n      <td>4</td>\n      <td>4</td>\n      <td>4</td>\n      <td>4</td>\n      <td>4</td>\n      <td>4</td>\n      <td>4</td>\n      <td>...</td>\n      <td>4</td>\n      <td>4</td>\n      <td>4</td>\n      <td>4</td>\n      <td>4</td>\n      <td>4</td>\n      <td>4</td>\n      <td>4</td>\n      <td>4</td>\n      <td>4</td>\n    </tr>\n    <tr>\n      <th rowspan=\"4\" valign=\"top\">TA</th>\n      <th>Fa</th>\n      <td>30</td>\n      <td>30</td>\n      <td>30</td>\n      <td>29</td>\n      <td>24</td>\n      <td>30</td>\n      <td>30</td>\n      <td>30</td>\n      <td>30</td>\n      <td>30</td>\n      <td>...</td>\n      <td>30</td>\n      <td>30</td>\n      <td>30</td>\n      <td>30</td>\n      <td>30</td>\n      <td>30</td>\n      <td>30</td>\n      <td>30</td>\n      <td>30</td>\n      <td>30</td>\n    </tr>\n    <tr>\n      <th>Gd</th>\n      <td>3</td>\n      <td>3</td>\n      <td>3</td>\n      <td>3</td>\n      <td>3</td>\n      <td>3</td>\n      <td>3</td>\n      <td>3</td>\n      <td>3</td>\n      <td>3</td>\n      <td>...</td>\n      <td>3</td>\n      <td>3</td>\n      <td>3</td>\n      <td>3</td>\n      <td>3</td>\n      <td>3</td>\n      <td>3</td>\n      <td>3</td>\n      <td>3</td>\n      <td>3</td>\n    </tr>\n    <tr>\n      <th>Po</th>\n      <td>1</td>\n      <td>1</td>\n      <td>1</td>\n      <td>1</td>\n      <td>1</td>\n      <td>1</td>\n      <td>1</td>\n      <td>1</td>\n      <td>1</td>\n      <td>1</td>\n      <td>...</td>\n      <td>1</td>\n      <td>1</td>\n      <td>1</td>\n      <td>1</td>\n      <td>1</td>\n      <td>1</td>\n      <td>1</td>\n      <td>1</td>\n      <td>1</td>\n      <td>1</td>\n    </tr>\n    <tr>\n      <th>TA</th>\n      <td>634</td>\n      <td>634</td>\n      <td>634</td>\n      <td>633</td>\n      <td>563</td>\n      <td>634</td>\n      <td>634</td>\n      <td>634</td>\n      <td>634</td>\n      <td>634</td>\n      <td>...</td>\n      <td>634</td>\n      <td>634</td>\n      <td>634</td>\n      <td>634</td>\n      <td>634</td>\n      <td>634</td>\n      <td>634</td>\n      <td>634</td>\n      <td>634</td>\n      <td>634</td>\n    </tr>\n    <tr>\n      <th>NA</th>\n      <th>NA</th>\n      <th>NA</th>\n      <td>158</td>\n      <td>158</td>\n      <td>158</td>\n      <td>158</td>\n      <td>147</td>\n      <td>158</td>\n      <td>158</td>\n      <td>158</td>\n      <td>158</td>\n      <td>158</td>\n      <td>...</td>\n      <td>158</td>\n      <td>158</td>\n      <td>158</td>\n      <td>158</td>\n      <td>158</td>\n      <td>158</td>\n      <td>158</td>\n      <td>158</td>\n      <td>158</td>\n      <td>158</td>\n    </tr>\n  </tbody>\n</table>\n<p>35 rows × 80 columns</p>\n</div>"
     },
     "metadata": {},
     "execution_count": 122
    }
   ],
   "source": [
    "\n",
    "# Nos aseguramos de que sólo los que no tienen garaje no tienen informada la fecha de construcción del garaje\n",
    "all_data.loc[(all_data.GarageYrBlt.isnull()),garage_features] # 158\n",
    "all_data.loc[all_data.GarageType == 'NA'] #158\n",
    "all_data.loc[all_data.GarageType == 'NA'].groupby(['GarageType','GarageQual']).count() # 158\n",
    "all_data.loc[all_data.GarageType == 'NA'].groupby(['GarageType','GarageQual','GarageCond']).count() # 158\n",
    "all_data.groupby(['GarageType','GarageQual','GarageCond']).count() # 158"
   ]
  },
  {
   "cell_type": "code",
   "execution_count": 123,
   "metadata": {},
   "outputs": [],
   "source": [
    "# Rellenamos la fecha de construcción del garaje con 0\n",
    "all_data[['GarageYrBlt']] = all_data[['GarageYrBlt']].fillna(0)"
   ]
  },
  {
   "cell_type": "code",
   "execution_count": 124,
   "metadata": {
    "tags": []
   },
   "outputs": [
    {
     "output_type": "stream",
     "name": "stdout",
     "text": "<class 'pandas.core.frame.DataFrame'>\nRangeIndex: 2919 entries, 0 to 2918\nData columns (total 83 columns):\n #   Column         Non-Null Count  Dtype  \n---  ------         --------------  -----  \n 0   index          2919 non-null   int64  \n 1   Id             2919 non-null   int64  \n 2   MSSubClass     2919 non-null   int64  \n 3   MSZoning       2915 non-null   object \n 4   LotFrontage    2433 non-null   float64\n 5   LotArea        2919 non-null   int64  \n 6   Street         2919 non-null   object \n 7   Alley          2919 non-null   object \n 8   LotShape       2919 non-null   object \n 9   LandContour    2919 non-null   object \n 10  Utilities      2917 non-null   object \n 11  LotConfig      2919 non-null   object \n 12  LandSlope      2919 non-null   object \n 13  Neighborhood   2919 non-null   object \n 14  Condition1     2919 non-null   object \n 15  Condition2     2919 non-null   object \n 16  BldgType       2919 non-null   object \n 17  HouseStyle     2919 non-null   object \n 18  OverallQual    2919 non-null   int64  \n 19  OverallCond    2919 non-null   int64  \n 20  YearBuilt      2919 non-null   int64  \n 21  YearRemodAdd   2919 non-null   int64  \n 22  RoofStyle      2919 non-null   object \n 23  RoofMatl       2919 non-null   object \n 24  Exterior1st    2918 non-null   object \n 25  Exterior2nd    2918 non-null   object \n 26  MasVnrType     2895 non-null   object \n 27  MasVnrArea     2896 non-null   float64\n 28  ExterQual      2919 non-null   object \n 29  ExterCond      2919 non-null   object \n 30  Foundation     2919 non-null   object \n 31  BsmtQual       2919 non-null   object \n 32  BsmtCond       2919 non-null   object \n 33  BsmtExposure   2919 non-null   object \n 34  BsmtFinType1   2919 non-null   object \n 35  BsmtFinSF1     2918 non-null   float64\n 36  BsmtFinType2   2919 non-null   object \n 37  BsmtFinSF2     2918 non-null   float64\n 38  BsmtUnfSF      2918 non-null   float64\n 39  TotalBsmtSF    2918 non-null   float64\n 40  Heating        2919 non-null   object \n 41  HeatingQC      2919 non-null   object \n 42  CentralAir     2919 non-null   object \n 43  Electrical     2918 non-null   object \n 44  1stFlrSF       2919 non-null   int64  \n 45  2ndFlrSF       2919 non-null   int64  \n 46  LowQualFinSF   2919 non-null   int64  \n 47  GrLivArea      2919 non-null   int64  \n 48  BsmtFullBath   2917 non-null   float64\n 49  BsmtHalfBath   2917 non-null   float64\n 50  FullBath       2919 non-null   int64  \n 51  HalfBath       2919 non-null   int64  \n 52  BedroomAbvGr   2919 non-null   int64  \n 53  KitchenAbvGr   2919 non-null   int64  \n 54  KitchenQual    2918 non-null   object \n 55  TotRmsAbvGrd   2919 non-null   int64  \n 56  Functional     2919 non-null   object \n 57  Fireplaces     2919 non-null   int64  \n 58  FireplaceQu    2919 non-null   object \n 59  GarageType     2919 non-null   object \n 60  GarageYrBlt    2919 non-null   float64\n 61  GarageFinish   2919 non-null   object \n 62  GarageCars     2919 non-null   float64\n 63  GarageArea     2919 non-null   float64\n 64  GarageQual     2919 non-null   object \n 65  GarageCond     2919 non-null   object \n 66  PavedDrive     2919 non-null   object \n 67  WoodDeckSF     2919 non-null   int64  \n 68  OpenPorchSF    2919 non-null   int64  \n 69  EnclosedPorch  2919 non-null   int64  \n 70  3SsnPorch      2919 non-null   int64  \n 71  ScreenPorch    2919 non-null   int64  \n 72  PoolArea       2919 non-null   int64  \n 73  PoolQC         2919 non-null   object \n 74  Fence          2919 non-null   object \n 75  MiscFeature    2919 non-null   object \n 76  MiscVal        2919 non-null   int64  \n 77  MoSold         2919 non-null   int64  \n 78  YrSold         2919 non-null   int64  \n 79  SaleType       2918 non-null   object \n 80  SaleCondition  2919 non-null   object \n 81  SalePrice      2919 non-null   int64  \n 82  Type           2919 non-null   object \ndtypes: float64(11), int64(28), object(44)\nmemory usage: 1.8+ MB\n"
    }
   ],
   "source": [
    "all_data.info()"
   ]
  },
  {
   "cell_type": "code",
   "execution_count": 125,
   "metadata": {
    "tags": []
   },
   "outputs": [
    {
     "output_type": "stream",
     "name": "stdout",
     "text": "<class 'pandas.core.frame.DataFrame'>\nRangeIndex: 2919 entries, 0 to 2918\nData columns (total 83 columns):\n #   Column         Non-Null Count  Dtype  \n---  ------         --------------  -----  \n 0   index          2919 non-null   int64  \n 1   Id             2919 non-null   int64  \n 2   MSSubClass     2919 non-null   int64  \n 3   MSZoning       2915 non-null   object \n 4   LotFrontage    2433 non-null   float64\n 5   LotArea        2919 non-null   int64  \n 6   Street         2919 non-null   object \n 7   Alley          2919 non-null   object \n 8   LotShape       2919 non-null   object \n 9   LandContour    2919 non-null   object \n 10  Utilities      2917 non-null   object \n 11  LotConfig      2919 non-null   object \n 12  LandSlope      2919 non-null   object \n 13  Neighborhood   2919 non-null   object \n 14  Condition1     2919 non-null   object \n 15  Condition2     2919 non-null   object \n 16  BldgType       2919 non-null   object \n 17  HouseStyle     2919 non-null   object \n 18  OverallQual    2919 non-null   int64  \n 19  OverallCond    2919 non-null   int64  \n 20  YearBuilt      2919 non-null   int64  \n 21  YearRemodAdd   2919 non-null   int64  \n 22  RoofStyle      2919 non-null   object \n 23  RoofMatl       2919 non-null   object \n 24  Exterior1st    2918 non-null   object \n 25  Exterior2nd    2918 non-null   object \n 26  MasVnrType     2895 non-null   object \n 27  MasVnrArea     2896 non-null   float64\n 28  ExterQual      2919 non-null   object \n 29  ExterCond      2919 non-null   object \n 30  Foundation     2919 non-null   object \n 31  BsmtQual       2919 non-null   object \n 32  BsmtCond       2919 non-null   object \n 33  BsmtExposure   2919 non-null   object \n 34  BsmtFinType1   2919 non-null   object \n 35  BsmtFinSF1     2919 non-null   float64\n 36  BsmtFinType2   2919 non-null   object \n 37  BsmtFinSF2     2919 non-null   float64\n 38  BsmtUnfSF      2919 non-null   float64\n 39  TotalBsmtSF    2919 non-null   float64\n 40  Heating        2919 non-null   object \n 41  HeatingQC      2919 non-null   object \n 42  CentralAir     2919 non-null   object \n 43  Electrical     2918 non-null   object \n 44  1stFlrSF       2919 non-null   int64  \n 45  2ndFlrSF       2919 non-null   int64  \n 46  LowQualFinSF   2919 non-null   int64  \n 47  GrLivArea      2919 non-null   int64  \n 48  BsmtFullBath   2917 non-null   float64\n 49  BsmtHalfBath   2917 non-null   float64\n 50  FullBath       2919 non-null   int64  \n 51  HalfBath       2919 non-null   int64  \n 52  BedroomAbvGr   2919 non-null   int64  \n 53  KitchenAbvGr   2919 non-null   int64  \n 54  KitchenQual    2918 non-null   object \n 55  TotRmsAbvGrd   2919 non-null   int64  \n 56  Functional     2919 non-null   object \n 57  Fireplaces     2919 non-null   int64  \n 58  FireplaceQu    2919 non-null   object \n 59  GarageType     2919 non-null   object \n 60  GarageYrBlt    2919 non-null   float64\n 61  GarageFinish   2919 non-null   object \n 62  GarageCars     2919 non-null   float64\n 63  GarageArea     2919 non-null   float64\n 64  GarageQual     2919 non-null   object \n 65  GarageCond     2919 non-null   object \n 66  PavedDrive     2919 non-null   object \n 67  WoodDeckSF     2919 non-null   int64  \n 68  OpenPorchSF    2919 non-null   int64  \n 69  EnclosedPorch  2919 non-null   int64  \n 70  3SsnPorch      2919 non-null   int64  \n 71  ScreenPorch    2919 non-null   int64  \n 72  PoolArea       2919 non-null   int64  \n 73  PoolQC         2919 non-null   object \n 74  Fence          2919 non-null   object \n 75  MiscFeature    2919 non-null   object \n 76  MiscVal        2919 non-null   int64  \n 77  MoSold         2919 non-null   int64  \n 78  YrSold         2919 non-null   int64  \n 79  SaleType       2918 non-null   object \n 80  SaleCondition  2919 non-null   object \n 81  SalePrice      2919 non-null   int64  \n 82  Type           2919 non-null   object \ndtypes: float64(11), int64(28), object(44)\nmemory usage: 1.8+ MB\n"
    }
   ],
   "source": [
    "# Basement Cleaning\n",
    "bsmt_features = ['BsmtQual','BsmtCond','BsmtExposure','BsmtFinType1','BsmtFinSF1','BsmtFinType2','BsmtFinSF2','BsmtUnfSF','TotalBsmtSF']\n",
    "all_data.loc[(all_data.BsmtFinSF1.isnull()) | (all_data.BsmtFinSF2.isnull())| (all_data.BsmtUnfSF.isnull())| (all_data.TotalBsmtSF.isnull()),bsmt_features]\n",
    "all_data[bsmt_features] = all_data[bsmt_features].fillna(0)\n",
    "all_data.info()"
   ]
  },
  {
   "cell_type": "code",
   "execution_count": 126,
   "metadata": {},
   "outputs": [
    {
     "output_type": "execute_result",
     "data": {
      "text/plain": "              BsmtQual  BsmtCond  BsmtExposure  BsmtFinType1  BsmtFinSF1  \\\nBsmtFinType2                                                               \nBLQ                  1         1             1             1           1   \nNA                  79        79            79            79          79   \nUnf               2492      2492          2492          2492        2492   \n\n              BsmtFinSF2  BsmtUnfSF  TotalBsmtSF  \nBsmtFinType2                                      \nBLQ                    1          1            1  \nNA                    79         79           79  \nUnf                 2492       2492         2492  ",
      "text/html": "<div>\n<style scoped>\n    .dataframe tbody tr th:only-of-type {\n        vertical-align: middle;\n    }\n\n    .dataframe tbody tr th {\n        vertical-align: top;\n    }\n\n    .dataframe thead th {\n        text-align: right;\n    }\n</style>\n<table border=\"1\" class=\"dataframe\">\n  <thead>\n    <tr style=\"text-align: right;\">\n      <th></th>\n      <th>BsmtQual</th>\n      <th>BsmtCond</th>\n      <th>BsmtExposure</th>\n      <th>BsmtFinType1</th>\n      <th>BsmtFinSF1</th>\n      <th>BsmtFinSF2</th>\n      <th>BsmtUnfSF</th>\n      <th>TotalBsmtSF</th>\n    </tr>\n    <tr>\n      <th>BsmtFinType2</th>\n      <th></th>\n      <th></th>\n      <th></th>\n      <th></th>\n      <th></th>\n      <th></th>\n      <th></th>\n      <th></th>\n    </tr>\n  </thead>\n  <tbody>\n    <tr>\n      <th>BLQ</th>\n      <td>1</td>\n      <td>1</td>\n      <td>1</td>\n      <td>1</td>\n      <td>1</td>\n      <td>1</td>\n      <td>1</td>\n      <td>1</td>\n    </tr>\n    <tr>\n      <th>NA</th>\n      <td>79</td>\n      <td>79</td>\n      <td>79</td>\n      <td>79</td>\n      <td>79</td>\n      <td>79</td>\n      <td>79</td>\n      <td>79</td>\n    </tr>\n    <tr>\n      <th>Unf</th>\n      <td>2492</td>\n      <td>2492</td>\n      <td>2492</td>\n      <td>2492</td>\n      <td>2492</td>\n      <td>2492</td>\n      <td>2492</td>\n      <td>2492</td>\n    </tr>\n  </tbody>\n</table>\n</div>"
     },
     "metadata": {},
     "execution_count": 126
    }
   ],
   "source": [
    "all_data.loc[(all_data.BsmtQual != 'NA') & (all_data.BsmtFinSF1 == 0) & (all_data.BsmtFinSF2 == 0) & (all_data.BsmtUnfSF == 0), bsmt_features ]\n",
    "all_data.loc[(all_data.BsmtFinType1 != 'NA') & (all_data.BsmtFinType1 != 'Unf') & (all_data.BsmtFinSF1 == 0), bsmt_features ]\n",
    "all_data.loc[(all_data.BsmtFinType2 != 'NA') & (all_data.BsmtFinType2 != 'Unf') & (all_data.BsmtFinSF2 == 0), bsmt_features ]\n",
    "# all_data.loc[((all_data.BsmtFinType2 == 'NA') | (all_data.BsmtFinType2 == 'Unf')) & (all_data.BsmtFinSF2 == 0), bsmt_features ]\n",
    "all_data.loc[(all_data.BsmtFinSF2 == 0), bsmt_features ].groupby('BsmtFinType2').count()"
   ]
  },
  {
   "cell_type": "code",
   "execution_count": 127,
   "metadata": {},
   "outputs": [
    {
     "output_type": "execute_result",
     "data": {
      "text/plain": "              BsmtQual  BsmtCond  BsmtExposure  BsmtFinType1  BsmtFinSF1  \\\nBsmtFinType2                                                               \nNA                  79        79            79            79          79   \nUnf               2493      2493          2493          2493        2493   \n\n              BsmtFinSF2  BsmtUnfSF  TotalBsmtSF  \nBsmtFinType2                                      \nNA                    79         79           79  \nUnf                 2493       2493         2493  ",
      "text/html": "<div>\n<style scoped>\n    .dataframe tbody tr th:only-of-type {\n        vertical-align: middle;\n    }\n\n    .dataframe tbody tr th {\n        vertical-align: top;\n    }\n\n    .dataframe thead th {\n        text-align: right;\n    }\n</style>\n<table border=\"1\" class=\"dataframe\">\n  <thead>\n    <tr style=\"text-align: right;\">\n      <th></th>\n      <th>BsmtQual</th>\n      <th>BsmtCond</th>\n      <th>BsmtExposure</th>\n      <th>BsmtFinType1</th>\n      <th>BsmtFinSF1</th>\n      <th>BsmtFinSF2</th>\n      <th>BsmtUnfSF</th>\n      <th>TotalBsmtSF</th>\n    </tr>\n    <tr>\n      <th>BsmtFinType2</th>\n      <th></th>\n      <th></th>\n      <th></th>\n      <th></th>\n      <th></th>\n      <th></th>\n      <th></th>\n      <th></th>\n    </tr>\n  </thead>\n  <tbody>\n    <tr>\n      <th>NA</th>\n      <td>79</td>\n      <td>79</td>\n      <td>79</td>\n      <td>79</td>\n      <td>79</td>\n      <td>79</td>\n      <td>79</td>\n      <td>79</td>\n    </tr>\n    <tr>\n      <th>Unf</th>\n      <td>2493</td>\n      <td>2493</td>\n      <td>2493</td>\n      <td>2493</td>\n      <td>2493</td>\n      <td>2493</td>\n      <td>2493</td>\n      <td>2493</td>\n    </tr>\n  </tbody>\n</table>\n</div>"
     },
     "metadata": {},
     "execution_count": 127
    }
   ],
   "source": [
    "# Parece que existe un error en el Id 1471. BsmtFinType2 indica BLQ pero BsmtFinSF2 nos dice 0.0. Podría suceder que BsmtFinType2 = 'Unf'\n",
    "# Sustituimos por 'Unf'\n",
    "all_data.loc[all_data.Id == 1471, 'BsmtFinType2'] = 'Unf'\n",
    "all_data.loc[(all_data.BsmtFinSF2 == 0), bsmt_features ].groupby('BsmtFinType2').count()"
   ]
  },
  {
   "cell_type": "code",
   "execution_count": 128,
   "metadata": {
    "tags": []
   },
   "outputs": [
    {
     "output_type": "execute_result",
     "data": {
      "text/plain": "Empty DataFrame\nColumns: [BsmtQual, BsmtCond, BsmtExposure, BsmtFinType1, BsmtFinSF1, BsmtFinType2, BsmtFinSF2, BsmtUnfSF, TotalBsmtSF]\nIndex: []",
      "text/html": "<div>\n<style scoped>\n    .dataframe tbody tr th:only-of-type {\n        vertical-align: middle;\n    }\n\n    .dataframe tbody tr th {\n        vertical-align: top;\n    }\n\n    .dataframe thead th {\n        text-align: right;\n    }\n</style>\n<table border=\"1\" class=\"dataframe\">\n  <thead>\n    <tr style=\"text-align: right;\">\n      <th></th>\n      <th>BsmtQual</th>\n      <th>BsmtCond</th>\n      <th>BsmtExposure</th>\n      <th>BsmtFinType1</th>\n      <th>BsmtFinSF1</th>\n      <th>BsmtFinType2</th>\n      <th>BsmtFinSF2</th>\n      <th>BsmtUnfSF</th>\n      <th>TotalBsmtSF</th>\n    </tr>\n  </thead>\n  <tbody>\n  </tbody>\n</table>\n</div>"
     },
     "metadata": {},
     "execution_count": 128
    }
   ],
   "source": [
    "all_data.loc[all_data.BsmtFinSF1 + all_data.BsmtFinSF2 + all_data.BsmtUnfSF != all_data.TotalBsmtSF,bsmt_features]"
   ]
  },
  {
   "cell_type": "code",
   "execution_count": 129,
   "metadata": {
    "tags": []
   },
   "outputs": [
    {
     "output_type": "execute_result",
     "data": {
      "text/plain": "Empty DataFrame\nColumns: [BsmtQual, BsmtCond, BsmtExposure, BsmtFinType1, BsmtFinSF1, BsmtFinType2, BsmtFinSF2, BsmtUnfSF, TotalBsmtSF, BsmtFullBath, BsmtHalfBath]\nIndex: []",
      "text/html": "<div>\n<style scoped>\n    .dataframe tbody tr th:only-of-type {\n        vertical-align: middle;\n    }\n\n    .dataframe tbody tr th {\n        vertical-align: top;\n    }\n\n    .dataframe thead th {\n        text-align: right;\n    }\n</style>\n<table border=\"1\" class=\"dataframe\">\n  <thead>\n    <tr style=\"text-align: right;\">\n      <th></th>\n      <th>BsmtQual</th>\n      <th>BsmtCond</th>\n      <th>BsmtExposure</th>\n      <th>BsmtFinType1</th>\n      <th>BsmtFinSF1</th>\n      <th>BsmtFinType2</th>\n      <th>BsmtFinSF2</th>\n      <th>BsmtUnfSF</th>\n      <th>TotalBsmtSF</th>\n      <th>BsmtFullBath</th>\n      <th>BsmtHalfBath</th>\n    </tr>\n  </thead>\n  <tbody>\n  </tbody>\n</table>\n</div>"
     },
     "metadata": {},
     "execution_count": 129
    }
   ],
   "source": [
    "# Basement Baths\n",
    "bath_features = bsmt_features + ['BsmtFullBath','BsmtHalfBath']\n",
    "all_data[['BsmtFullBath','BsmtHalfBath']] = all_data[['BsmtFullBath','BsmtHalfBath']].fillna(0)\n",
    "all_data.loc[(all_data.BsmtFullBath.isnull()) | (all_data.BsmtHalfBath.isnull()) , bath_features]"
   ]
  },
  {
   "cell_type": "code",
   "execution_count": 130,
   "metadata": {
    "tags": []
   },
   "outputs": [
    {
     "output_type": "stream",
     "name": "stdout",
     "text": "<class 'pandas.core.frame.DataFrame'>\nRangeIndex: 2919 entries, 0 to 2918\nData columns (total 83 columns):\n #   Column         Non-Null Count  Dtype  \n---  ------         --------------  -----  \n 0   index          2919 non-null   int64  \n 1   Id             2919 non-null   int64  \n 2   MSSubClass     2919 non-null   int64  \n 3   MSZoning       2915 non-null   object \n 4   LotFrontage    2433 non-null   float64\n 5   LotArea        2919 non-null   int64  \n 6   Street         2919 non-null   object \n 7   Alley          2919 non-null   object \n 8   LotShape       2919 non-null   object \n 9   LandContour    2919 non-null   object \n 10  Utilities      2917 non-null   object \n 11  LotConfig      2919 non-null   object \n 12  LandSlope      2919 non-null   object \n 13  Neighborhood   2919 non-null   object \n 14  Condition1     2919 non-null   object \n 15  Condition2     2919 non-null   object \n 16  BldgType       2919 non-null   object \n 17  HouseStyle     2919 non-null   object \n 18  OverallQual    2919 non-null   int64  \n 19  OverallCond    2919 non-null   int64  \n 20  YearBuilt      2919 non-null   int64  \n 21  YearRemodAdd   2919 non-null   int64  \n 22  RoofStyle      2919 non-null   object \n 23  RoofMatl       2919 non-null   object \n 24  Exterior1st    2918 non-null   object \n 25  Exterior2nd    2918 non-null   object \n 26  MasVnrType     2895 non-null   object \n 27  MasVnrArea     2896 non-null   float64\n 28  ExterQual      2919 non-null   object \n 29  ExterCond      2919 non-null   object \n 30  Foundation     2919 non-null   object \n 31  BsmtQual       2919 non-null   object \n 32  BsmtCond       2919 non-null   object \n 33  BsmtExposure   2919 non-null   object \n 34  BsmtFinType1   2919 non-null   object \n 35  BsmtFinSF1     2919 non-null   float64\n 36  BsmtFinType2   2919 non-null   object \n 37  BsmtFinSF2     2919 non-null   float64\n 38  BsmtUnfSF      2919 non-null   float64\n 39  TotalBsmtSF    2919 non-null   float64\n 40  Heating        2919 non-null   object \n 41  HeatingQC      2919 non-null   object \n 42  CentralAir     2919 non-null   object \n 43  Electrical     2918 non-null   object \n 44  1stFlrSF       2919 non-null   int64  \n 45  2ndFlrSF       2919 non-null   int64  \n 46  LowQualFinSF   2919 non-null   int64  \n 47  GrLivArea      2919 non-null   int64  \n 48  BsmtFullBath   2919 non-null   float64\n 49  BsmtHalfBath   2919 non-null   float64\n 50  FullBath       2919 non-null   int64  \n 51  HalfBath       2919 non-null   int64  \n 52  BedroomAbvGr   2919 non-null   int64  \n 53  KitchenAbvGr   2919 non-null   int64  \n 54  KitchenQual    2918 non-null   object \n 55  TotRmsAbvGrd   2919 non-null   int64  \n 56  Functional     2919 non-null   object \n 57  Fireplaces     2919 non-null   int64  \n 58  FireplaceQu    2919 non-null   object \n 59  GarageType     2919 non-null   object \n 60  GarageYrBlt    2919 non-null   float64\n 61  GarageFinish   2919 non-null   object \n 62  GarageCars     2919 non-null   float64\n 63  GarageArea     2919 non-null   float64\n 64  GarageQual     2919 non-null   object \n 65  GarageCond     2919 non-null   object \n 66  PavedDrive     2919 non-null   object \n 67  WoodDeckSF     2919 non-null   int64  \n 68  OpenPorchSF    2919 non-null   int64  \n 69  EnclosedPorch  2919 non-null   int64  \n 70  3SsnPorch      2919 non-null   int64  \n 71  ScreenPorch    2919 non-null   int64  \n 72  PoolArea       2919 non-null   int64  \n 73  PoolQC         2919 non-null   object \n 74  Fence          2919 non-null   object \n 75  MiscFeature    2919 non-null   object \n 76  MiscVal        2919 non-null   int64  \n 77  MoSold         2919 non-null   int64  \n 78  YrSold         2919 non-null   int64  \n 79  SaleType       2918 non-null   object \n 80  SaleCondition  2919 non-null   object \n 81  SalePrice      2919 non-null   int64  \n 82  Type           2919 non-null   object \ndtypes: float64(11), int64(28), object(44)\nmemory usage: 1.8+ MB\n"
    }
   ],
   "source": [
    "all_data.info()"
   ]
  },
  {
   "cell_type": "code",
   "execution_count": 131,
   "metadata": {
    "tags": []
   },
   "outputs": [
    {
     "output_type": "stream",
     "name": "stdout",
     "text": "<class 'pandas.core.frame.DataFrame'>\nRangeIndex: 2919 entries, 0 to 2918\nData columns (total 83 columns):\n #   Column         Non-Null Count  Dtype  \n---  ------         --------------  -----  \n 0   index          2919 non-null   int64  \n 1   Id             2919 non-null   int64  \n 2   MSSubClass     2919 non-null   int64  \n 3   MSZoning       2915 non-null   object \n 4   LotFrontage    2433 non-null   float64\n 5   LotArea        2919 non-null   int64  \n 6   Street         2919 non-null   object \n 7   Alley          2919 non-null   object \n 8   LotShape       2919 non-null   object \n 9   LandContour    2919 non-null   object \n 10  Utilities      2917 non-null   object \n 11  LotConfig      2919 non-null   object \n 12  LandSlope      2919 non-null   object \n 13  Neighborhood   2919 non-null   object \n 14  Condition1     2919 non-null   object \n 15  Condition2     2919 non-null   object \n 16  BldgType       2919 non-null   object \n 17  HouseStyle     2919 non-null   object \n 18  OverallQual    2919 non-null   int64  \n 19  OverallCond    2919 non-null   int64  \n 20  YearBuilt      2919 non-null   int64  \n 21  YearRemodAdd   2919 non-null   int64  \n 22  RoofStyle      2919 non-null   object \n 23  RoofMatl       2919 non-null   object \n 24  Exterior1st    2918 non-null   object \n 25  Exterior2nd    2918 non-null   object \n 26  MasVnrType     2895 non-null   object \n 27  MasVnrArea     2896 non-null   float64\n 28  ExterQual      2919 non-null   object \n 29  ExterCond      2919 non-null   object \n 30  Foundation     2919 non-null   object \n 31  BsmtQual       2919 non-null   object \n 32  BsmtCond       2919 non-null   object \n 33  BsmtExposure   2919 non-null   object \n 34  BsmtFinType1   2919 non-null   object \n 35  BsmtFinSF1     2919 non-null   float64\n 36  BsmtFinType2   2919 non-null   object \n 37  BsmtFinSF2     2919 non-null   float64\n 38  BsmtUnfSF      2919 non-null   float64\n 39  TotalBsmtSF    2919 non-null   float64\n 40  Heating        2919 non-null   object \n 41  HeatingQC      2919 non-null   object \n 42  CentralAir     2919 non-null   object \n 43  Electrical     2918 non-null   object \n 44  1stFlrSF       2919 non-null   int64  \n 45  2ndFlrSF       2919 non-null   int64  \n 46  LowQualFinSF   2919 non-null   int64  \n 47  GrLivArea      2919 non-null   int64  \n 48  BsmtFullBath   2919 non-null   float64\n 49  BsmtHalfBath   2919 non-null   float64\n 50  FullBath       2919 non-null   int64  \n 51  HalfBath       2919 non-null   int64  \n 52  BedroomAbvGr   2919 non-null   int64  \n 53  KitchenAbvGr   2919 non-null   int64  \n 54  KitchenQual    2918 non-null   object \n 55  TotRmsAbvGrd   2919 non-null   int64  \n 56  Functional     2919 non-null   object \n 57  Fireplaces     2919 non-null   int64  \n 58  FireplaceQu    2919 non-null   object \n 59  GarageType     2919 non-null   object \n 60  GarageYrBlt    2919 non-null   float64\n 61  GarageFinish   2919 non-null   object \n 62  GarageCars     2919 non-null   float64\n 63  GarageArea     2919 non-null   float64\n 64  GarageQual     2919 non-null   object \n 65  GarageCond     2919 non-null   object \n 66  PavedDrive     2919 non-null   object \n 67  WoodDeckSF     2919 non-null   int64  \n 68  OpenPorchSF    2919 non-null   int64  \n 69  EnclosedPorch  2919 non-null   int64  \n 70  3SsnPorch      2919 non-null   int64  \n 71  ScreenPorch    2919 non-null   int64  \n 72  PoolArea       2919 non-null   int64  \n 73  PoolQC         2919 non-null   object \n 74  Fence          2919 non-null   object \n 75  MiscFeature    2919 non-null   object \n 76  MiscVal        2919 non-null   int64  \n 77  MoSold         2919 non-null   int64  \n 78  YrSold         2919 non-null   int64  \n 79  SaleType       2919 non-null   object \n 80  SaleCondition  2919 non-null   object \n 81  SalePrice      2919 non-null   int64  \n 82  Type           2919 non-null   object \ndtypes: float64(11), int64(28), object(44)\nmemory usage: 1.8+ MB\n"
    }
   ],
   "source": [
    "# SaleType Cleaning\n",
    "sale_features = ['MoSold','YrSold','SaleType','SaleCondition']\n",
    "all_data.loc[all_data.SaleType.isnull(), sale_features]\n",
    "all_data.loc[all_data.SaleCondition == 'Normal',sale_features].groupby(['SaleType','SaleCondition']).count()\n",
    "all_data[['SaleType']] = all_data[['SaleType']].fillna('WD')\n",
    "all_data.info()"
   ]
  },
  {
   "cell_type": "code",
   "execution_count": 132,
   "metadata": {},
   "outputs": [
    {
     "output_type": "execute_result",
     "data": {
      "text/plain": "Empty DataFrame\nColumns: [KitchenAbvGr, KitchenQual, OverallQual, Id]\nIndex: []",
      "text/html": "<div>\n<style scoped>\n    .dataframe tbody tr th:only-of-type {\n        vertical-align: middle;\n    }\n\n    .dataframe tbody tr th {\n        vertical-align: top;\n    }\n\n    .dataframe thead th {\n        text-align: right;\n    }\n</style>\n<table border=\"1\" class=\"dataframe\">\n  <thead>\n    <tr style=\"text-align: right;\">\n      <th></th>\n      <th>KitchenAbvGr</th>\n      <th>KitchenQual</th>\n      <th>OverallQual</th>\n      <th>Id</th>\n    </tr>\n  </thead>\n  <tbody>\n  </tbody>\n</table>\n</div>"
     },
     "metadata": {},
     "execution_count": 132
    }
   ],
   "source": [
    "# Kitche Quality Id 1556\n",
    "# Rellenamos nulos con TA que parece ser el más habitual en las casas con el mismo OverallQual\n",
    "kit_features = ['KitchenAbvGr','KitchenQual','OverallQual','Id']\n",
    "all_data.loc[(all_data.OverallQual == 5) & (all_data.YearRemodAdd <= 1953), kit_features].groupby(['KitchenAbvGr','KitchenQual','OverallQual']).count()\n",
    "# all_data.loc[(all_data.OverallQual == 10) , kit_features].groupby(['KitchenAbvGr','KitchenQual','OverallQual']).count()\n",
    "all_data[['KitchenQual']] = all_data[['KitchenQual']].fillna('TA')\n",
    "all_data.loc[all_data.KitchenQual.isnull(), kit_features]"
   ]
  },
  {
   "cell_type": "code",
   "execution_count": 133,
   "metadata": {
    "tags": []
   },
   "outputs": [
    {
     "output_type": "stream",
     "name": "stdout",
     "text": "<class 'pandas.core.frame.DataFrame'>\nRangeIndex: 2919 entries, 0 to 2918\nData columns (total 83 columns):\n #   Column         Non-Null Count  Dtype  \n---  ------         --------------  -----  \n 0   index          2919 non-null   int64  \n 1   Id             2919 non-null   int64  \n 2   MSSubClass     2919 non-null   int64  \n 3   MSZoning       2915 non-null   object \n 4   LotFrontage    2433 non-null   float64\n 5   LotArea        2919 non-null   int64  \n 6   Street         2919 non-null   object \n 7   Alley          2919 non-null   object \n 8   LotShape       2919 non-null   object \n 9   LandContour    2919 non-null   object \n 10  Utilities      2917 non-null   object \n 11  LotConfig      2919 non-null   object \n 12  LandSlope      2919 non-null   object \n 13  Neighborhood   2919 non-null   object \n 14  Condition1     2919 non-null   object \n 15  Condition2     2919 non-null   object \n 16  BldgType       2919 non-null   object \n 17  HouseStyle     2919 non-null   object \n 18  OverallQual    2919 non-null   int64  \n 19  OverallCond    2919 non-null   int64  \n 20  YearBuilt      2919 non-null   int64  \n 21  YearRemodAdd   2919 non-null   int64  \n 22  RoofStyle      2919 non-null   object \n 23  RoofMatl       2919 non-null   object \n 24  Exterior1st    2918 non-null   object \n 25  Exterior2nd    2918 non-null   object \n 26  MasVnrType     2895 non-null   object \n 27  MasVnrArea     2896 non-null   float64\n 28  ExterQual      2919 non-null   object \n 29  ExterCond      2919 non-null   object \n 30  Foundation     2919 non-null   object \n 31  BsmtQual       2919 non-null   object \n 32  BsmtCond       2919 non-null   object \n 33  BsmtExposure   2919 non-null   object \n 34  BsmtFinType1   2919 non-null   object \n 35  BsmtFinSF1     2919 non-null   float64\n 36  BsmtFinType2   2919 non-null   object \n 37  BsmtFinSF2     2919 non-null   float64\n 38  BsmtUnfSF      2919 non-null   float64\n 39  TotalBsmtSF    2919 non-null   float64\n 40  Heating        2919 non-null   object \n 41  HeatingQC      2919 non-null   object \n 42  CentralAir     2919 non-null   object \n 43  Electrical     2919 non-null   object \n 44  1stFlrSF       2919 non-null   int64  \n 45  2ndFlrSF       2919 non-null   int64  \n 46  LowQualFinSF   2919 non-null   int64  \n 47  GrLivArea      2919 non-null   int64  \n 48  BsmtFullBath   2919 non-null   float64\n 49  BsmtHalfBath   2919 non-null   float64\n 50  FullBath       2919 non-null   int64  \n 51  HalfBath       2919 non-null   int64  \n 52  BedroomAbvGr   2919 non-null   int64  \n 53  KitchenAbvGr   2919 non-null   int64  \n 54  KitchenQual    2919 non-null   object \n 55  TotRmsAbvGrd   2919 non-null   int64  \n 56  Functional     2919 non-null   object \n 57  Fireplaces     2919 non-null   int64  \n 58  FireplaceQu    2919 non-null   object \n 59  GarageType     2919 non-null   object \n 60  GarageYrBlt    2919 non-null   float64\n 61  GarageFinish   2919 non-null   object \n 62  GarageCars     2919 non-null   float64\n 63  GarageArea     2919 non-null   float64\n 64  GarageQual     2919 non-null   object \n 65  GarageCond     2919 non-null   object \n 66  PavedDrive     2919 non-null   object \n 67  WoodDeckSF     2919 non-null   int64  \n 68  OpenPorchSF    2919 non-null   int64  \n 69  EnclosedPorch  2919 non-null   int64  \n 70  3SsnPorch      2919 non-null   int64  \n 71  ScreenPorch    2919 non-null   int64  \n 72  PoolArea       2919 non-null   int64  \n 73  PoolQC         2919 non-null   object \n 74  Fence          2919 non-null   object \n 75  MiscFeature    2919 non-null   object \n 76  MiscVal        2919 non-null   int64  \n 77  MoSold         2919 non-null   int64  \n 78  YrSold         2919 non-null   int64  \n 79  SaleType       2919 non-null   object \n 80  SaleCondition  2919 non-null   object \n 81  SalePrice      2919 non-null   int64  \n 82  Type           2919 non-null   object \ndtypes: float64(11), int64(28), object(44)\nmemory usage: 1.8+ MB\n"
    }
   ],
   "source": [
    "all_data.loc[all_data.Electrical.isnull(),['YearBuilt']]\n",
    "all_data.loc[all_data.YearBuilt >= 2006].groupby('Electrical').count()\n",
    "all_data.groupby('Electrical').count()\n",
    "all_data[['Electrical']] = all_data[['Electrical']].fillna('SBrkr')\n",
    "all_data.info()"
   ]
  },
  {
   "cell_type": "code",
   "execution_count": 134,
   "metadata": {},
   "outputs": [],
   "source": [
    "ext_features = ['Exterior1st','Exterior2nd','MasVnrType','MasVnrArea','ExterQual','ExterCond','UniqueExterior']\n",
    "all_data[['Exterior2nd']] = all_data.apply(lambda x: 'WdShing' if x['Exterior2nd'] == 'Wd Shng' else x['Exterior2nd'],axis=1)\n",
    "all_data[['Exterior2nd']] = all_data.apply(lambda x: 'CemntBd' if x['Exterior2nd'] == 'CmentBd' else x['Exterior2nd'],axis=1)\n",
    "all_data[['Exterior2nd']] = all_data.apply(lambda x: 'BrkComm' if x['Exterior2nd'] == 'Brk Cmn' else x['Exterior2nd'],axis=1)\n",
    "all_data['UniqueExterior'] = all_data.apply(lambda x: 1 if x['Exterior1st'] == x['Exterior2nd'] else 0,axis=1)\n",
    "\n",
    "all_data.loc[(all_data.Exterior1st.isnull()) | (all_data.Exterior2nd.isnull()),['Exterior1st','Exterior2nd','OverallQual']]\n",
    "all_data.loc[all_data.OverallQual == 5, ext_features].groupby(['Exterior1st','Exterior2nd']).count()\n",
    "# La combinación MetalSd,MetalSd es la más habitual\n",
    "all_data[['Exterior1st','Exterior2nd']] = all_data[['Exterior1st','Exterior2nd']].fillna('MetalSd')"
   ]
  },
  {
   "cell_type": "code",
   "execution_count": 135,
   "metadata": {},
   "outputs": [
    {
     "output_type": "execute_result",
     "data": {
      "text/plain": "    Exterior1st Exterior2nd MasVnrType  MasVnrArea ExterQual ExterCond  \\\n529     Wd Sdng       Stone        NaN         NaN        Gd        TA   \n\n     UniqueExterior  \n529               0  ",
      "text/html": "<div>\n<style scoped>\n    .dataframe tbody tr th:only-of-type {\n        vertical-align: middle;\n    }\n\n    .dataframe tbody tr th {\n        vertical-align: top;\n    }\n\n    .dataframe thead th {\n        text-align: right;\n    }\n</style>\n<table border=\"1\" class=\"dataframe\">\n  <thead>\n    <tr style=\"text-align: right;\">\n      <th></th>\n      <th>Exterior1st</th>\n      <th>Exterior2nd</th>\n      <th>MasVnrType</th>\n      <th>MasVnrArea</th>\n      <th>ExterQual</th>\n      <th>ExterCond</th>\n      <th>UniqueExterior</th>\n    </tr>\n  </thead>\n  <tbody>\n    <tr>\n      <th>529</th>\n      <td>Wd Sdng</td>\n      <td>Stone</td>\n      <td>NaN</td>\n      <td>NaN</td>\n      <td>Gd</td>\n      <td>TA</td>\n      <td>0</td>\n    </tr>\n  </tbody>\n</table>\n</div>"
     },
     "metadata": {},
     "execution_count": 135
    }
   ],
   "source": [
    "\n",
    "\n",
    "all_data.loc[all_data.MasVnrType.isnull() == False,ext_features].groupby(['UniqueExterior','MasVnrType']).count() #.sort_values('MasVnrArea',ascending=False).head(50)\n",
    "all_data.loc[(all_data.UniqueExterior == 1) & (all_data.MasVnrType.isnull()),['MasVnrType']] = all_data.loc[(all_data.UniqueExterior == 1) & (all_data.MasVnrType.isnull()),['MasVnrType']].fillna('None')\n",
    "all_data.loc[all_data.MasVnrType.isnull(),ext_features]\n",
    "# set(all_data['Exterior2nd'].unique()).symmetric_difference(set(all_data['Exterior1st'].unique()))"
   ]
  },
  {
   "cell_type": "code",
   "execution_count": 136,
   "metadata": {},
   "outputs": [],
   "source": [
    "all_data.loc[(all_data.Exterior1st == 'Wd Sdng') & (all_data.Exterior2nd == 'Stone'),['MasVnrType']] = all_data.loc[(all_data.Exterior1st == 'Wd Sdng') & (all_data.Exterior2nd == 'Stone'),['MasVnrType']].fillna('None')\n"
   ]
  },
  {
   "cell_type": "code",
   "execution_count": 137,
   "metadata": {
    "tags": []
   },
   "outputs": [],
   "source": [
    "all_data[['MasVnrArea']] =all_data[['MasVnrArea']].fillna(0)"
   ]
  },
  {
   "cell_type": "code",
   "execution_count": 138,
   "metadata": {
    "tags": []
   },
   "outputs": [
    {
     "output_type": "stream",
     "name": "stdout",
     "text": "<class 'pandas.core.frame.DataFrame'>\nRangeIndex: 2919 entries, 0 to 2918\nData columns (total 84 columns):\n #   Column          Non-Null Count  Dtype  \n---  ------          --------------  -----  \n 0   index           2919 non-null   int64  \n 1   Id              2919 non-null   int64  \n 2   MSSubClass      2919 non-null   int64  \n 3   MSZoning        2915 non-null   object \n 4   LotFrontage     2433 non-null   float64\n 5   LotArea         2919 non-null   int64  \n 6   Street          2919 non-null   object \n 7   Alley           2919 non-null   object \n 8   LotShape        2919 non-null   object \n 9   LandContour     2919 non-null   object \n 10  Utilities       2917 non-null   object \n 11  LotConfig       2919 non-null   object \n 12  LandSlope       2919 non-null   object \n 13  Neighborhood    2919 non-null   object \n 14  Condition1      2919 non-null   object \n 15  Condition2      2919 non-null   object \n 16  BldgType        2919 non-null   object \n 17  HouseStyle      2919 non-null   object \n 18  OverallQual     2919 non-null   int64  \n 19  OverallCond     2919 non-null   int64  \n 20  YearBuilt       2919 non-null   int64  \n 21  YearRemodAdd    2919 non-null   int64  \n 22  RoofStyle       2919 non-null   object \n 23  RoofMatl        2919 non-null   object \n 24  Exterior1st     2919 non-null   object \n 25  Exterior2nd     2919 non-null   object \n 26  MasVnrType      2919 non-null   object \n 27  MasVnrArea      2919 non-null   float64\n 28  ExterQual       2919 non-null   object \n 29  ExterCond       2919 non-null   object \n 30  Foundation      2919 non-null   object \n 31  BsmtQual        2919 non-null   object \n 32  BsmtCond        2919 non-null   object \n 33  BsmtExposure    2919 non-null   object \n 34  BsmtFinType1    2919 non-null   object \n 35  BsmtFinSF1      2919 non-null   float64\n 36  BsmtFinType2    2919 non-null   object \n 37  BsmtFinSF2      2919 non-null   float64\n 38  BsmtUnfSF       2919 non-null   float64\n 39  TotalBsmtSF     2919 non-null   float64\n 40  Heating         2919 non-null   object \n 41  HeatingQC       2919 non-null   object \n 42  CentralAir      2919 non-null   object \n 43  Electrical      2919 non-null   object \n 44  1stFlrSF        2919 non-null   int64  \n 45  2ndFlrSF        2919 non-null   int64  \n 46  LowQualFinSF    2919 non-null   int64  \n 47  GrLivArea       2919 non-null   int64  \n 48  BsmtFullBath    2919 non-null   float64\n 49  BsmtHalfBath    2919 non-null   float64\n 50  FullBath        2919 non-null   int64  \n 51  HalfBath        2919 non-null   int64  \n 52  BedroomAbvGr    2919 non-null   int64  \n 53  KitchenAbvGr    2919 non-null   int64  \n 54  KitchenQual     2919 non-null   object \n 55  TotRmsAbvGrd    2919 non-null   int64  \n 56  Functional      2919 non-null   object \n 57  Fireplaces      2919 non-null   int64  \n 58  FireplaceQu     2919 non-null   object \n 59  GarageType      2919 non-null   object \n 60  GarageYrBlt     2919 non-null   float64\n 61  GarageFinish    2919 non-null   object \n 62  GarageCars      2919 non-null   float64\n 63  GarageArea      2919 non-null   float64\n 64  GarageQual      2919 non-null   object \n 65  GarageCond      2919 non-null   object \n 66  PavedDrive      2919 non-null   object \n 67  WoodDeckSF      2919 non-null   int64  \n 68  OpenPorchSF     2919 non-null   int64  \n 69  EnclosedPorch   2919 non-null   int64  \n 70  3SsnPorch       2919 non-null   int64  \n 71  ScreenPorch     2919 non-null   int64  \n 72  PoolArea        2919 non-null   int64  \n 73  PoolQC          2919 non-null   object \n 74  Fence           2919 non-null   object \n 75  MiscFeature     2919 non-null   object \n 76  MiscVal         2919 non-null   int64  \n 77  MoSold          2919 non-null   int64  \n 78  YrSold          2919 non-null   int64  \n 79  SaleType        2919 non-null   object \n 80  SaleCondition   2919 non-null   object \n 81  SalePrice       2919 non-null   int64  \n 82  Type            2919 non-null   object \n 83  UniqueExterior  2919 non-null   int64  \ndtypes: float64(11), int64(29), object(44)\nmemory usage: 1.9+ MB\n"
    }
   ],
   "source": [
    "all_data.info()"
   ]
  },
  {
   "cell_type": "code",
   "execution_count": 139,
   "metadata": {},
   "outputs": [],
   "source": [
    "# Utilities Cleaning\n",
    "all_data.loc[all_data.Utilities.isnull(), ['Utilities','Electrical','YearBuilt','YearRemodAdd']]\n",
    "all_data[['Utilities']] = all_data[['Utilities']].fillna('AllPub')"
   ]
  },
  {
   "cell_type": "code",
   "execution_count": 140,
   "metadata": {
    "tags": []
   },
   "outputs": [],
   "source": [
    "all_data.loc[all_data.Street == 'Grvl'].groupby('MSZoning',).count()\n",
    "all_data.loc[all_data.Street == 'Pave'].groupby('MSZoning',).count()\n",
    "# all_data.loc[all_data.MSZoning.isnull()]\n",
    "# all_data['MSZoning'].unique()\n",
    "all_data.loc[all_data.Street == 'Grvl', ['MSZoning']] = all_data.loc[all_data.Street == 'Grvl', ['MSZoning']].fillna('C (all)')\n",
    "all_data.loc[all_data.Street != 'Grvl', ['MSZoning']] = all_data.loc[all_data.Street != 'Grvl', ['MSZoning']].fillna('RL')"
   ]
  },
  {
   "cell_type": "code",
   "execution_count": 141,
   "metadata": {
    "tags": []
   },
   "outputs": [
    {
     "output_type": "stream",
     "name": "stdout",
     "text": "<class 'pandas.core.frame.DataFrame'>\nRangeIndex: 2919 entries, 0 to 2918\nData columns (total 84 columns):\n #   Column          Non-Null Count  Dtype  \n---  ------          --------------  -----  \n 0   index           2919 non-null   int64  \n 1   Id              2919 non-null   int64  \n 2   MSSubClass      2919 non-null   int64  \n 3   MSZoning        2919 non-null   object \n 4   LotFrontage     2433 non-null   float64\n 5   LotArea         2919 non-null   int64  \n 6   Street          2919 non-null   object \n 7   Alley           2919 non-null   object \n 8   LotShape        2919 non-null   object \n 9   LandContour     2919 non-null   object \n 10  Utilities       2919 non-null   object \n 11  LotConfig       2919 non-null   object \n 12  LandSlope       2919 non-null   object \n 13  Neighborhood    2919 non-null   object \n 14  Condition1      2919 non-null   object \n 15  Condition2      2919 non-null   object \n 16  BldgType        2919 non-null   object \n 17  HouseStyle      2919 non-null   object \n 18  OverallQual     2919 non-null   int64  \n 19  OverallCond     2919 non-null   int64  \n 20  YearBuilt       2919 non-null   int64  \n 21  YearRemodAdd    2919 non-null   int64  \n 22  RoofStyle       2919 non-null   object \n 23  RoofMatl        2919 non-null   object \n 24  Exterior1st     2919 non-null   object \n 25  Exterior2nd     2919 non-null   object \n 26  MasVnrType      2919 non-null   object \n 27  MasVnrArea      2919 non-null   float64\n 28  ExterQual       2919 non-null   object \n 29  ExterCond       2919 non-null   object \n 30  Foundation      2919 non-null   object \n 31  BsmtQual        2919 non-null   object \n 32  BsmtCond        2919 non-null   object \n 33  BsmtExposure    2919 non-null   object \n 34  BsmtFinType1    2919 non-null   object \n 35  BsmtFinSF1      2919 non-null   float64\n 36  BsmtFinType2    2919 non-null   object \n 37  BsmtFinSF2      2919 non-null   float64\n 38  BsmtUnfSF       2919 non-null   float64\n 39  TotalBsmtSF     2919 non-null   float64\n 40  Heating         2919 non-null   object \n 41  HeatingQC       2919 non-null   object \n 42  CentralAir      2919 non-null   object \n 43  Electrical      2919 non-null   object \n 44  1stFlrSF        2919 non-null   int64  \n 45  2ndFlrSF        2919 non-null   int64  \n 46  LowQualFinSF    2919 non-null   int64  \n 47  GrLivArea       2919 non-null   int64  \n 48  BsmtFullBath    2919 non-null   float64\n 49  BsmtHalfBath    2919 non-null   float64\n 50  FullBath        2919 non-null   int64  \n 51  HalfBath        2919 non-null   int64  \n 52  BedroomAbvGr    2919 non-null   int64  \n 53  KitchenAbvGr    2919 non-null   int64  \n 54  KitchenQual     2919 non-null   object \n 55  TotRmsAbvGrd    2919 non-null   int64  \n 56  Functional      2919 non-null   object \n 57  Fireplaces      2919 non-null   int64  \n 58  FireplaceQu     2919 non-null   object \n 59  GarageType      2919 non-null   object \n 60  GarageYrBlt     2919 non-null   float64\n 61  GarageFinish    2919 non-null   object \n 62  GarageCars      2919 non-null   float64\n 63  GarageArea      2919 non-null   float64\n 64  GarageQual      2919 non-null   object \n 65  GarageCond      2919 non-null   object \n 66  PavedDrive      2919 non-null   object \n 67  WoodDeckSF      2919 non-null   int64  \n 68  OpenPorchSF     2919 non-null   int64  \n 69  EnclosedPorch   2919 non-null   int64  \n 70  3SsnPorch       2919 non-null   int64  \n 71  ScreenPorch     2919 non-null   int64  \n 72  PoolArea        2919 non-null   int64  \n 73  PoolQC          2919 non-null   object \n 74  Fence           2919 non-null   object \n 75  MiscFeature     2919 non-null   object \n 76  MiscVal         2919 non-null   int64  \n 77  MoSold          2919 non-null   int64  \n 78  YrSold          2919 non-null   int64  \n 79  SaleType        2919 non-null   object \n 80  SaleCondition   2919 non-null   object \n 81  SalePrice       2919 non-null   int64  \n 82  Type            2919 non-null   object \n 83  UniqueExterior  2919 non-null   int64  \ndtypes: float64(11), int64(29), object(44)\nmemory usage: 1.9+ MB\n"
    }
   ],
   "source": [
    "all_data.info()"
   ]
  },
  {
   "cell_type": "code",
   "execution_count": 142,
   "metadata": {
    "tags": []
   },
   "outputs": [],
   "source": [
    "from custom_functions import get_resume, information_gain\n",
    "all_data[['LotFrontage']].var()\n",
    "gains = []\n",
    "for x in all_data.columns:\n",
    "    if x != 'LotFrontage' and pd.api.types.is_object_dtype(all_data[x].dtype):\n",
    "        gains.append((x,information_gain(all_data,'LotFrontage',x,norm=True)))\n",
    "# print(gains)\n",
    "gains.sort(key=lambda x: x[1], reverse = True)\n",
    "gains\n",
    "# print(\"Information gain: {}\".format(information_gain(all_data,'LotFrontage','BldgType', norm=True)))\n",
    "# get_resume(all_data,\"LotFrontage\",'BldgTypeNeighborhood')\n",
    "\n",
    "lf_means = all_data[['LotFrontage','BldgType']].groupby('BldgType').mean().to_dict()\n",
    "all_data['LotFrontage'] = all_data.apply(lambda x: lf_means['LotFrontage'][x['BldgType']] if math.isnan(x['LotFrontage']) else x['LotFrontage'], axis=1)\n",
    "#  all_data[['LotFrontage']] = all_data[['LotFrontage']].fillna(all_data['LotFrontage'].mean())\n"
   ]
  },
  {
   "cell_type": "code",
   "execution_count": 143,
   "metadata": {
    "tags": []
   },
   "outputs": [],
   "source": [
    "# New Features\n",
    "all_data['LotAreaNorm'] = np.log(all_data.LotArea + 1)\n",
    "all_data['FireplacesNorm'] = np.log(all_data.Fireplaces + 1)\n",
    "all_data['OpenPorchSFNorm'] = np.log(all_data.OpenPorchSF + 1)\n",
    "all_data[\"BsmtFinType1BsmtFinType2\"] = all_data[\"BsmtFinType1\"]+all_data[\"BsmtFinType2\"]\n",
    "all_data[\"HeatingHeatingQC\"] = all_data[\"Heating\"] + all_data[\"HeatingQC\"]\n",
    "all_data[\"1stFlrSF2ndFlrSF\"] = all_data[\"1stFlrSF\"] + all_data[\"2ndFlrSF\"]\n",
    "all_data[\"TotalBaths\"] = all_data[\"HalfBath\"] + all_data[\"FullBath\"] + all_data[\"BsmtHalfBath\"] + all_data[\"BsmtFullBath\"]\n",
    "all_data['OverallQualOverallCond'] = all_data['OverallQual'] * all_data['OverallCond']\n",
    "tags = ['Po','Fa','TA','Gd','Ex']\n",
    "all_data['ExterQualExterCond'] = all_data.apply(lambda x: (tags.index(x['ExterQual'])+1)*(tags.index(x['ExterCond'])+1),axis=1)\n",
    "all_data['LotDepth'] = all_data['LotArea'] / all_data['LotFrontage']\n",
    "# columns_dict = {}\n",
    "# treatments = []\n",
    "# for x in all_data.columns:\n",
    "#     if pd.api.types.is_numeric_dtype(all_data[x].dtype):\n",
    "#         treatments.append('num')\n",
    "#     else:\n",
    "#         treatments.append('cat')\n",
    "# columns_dict = {'feature':all_data.columns, 'treatment':treatments}\n",
    "# columns_df = pd.DataFrame(columns_dict)\n",
    "# columns_df['good'] = 0\n",
    "# columns_df['bad'] = 0\n",
    "# columns_df.to_csv('columns_df.csv')"
   ]
  },
  {
   "cell_type": "code",
   "execution_count": 144,
   "metadata": {},
   "outputs": [
    {
     "output_type": "execute_result",
     "data": {
      "text/plain": "array(['MSSubClass', 'MSZoning', 'Street', 'Alley', 'LotShape',\n       'LandContour', 'Utilities', 'LotConfig', 'LandSlope',\n       'Neighborhood', 'Condition1', 'Condition2', 'BldgType',\n       'HouseStyle', 'RoofStyle', 'RoofMatl', 'Exterior1st',\n       'Exterior2nd', 'MasVnrType', 'ExterQual', 'ExterCond',\n       'Foundation', 'BsmtQual', 'BsmtCond', 'BsmtExposure',\n       'BsmtFinType1', 'BsmtFinType2', 'Heating', 'HeatingQC',\n       'CentralAir', 'Electrical', 'KitchenQual', 'Functional',\n       'FireplaceQu', 'GarageType', 'GarageFinish', 'GarageQual',\n       'GarageCond', 'PavedDrive', 'PoolQC', 'Fence', 'MiscFeature',\n       'SaleType', 'SaleCondition', 'BsmtFinType1BsmtFinType2',\n       'HeatingHeatingQC'], dtype=object)"
     },
     "metadata": {},
     "execution_count": 144
    }
   ],
   "source": [
    "columns_df = pd.read_csv('columns_df.csv', index_col = 'index')\n",
    "drop_features = columns_df.loc[columns_df.treatment == 'drop','feature'].unique()\n",
    "cat_features = columns_df.loc[columns_df.treatment == 'cat','feature'].unique()\n",
    "num_features = columns_df.loc[columns_df.treatment == 'num','feature'].unique()\n",
    "pass_features = columns_df.loc[columns_df.treatment == 'pass','feature'].unique()\n",
    "cat_features"
   ]
  },
  {
   "cell_type": "code",
   "execution_count": 145,
   "metadata": {
    "tags": []
   },
   "outputs": [
    {
     "output_type": "execute_result",
     "data": {
      "text/plain": "           SalePrice         Type      LotArea    YearBuilt  YearRemodAdd  \\\ncount    2919.000000  2919.000000  2919.000000  2919.000000   2919.000000   \nmean    90491.088386     0.499829     0.041450     0.719658      0.571075   \nstd    106496.804191     0.500086     0.036865     0.219503      0.348239   \nmin        -1.000000     0.000000     0.000000     0.000000      0.000000   \n25%        -1.000000     0.000000     0.028877     0.590580      0.250000   \n50%     34900.000000     0.000000     0.038108     0.731884      0.716667   \n75%    163000.000000     1.000000     0.048003     0.934783      0.900000   \nmax    755000.000000     1.000000     1.000000     1.000000      1.000000   \n\n        MasVnrArea   BsmtFinSF1   BsmtFinSF2    BsmtUnfSF  TotalBsmtSF  ...  \\\ncount  2919.000000  2919.000000  2919.000000  2919.000000  2919.000000  ...   \nmean      0.063373     0.078184     0.032481     0.239974     0.172081  ...   \nstd       0.111784     0.080724     0.110864     0.188181     0.072196  ...   \nmin       0.000000     0.000000     0.000000     0.000000     0.000000  ...   \n25%       0.000000     0.000000     0.000000     0.094178     0.129787  ...   \n50%       0.000000     0.065202     0.000000     0.199914     0.161866  ...   \n75%       0.102187     0.129872     0.000000     0.344606     0.213093  ...   \nmax       1.000000     1.000000     1.000000     1.000000     1.000000  ...   \n\n        x45_GasATA   x45_GasWEx   x45_GasWFa   x45_GasWGd   x45_GasWTA  \\\ncount  2919.000000  2919.000000  2919.000000  2919.000000  2919.000000   \nmean      0.287085     0.000685     0.001713     0.001028     0.005824   \nstd       0.452479     0.026171     0.041359     0.032048     0.076105   \nmin       0.000000     0.000000     0.000000     0.000000     0.000000   \n25%       0.000000     0.000000     0.000000     0.000000     0.000000   \n50%       0.000000     0.000000     0.000000     0.000000     0.000000   \n75%       1.000000     0.000000     0.000000     0.000000     0.000000   \nmax       1.000000     1.000000     1.000000     1.000000     1.000000   \n\n        x45_GravFa   x45_OthWFa   x45_WallFa   x45_WallPo   x45_WallTA  \ncount  2919.000000  2919.000000  2919.000000  2919.000000  2919.000000  \nmean      0.003083     0.000685     0.001370     0.000343     0.000343  \nstd       0.055451     0.026171     0.036999     0.018509     0.018509  \nmin       0.000000     0.000000     0.000000     0.000000     0.000000  \n25%       0.000000     0.000000     0.000000     0.000000     0.000000  \n50%       0.000000     0.000000     0.000000     0.000000     0.000000  \n75%       0.000000     0.000000     0.000000     0.000000     0.000000  \nmax       1.000000     1.000000     1.000000     1.000000     1.000000  \n\n[8 rows x 365 columns]",
      "text/html": "<div>\n<style scoped>\n    .dataframe tbody tr th:only-of-type {\n        vertical-align: middle;\n    }\n\n    .dataframe tbody tr th {\n        vertical-align: top;\n    }\n\n    .dataframe thead th {\n        text-align: right;\n    }\n</style>\n<table border=\"1\" class=\"dataframe\">\n  <thead>\n    <tr style=\"text-align: right;\">\n      <th></th>\n      <th>SalePrice</th>\n      <th>Type</th>\n      <th>LotArea</th>\n      <th>YearBuilt</th>\n      <th>YearRemodAdd</th>\n      <th>MasVnrArea</th>\n      <th>BsmtFinSF1</th>\n      <th>BsmtFinSF2</th>\n      <th>BsmtUnfSF</th>\n      <th>TotalBsmtSF</th>\n      <th>...</th>\n      <th>x45_GasATA</th>\n      <th>x45_GasWEx</th>\n      <th>x45_GasWFa</th>\n      <th>x45_GasWGd</th>\n      <th>x45_GasWTA</th>\n      <th>x45_GravFa</th>\n      <th>x45_OthWFa</th>\n      <th>x45_WallFa</th>\n      <th>x45_WallPo</th>\n      <th>x45_WallTA</th>\n    </tr>\n  </thead>\n  <tbody>\n    <tr>\n      <th>count</th>\n      <td>2919.000000</td>\n      <td>2919.000000</td>\n      <td>2919.000000</td>\n      <td>2919.000000</td>\n      <td>2919.000000</td>\n      <td>2919.000000</td>\n      <td>2919.000000</td>\n      <td>2919.000000</td>\n      <td>2919.000000</td>\n      <td>2919.000000</td>\n      <td>...</td>\n      <td>2919.000000</td>\n      <td>2919.000000</td>\n      <td>2919.000000</td>\n      <td>2919.000000</td>\n      <td>2919.000000</td>\n      <td>2919.000000</td>\n      <td>2919.000000</td>\n      <td>2919.000000</td>\n      <td>2919.000000</td>\n      <td>2919.000000</td>\n    </tr>\n    <tr>\n      <th>mean</th>\n      <td>90491.088386</td>\n      <td>0.499829</td>\n      <td>0.041450</td>\n      <td>0.719658</td>\n      <td>0.571075</td>\n      <td>0.063373</td>\n      <td>0.078184</td>\n      <td>0.032481</td>\n      <td>0.239974</td>\n      <td>0.172081</td>\n      <td>...</td>\n      <td>0.287085</td>\n      <td>0.000685</td>\n      <td>0.001713</td>\n      <td>0.001028</td>\n      <td>0.005824</td>\n      <td>0.003083</td>\n      <td>0.000685</td>\n      <td>0.001370</td>\n      <td>0.000343</td>\n      <td>0.000343</td>\n    </tr>\n    <tr>\n      <th>std</th>\n      <td>106496.804191</td>\n      <td>0.500086</td>\n      <td>0.036865</td>\n      <td>0.219503</td>\n      <td>0.348239</td>\n      <td>0.111784</td>\n      <td>0.080724</td>\n      <td>0.110864</td>\n      <td>0.188181</td>\n      <td>0.072196</td>\n      <td>...</td>\n      <td>0.452479</td>\n      <td>0.026171</td>\n      <td>0.041359</td>\n      <td>0.032048</td>\n      <td>0.076105</td>\n      <td>0.055451</td>\n      <td>0.026171</td>\n      <td>0.036999</td>\n      <td>0.018509</td>\n      <td>0.018509</td>\n    </tr>\n    <tr>\n      <th>min</th>\n      <td>-1.000000</td>\n      <td>0.000000</td>\n      <td>0.000000</td>\n      <td>0.000000</td>\n      <td>0.000000</td>\n      <td>0.000000</td>\n      <td>0.000000</td>\n      <td>0.000000</td>\n      <td>0.000000</td>\n      <td>0.000000</td>\n      <td>...</td>\n      <td>0.000000</td>\n      <td>0.000000</td>\n      <td>0.000000</td>\n      <td>0.000000</td>\n      <td>0.000000</td>\n      <td>0.000000</td>\n      <td>0.000000</td>\n      <td>0.000000</td>\n      <td>0.000000</td>\n      <td>0.000000</td>\n    </tr>\n    <tr>\n      <th>25%</th>\n      <td>-1.000000</td>\n      <td>0.000000</td>\n      <td>0.028877</td>\n      <td>0.590580</td>\n      <td>0.250000</td>\n      <td>0.000000</td>\n      <td>0.000000</td>\n      <td>0.000000</td>\n      <td>0.094178</td>\n      <td>0.129787</td>\n      <td>...</td>\n      <td>0.000000</td>\n      <td>0.000000</td>\n      <td>0.000000</td>\n      <td>0.000000</td>\n      <td>0.000000</td>\n      <td>0.000000</td>\n      <td>0.000000</td>\n      <td>0.000000</td>\n      <td>0.000000</td>\n      <td>0.000000</td>\n    </tr>\n    <tr>\n      <th>50%</th>\n      <td>34900.000000</td>\n      <td>0.000000</td>\n      <td>0.038108</td>\n      <td>0.731884</td>\n      <td>0.716667</td>\n      <td>0.000000</td>\n      <td>0.065202</td>\n      <td>0.000000</td>\n      <td>0.199914</td>\n      <td>0.161866</td>\n      <td>...</td>\n      <td>0.000000</td>\n      <td>0.000000</td>\n      <td>0.000000</td>\n      <td>0.000000</td>\n      <td>0.000000</td>\n      <td>0.000000</td>\n      <td>0.000000</td>\n      <td>0.000000</td>\n      <td>0.000000</td>\n      <td>0.000000</td>\n    </tr>\n    <tr>\n      <th>75%</th>\n      <td>163000.000000</td>\n      <td>1.000000</td>\n      <td>0.048003</td>\n      <td>0.934783</td>\n      <td>0.900000</td>\n      <td>0.102187</td>\n      <td>0.129872</td>\n      <td>0.000000</td>\n      <td>0.344606</td>\n      <td>0.213093</td>\n      <td>...</td>\n      <td>1.000000</td>\n      <td>0.000000</td>\n      <td>0.000000</td>\n      <td>0.000000</td>\n      <td>0.000000</td>\n      <td>0.000000</td>\n      <td>0.000000</td>\n      <td>0.000000</td>\n      <td>0.000000</td>\n      <td>0.000000</td>\n    </tr>\n    <tr>\n      <th>max</th>\n      <td>755000.000000</td>\n      <td>1.000000</td>\n      <td>1.000000</td>\n      <td>1.000000</td>\n      <td>1.000000</td>\n      <td>1.000000</td>\n      <td>1.000000</td>\n      <td>1.000000</td>\n      <td>1.000000</td>\n      <td>1.000000</td>\n      <td>...</td>\n      <td>1.000000</td>\n      <td>1.000000</td>\n      <td>1.000000</td>\n      <td>1.000000</td>\n      <td>1.000000</td>\n      <td>1.000000</td>\n      <td>1.000000</td>\n      <td>1.000000</td>\n      <td>1.000000</td>\n      <td>1.000000</td>\n    </tr>\n  </tbody>\n</table>\n<p>8 rows × 365 columns</p>\n</div>"
     },
     "metadata": {},
     "execution_count": 145
    }
   ],
   "source": [
    "all_data['Type'] = all_data.apply(lambda x: 0 if x['Type'] == 'train' or x['Type'] == 0 else 1,axis=1)\n",
    "num_pipeline = Pipeline([\n",
    "    (\"1\",RobustScaler()),\n",
    "    (\"2\",MinMaxScaler()),\n",
    "])\n",
    "pipeline = ColumnTransformer([    \n",
    "    ('pass','passthrough',pass_features),\n",
    "    # ('num',RobustScaler(),num_features),\n",
    "    ('num',num_pipeline,num_features),\n",
    "    ('cat',OneHotEncoder(sparse=False),cat_features)\n",
    "    # ('cat',OrdinalEncoder(),cat_features)\n",
    "])\n",
    "all_data_prep_array = pipeline.fit_transform(all_data)\n",
    "ohe_features = pipeline.named_transformers_['cat'].get_feature_names()\n",
    "all_features = np.concatenate([pass_features,num_features,ohe_features])\n",
    "all_data_prep = pd.DataFrame(all_data_prep_array,columns = all_features)\n",
    "# all_features = np.concatenate([pass_features,num_features,cat_features])\n",
    "all_data_prep = pd.DataFrame(all_data_prep_array,columns = all_features)\n",
    "all_data_prep.describe()"
   ]
  },
  {
   "cell_type": "code",
   "execution_count": 146,
   "metadata": {
    "tags": []
   },
   "outputs": [],
   "source": [
    "train = all_data_prep.loc[all_data_prep.Type == 0,:]\n",
    "test = all_data_prep.loc[all_data_prep.Type == 1,:]\n",
    "test_prepared = test.drop(['SalePrice','Type'],axis=1)\n",
    "X = train.drop(['SalePrice','Type'],axis=1)\n",
    "y = train['SalePrice']"
   ]
  },
  {
   "cell_type": "code",
   "execution_count": 147,
   "metadata": {},
   "outputs": [
    {
     "output_type": "execute_result",
     "data": {
      "text/plain": "1      1stFlrSF2ndFlrSF\n2             GrLivArea\n3            GarageCars\n4            GarageArea\n5           TotalBsmtSF\n             ...       \n360              x19_TA\n361                Type\n362              x0_150\n363          x44_RecGLQ\n364          x45_WallPo\nName: index, Length: 364, dtype: object"
     },
     "metadata": {},
     "execution_count": 147
    }
   ],
   "source": [
    "corr_columns = train.corr().sort_values(by='SalePrice',ascending = False).reset_index()['index']\n",
    "corr_columns.drop(0, inplace= True)\n",
    "corr_columns"
   ]
  },
  {
   "cell_type": "code",
   "execution_count": 148,
   "metadata": {
    "tags": []
   },
   "outputs": [
    {
     "output_type": "stream",
     "name": "stdout",
     "text": "0.13158853909900822\n"
    }
   ],
   "source": [
    "# clf = SVR(C=100400 ,degree=2,epsilon=2500, kernel='poly')\n",
    "clf = XGBRegressor(objective=\"reg:squarederror\")\n",
    "# clf = LGBMRegressor()\n",
    "# # cross_val_score(clf,X.values,y,scoring='neg_mean_squared_log_error', cv=10,verbose=1)\n",
    "# clf.fit(X,y)\n",
    "# feature_importance = pd.DataFrame({\"feature\": X.columns, \"importance\":map(lambda x: round(x,4),clf.feature_importances_)}).sort_values(by='importance',ascending=False)\n",
    "# feature_importance\n",
    "# lr_clf = LinearRegression()\n",
    "# params = [{\"max_depth\":[3,6,7,10,60],\"lambda\":[1,1.5,2],\"estimators\":[20,30,100,300,600],\"gamma\":[0,0.01,0.03,0.1] }]\n",
    "# params = [{\"C\":[10,30,60,100,600,1000100,1000000],\"degree\":[1,2,3,4,5]}]\n",
    "# params = [{\"max_depth\":[3,6,10,60,100,500,-1],\"learning_rate\":[0.01,0.05,0,1],\"estimators\":[20,30,100,300,600],\"num_leaves\":[15,31,63,127] }]\n",
    "# grid = GridSearchCV(clf,params,scoring=\"neg_mean_squared_log_error\", cv=8, verbose=1,n_jobs=-1)\n",
    "# grid.fit(X,y)\n",
    "# clf_best = grid.best_estimator_\n",
    "# print(\"Best:\", grid.best_params_)\n",
    "print(math.sqrt(-1*cross_val_score(clf,X,y,cv=6,n_jobs=-1,scoring='neg_mean_squared_log_error').mean()))"
   ]
  },
  {
   "cell_type": "code",
   "execution_count": 149,
   "metadata": {
    "tags": []
   },
   "outputs": [
    {
     "output_type": "stream",
     "name": "stdout",
     "text": "Fitting 6 folds for each of 135 candidates, totalling 810 fits\n[Parallel(n_jobs=-1)]: Using backend LokyBackend with 16 concurrent workers.\n[Parallel(n_jobs=-1)]: Done  18 tasks      | elapsed:    1.9s\n[Parallel(n_jobs=-1)]: Done 168 tasks      | elapsed:   16.7s\n[Parallel(n_jobs=-1)]: Done 418 tasks      | elapsed:   42.8s\n[Parallel(n_jobs=-1)]: Done 768 tasks      | elapsed:  1.3min\n[Parallel(n_jobs=-1)]: Done 810 out of 810 | elapsed:  1.4min finished\nBest1: {'estimators': 3, 'lambda': 1, 'max_depth': 5, 'min_child_weight': 1.5} | Error: 0.12771776019575146\nFitting 6 folds for each of 48 candidates, totalling 288 fits\n[Parallel(n_jobs=-1)]: Using backend LokyBackend with 16 concurrent workers.\n[Parallel(n_jobs=-1)]: Done  18 tasks      | elapsed:    4.0s\n[Parallel(n_jobs=-1)]: Done 168 tasks      | elapsed:   22.0s\n[Parallel(n_jobs=-1)]: Done 288 out of 288 | elapsed:   35.9s finished\nBest1: {'C': 100420, 'degree': 2, 'epsilon': 200} | Error: 0.13186737939328172\n"
    }
   ],
   "source": [
    "clf = XGBRegressor(objective=\"reg:squarederror\")\n",
    "clf2 = SVR(kernel='poly')\n",
    "params = [{\"max_depth\":[3,5,7],\"estimators\":[3,5,10,20,50], \"lambda\":[1,1.5,2], \"min_child_weight\":[0.5,1,1.5]}]\n",
    "params2 = [{\"C\":[100090,100420,100030,100040],\"epsilon\":[6,7,9,10,40,200], \"degree\":[2,3] }]\n",
    "grid = GridSearchCV(clf,params,scoring=\"neg_mean_squared_log_error\", cv=6, verbose=1,n_jobs=-1)\n",
    "grid.fit(X,y)\n",
    "clf_best1 = grid.best_estimator_\n",
    "print(\"Best1: {} | Error: {}\".format(grid.best_params_, math.sqrt(-1*grid.best_score_.mean())))\n",
    "grid2 = GridSearchCV(clf2,params2,scoring=\"neg_mean_squared_log_error\", cv=6, verbose=1,n_jobs=-1)\n",
    "grid2.fit(X,y)\n",
    "clf_best2 = grid2.best_estimator_\n",
    "print(\"Best1: {} | Error: {}\".format(grid2.best_params_, math.sqrt(-1*grid2.best_score_.mean())))"
   ]
  },
  {
   "cell_type": "code",
   "execution_count": 153,
   "metadata": {},
   "outputs": [
    {
     "output_type": "execute_result",
     "data": {
      "text/plain": "                    feature  importance\n32         1stFlrSF2ndFlrSF      0.0757\n34   OverallQualOverallCond      0.0568\n17               GarageCars      0.0499\n7               TotalBsmtSF      0.0484\n11                GrLivArea      0.0261\n4                BsmtFinSF1      0.0193\n1                 YearBuilt      0.0165\n33               TotalBaths      0.0148\n0                   LotArea      0.0138\n200                  x22_Ex      0.0115\n204                  x22_TA      0.0110\n188                  x19_TA      0.0107\n9                  2ndFlrSF      0.0093\n247                  x31_Ex      0.0053\n2              YearRemodAdd      0.0050\n8                  1stFlrSF      0.0050\n18               GarageArea      0.0047\n15               Fireplaces      0.0029\n310                 x42_New      0.0029\n211                  x24_Gd      0.0028\n14             TotRmsAbvGrd      0.0026\n6                 BsmtUnfSF      0.0024\n16              GarageYrBlt      0.0023\n36                 LotDepth      0.0019\n249                  x31_Gd      0.0018\n19               WoodDeckSF      0.0017\n87               x9_Crawfor      0.0017",
      "text/html": "<div>\n<style scoped>\n    .dataframe tbody tr th:only-of-type {\n        vertical-align: middle;\n    }\n\n    .dataframe tbody tr th {\n        vertical-align: top;\n    }\n\n    .dataframe thead th {\n        text-align: right;\n    }\n</style>\n<table border=\"1\" class=\"dataframe\">\n  <thead>\n    <tr style=\"text-align: right;\">\n      <th></th>\n      <th>feature</th>\n      <th>importance</th>\n    </tr>\n  </thead>\n  <tbody>\n    <tr>\n      <th>32</th>\n      <td>1stFlrSF2ndFlrSF</td>\n      <td>0.0757</td>\n    </tr>\n    <tr>\n      <th>34</th>\n      <td>OverallQualOverallCond</td>\n      <td>0.0568</td>\n    </tr>\n    <tr>\n      <th>17</th>\n      <td>GarageCars</td>\n      <td>0.0499</td>\n    </tr>\n    <tr>\n      <th>7</th>\n      <td>TotalBsmtSF</td>\n      <td>0.0484</td>\n    </tr>\n    <tr>\n      <th>11</th>\n      <td>GrLivArea</td>\n      <td>0.0261</td>\n    </tr>\n    <tr>\n      <th>4</th>\n      <td>BsmtFinSF1</td>\n      <td>0.0193</td>\n    </tr>\n    <tr>\n      <th>1</th>\n      <td>YearBuilt</td>\n      <td>0.0165</td>\n    </tr>\n    <tr>\n      <th>33</th>\n      <td>TotalBaths</td>\n      <td>0.0148</td>\n    </tr>\n    <tr>\n      <th>0</th>\n      <td>LotArea</td>\n      <td>0.0138</td>\n    </tr>\n    <tr>\n      <th>200</th>\n      <td>x22_Ex</td>\n      <td>0.0115</td>\n    </tr>\n    <tr>\n      <th>204</th>\n      <td>x22_TA</td>\n      <td>0.0110</td>\n    </tr>\n    <tr>\n      <th>188</th>\n      <td>x19_TA</td>\n      <td>0.0107</td>\n    </tr>\n    <tr>\n      <th>9</th>\n      <td>2ndFlrSF</td>\n      <td>0.0093</td>\n    </tr>\n    <tr>\n      <th>247</th>\n      <td>x31_Ex</td>\n      <td>0.0053</td>\n    </tr>\n    <tr>\n      <th>2</th>\n      <td>YearRemodAdd</td>\n      <td>0.0050</td>\n    </tr>\n    <tr>\n      <th>8</th>\n      <td>1stFlrSF</td>\n      <td>0.0050</td>\n    </tr>\n    <tr>\n      <th>18</th>\n      <td>GarageArea</td>\n      <td>0.0047</td>\n    </tr>\n    <tr>\n      <th>15</th>\n      <td>Fireplaces</td>\n      <td>0.0029</td>\n    </tr>\n    <tr>\n      <th>310</th>\n      <td>x42_New</td>\n      <td>0.0029</td>\n    </tr>\n    <tr>\n      <th>211</th>\n      <td>x24_Gd</td>\n      <td>0.0028</td>\n    </tr>\n    <tr>\n      <th>14</th>\n      <td>TotRmsAbvGrd</td>\n      <td>0.0026</td>\n    </tr>\n    <tr>\n      <th>6</th>\n      <td>BsmtUnfSF</td>\n      <td>0.0024</td>\n    </tr>\n    <tr>\n      <th>16</th>\n      <td>GarageYrBlt</td>\n      <td>0.0023</td>\n    </tr>\n    <tr>\n      <th>36</th>\n      <td>LotDepth</td>\n      <td>0.0019</td>\n    </tr>\n    <tr>\n      <th>249</th>\n      <td>x31_Gd</td>\n      <td>0.0018</td>\n    </tr>\n    <tr>\n      <th>19</th>\n      <td>WoodDeckSF</td>\n      <td>0.0017</td>\n    </tr>\n    <tr>\n      <th>87</th>\n      <td>x9_Crawfor</td>\n      <td>0.0017</td>\n    </tr>\n  </tbody>\n</table>\n</div>"
     },
     "metadata": {},
     "execution_count": 153
    }
   ],
   "source": [
    "r = permutation_importance(clf_best1,X, y, n_repeats=20, random_state=42, n_jobs=-1)\n",
    "feature_importance = pd.DataFrame({\"feature\": X.columns, \"importance\":map(lambda x: round(x,4),r.importances_mean)}).sort_values(by='importance',ascending=False)\n",
    "feature_importance.loc[feature_importance.importance > 0.0015]"
   ]
  },
  {
   "cell_type": "code",
   "execution_count": 154,
   "metadata": {
    "tags": [
     "outputPrepend"
    ]
   },
   "outputs": [
    {
     "output_type": "stream",
     "name": "stdout",
     "text": "8025423702227 | Features: 310 | Min Error: 0.1188025423702227 | Step: x44_BLQBLQ: 177/363\nSqrt Error: 0.11886428206299922 | Features: 309 | Min Error: 0.1188025423702227 | Step: x44_BLQGLQ: 178/363\nSqrt Error: 0.11878324337558914 | Features: 309 | Min Error: 0.11878324337558914 | Step: x44_BLQLwQ: 179/363\nSqrt Error: 0.11879023166603483 | Features: 308 | Min Error: 0.11878324337558914 | Step: x44_BLQRec: 180/363\nSqrt Error: 0.11881280088394335 | Features: 308 | Min Error: 0.11878324337558914 | Step: x44_BLQUnf: 181/363\nSqrt Error: 0.11878767835780407 | Features: 308 | Min Error: 0.11878324337558914 | Step: x44_GLQALQ: 182/363\nSqrt Error: 0.11877748326610647 | Features: 308 | Min Error: 0.11877748326610647 | Step: x44_GLQBLQ: 183/363\nSqrt Error: 0.11877012228828616 | Features: 307 | Min Error: 0.11877012228828616 | Step: x44_LwQBLQ: 184/363\nSqrt Error: 0.11877084281322728 | Features: 306 | Min Error: 0.11877012228828616 | Step: x44_LwQALQ: 185/363\nSqrt Error: 0.11875537993052976 | Features: 306 | Min Error: 0.11875537993052976 | Step: x44_GLQLwQ: 186/363\nSqrt Error: 0.11875398092952777 | Features: 305 | Min Error: 0.11875398092952777 | Step: x44_GLQNA: 187/363\nSqrt Error: 0.11874937191750477 | Features: 304 | Min Error: 0.11874937191750477 | Step: x42_ConLw: 188/363\nSqrt Error: 0.11877085592610732 | Features: 303 | Min Error: 0.11874937191750477 | Step: x42_ConLI: 189/363\nSqrt Error: 0.11882947004758541 | Features: 303 | Min Error: 0.11874937191750477 | Step: x42_ConLD: 190/363\nSqrt Error: 0.1187552552483363 | Features: 303 | Min Error: 0.11874937191750477 | Step: x39_Ex: 191/363\nSqrt Error: 0.11872009250932793 | Features: 303 | Min Error: 0.11872009250932793 | Step: x36_Fa: 192/363\nSqrt Error: 0.11884469627028368 | Features: 302 | Min Error: 0.11872009250932793 | Step: x36_Gd: 193/363\nSqrt Error: 0.11873512353040425 | Features: 302 | Min Error: 0.11872009250932793 | Step: x36_NA: 194/363\nSqrt Error: 0.11871396179513202 | Features: 302 | Min Error: 0.11871396179513202 | Step: x36_Po: 195/363\nSqrt Error: 0.1186919728766692 | Features: 301 | Min Error: 0.1186919728766692 | Step: x44_GLQRec: 196/363\nSqrt Error: 0.11868730197687741 | Features: 300 | Min Error: 0.11868730197687741 | Step: x37_Ex: 197/363\nSqrt Error: 0.11865567950309441 | Features: 299 | Min Error: 0.11865567950309441 | Step: x37_Fa: 198/363\nSqrt Error: 0.1186557052000528 | Features: 298 | Min Error: 0.11865567950309441 | Step: x37_Gd: 199/363\nSqrt Error: 0.11867136677283863 | Features: 298 | Min Error: 0.11865567950309441 | Step: x37_NA: 200/363\nSqrt Error: 0.11864868106135457 | Features: 298 | Min Error: 0.11864868106135457 | Step: x37_Po: 201/363\nSqrt Error: 0.11920252495647114 | Features: 297 | Min Error: 0.11864868106135457 | Step: x37_TA: 202/363\nSqrt Error: 0.1187502428565459 | Features: 297 | Min Error: 0.11864868106135457 | Step: x38_N: 203/363\nSqrt Error: 0.11868199115384721 | Features: 297 | Min Error: 0.11864868106135457 | Step: x38_P: 204/363\nSqrt Error: 0.11850116295620529 | Features: 297 | Min Error: 0.11850116295620529 | Step: x45_GasAFa: 205/363\nSqrt Error: 0.11849435010012653 | Features: 296 | Min Error: 0.11849435010012653 | Step: x39_Fa: 206/363\nSqrt Error: 0.11849500890040424 | Features: 295 | Min Error: 0.11849435010012653 | Step: x42_Con: 207/363\nSqrt Error: 0.11850274247486936 | Features: 295 | Min Error: 0.11849435010012653 | Step: x39_Gd: 208/363\nSqrt Error: 0.11861981993169711 | Features: 295 | Min Error: 0.11849435010012653 | Step: x39_NA: 209/363\nSqrt Error: 0.11870620574597245 | Features: 295 | Min Error: 0.11849435010012653 | Step: x40_GdPrv: 210/363\nSqrt Error: 0.11864083382422866 | Features: 295 | Min Error: 0.11849435010012653 | Step: x40_GdWo: 211/363\nSqrt Error: 0.11864369107741299 | Features: 295 | Min Error: 0.11849435010012653 | Step: x40_MnPrv: 212/363\nSqrt Error: 0.11850395056571982 | Features: 295 | Min Error: 0.11849435010012653 | Step: x40_MnWw: 213/363\nSqrt Error: 0.11876194228709577 | Features: 295 | Min Error: 0.11849435010012653 | Step: x40_NA: 214/363\nSqrt Error: 0.11849099532676283 | Features: 295 | Min Error: 0.11849099532676283 | Step: x41_Gar2: 215/363\nSqrt Error: 0.11859354964525246 | Features: 294 | Min Error: 0.11849099532676283 | Step: x41_NA: 216/363\nSqrt Error: 0.1184790727301379 | Features: 294 | Min Error: 0.1184790727301379 | Step: x41_Othr: 217/363\nSqrt Error: 0.11851462099741254 | Features: 293 | Min Error: 0.1184790727301379 | Step: x41_Shed: 218/363\nSqrt Error: 0.1184757989630799 | Features: 293 | Min Error: 0.1184757989630799 | Step: x41_TenC: 219/363\nSqrt Error: 0.1184715055162942 | Features: 292 | Min Error: 0.1184715055162942 | Step: x42_COD: 220/363\nSqrt Error: 0.11854575408587188 | Features: 291 | Min Error: 0.1184715055162942 | Step: x42_CWD: 221/363\nSqrt Error: 0.11869607442496848 | Features: 291 | Min Error: 0.1184715055162942 | Step: x26_BLQ: 222/363\nSqrt Error: 0.11877597830826181 | Features: 291 | Min Error: 0.1184715055162942 | Step: x18_BrkCmn: 223/363\nSqrt Error: 0.11837817081345704 | Features: 291 | Min Error: 0.11837817081345704 | Step: x25_Unf: 224/363\nSqrt Error: 0.11837871478190698 | Features: 290 | Min Error: 0.11837817081345704 | Step: x9_NPkVill: 225/363\nSqrt Error: 0.11863110483282674 | Features: 290 | Min Error: 0.11837817081345704 | Step: x9_SawyerW: 226/363\nSqrt Error: 0.11868874516374076 | Features: 290 | Min Error: 0.11837817081345704 | Step: x9_Sawyer: 227/363\nSqrt Error: 0.11887803661367458 | Features: 290 | Min Error: 0.11837817081345704 | Step: x9_SWISU: 228/363\nSqrt Error: 0.11925087520903918 | Features: 290 | Min Error: 0.11837817081345704 | Step: x9_OldTown: 229/363\nSqrt Error: 0.11940588238004936 | Features: 290 | Min Error: 0.11837817081345704 | Step: x9_NoRidge: 230/363\nSqrt Error: 0.1186697082816105 | Features: 290 | Min Error: 0.11837817081345704 | Step: x9_NWAmes: 231/363\nSqrt Error: 0.11965314786468796 | Features: 290 | Min Error: 0.11837817081345704 | Step: x9_Mitchel: 232/363\nSqrt Error: 0.11832290170926703 | Features: 290 | Min Error: 0.11832290170926703 | Step: x10_PosA: 233/363\nSqrt Error: 0.11845679563012673 | Features: 289 | Min Error: 0.11832290170926703 | Step: x9_MeadowV: 234/363\nSqrt Error: 0.1184754328295241 | Features: 289 | Min Error: 0.11832290170926703 | Step: x9_IDOTRR: 235/363\nSqrt Error: 0.11832628624689656 | Features: 289 | Min Error: 0.11832290170926703 | Step: x9_Gilbert: 236/363\nSqrt Error: 0.11888692333243495 | Features: 289 | Min Error: 0.11832290170926703 | Step: x9_CollgCr: 237/363\nSqrt Error: 0.11832009037343057 | Features: 289 | Min Error: 0.11832009037343057 | Step: x9_BrDale: 238/363\nSqrt Error: 0.11831396363746079 | Features: 288 | Min Error: 0.11831396363746079 | Step: x9_Blueste: 239/363\nSqrt Error: 0.11828799287490677 | Features: 287 | Min Error: 0.11828799287490677 | Step: x9_Veenker: 240/363\nSqrt Error: 0.11825892620373163 | Features: 286 | Min Error: 0.11825892620373163 | Step: x10_RRAn: 241/363\nSqrt Error: 0.11846527635091947 | Features: 285 | Min Error: 0.11825892620373163 | Step: x25_Rec: 242/363\nSqrt Error: 0.1182561442214122 | Features: 285 | Min Error: 0.1182561442214122 | Step: x11_RRAn: 243/363\nSqrt Error: 0.11825305314807062 | Features: 284 | Min Error: 0.11825305314807062 | Step: x13_1.5Fin: 244/363\nSqrt Error: 0.1182370235074044 | Features: 283 | Min Error: 0.1182370235074044 | Step: x12_TwnhsE: 245/363\nSqrt Error: 0.11818130689223472 | Features: 282 | Min Error: 0.11818130689223472 | Step: x12_Twnhs: 246/363\nSqrt Error: 0.11817557723315046 | Features: 281 | Min Error: 0.11817557723315046 | Step: x12_Duplex: 247/363\nSqrt Error: 0.11813352516210335 | Features: 280 | Min Error: 0.11813352516210335 | Step: x12_2fmCon: 248/363\nSqrt Error: 0.11812526940355443 | Features: 279 | Min Error: 0.11812526940355443 | Step: x11_RRNn: 249/363\nSqrt Error: 0.11812168244326467 | Features: 278 | Min Error: 0.11812168244326467 | Step: x11_RRAe: 250/363\nSqrt Error: 0.11811140412309822 | Features: 277 | Min Error: 0.11811140412309822 | Step: x10_RRNe: 251/363\nSqrt Error: 0.11811090324395307 | Features: 276 | Min Error: 0.11811090324395307 | Step: x11_PosN: 252/363\nSqrt Error: 0.11810886605475888 | Features: 275 | Min Error: 0.11810886605475888 | Step: x11_PosA: 253/363\nSqrt Error: 0.11828804295669867 | Features: 274 | Min Error: 0.11810886605475888 | Step: x11_Norm: 254/363\nSqrt Error: 0.11807316505902064 | Features: 274 | Min Error: 0.11807316505902064 | Step: x11_Feedr: 255/363\nSqrt Error: 0.11807898282992947 | Features: 273 | Min Error: 0.11807316505902064 | Step: x11_Artery: 256/363\nSqrt Error: 0.11808341208394675 | Features: 273 | Min Error: 0.11807316505902064 | Step: x10_RRNn: 257/363\nSqrt Error: 0.11819034582247849 | Features: 273 | Min Error: 0.11807316505902064 | Step: x9_Blmngtn: 258/363\nSqrt Error: 0.11798669314631012 | Features: 273 | Min Error: 0.11798669314631012 | Step: x8_Sev: 259/363\nSqrt Error: 0.11807177886816674 | Features: 272 | Min Error: 0.11798669314631012 | Step: x8_Mod: 260/363\nSqrt Error: 0.11797056010179081 | Features: 272 | Min Error: 0.11797056010179081 | Step: x0_40: 261/363\nSqrt Error: 0.11843094347665584 | Features: 271 | Min Error: 0.11797056010179081 | Step: x0_90: 262/363\nSqrt Error: 0.11795316419681252 | Features: 271 | Min Error: 0.11795316419681252 | Step: x0_85: 263/363\nSqrt Error: 0.11810014220961602 | Features: 270 | Min Error: 0.11795316419681252 | Step: x0_80: 264/363\nSqrt Error: 0.11800958608545326 | Features: 270 | Min Error: 0.11795316419681252 | Step: x0_75: 265/363\nSqrt Error: 0.11838953516168062 | Features: 270 | Min Error: 0.11795316419681252 | Step: x0_60: 266/363\nSqrt Error: 0.11792311279397057 | Features: 270 | Min Error: 0.11792311279397057 | Step: x0_45: 267/363\nSqrt Error: 0.1182575025341772 | Features: 269 | Min Error: 0.11792311279397057 | Step: x0_20: 268/363\nSqrt Error: 0.11806228593698606 | Features: 269 | Min Error: 0.11792311279397057 | Step: x8_Gtl: 269/363\nSqrt Error: 0.11857339283994145 | Features: 269 | Min Error: 0.11792311279397057 | Step: ExterQualExterCond: 270/363\nSqrt Error: 0.11914869069227575 | Features: 269 | Min Error: 0.11792311279397057 | Step: OpenPorchSFNorm: 271/363\nSqrt Error: 0.11797100316663936 | Features: 269 | Min Error: 0.11792311279397057 | Step: FireplacesNorm: 272/363\nSqrt Error: 0.1183982771145686 | Features: 269 | Min Error: 0.11792311279397057 | Step: LotAreaNorm: 273/363\nSqrt Error: 0.11835000802618388 | Features: 269 | Min Error: 0.11792311279397057 | Step: MiscVal: 274/363\nSqrt Error: 0.11804873392433637 | Features: 269 | Min Error: 0.11792311279397057 | Step: LowQualFinSF: 275/363\nSqrt Error: 0.11790552780637505 | Features: 269 | Min Error: 0.11790552780637505 | Step: x0_120: 276/363\nSqrt Error: 0.11790322122287321 | Features: 268 | Min Error: 0.11790322122287321 | Step: x0_150: 277/363\nSqrt Error: 0.11783356827366931 | Features: 267 | Min Error: 0.11783356827366931 | Step: x0_160: 278/363\nSqrt Error: 0.11782436556463197 | Features: 266 | Min Error: 0.11782436556463197 | Step: x0_180: 279/363\nSqrt Error: 0.11813616131256954 | Features: 265 | Min Error: 0.11782436556463197 | Step: x0_190: 280/363\nSqrt Error: 0.118038805384231 | Features: 265 | Min Error: 0.11782436556463197 | Step: x1_RH: 281/363\nSqrt Error: 0.11779526744193293 | Features: 265 | Min Error: 0.11779526744193293 | Step: x2_Grvl: 282/363\nSqrt Error: 0.11801261509828775 | Features: 264 | Min Error: 0.11779526744193293 | Step: x2_Pave: 283/363\nSqrt Error: 0.1178104550587902 | Features: 264 | Min Error: 0.11779526744193293 | Step: x3_Grvl: 284/363\nSqrt Error: 0.11827368764986303 | Features: 264 | Min Error: 0.11779526744193293 | Step: x3_NA: 285/363\nSqrt Error: 0.11838709415128282 | Features: 264 | Min Error: 0.11779526744193293 | Step: x4_IR2: 286/363\nSqrt Error: 0.11814865018757204 | Features: 264 | Min Error: 0.11779526744193293 | Step: x4_IR3: 287/363\nSqrt Error: 0.11893964038060921 | Features: 264 | Min Error: 0.11779526744193293 | Step: x5_Bnk: 288/363\nSqrt Error: 0.1181274378908978 | Features: 264 | Min Error: 0.11779526744193293 | Step: x5_Low: 289/363\nSqrt Error: 0.11790412324464956 | Features: 264 | Min Error: 0.11779526744193293 | Step: x6_AllPub: 290/363\nSqrt Error: 0.11779746179873328 | Features: 264 | Min Error: 0.11779526744193293 | Step: x6_NoSeWa: 291/363\nSqrt Error: 0.11785531969531213 | Features: 264 | Min Error: 0.11779526744193293 | Step: x7_FR3: 292/363\nSqrt Error: 0.11797521510070592 | Features: 264 | Min Error: 0.11779526744193293 | Step: x13_1.5Unf: 293/363\nSqrt Error: 0.11787670625046477 | Features: 264 | Min Error: 0.11779526744193293 | Step: x13_1Story: 294/363\nSqrt Error: 0.11781062183581834 | Features: 264 | Min Error: 0.11779526744193293 | Step: x13_2.5Fin: 295/363\nSqrt Error: 0.11782089053892468 | Features: 264 | Min Error: 0.11779526744193293 | Step: x19_Fa: 296/363\nSqrt Error: 0.11805965038520694 | Features: 264 | Min Error: 0.11779526744193293 | Step: x21_BrkTil: 297/363\nSqrt Error: 0.1179327016293631 | Features: 264 | Min Error: 0.11779526744193293 | Step: x20_TA: 298/363\nSqrt Error: 0.11779113453288119 | Features: 264 | Min Error: 0.11779113453288119 | Step: x20_Po: 299/363\nSqrt Error: 0.11768266409199302 | Features: 263 | Min Error: 0.11768266409199302 | Step: x20_Gd: 300/363\nSqrt Error: 0.11802574679205 | Features: 262 | Min Error: 0.11768266409199302 | Step: x20_Fa: 301/363\nSqrt Error: 0.11770550037540937 | Features: 262 | Min Error: 0.11768266409199302 | Step: x20_Ex: 302/363\nSqrt Error: 0.11806853303952831 | Features: 262 | Min Error: 0.11768266409199302 | Step: x19_Ex: 303/363\nSqrt Error: 0.1176846217080426 | Features: 262 | Min Error: 0.11768266409199302 | Step: x17_Other: 304/363\nSqrt Error: 0.11772115679467525 | Features: 262 | Min Error: 0.11768266409199302 | Step: x18_None: 305/363\nSqrt Error: 0.11765629898852643 | Features: 262 | Min Error: 0.11765629898852643 | Step: x17_WdShing: 306/363\nSqrt Error: 0.11772486298236205 | Features: 261 | Min Error: 0.11765629898852643 | Step: x17_Wd Sdng: 307/363\nSqrt Error: 0.1176150817041548 | Features: 261 | Min Error: 0.1176150817041548 | Step: x17_VinylSd: 308/363\nSqrt Error: 0.11769327640689824 | Features: 260 | Min Error: 0.1176150817041548 | Step: x17_Stucco: 309/363\nSqrt Error: 0.11762018149432134 | Features: 260 | Min Error: 0.1176150817041548 | Step: x17_Stone: 310/363\nSqrt Error: 0.11812472788483948 | Features: 260 | Min Error: 0.1176150817041548 | Step: x21_CBlock: 311/363\nSqrt Error: 0.11790172250844773 | Features: 260 | Min Error: 0.1176150817041548 | Step: x21_PConc: 312/363\nSqrt Error: 0.11760327936927628 | Features: 260 | Min Error: 0.11760327936927628 | Step: x21_Slab: 313/363\nSqrt Error: 0.1176270951389171 | Features: 259 | Min Error: 0.11760327936927628 | Step: x21_Stone: 314/363\nSqrt Error: 0.11763419367530853 | Features: 259 | Min Error: 0.11760327936927628 | Step: x21_Wood: 315/363\nSqrt Error: 0.11766243352959295 | Features: 259 | Min Error: 0.11760327936927628 | Step: x22_Fa: 316/363\nSqrt Error: 0.11759724212982499 | Features: 259 | Min Error: 0.11759724212982499 | Step: x22_NA: 317/363\nSqrt Error: 0.11783460486588833 | Features: 258 | Min Error: 0.11759724212982499 | Step: x23_Fa: 318/363\nSqrt Error: 0.11764160920299117 | Features: 258 | Min Error: 0.11759724212982499 | Step: x23_Gd: 319/363\nSqrt Error: 0.11759015422512101 | Features: 258 | Min Error: 0.11759015422512101 | Step: x23_NA: 320/363\nSqrt Error: 0.11757377817239589 | Features: 257 | Min Error: 0.11757377817239589 | Step: x23_Po: 321/363\nSqrt Error: 0.11770564366339976 | Features: 256 | Min Error: 0.11757377817239589 | Step: x24_Mn: 322/363\nSqrt Error: 0.117567020687731 | Features: 256 | Min Error: 0.117567020687731 | Step: x24_NA: 323/363\nSqrt Error: 0.11859307167057304 | Features: 255 | Min Error: 0.117567020687731 | Step: x25_ALQ: 324/363\nSqrt Error: 0.11764210145575642 | Features: 255 | Min Error: 0.117567020687731 | Step: x25_BLQ: 325/363\nSqrt Error: 0.11790872631883169 | Features: 255 | Min Error: 0.117567020687731 | Step: x25_LwQ: 326/363\nSqrt Error: 0.11753933268165129 | Features: 255 | Min Error: 0.11753933268165129 | Step: x25_NA: 327/363\nSqrt Error: 0.11762415757024705 | Features: 254 | Min Error: 0.11753933268165129 | Step: x17_Plywood: 328/363\nSqrt Error: 0.11753005355882284 | Features: 254 | Min Error: 0.11753005355882284 | Step: x17_ImStucc: 329/363\nSqrt Error: 0.11752808835359142 | Features: 253 | Min Error: 0.11752808835359142 | Step: x13_2.5Unf: 330/363\nSqrt Error: 0.11752658952902194 | Features: 252 | Min Error: 0.11752658952902194 | Step: x15_ClyTile: 331/363\nSqrt Error: 0.11754198671953953 | Features: 251 | Min Error: 0.11752658952902194 | Step: x15_WdShake: 332/363\nSqrt Error: 0.11761635978645643 | Features: 251 | Min Error: 0.11752658952902194 | Step: x15_Tar&Grv: 333/363\nSqrt Error: 0.11752817253348116 | Features: 251 | Min Error: 0.11752658952902194 | Step: x15_Roll: 334/363\nSqrt Error: 0.1175357090315837 | Features: 251 | Min Error: 0.11752658952902194 | Step: x15_Metal: 335/363\nSqrt Error: 0.1175234358443727 | Features: 251 | Min Error: 0.1175234358443727 | Step: x15_Membran: 336/363\nSqrt Error: 0.11808591117161871 | Features: 250 | Min Error: 0.1175234358443727 | Step: x15_CompShg: 337/363\nSqrt Error: 0.11752971036830492 | Features: 250 | Min Error: 0.1175234358443727 | Step: x14_Shed: 338/363\nSqrt Error: 0.11773762902164417 | Features: 250 | Min Error: 0.1175234358443727 | Step: x17_HdBoard: 339/363\nSqrt Error: 0.11761969439189528 | Features: 250 | Min Error: 0.1175234358443727 | Step: x14_Mansard: 340/363\nSqrt Error: 0.11754003233468219 | Features: 250 | Min Error: 0.1175234358443727 | Step: x14_Hip: 341/363\nSqrt Error: 0.11751836302277448 | Features: 250 | Min Error: 0.11751836302277448 | Step: x14_Gambrel: 342/363\nSqrt Error: 0.11751235931924521 | Features: 249 | Min Error: 0.11751235931924521 | Step: x14_Flat: 343/363\nSqrt Error: 0.11756065896533285 | Features: 248 | Min Error: 0.11751235931924521 | Step: x13_SFoyer: 344/363\nSqrt Error: 0.11756481453383454 | Features: 248 | Min Error: 0.11751235931924521 | Step: x13_2Story: 345/363\nSqrt Error: 0.11762328026805707 | Features: 248 | Min Error: 0.11751235931924521 | Step: x15_WdShngl: 346/363\nSqrt Error: 0.11753021168526684 | Features: 248 | Min Error: 0.11751235931924521 | Step: x16_AsphShn: 347/363\nSqrt Error: 0.11747214916999668 | Features: 248 | Min Error: 0.11747214916999668 | Step: x16_BrkComm: 348/363\nSqrt Error: 0.11747037320389928 | Features: 247 | Min Error: 0.11747037320389928 | Step: x16_CBlock: 349/363\nSqrt Error: 0.11802224014153109 | Features: 246 | Min Error: 0.11747037320389928 | Step: x16_CemntBd: 350/363\nSqrt Error: 0.11747186186710229 | Features: 246 | Min Error: 0.11747037320389928 | Step: x16_ImStucc: 351/363\nSqrt Error: 0.11761904575343822 | Features: 246 | Min Error: 0.11747037320389928 | Step: x16_Plywood: 352/363\nSqrt Error: 0.11748169580436112 | Features: 246 | Min Error: 0.11747037320389928 | Step: x16_Stone: 353/363\nSqrt Error: 0.11751213497823074 | Features: 246 | Min Error: 0.11747037320389928 | Step: x16_Stucco: 354/363\nSqrt Error: 0.118110048297362 | Features: 246 | Min Error: 0.11747037320389928 | Step: x16_VinylSd: 355/363\nSqrt Error: 0.11803293200809044 | Features: 246 | Min Error: 0.11747037320389928 | Step: x16_Wd Sdng: 356/363\nSqrt Error: 0.11740682171063532 | Features: 246 | Min Error: 0.11740682171063532 | Step: x16_WdShing: 357/363\nSqrt Error: 0.11773702147691827 | Features: 245 | Min Error: 0.11740682171063532 | Step: x17_AsbShng: 358/363\nSqrt Error: 0.1174204229029179 | Features: 245 | Min Error: 0.11740682171063532 | Step: x17_AsphShn: 359/363\nSqrt Error: 0.11734133747145978 | Features: 245 | Min Error: 0.11734133747145978 | Step: x17_BrkComm: 360/363\nSqrt Error: 0.1173764365669185 | Features: 244 | Min Error: 0.11734133747145978 | Step: x17_BrkFace: 361/363\nSqrt Error: 0.11733853312077566 | Features: 244 | Min Error: 0.11733853312077566 | Step: x17_CBlock: 362/363\nSqrt Error: 0.11734074877454473 | Features: 243 | Min Error: 0.11733853312077566 | Step: x45_WallTA: 363/363\n"
    }
   ],
   "source": [
    "final_clf = VotingRegressor([('clf1',clf_best1),('clf2',clf_best2)])\n",
    "finals = X.columns.values\n",
    "X_train_finals = X[finals]\n",
    "error = -1 * cross_val_score(final_clf,X_train_finals.values,y,scoring='neg_mean_squared_log_error', cv=6).mean()\n",
    "min_error = error    \n",
    "removed = []\n",
    "finals_temp = []\n",
    "i = 0\n",
    "for f in feature_importance['feature']:\n",
    "    removed.append(f)\n",
    "    X_train_finals = X.drop(removed,axis=1)\n",
    "    error = -1 * cross_val_score(final_clf,X_train_finals.values,y,scoring='neg_mean_squared_log_error', cv=6).mean()\n",
    "    if min_error > error:\n",
    "        min_error = error\n",
    "    else:        \n",
    "        removed.remove(f) \n",
    "    print(\"Sqrt Error: {} | Features: {} | Min Error: {} | Step: {}: {}/{}\".format(math.sqrt(error),X_train_finals.shape[1],math.sqrt(min_error),f,i+1,X.shape[1]))  \n",
    "    i += 1   \n"
   ]
  },
  {
   "cell_type": "code",
   "execution_count": 156,
   "metadata": {
    "tags": []
   },
   "outputs": [],
   "source": [
    "X_final = X.drop(removed,axis=1)\n",
    "final_clf.fit(X_final,y)\n",
    "y_pred = final_clf.predict(test_prepared.drop(removed,axis=1))\n",
    "data_test['SalePrice'] = y_pred\n",
    "data_test[['Id','SalePrice']].to_csv('result4.csv',index=False)"
   ]
  },
  {
   "cell_type": "code",
   "execution_count": 108,
   "metadata": {
    "tags": []
   },
   "outputs": [
    {
     "output_type": "execute_result",
     "data": {
      "text/plain": "['TotalBaths',\n 'x16_MetalSd',\n 'x0_70',\n 'x19_Fa',\n 'x4_IR1',\n 'x32_Maj2',\n 'x32_Min1',\n 'x26_Rec',\n 'x43_Alloca',\n 'x44_BLQGLQ',\n 'x10_RRAn',\n 'x0_75',\n 'x12_TwnhsE',\n 'x13_1Story',\n 'x17_Stucco',\n 'x17_WdShing',\n 'x21_BrkTil',\n 'x22_Fa',\n 'x24_Mn',\n 'x16_WdShing']"
     },
     "metadata": {},
     "execution_count": 108
    }
   ],
   "source": [
    "removed\n",
    "# # test_prepared[['x0_20','x0_60','x0_120']].head(20)\n",
    "# # data_test.head(20)\n",
    "# finals2 = feature_importance.iloc[:,0].unique()\n",
    "# print(math.sqrt(-1*cross_val_score(clf,X[finals2],y,cv=8,n_jobs=-1,scoring='neg_mean_squared_log_error').mean()))\n",
    "# clf.fit(X[finals2],y)\n",
    "# y_pred = clf.predict(test_prepared[finals2])\n",
    "# data_test['SalePrice'] = y_pred\n",
    "# data_test[['Id','SalePrice']].to_csv('result4.csv',index=False)"
   ]
  },
  {
   "cell_type": "code",
   "execution_count": 114,
   "metadata": {
    "tags": []
   },
   "outputs": [
    {
     "output_type": "stream",
     "name": "stdout",
     "text": "Order        PID  MS SubClass MS Zoning  Lot Frontage  Lot Area Street  \\\n0      1  526301100           20        RL         141.0     31770   Pave   \n\n  Alley Lot Shape Land Contour  ... Pool Area Pool QC Fence Misc Feature  \\\n0   NaN       IR1          Lvl  ...         0     NaN   NaN          NaN   \n\n  Misc Val Mo Sold Yr Sold Sale Type  Sale Condition  SalePrice  \n0        0       5    2010       WD           Normal     215000  \n\n[1 rows x 82 columns]\n      Id  MSSubClass MSZoning  LotFrontage  LotArea Street Alley LotShape  \\\n171  172          20       RL        141.0    31770   Pave   NaN      IR1   \n\n    LandContour Utilities  ... PoolArea PoolQC Fence MiscFeature MiscVal  \\\n171         Lvl    AllPub  ...        0    NaN   NaN         NaN       0   \n\n    MoSold YrSold  SaleType  SaleCondition  SalePrice  \n171      5   2010        WD         Normal     215000  \n\n[1 rows x 81 columns]\n"
    }
   ],
   "source": []
  }
 ]
}