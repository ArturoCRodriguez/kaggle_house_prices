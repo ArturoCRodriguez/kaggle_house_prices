{
 "metadata": {
  "language_info": {
   "codemirror_mode": {
    "name": "ipython",
    "version": 3
   },
   "file_extension": ".py",
   "mimetype": "text/x-python",
   "name": "python",
   "nbconvert_exporter": "python",
   "pygments_lexer": "ipython3",
   "version": 3
  },
  "orig_nbformat": 2,
  "kernelspec": {
   "name": "python_defaultSpec_1595615557597",
   "display_name": "Python 3.7.7 64-bit ('tf': conda)"
  }
 },
 "nbformat": 4,
 "nbformat_minor": 2,
 "cells": [
  {
   "cell_type": "code",
   "execution_count": 6,
   "metadata": {},
   "outputs": [],
   "source": [
    "%matplotlib inline\n",
    "import pandas as pd\n",
    "import numpy as np\n",
    "import seaborn as sns\n",
    "import matplotlib.pyplot as plt\n",
    "from sklearn.preprocessing import OneHotEncoder, RobustScaler, OrdinalEncoder, MinMaxScaler\n",
    "from sklearn.experimental import enable_iterative_imputer\n",
    "from sklearn.impute import KNNImputer, IterativeImputer\n",
    "from sklearn.pipeline import Pipeline\n",
    "from sklearn.compose import ColumnTransformer\n",
    "from sklearn.model_selection import train_test_split, cross_val_score\n",
    "from sklearn.metrics import mean_squared_error, mean_squared_log_error\n",
    "from sklearn.model_selection import GridSearchCV\n",
    "from xgboost import XGBRegressor\n",
    "from lightgbm import LGBMRegressor\n",
    "from sklearn.neural_network import MLPRegressor\n",
    "from sklearn.svm import SVR\n",
    "from sklearn.inspection import permutation_importance\n",
    "import math"
   ]
  },
  {
   "cell_type": "code",
   "execution_count": 5,
   "metadata": {},
   "outputs": [
    {
     "output_type": "execute_result",
     "data": {
      "text/plain": "                Id   MSSubClass  LotFrontage        LotArea  OverallQual  \\\ncount  2919.000000  2919.000000  2433.000000    2919.000000  2919.000000   \nmean   1460.000000    57.137718    69.305795   10168.114080     6.089072   \nstd     842.787043    42.517628    23.344905    7886.996359     1.409947   \nmin       1.000000    20.000000    21.000000    1300.000000     1.000000   \n25%     730.500000    20.000000    59.000000    7478.000000     5.000000   \n50%    1460.000000    50.000000    68.000000    9453.000000     6.000000   \n75%    2189.500000    70.000000    80.000000   11570.000000     7.000000   \nmax    2919.000000   190.000000   313.000000  215245.000000    10.000000   \n\n       OverallCond    YearBuilt  YearRemodAdd   MasVnrArea   BsmtFinSF1  ...  \\\ncount  2919.000000  2919.000000   2919.000000  2896.000000  2918.000000  ...   \nmean      5.564577  1971.312778   1984.264474   102.201312   441.423235  ...   \nstd       1.113131    30.291442     20.894344   179.334253   455.610826  ...   \nmin       1.000000  1872.000000   1950.000000     0.000000     0.000000  ...   \n25%       5.000000  1953.500000   1965.000000     0.000000     0.000000  ...   \n50%       5.000000  1973.000000   1993.000000     0.000000   368.500000  ...   \n75%       6.000000  2001.000000   2004.000000   164.000000   733.000000  ...   \nmax       9.000000  2010.000000   2010.000000  1600.000000  5644.000000  ...   \n\n        WoodDeckSF  OpenPorchSF  EnclosedPorch    3SsnPorch  ScreenPorch  \\\ncount  2919.000000  2919.000000    2919.000000  2919.000000  2919.000000   \nmean     93.709832    47.486811      23.098321     2.602261    16.062350   \nstd     126.526589    67.575493      64.244246    25.188169    56.184365   \nmin       0.000000     0.000000       0.000000     0.000000     0.000000   \n25%       0.000000     0.000000       0.000000     0.000000     0.000000   \n50%       0.000000    26.000000       0.000000     0.000000     0.000000   \n75%     168.000000    70.000000       0.000000     0.000000     0.000000   \nmax    1424.000000   742.000000    1012.000000   508.000000   576.000000   \n\n          PoolArea       MiscVal       MoSold       YrSold      SalePrice  \ncount  2919.000000   2919.000000  2919.000000  2919.000000    2919.000000  \nmean      2.251799     50.825968     6.213087  2007.792737   90491.088386  \nstd      35.663946    567.402211     2.714762     1.314964  106496.804191  \nmin       0.000000      0.000000     1.000000  2006.000000      -1.000000  \n25%       0.000000      0.000000     4.000000  2007.000000      -1.000000  \n50%       0.000000      0.000000     6.000000  2008.000000   34900.000000  \n75%       0.000000      0.000000     8.000000  2009.000000  163000.000000  \nmax     800.000000  17000.000000    12.000000  2010.000000  755000.000000  \n\n[8 rows x 38 columns]",
      "text/html": "<div>\n<style scoped>\n    .dataframe tbody tr th:only-of-type {\n        vertical-align: middle;\n    }\n\n    .dataframe tbody tr th {\n        vertical-align: top;\n    }\n\n    .dataframe thead th {\n        text-align: right;\n    }\n</style>\n<table border=\"1\" class=\"dataframe\">\n  <thead>\n    <tr style=\"text-align: right;\">\n      <th></th>\n      <th>Id</th>\n      <th>MSSubClass</th>\n      <th>LotFrontage</th>\n      <th>LotArea</th>\n      <th>OverallQual</th>\n      <th>OverallCond</th>\n      <th>YearBuilt</th>\n      <th>YearRemodAdd</th>\n      <th>MasVnrArea</th>\n      <th>BsmtFinSF1</th>\n      <th>...</th>\n      <th>WoodDeckSF</th>\n      <th>OpenPorchSF</th>\n      <th>EnclosedPorch</th>\n      <th>3SsnPorch</th>\n      <th>ScreenPorch</th>\n      <th>PoolArea</th>\n      <th>MiscVal</th>\n      <th>MoSold</th>\n      <th>YrSold</th>\n      <th>SalePrice</th>\n    </tr>\n  </thead>\n  <tbody>\n    <tr>\n      <th>count</th>\n      <td>2919.000000</td>\n      <td>2919.000000</td>\n      <td>2433.000000</td>\n      <td>2919.000000</td>\n      <td>2919.000000</td>\n      <td>2919.000000</td>\n      <td>2919.000000</td>\n      <td>2919.000000</td>\n      <td>2896.000000</td>\n      <td>2918.000000</td>\n      <td>...</td>\n      <td>2919.000000</td>\n      <td>2919.000000</td>\n      <td>2919.000000</td>\n      <td>2919.000000</td>\n      <td>2919.000000</td>\n      <td>2919.000000</td>\n      <td>2919.000000</td>\n      <td>2919.000000</td>\n      <td>2919.000000</td>\n      <td>2919.000000</td>\n    </tr>\n    <tr>\n      <th>mean</th>\n      <td>1460.000000</td>\n      <td>57.137718</td>\n      <td>69.305795</td>\n      <td>10168.114080</td>\n      <td>6.089072</td>\n      <td>5.564577</td>\n      <td>1971.312778</td>\n      <td>1984.264474</td>\n      <td>102.201312</td>\n      <td>441.423235</td>\n      <td>...</td>\n      <td>93.709832</td>\n      <td>47.486811</td>\n      <td>23.098321</td>\n      <td>2.602261</td>\n      <td>16.062350</td>\n      <td>2.251799</td>\n      <td>50.825968</td>\n      <td>6.213087</td>\n      <td>2007.792737</td>\n      <td>90491.088386</td>\n    </tr>\n    <tr>\n      <th>std</th>\n      <td>842.787043</td>\n      <td>42.517628</td>\n      <td>23.344905</td>\n      <td>7886.996359</td>\n      <td>1.409947</td>\n      <td>1.113131</td>\n      <td>30.291442</td>\n      <td>20.894344</td>\n      <td>179.334253</td>\n      <td>455.610826</td>\n      <td>...</td>\n      <td>126.526589</td>\n      <td>67.575493</td>\n      <td>64.244246</td>\n      <td>25.188169</td>\n      <td>56.184365</td>\n      <td>35.663946</td>\n      <td>567.402211</td>\n      <td>2.714762</td>\n      <td>1.314964</td>\n      <td>106496.804191</td>\n    </tr>\n    <tr>\n      <th>min</th>\n      <td>1.000000</td>\n      <td>20.000000</td>\n      <td>21.000000</td>\n      <td>1300.000000</td>\n      <td>1.000000</td>\n      <td>1.000000</td>\n      <td>1872.000000</td>\n      <td>1950.000000</td>\n      <td>0.000000</td>\n      <td>0.000000</td>\n      <td>...</td>\n      <td>0.000000</td>\n      <td>0.000000</td>\n      <td>0.000000</td>\n      <td>0.000000</td>\n      <td>0.000000</td>\n      <td>0.000000</td>\n      <td>0.000000</td>\n      <td>1.000000</td>\n      <td>2006.000000</td>\n      <td>-1.000000</td>\n    </tr>\n    <tr>\n      <th>25%</th>\n      <td>730.500000</td>\n      <td>20.000000</td>\n      <td>59.000000</td>\n      <td>7478.000000</td>\n      <td>5.000000</td>\n      <td>5.000000</td>\n      <td>1953.500000</td>\n      <td>1965.000000</td>\n      <td>0.000000</td>\n      <td>0.000000</td>\n      <td>...</td>\n      <td>0.000000</td>\n      <td>0.000000</td>\n      <td>0.000000</td>\n      <td>0.000000</td>\n      <td>0.000000</td>\n      <td>0.000000</td>\n      <td>0.000000</td>\n      <td>4.000000</td>\n      <td>2007.000000</td>\n      <td>-1.000000</td>\n    </tr>\n    <tr>\n      <th>50%</th>\n      <td>1460.000000</td>\n      <td>50.000000</td>\n      <td>68.000000</td>\n      <td>9453.000000</td>\n      <td>6.000000</td>\n      <td>5.000000</td>\n      <td>1973.000000</td>\n      <td>1993.000000</td>\n      <td>0.000000</td>\n      <td>368.500000</td>\n      <td>...</td>\n      <td>0.000000</td>\n      <td>26.000000</td>\n      <td>0.000000</td>\n      <td>0.000000</td>\n      <td>0.000000</td>\n      <td>0.000000</td>\n      <td>0.000000</td>\n      <td>6.000000</td>\n      <td>2008.000000</td>\n      <td>34900.000000</td>\n    </tr>\n    <tr>\n      <th>75%</th>\n      <td>2189.500000</td>\n      <td>70.000000</td>\n      <td>80.000000</td>\n      <td>11570.000000</td>\n      <td>7.000000</td>\n      <td>6.000000</td>\n      <td>2001.000000</td>\n      <td>2004.000000</td>\n      <td>164.000000</td>\n      <td>733.000000</td>\n      <td>...</td>\n      <td>168.000000</td>\n      <td>70.000000</td>\n      <td>0.000000</td>\n      <td>0.000000</td>\n      <td>0.000000</td>\n      <td>0.000000</td>\n      <td>0.000000</td>\n      <td>8.000000</td>\n      <td>2009.000000</td>\n      <td>163000.000000</td>\n    </tr>\n    <tr>\n      <th>max</th>\n      <td>2919.000000</td>\n      <td>190.000000</td>\n      <td>313.000000</td>\n      <td>215245.000000</td>\n      <td>10.000000</td>\n      <td>9.000000</td>\n      <td>2010.000000</td>\n      <td>2010.000000</td>\n      <td>1600.000000</td>\n      <td>5644.000000</td>\n      <td>...</td>\n      <td>1424.000000</td>\n      <td>742.000000</td>\n      <td>1012.000000</td>\n      <td>508.000000</td>\n      <td>576.000000</td>\n      <td>800.000000</td>\n      <td>17000.000000</td>\n      <td>12.000000</td>\n      <td>2010.000000</td>\n      <td>755000.000000</td>\n    </tr>\n  </tbody>\n</table>\n<p>8 rows × 38 columns</p>\n</div>"
     },
     "metadata": {},
     "execution_count": 5
    }
   ],
   "source": [
    "data_train = pd.read_csv('train.csv')\n",
    "data_test = pd.read_csv('test.csv')\n",
    "data_test['SalePrice'] = -1\n",
    "all_data = pd.concat([data_train,data_test])\n",
    "all_data.describe()"
   ]
  },
  {
   "cell_type": "code",
   "execution_count": null,
   "metadata": {},
   "outputs": [],
   "source": [
    "# Cleaning\n"
   ]
  }
 ]
}