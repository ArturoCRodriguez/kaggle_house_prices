{
 "metadata": {
  "language_info": {
   "codemirror_mode": {
    "name": "ipython",
    "version": 3
   },
   "file_extension": ".py",
   "mimetype": "text/x-python",
   "name": "python",
   "nbconvert_exporter": "python",
   "pygments_lexer": "ipython3",
   "version": 3
  },
  "orig_nbformat": 2,
  "kernelspec": {
   "name": "python_defaultSpec_1595615557597",
   "display_name": "Python 3.7.7 64-bit ('tf': conda)"
  }
 },
 "nbformat": 4,
 "nbformat_minor": 2,
 "cells": [
  {
   "cell_type": "code",
   "execution_count": 576,
   "metadata": {},
   "outputs": [],
   "source": [
    "%matplotlib inline\n",
    "import pandas as pd\n",
    "import numpy as np\n",
    "import seaborn as sns\n",
    "import matplotlib.pyplot as plt\n",
    "from sklearn.preprocessing import OneHotEncoder, RobustScaler, OrdinalEncoder, MinMaxScaler\n",
    "from sklearn.experimental import enable_iterative_imputer\n",
    "from sklearn.impute import KNNImputer, IterativeImputer\n",
    "from sklearn.pipeline import Pipeline\n",
    "from sklearn.compose import ColumnTransformer\n",
    "from sklearn.model_selection import train_test_split, cross_val_score\n",
    "from sklearn.metrics import mean_squared_error, mean_squared_log_error\n",
    "from sklearn.model_selection import GridSearchCV\n",
    "from xgboost import XGBRegressor\n",
    "from lightgbm import LGBMRegressor\n",
    "from sklearn.neural_network import MLPRegressor\n",
    "from sklearn.svm import SVR\n",
    "from sklearn.inspection import permutation_importance\n",
    "import math"
   ]
  },
  {
   "cell_type": "code",
   "execution_count": 577,
   "metadata": {
    "tags": []
   },
   "outputs": [
    {
     "output_type": "stream",
     "name": "stdout",
     "text": "<class 'pandas.core.frame.DataFrame'>\nRangeIndex: 2919 entries, 0 to 2918\nData columns (total 83 columns):\n #   Column         Non-Null Count  Dtype  \n---  ------         --------------  -----  \n 0   index          2919 non-null   int64  \n 1   Id             2919 non-null   int64  \n 2   MSSubClass     2919 non-null   int64  \n 3   MSZoning       2915 non-null   object \n 4   LotFrontage    2433 non-null   float64\n 5   LotArea        2919 non-null   int64  \n 6   Street         2919 non-null   object \n 7   Alley          198 non-null    object \n 8   LotShape       2919 non-null   object \n 9   LandContour    2919 non-null   object \n 10  Utilities      2917 non-null   object \n 11  LotConfig      2919 non-null   object \n 12  LandSlope      2919 non-null   object \n 13  Neighborhood   2919 non-null   object \n 14  Condition1     2919 non-null   object \n 15  Condition2     2919 non-null   object \n 16  BldgType       2919 non-null   object \n 17  HouseStyle     2919 non-null   object \n 18  OverallQual    2919 non-null   int64  \n 19  OverallCond    2919 non-null   int64  \n 20  YearBuilt      2919 non-null   int64  \n 21  YearRemodAdd   2919 non-null   int64  \n 22  RoofStyle      2919 non-null   object \n 23  RoofMatl       2919 non-null   object \n 24  Exterior1st    2918 non-null   object \n 25  Exterior2nd    2918 non-null   object \n 26  MasVnrType     2895 non-null   object \n 27  MasVnrArea     2896 non-null   float64\n 28  ExterQual      2919 non-null   object \n 29  ExterCond      2919 non-null   object \n 30  Foundation     2919 non-null   object \n 31  BsmtQual       2838 non-null   object \n 32  BsmtCond       2837 non-null   object \n 33  BsmtExposure   2837 non-null   object \n 34  BsmtFinType1   2840 non-null   object \n 35  BsmtFinSF1     2918 non-null   float64\n 36  BsmtFinType2   2839 non-null   object \n 37  BsmtFinSF2     2918 non-null   float64\n 38  BsmtUnfSF      2918 non-null   float64\n 39  TotalBsmtSF    2918 non-null   float64\n 40  Heating        2919 non-null   object \n 41  HeatingQC      2919 non-null   object \n 42  CentralAir     2919 non-null   object \n 43  Electrical     2918 non-null   object \n 44  1stFlrSF       2919 non-null   int64  \n 45  2ndFlrSF       2919 non-null   int64  \n 46  LowQualFinSF   2919 non-null   int64  \n 47  GrLivArea      2919 non-null   int64  \n 48  BsmtFullBath   2917 non-null   float64\n 49  BsmtHalfBath   2917 non-null   float64\n 50  FullBath       2919 non-null   int64  \n 51  HalfBath       2919 non-null   int64  \n 52  BedroomAbvGr   2919 non-null   int64  \n 53  KitchenAbvGr   2919 non-null   int64  \n 54  KitchenQual    2918 non-null   object \n 55  TotRmsAbvGrd   2919 non-null   int64  \n 56  Functional     2917 non-null   object \n 57  Fireplaces     2919 non-null   int64  \n 58  FireplaceQu    1499 non-null   object \n 59  GarageType     2762 non-null   object \n 60  GarageYrBlt    2760 non-null   float64\n 61  GarageFinish   2760 non-null   object \n 62  GarageCars     2918 non-null   float64\n 63  GarageArea     2918 non-null   float64\n 64  GarageQual     2760 non-null   object \n 65  GarageCond     2760 non-null   object \n 66  PavedDrive     2919 non-null   object \n 67  WoodDeckSF     2919 non-null   int64  \n 68  OpenPorchSF    2919 non-null   int64  \n 69  EnclosedPorch  2919 non-null   int64  \n 70  3SsnPorch      2919 non-null   int64  \n 71  ScreenPorch    2919 non-null   int64  \n 72  PoolArea       2919 non-null   int64  \n 73  PoolQC         10 non-null     object \n 74  Fence          571 non-null    object \n 75  MiscFeature    105 non-null    object \n 76  MiscVal        2919 non-null   int64  \n 77  MoSold         2919 non-null   int64  \n 78  YrSold         2919 non-null   int64  \n 79  SaleType       2918 non-null   object \n 80  SaleCondition  2919 non-null   object \n 81  SalePrice      2919 non-null   int64  \n 82  Type           2919 non-null   object \ndtypes: float64(11), int64(28), object(44)\nmemory usage: 1.8+ MB\n"
    }
   ],
   "source": [
    "data_train = pd.read_csv('train.csv')\n",
    "data_test = pd.read_csv('test.csv')\n",
    "data_test['SalePrice'] = -1\n",
    "all_data = pd.concat([data_train,data_test]).reset_index()\n",
    "all_data['Type'] = all_data.apply(lambda x: 'train' if x['SalePrice'] > -1 else 'test',axis=1)\n",
    "all_data.info()"
   ]
  },
  {
   "cell_type": "code",
   "execution_count": 578,
   "metadata": {
    "tags": []
   },
   "outputs": [],
   "source": [
    "# Cleaning\n",
    "# Primero rellenamos con 'NA' aquellos valores vacíos que no lo son en realidad\n",
    "NA_features = ['Alley','BsmtQual','BsmtCond','BsmtExposure','BsmtFinType1','BsmtFinType2','FireplaceQu','GarageType','GarageFinish','GarageQual','GarageCond','PoolQC','Fence','MiscFeature']\n",
    "all_data[NA_features] = all_data[NA_features].fillna('NA')\n",
    "# all_data.loc[(all_data.GarageType == 'NA') & (all_data.GarageCars != 0) ,'GarageCars']\n",
    "\n",
    "\n"
   ]
  },
  {
   "cell_type": "code",
   "execution_count": 579,
   "metadata": {
    "tags": []
   },
   "outputs": [
    {
     "output_type": "stream",
     "name": "stdout",
     "text": "<class 'pandas.core.frame.DataFrame'>\nRangeIndex: 2919 entries, 0 to 2918\nData columns (total 83 columns):\n #   Column         Non-Null Count  Dtype  \n---  ------         --------------  -----  \n 0   index          2919 non-null   int64  \n 1   Id             2919 non-null   int64  \n 2   MSSubClass     2919 non-null   int64  \n 3   MSZoning       2915 non-null   object \n 4   LotFrontage    2433 non-null   float64\n 5   LotArea        2919 non-null   int64  \n 6   Street         2919 non-null   object \n 7   Alley          2919 non-null   object \n 8   LotShape       2919 non-null   object \n 9   LandContour    2919 non-null   object \n 10  Utilities      2917 non-null   object \n 11  LotConfig      2919 non-null   object \n 12  LandSlope      2919 non-null   object \n 13  Neighborhood   2919 non-null   object \n 14  Condition1     2919 non-null   object \n 15  Condition2     2919 non-null   object \n 16  BldgType       2919 non-null   object \n 17  HouseStyle     2919 non-null   object \n 18  OverallQual    2919 non-null   int64  \n 19  OverallCond    2919 non-null   int64  \n 20  YearBuilt      2919 non-null   int64  \n 21  YearRemodAdd   2919 non-null   int64  \n 22  RoofStyle      2919 non-null   object \n 23  RoofMatl       2919 non-null   object \n 24  Exterior1st    2918 non-null   object \n 25  Exterior2nd    2918 non-null   object \n 26  MasVnrType     2895 non-null   object \n 27  MasVnrArea     2896 non-null   float64\n 28  ExterQual      2919 non-null   object \n 29  ExterCond      2919 non-null   object \n 30  Foundation     2919 non-null   object \n 31  BsmtQual       2919 non-null   object \n 32  BsmtCond       2919 non-null   object \n 33  BsmtExposure   2919 non-null   object \n 34  BsmtFinType1   2919 non-null   object \n 35  BsmtFinSF1     2918 non-null   float64\n 36  BsmtFinType2   2919 non-null   object \n 37  BsmtFinSF2     2918 non-null   float64\n 38  BsmtUnfSF      2918 non-null   float64\n 39  TotalBsmtSF    2918 non-null   float64\n 40  Heating        2919 non-null   object \n 41  HeatingQC      2919 non-null   object \n 42  CentralAir     2919 non-null   object \n 43  Electrical     2918 non-null   object \n 44  1stFlrSF       2919 non-null   int64  \n 45  2ndFlrSF       2919 non-null   int64  \n 46  LowQualFinSF   2919 non-null   int64  \n 47  GrLivArea      2919 non-null   int64  \n 48  BsmtFullBath   2917 non-null   float64\n 49  BsmtHalfBath   2917 non-null   float64\n 50  FullBath       2919 non-null   int64  \n 51  HalfBath       2919 non-null   int64  \n 52  BedroomAbvGr   2919 non-null   int64  \n 53  KitchenAbvGr   2919 non-null   int64  \n 54  KitchenQual    2918 non-null   object \n 55  TotRmsAbvGrd   2919 non-null   int64  \n 56  Functional     2919 non-null   object \n 57  Fireplaces     2919 non-null   int64  \n 58  FireplaceQu    2919 non-null   object \n 59  GarageType     2919 non-null   object \n 60  GarageYrBlt    2760 non-null   float64\n 61  GarageFinish   2919 non-null   object \n 62  GarageCars     2918 non-null   float64\n 63  GarageArea     2918 non-null   float64\n 64  GarageQual     2919 non-null   object \n 65  GarageCond     2919 non-null   object \n 66  PavedDrive     2919 non-null   object \n 67  WoodDeckSF     2919 non-null   int64  \n 68  OpenPorchSF    2919 non-null   int64  \n 69  EnclosedPorch  2919 non-null   int64  \n 70  3SsnPorch      2919 non-null   int64  \n 71  ScreenPorch    2919 non-null   int64  \n 72  PoolArea       2919 non-null   int64  \n 73  PoolQC         2919 non-null   object \n 74  Fence          2919 non-null   object \n 75  MiscFeature    2919 non-null   object \n 76  MiscVal        2919 non-null   int64  \n 77  MoSold         2919 non-null   int64  \n 78  YrSold         2919 non-null   int64  \n 79  SaleType       2918 non-null   object \n 80  SaleCondition  2919 non-null   object \n 81  SalePrice      2919 non-null   int64  \n 82  Type           2919 non-null   object \ndtypes: float64(11), int64(28), object(44)\nmemory usage: 1.8+ MB\n"
    }
   ],
   "source": [
    "# Data_description.txt nos dice que Functional es typical a menos que Deductions estén garantizadas/justificadas\n",
    "all_data[['Functional']] = all_data[['Functional']].fillna('Typ')\n",
    "all_data.info()"
   ]
  },
  {
   "cell_type": "code",
   "execution_count": 580,
   "metadata": {},
   "outputs": [
    {
     "output_type": "execute_result",
     "data": {
      "text/plain": "        Id GarageType  GarageYrBlt GarageFinish  GarageCars  GarageArea  \\\n2126  2127     Detchd          NaN           NA         1.0       360.0   \n\n     GarageQual GarageCond  Type  \n2126         NA         NA  test  ",
      "text/html": "<div>\n<style scoped>\n    .dataframe tbody tr th:only-of-type {\n        vertical-align: middle;\n    }\n\n    .dataframe tbody tr th {\n        vertical-align: top;\n    }\n\n    .dataframe thead th {\n        text-align: right;\n    }\n</style>\n<table border=\"1\" class=\"dataframe\">\n  <thead>\n    <tr style=\"text-align: right;\">\n      <th></th>\n      <th>Id</th>\n      <th>GarageType</th>\n      <th>GarageYrBlt</th>\n      <th>GarageFinish</th>\n      <th>GarageCars</th>\n      <th>GarageArea</th>\n      <th>GarageQual</th>\n      <th>GarageCond</th>\n      <th>Type</th>\n    </tr>\n  </thead>\n  <tbody>\n    <tr>\n      <th>2126</th>\n      <td>2127</td>\n      <td>Detchd</td>\n      <td>NaN</td>\n      <td>NA</td>\n      <td>1.0</td>\n      <td>360.0</td>\n      <td>NA</td>\n      <td>NA</td>\n      <td>test</td>\n    </tr>\n  </tbody>\n</table>\n</div>"
     },
     "metadata": {},
     "execution_count": 580
    }
   ],
   "source": [
    "# GarageCars / GarageArea\n",
    "garage_features = ['Id','GarageType','GarageYrBlt','GarageFinish','GarageCars','GarageArea','GarageQual','GarageCond','Type']\n",
    "# El registro con Id 2577 parece no tener Garaje, a pesar de que en su GarageType pone Detchd\n",
    "# Cambiamos ese valor por NA\n",
    "all_data.loc[all_data.Id == 2577,'GarageType'] = 'NA'\n",
    "all_data.loc[(all_data.GarageType != 'NA') & (all_data.GarageYrBlt.isnull()) ,garage_features]\n",
    "\n"
   ]
  },
  {
   "cell_type": "markdown",
   "metadata": {},
   "source": [
    "El registro Id 2127 nos da información contradictoria. Por un lado nos dice que tiene un Garaje tipo Detchd en el que cabe 1 coche y por otro nos dice que no tiene según Finish Qual y Cond.\n",
    "Tenemos que tomar la decisión de cuál es la info correcta. Optamos por dar por válido el hecho de que tiene garaje. \n",
    "Para rellenar Finish vemos que la mayoría de los garajes tipo Detchd son 'Unf'\n",
    "Más concretamente, vemos que para las casas con GarageCars == 1, la combinación más habitual de Finish, Qual y Cond es 'Unf', 'TA', 'TA' (481)\n",
    "Además debemos rellenar el GarageYrBlt. Usamos la fecha de última remodelación (1983)"
   ]
  },
  {
   "cell_type": "code",
   "execution_count": 581,
   "metadata": {
    "tags": []
   },
   "outputs": [
    {
     "output_type": "stream",
     "name": "stdout",
     "text": "<class 'pandas.core.frame.DataFrame'>\nRangeIndex: 2919 entries, 0 to 2918\nData columns (total 83 columns):\n #   Column         Non-Null Count  Dtype  \n---  ------         --------------  -----  \n 0   index          2919 non-null   int64  \n 1   Id             2919 non-null   int64  \n 2   MSSubClass     2919 non-null   int64  \n 3   MSZoning       2915 non-null   object \n 4   LotFrontage    2433 non-null   float64\n 5   LotArea        2919 non-null   int64  \n 6   Street         2919 non-null   object \n 7   Alley          2919 non-null   object \n 8   LotShape       2919 non-null   object \n 9   LandContour    2919 non-null   object \n 10  Utilities      2917 non-null   object \n 11  LotConfig      2919 non-null   object \n 12  LandSlope      2919 non-null   object \n 13  Neighborhood   2919 non-null   object \n 14  Condition1     2919 non-null   object \n 15  Condition2     2919 non-null   object \n 16  BldgType       2919 non-null   object \n 17  HouseStyle     2919 non-null   object \n 18  OverallQual    2919 non-null   int64  \n 19  OverallCond    2919 non-null   int64  \n 20  YearBuilt      2919 non-null   int64  \n 21  YearRemodAdd   2919 non-null   int64  \n 22  RoofStyle      2919 non-null   object \n 23  RoofMatl       2919 non-null   object \n 24  Exterior1st    2918 non-null   object \n 25  Exterior2nd    2918 non-null   object \n 26  MasVnrType     2895 non-null   object \n 27  MasVnrArea     2896 non-null   float64\n 28  ExterQual      2919 non-null   object \n 29  ExterCond      2919 non-null   object \n 30  Foundation     2919 non-null   object \n 31  BsmtQual       2919 non-null   object \n 32  BsmtCond       2919 non-null   object \n 33  BsmtExposure   2919 non-null   object \n 34  BsmtFinType1   2919 non-null   object \n 35  BsmtFinSF1     2918 non-null   float64\n 36  BsmtFinType2   2919 non-null   object \n 37  BsmtFinSF2     2918 non-null   float64\n 38  BsmtUnfSF      2918 non-null   float64\n 39  TotalBsmtSF    2918 non-null   float64\n 40  Heating        2919 non-null   object \n 41  HeatingQC      2919 non-null   object \n 42  CentralAir     2919 non-null   object \n 43  Electrical     2918 non-null   object \n 44  1stFlrSF       2919 non-null   int64  \n 45  2ndFlrSF       2919 non-null   int64  \n 46  LowQualFinSF   2919 non-null   int64  \n 47  GrLivArea      2919 non-null   int64  \n 48  BsmtFullBath   2917 non-null   float64\n 49  BsmtHalfBath   2917 non-null   float64\n 50  FullBath       2919 non-null   int64  \n 51  HalfBath       2919 non-null   int64  \n 52  BedroomAbvGr   2919 non-null   int64  \n 53  KitchenAbvGr   2919 non-null   int64  \n 54  KitchenQual    2918 non-null   object \n 55  TotRmsAbvGrd   2919 non-null   int64  \n 56  Functional     2919 non-null   object \n 57  Fireplaces     2919 non-null   int64  \n 58  FireplaceQu    2919 non-null   object \n 59  GarageType     2919 non-null   object \n 60  GarageYrBlt    2761 non-null   float64\n 61  GarageFinish   2919 non-null   object \n 62  GarageCars     2918 non-null   float64\n 63  GarageArea     2918 non-null   float64\n 64  GarageQual     2919 non-null   object \n 65  GarageCond     2919 non-null   object \n 66  PavedDrive     2919 non-null   object \n 67  WoodDeckSF     2919 non-null   int64  \n 68  OpenPorchSF    2919 non-null   int64  \n 69  EnclosedPorch  2919 non-null   int64  \n 70  3SsnPorch      2919 non-null   int64  \n 71  ScreenPorch    2919 non-null   int64  \n 72  PoolArea       2919 non-null   int64  \n 73  PoolQC         2919 non-null   object \n 74  Fence          2919 non-null   object \n 75  MiscFeature    2919 non-null   object \n 76  MiscVal        2919 non-null   int64  \n 77  MoSold         2919 non-null   int64  \n 78  YrSold         2919 non-null   int64  \n 79  SaleType       2918 non-null   object \n 80  SaleCondition  2919 non-null   object \n 81  SalePrice      2919 non-null   int64  \n 82  Type           2919 non-null   object \ndtypes: float64(11), int64(28), object(44)\nmemory usage: 1.8+ MB\n"
    }
   ],
   "source": [
    "all_data.loc[(all_data.GarageCars == 1)].groupby(['GarageFinish','GarageQual','GarageCond']).count()\n",
    "all_data.loc[(all_data.GarageCars == 1) & (all_data.GarageFinish == 'Unf') & (all_data.GarageQual == 'TA') & (all_data.GarageCond == 'TA')]\n",
    "all_data.loc[all_data.Id == 2127,['GarageFinish','GarageQual','GarageCond']] = ['Unf','TA','TA']\n",
    "all_data.loc[all_data.Id == 2127,['GarageYrBlt']] = all_data.loc[(all_data.Id == 2127),'YearRemodAdd'].values\n",
    "all_data.loc[(all_data.GarageType != 'NA') & (all_data.GarageYrBlt.isnull()) ,garage_features]\n",
    "all_data.info()"
   ]
  },
  {
   "cell_type": "code",
   "execution_count": 582,
   "metadata": {
    "tags": []
   },
   "outputs": [
    {
     "output_type": "stream",
     "name": "stdout",
     "text": "<class 'pandas.core.frame.DataFrame'>\nRangeIndex: 2919 entries, 0 to 2918\nData columns (total 83 columns):\n #   Column         Non-Null Count  Dtype  \n---  ------         --------------  -----  \n 0   index          2919 non-null   int64  \n 1   Id             2919 non-null   int64  \n 2   MSSubClass     2919 non-null   int64  \n 3   MSZoning       2915 non-null   object \n 4   LotFrontage    2433 non-null   float64\n 5   LotArea        2919 non-null   int64  \n 6   Street         2919 non-null   object \n 7   Alley          2919 non-null   object \n 8   LotShape       2919 non-null   object \n 9   LandContour    2919 non-null   object \n 10  Utilities      2917 non-null   object \n 11  LotConfig      2919 non-null   object \n 12  LandSlope      2919 non-null   object \n 13  Neighborhood   2919 non-null   object \n 14  Condition1     2919 non-null   object \n 15  Condition2     2919 non-null   object \n 16  BldgType       2919 non-null   object \n 17  HouseStyle     2919 non-null   object \n 18  OverallQual    2919 non-null   int64  \n 19  OverallCond    2919 non-null   int64  \n 20  YearBuilt      2919 non-null   int64  \n 21  YearRemodAdd   2919 non-null   int64  \n 22  RoofStyle      2919 non-null   object \n 23  RoofMatl       2919 non-null   object \n 24  Exterior1st    2918 non-null   object \n 25  Exterior2nd    2918 non-null   object \n 26  MasVnrType     2895 non-null   object \n 27  MasVnrArea     2896 non-null   float64\n 28  ExterQual      2919 non-null   object \n 29  ExterCond      2919 non-null   object \n 30  Foundation     2919 non-null   object \n 31  BsmtQual       2919 non-null   object \n 32  BsmtCond       2919 non-null   object \n 33  BsmtExposure   2919 non-null   object \n 34  BsmtFinType1   2919 non-null   object \n 35  BsmtFinSF1     2918 non-null   float64\n 36  BsmtFinType2   2919 non-null   object \n 37  BsmtFinSF2     2918 non-null   float64\n 38  BsmtUnfSF      2918 non-null   float64\n 39  TotalBsmtSF    2918 non-null   float64\n 40  Heating        2919 non-null   object \n 41  HeatingQC      2919 non-null   object \n 42  CentralAir     2919 non-null   object \n 43  Electrical     2918 non-null   object \n 44  1stFlrSF       2919 non-null   int64  \n 45  2ndFlrSF       2919 non-null   int64  \n 46  LowQualFinSF   2919 non-null   int64  \n 47  GrLivArea      2919 non-null   int64  \n 48  BsmtFullBath   2917 non-null   float64\n 49  BsmtHalfBath   2917 non-null   float64\n 50  FullBath       2919 non-null   int64  \n 51  HalfBath       2919 non-null   int64  \n 52  BedroomAbvGr   2919 non-null   int64  \n 53  KitchenAbvGr   2919 non-null   int64  \n 54  KitchenQual    2918 non-null   object \n 55  TotRmsAbvGrd   2919 non-null   int64  \n 56  Functional     2919 non-null   object \n 57  Fireplaces     2919 non-null   int64  \n 58  FireplaceQu    2919 non-null   object \n 59  GarageType     2919 non-null   object \n 60  GarageYrBlt    2761 non-null   float64\n 61  GarageFinish   2919 non-null   object \n 62  GarageCars     2919 non-null   float64\n 63  GarageArea     2919 non-null   float64\n 64  GarageQual     2919 non-null   object \n 65  GarageCond     2919 non-null   object \n 66  PavedDrive     2919 non-null   object \n 67  WoodDeckSF     2919 non-null   int64  \n 68  OpenPorchSF    2919 non-null   int64  \n 69  EnclosedPorch  2919 non-null   int64  \n 70  3SsnPorch      2919 non-null   int64  \n 71  ScreenPorch    2919 non-null   int64  \n 72  PoolArea       2919 non-null   int64  \n 73  PoolQC         2919 non-null   object \n 74  Fence          2919 non-null   object \n 75  MiscFeature    2919 non-null   object \n 76  MiscVal        2919 non-null   int64  \n 77  MoSold         2919 non-null   int64  \n 78  YrSold         2919 non-null   int64  \n 79  SaleType       2918 non-null   object \n 80  SaleCondition  2919 non-null   object \n 81  SalePrice      2919 non-null   int64  \n 82  Type           2919 non-null   object \ndtypes: float64(11), int64(28), object(44)\nmemory usage: 1.8+ MB\n"
    }
   ],
   "source": [
    "# Rellenamos los nulos de Cars y Area con cero puesto que es un registro que no tiene garaje\n",
    "all_data[['GarageCars','GarageArea']] = all_data[['GarageCars','GarageArea']].fillna(0)\n",
    "all_data.info()"
   ]
  },
  {
   "cell_type": "code",
   "execution_count": 583,
   "metadata": {
    "tags": []
   },
   "outputs": [
    {
     "output_type": "execute_result",
     "data": {
      "text/plain": "                                  index    Id  MSSubClass  MSZoning  \\\nGarageType GarageQual GarageCond                                      \n2Types     Fa         Fa              1     1           1         1   \n                      TA              1     1           1         1   \n           TA         TA             21    21          21        21   \nAttchd     Fa         Fa              1     1           1         1   \n                      Po              1     1           1         0   \n                      TA             14    14          14        13   \n           Gd         Gd              6     6           6         6   \n                      TA             11    11          11        11   \n           TA         Fa              4     4           4         4   \n                      Gd              6     6           6         6   \n                      Po              1     1           1         1   \n                      TA           1679  1679        1679      1679   \nBasment    Fa         TA              4     4           4         4   \n           Gd         TA              1     1           1         1   \n           TA         TA             31    31          31        31   \nBuiltIn    Fa         TA              3     3           3         3   \n           Gd         TA              1     1           1         1   \n           TA         TA            182   182         182       182   \nCarPort    Fa         Fa              1     1           1         1   \n                      TA              1     1           1         1   \n           TA         TA             13    13          13        13   \nDetchd     Ex         Ex              2     2           2         2   \n                      TA              1     1           1         1   \n           Fa         Fa             36    36          36        36   \n                      Po              7     7           7         7   \n                      TA             54    54          54        54   \n           Gd         Ex              1     1           1         1   \n                      TA              4     4           4         4   \n           Po         Fa              1     1           1         1   \n                      Po              4     4           4         4   \n           TA         Fa             30    30          30        29   \n                      Gd              3     3           3         3   \n                      Po              1     1           1         1   \n                      TA            634   634         634       633   \nNA         NA         NA            158   158         158       158   \n\n                                  LotFrontage  LotArea  Street  Alley  \\\nGarageType GarageQual GarageCond                                        \n2Types     Fa         Fa                    1        1       1      1   \n                      TA                    0        1       1      1   \n           TA         TA                   17       21      21     21   \nAttchd     Fa         Fa                    1        1       1      1   \n                      Po                    1        1       1      1   \n                      TA                   13       14      14     14   \n           Gd         Gd                    4        6       6      6   \n                      TA                   10       11      11     11   \n           TA         Fa                    4        4       4      4   \n                      Gd                    2        6       6      6   \n                      Po                    1        1       1      1   \n                      TA                 1357     1679    1679   1679   \nBasment    Fa         TA                    3        4       4      4   \n           Gd         TA                    0        1       1      1   \n           TA         TA                   23       31      31     31   \nBuiltIn    Fa         TA                    2        3       3      3   \n           Gd         TA                    1        1       1      1   \n           TA         TA                  137      182     182    182   \nCarPort    Fa         Fa                    1        1       1      1   \n                      TA                    1        1       1      1   \n           TA         TA                   10       13      13     13   \nDetchd     Ex         Ex                    2        2       2      2   \n                      TA                    1        1       1      1   \n           Fa         Fa                   34       36      36     36   \n                      Po                    6        7       7      7   \n                      TA                   53       54      54     54   \n           Gd         Ex                    1        1       1      1   \n                      TA                    4        4       4      4   \n           Po         Fa                    1        1       1      1   \n                      Po                    4        4       4      4   \n           TA         Fa                   24       30      30     30   \n                      Gd                    3        3       3      3   \n                      Po                    1        1       1      1   \n                      TA                  563      634     634    634   \nNA         NA         NA                  147      158     158    158   \n\n                                  LotShape  LandContour  ...  PoolQC  Fence  \\\nGarageType GarageQual GarageCond                         ...                  \n2Types     Fa         Fa                 1            1  ...       1      1   \n                      TA                 1            1  ...       1      1   \n           TA         TA                21           21  ...      21     21   \nAttchd     Fa         Fa                 1            1  ...       1      1   \n                      Po                 1            1  ...       1      1   \n                      TA                14           14  ...      14     14   \n           Gd         Gd                 6            6  ...       6      6   \n                      TA                11           11  ...      11     11   \n           TA         Fa                 4            4  ...       4      4   \n                      Gd                 6            6  ...       6      6   \n                      Po                 1            1  ...       1      1   \n                      TA              1679         1679  ...    1679   1679   \nBasment    Fa         TA                 4            4  ...       4      4   \n           Gd         TA                 1            1  ...       1      1   \n           TA         TA                31           31  ...      31     31   \nBuiltIn    Fa         TA                 3            3  ...       3      3   \n           Gd         TA                 1            1  ...       1      1   \n           TA         TA               182          182  ...     182    182   \nCarPort    Fa         Fa                 1            1  ...       1      1   \n                      TA                 1            1  ...       1      1   \n           TA         TA                13           13  ...      13     13   \nDetchd     Ex         Ex                 2            2  ...       2      2   \n                      TA                 1            1  ...       1      1   \n           Fa         Fa                36           36  ...      36     36   \n                      Po                 7            7  ...       7      7   \n                      TA                54           54  ...      54     54   \n           Gd         Ex                 1            1  ...       1      1   \n                      TA                 4            4  ...       4      4   \n           Po         Fa                 1            1  ...       1      1   \n                      Po                 4            4  ...       4      4   \n           TA         Fa                30           30  ...      30     30   \n                      Gd                 3            3  ...       3      3   \n                      Po                 1            1  ...       1      1   \n                      TA               634          634  ...     634    634   \nNA         NA         NA               158          158  ...     158    158   \n\n                                  MiscFeature  MiscVal  MoSold  YrSold  \\\nGarageType GarageQual GarageCond                                         \n2Types     Fa         Fa                    1        1       1       1   \n                      TA                    1        1       1       1   \n           TA         TA                   21       21      21      21   \nAttchd     Fa         Fa                    1        1       1       1   \n                      Po                    1        1       1       1   \n                      TA                   14       14      14      14   \n           Gd         Gd                    6        6       6       6   \n                      TA                   11       11      11      11   \n           TA         Fa                    4        4       4       4   \n                      Gd                    6        6       6       6   \n                      Po                    1        1       1       1   \n                      TA                 1679     1679    1679    1679   \nBasment    Fa         TA                    4        4       4       4   \n           Gd         TA                    1        1       1       1   \n           TA         TA                   31       31      31      31   \nBuiltIn    Fa         TA                    3        3       3       3   \n           Gd         TA                    1        1       1       1   \n           TA         TA                  182      182     182     182   \nCarPort    Fa         Fa                    1        1       1       1   \n                      TA                    1        1       1       1   \n           TA         TA                   13       13      13      13   \nDetchd     Ex         Ex                    2        2       2       2   \n                      TA                    1        1       1       1   \n           Fa         Fa                   36       36      36      36   \n                      Po                    7        7       7       7   \n                      TA                   54       54      54      54   \n           Gd         Ex                    1        1       1       1   \n                      TA                    4        4       4       4   \n           Po         Fa                    1        1       1       1   \n                      Po                    4        4       4       4   \n           TA         Fa                   30       30      30      30   \n                      Gd                    3        3       3       3   \n                      Po                    1        1       1       1   \n                      TA                  634      634     634     634   \nNA         NA         NA                  158      158     158     158   \n\n                                  SaleType  SaleCondition  SalePrice  Type  \nGarageType GarageQual GarageCond                                            \n2Types     Fa         Fa                 1              1          1     1  \n                      TA                 1              1          1     1  \n           TA         TA                21             21         21    21  \nAttchd     Fa         Fa                 1              1          1     1  \n                      Po                 1              1          1     1  \n                      TA                14             14         14    14  \n           Gd         Gd                 6              6          6     6  \n                      TA                11             11         11    11  \n           TA         Fa                 4              4          4     4  \n                      Gd                 6              6          6     6  \n                      Po                 1              1          1     1  \n                      TA              1678           1679       1679  1679  \nBasment    Fa         TA                 4              4          4     4  \n           Gd         TA                 1              1          1     1  \n           TA         TA                31             31         31    31  \nBuiltIn    Fa         TA                 3              3          3     3  \n           Gd         TA                 1              1          1     1  \n           TA         TA               182            182        182   182  \nCarPort    Fa         Fa                 1              1          1     1  \n                      TA                 1              1          1     1  \n           TA         TA                13             13         13    13  \nDetchd     Ex         Ex                 2              2          2     2  \n                      TA                 1              1          1     1  \n           Fa         Fa                36             36         36    36  \n                      Po                 7              7          7     7  \n                      TA                54             54         54    54  \n           Gd         Ex                 1              1          1     1  \n                      TA                 4              4          4     4  \n           Po         Fa                 1              1          1     1  \n                      Po                 4              4          4     4  \n           TA         Fa                30             30         30    30  \n                      Gd                 3              3          3     3  \n                      Po                 1              1          1     1  \n                      TA               634            634        634   634  \nNA         NA         NA               158            158        158   158  \n\n[35 rows x 80 columns]",
      "text/html": "<div>\n<style scoped>\n    .dataframe tbody tr th:only-of-type {\n        vertical-align: middle;\n    }\n\n    .dataframe tbody tr th {\n        vertical-align: top;\n    }\n\n    .dataframe thead th {\n        text-align: right;\n    }\n</style>\n<table border=\"1\" class=\"dataframe\">\n  <thead>\n    <tr style=\"text-align: right;\">\n      <th></th>\n      <th></th>\n      <th></th>\n      <th>index</th>\n      <th>Id</th>\n      <th>MSSubClass</th>\n      <th>MSZoning</th>\n      <th>LotFrontage</th>\n      <th>LotArea</th>\n      <th>Street</th>\n      <th>Alley</th>\n      <th>LotShape</th>\n      <th>LandContour</th>\n      <th>...</th>\n      <th>PoolQC</th>\n      <th>Fence</th>\n      <th>MiscFeature</th>\n      <th>MiscVal</th>\n      <th>MoSold</th>\n      <th>YrSold</th>\n      <th>SaleType</th>\n      <th>SaleCondition</th>\n      <th>SalePrice</th>\n      <th>Type</th>\n    </tr>\n    <tr>\n      <th>GarageType</th>\n      <th>GarageQual</th>\n      <th>GarageCond</th>\n      <th></th>\n      <th></th>\n      <th></th>\n      <th></th>\n      <th></th>\n      <th></th>\n      <th></th>\n      <th></th>\n      <th></th>\n      <th></th>\n      <th></th>\n      <th></th>\n      <th></th>\n      <th></th>\n      <th></th>\n      <th></th>\n      <th></th>\n      <th></th>\n      <th></th>\n      <th></th>\n      <th></th>\n    </tr>\n  </thead>\n  <tbody>\n    <tr>\n      <th rowspan=\"3\" valign=\"top\">2Types</th>\n      <th rowspan=\"2\" valign=\"top\">Fa</th>\n      <th>Fa</th>\n      <td>1</td>\n      <td>1</td>\n      <td>1</td>\n      <td>1</td>\n      <td>1</td>\n      <td>1</td>\n      <td>1</td>\n      <td>1</td>\n      <td>1</td>\n      <td>1</td>\n      <td>...</td>\n      <td>1</td>\n      <td>1</td>\n      <td>1</td>\n      <td>1</td>\n      <td>1</td>\n      <td>1</td>\n      <td>1</td>\n      <td>1</td>\n      <td>1</td>\n      <td>1</td>\n    </tr>\n    <tr>\n      <th>TA</th>\n      <td>1</td>\n      <td>1</td>\n      <td>1</td>\n      <td>1</td>\n      <td>0</td>\n      <td>1</td>\n      <td>1</td>\n      <td>1</td>\n      <td>1</td>\n      <td>1</td>\n      <td>...</td>\n      <td>1</td>\n      <td>1</td>\n      <td>1</td>\n      <td>1</td>\n      <td>1</td>\n      <td>1</td>\n      <td>1</td>\n      <td>1</td>\n      <td>1</td>\n      <td>1</td>\n    </tr>\n    <tr>\n      <th>TA</th>\n      <th>TA</th>\n      <td>21</td>\n      <td>21</td>\n      <td>21</td>\n      <td>21</td>\n      <td>17</td>\n      <td>21</td>\n      <td>21</td>\n      <td>21</td>\n      <td>21</td>\n      <td>21</td>\n      <td>...</td>\n      <td>21</td>\n      <td>21</td>\n      <td>21</td>\n      <td>21</td>\n      <td>21</td>\n      <td>21</td>\n      <td>21</td>\n      <td>21</td>\n      <td>21</td>\n      <td>21</td>\n    </tr>\n    <tr>\n      <th rowspan=\"9\" valign=\"top\">Attchd</th>\n      <th rowspan=\"3\" valign=\"top\">Fa</th>\n      <th>Fa</th>\n      <td>1</td>\n      <td>1</td>\n      <td>1</td>\n      <td>1</td>\n      <td>1</td>\n      <td>1</td>\n      <td>1</td>\n      <td>1</td>\n      <td>1</td>\n      <td>1</td>\n      <td>...</td>\n      <td>1</td>\n      <td>1</td>\n      <td>1</td>\n      <td>1</td>\n      <td>1</td>\n      <td>1</td>\n      <td>1</td>\n      <td>1</td>\n      <td>1</td>\n      <td>1</td>\n    </tr>\n    <tr>\n      <th>Po</th>\n      <td>1</td>\n      <td>1</td>\n      <td>1</td>\n      <td>0</td>\n      <td>1</td>\n      <td>1</td>\n      <td>1</td>\n      <td>1</td>\n      <td>1</td>\n      <td>1</td>\n      <td>...</td>\n      <td>1</td>\n      <td>1</td>\n      <td>1</td>\n      <td>1</td>\n      <td>1</td>\n      <td>1</td>\n      <td>1</td>\n      <td>1</td>\n      <td>1</td>\n      <td>1</td>\n    </tr>\n    <tr>\n      <th>TA</th>\n      <td>14</td>\n      <td>14</td>\n      <td>14</td>\n      <td>13</td>\n      <td>13</td>\n      <td>14</td>\n      <td>14</td>\n      <td>14</td>\n      <td>14</td>\n      <td>14</td>\n      <td>...</td>\n      <td>14</td>\n      <td>14</td>\n      <td>14</td>\n      <td>14</td>\n      <td>14</td>\n      <td>14</td>\n      <td>14</td>\n      <td>14</td>\n      <td>14</td>\n      <td>14</td>\n    </tr>\n    <tr>\n      <th rowspan=\"2\" valign=\"top\">Gd</th>\n      <th>Gd</th>\n      <td>6</td>\n      <td>6</td>\n      <td>6</td>\n      <td>6</td>\n      <td>4</td>\n      <td>6</td>\n      <td>6</td>\n      <td>6</td>\n      <td>6</td>\n      <td>6</td>\n      <td>...</td>\n      <td>6</td>\n      <td>6</td>\n      <td>6</td>\n      <td>6</td>\n      <td>6</td>\n      <td>6</td>\n      <td>6</td>\n      <td>6</td>\n      <td>6</td>\n      <td>6</td>\n    </tr>\n    <tr>\n      <th>TA</th>\n      <td>11</td>\n      <td>11</td>\n      <td>11</td>\n      <td>11</td>\n      <td>10</td>\n      <td>11</td>\n      <td>11</td>\n      <td>11</td>\n      <td>11</td>\n      <td>11</td>\n      <td>...</td>\n      <td>11</td>\n      <td>11</td>\n      <td>11</td>\n      <td>11</td>\n      <td>11</td>\n      <td>11</td>\n      <td>11</td>\n      <td>11</td>\n      <td>11</td>\n      <td>11</td>\n    </tr>\n    <tr>\n      <th rowspan=\"4\" valign=\"top\">TA</th>\n      <th>Fa</th>\n      <td>4</td>\n      <td>4</td>\n      <td>4</td>\n      <td>4</td>\n      <td>4</td>\n      <td>4</td>\n      <td>4</td>\n      <td>4</td>\n      <td>4</td>\n      <td>4</td>\n      <td>...</td>\n      <td>4</td>\n      <td>4</td>\n      <td>4</td>\n      <td>4</td>\n      <td>4</td>\n      <td>4</td>\n      <td>4</td>\n      <td>4</td>\n      <td>4</td>\n      <td>4</td>\n    </tr>\n    <tr>\n      <th>Gd</th>\n      <td>6</td>\n      <td>6</td>\n      <td>6</td>\n      <td>6</td>\n      <td>2</td>\n      <td>6</td>\n      <td>6</td>\n      <td>6</td>\n      <td>6</td>\n      <td>6</td>\n      <td>...</td>\n      <td>6</td>\n      <td>6</td>\n      <td>6</td>\n      <td>6</td>\n      <td>6</td>\n      <td>6</td>\n      <td>6</td>\n      <td>6</td>\n      <td>6</td>\n      <td>6</td>\n    </tr>\n    <tr>\n      <th>Po</th>\n      <td>1</td>\n      <td>1</td>\n      <td>1</td>\n      <td>1</td>\n      <td>1</td>\n      <td>1</td>\n      <td>1</td>\n      <td>1</td>\n      <td>1</td>\n      <td>1</td>\n      <td>...</td>\n      <td>1</td>\n      <td>1</td>\n      <td>1</td>\n      <td>1</td>\n      <td>1</td>\n      <td>1</td>\n      <td>1</td>\n      <td>1</td>\n      <td>1</td>\n      <td>1</td>\n    </tr>\n    <tr>\n      <th>TA</th>\n      <td>1679</td>\n      <td>1679</td>\n      <td>1679</td>\n      <td>1679</td>\n      <td>1357</td>\n      <td>1679</td>\n      <td>1679</td>\n      <td>1679</td>\n      <td>1679</td>\n      <td>1679</td>\n      <td>...</td>\n      <td>1679</td>\n      <td>1679</td>\n      <td>1679</td>\n      <td>1679</td>\n      <td>1679</td>\n      <td>1679</td>\n      <td>1678</td>\n      <td>1679</td>\n      <td>1679</td>\n      <td>1679</td>\n    </tr>\n    <tr>\n      <th rowspan=\"3\" valign=\"top\">Basment</th>\n      <th>Fa</th>\n      <th>TA</th>\n      <td>4</td>\n      <td>4</td>\n      <td>4</td>\n      <td>4</td>\n      <td>3</td>\n      <td>4</td>\n      <td>4</td>\n      <td>4</td>\n      <td>4</td>\n      <td>4</td>\n      <td>...</td>\n      <td>4</td>\n      <td>4</td>\n      <td>4</td>\n      <td>4</td>\n      <td>4</td>\n      <td>4</td>\n      <td>4</td>\n      <td>4</td>\n      <td>4</td>\n      <td>4</td>\n    </tr>\n    <tr>\n      <th>Gd</th>\n      <th>TA</th>\n      <td>1</td>\n      <td>1</td>\n      <td>1</td>\n      <td>1</td>\n      <td>0</td>\n      <td>1</td>\n      <td>1</td>\n      <td>1</td>\n      <td>1</td>\n      <td>1</td>\n      <td>...</td>\n      <td>1</td>\n      <td>1</td>\n      <td>1</td>\n      <td>1</td>\n      <td>1</td>\n      <td>1</td>\n      <td>1</td>\n      <td>1</td>\n      <td>1</td>\n      <td>1</td>\n    </tr>\n    <tr>\n      <th>TA</th>\n      <th>TA</th>\n      <td>31</td>\n      <td>31</td>\n      <td>31</td>\n      <td>31</td>\n      <td>23</td>\n      <td>31</td>\n      <td>31</td>\n      <td>31</td>\n      <td>31</td>\n      <td>31</td>\n      <td>...</td>\n      <td>31</td>\n      <td>31</td>\n      <td>31</td>\n      <td>31</td>\n      <td>31</td>\n      <td>31</td>\n      <td>31</td>\n      <td>31</td>\n      <td>31</td>\n      <td>31</td>\n    </tr>\n    <tr>\n      <th rowspan=\"3\" valign=\"top\">BuiltIn</th>\n      <th>Fa</th>\n      <th>TA</th>\n      <td>3</td>\n      <td>3</td>\n      <td>3</td>\n      <td>3</td>\n      <td>2</td>\n      <td>3</td>\n      <td>3</td>\n      <td>3</td>\n      <td>3</td>\n      <td>3</td>\n      <td>...</td>\n      <td>3</td>\n      <td>3</td>\n      <td>3</td>\n      <td>3</td>\n      <td>3</td>\n      <td>3</td>\n      <td>3</td>\n      <td>3</td>\n      <td>3</td>\n      <td>3</td>\n    </tr>\n    <tr>\n      <th>Gd</th>\n      <th>TA</th>\n      <td>1</td>\n      <td>1</td>\n      <td>1</td>\n      <td>1</td>\n      <td>1</td>\n      <td>1</td>\n      <td>1</td>\n      <td>1</td>\n      <td>1</td>\n      <td>1</td>\n      <td>...</td>\n      <td>1</td>\n      <td>1</td>\n      <td>1</td>\n      <td>1</td>\n      <td>1</td>\n      <td>1</td>\n      <td>1</td>\n      <td>1</td>\n      <td>1</td>\n      <td>1</td>\n    </tr>\n    <tr>\n      <th>TA</th>\n      <th>TA</th>\n      <td>182</td>\n      <td>182</td>\n      <td>182</td>\n      <td>182</td>\n      <td>137</td>\n      <td>182</td>\n      <td>182</td>\n      <td>182</td>\n      <td>182</td>\n      <td>182</td>\n      <td>...</td>\n      <td>182</td>\n      <td>182</td>\n      <td>182</td>\n      <td>182</td>\n      <td>182</td>\n      <td>182</td>\n      <td>182</td>\n      <td>182</td>\n      <td>182</td>\n      <td>182</td>\n    </tr>\n    <tr>\n      <th rowspan=\"3\" valign=\"top\">CarPort</th>\n      <th rowspan=\"2\" valign=\"top\">Fa</th>\n      <th>Fa</th>\n      <td>1</td>\n      <td>1</td>\n      <td>1</td>\n      <td>1</td>\n      <td>1</td>\n      <td>1</td>\n      <td>1</td>\n      <td>1</td>\n      <td>1</td>\n      <td>1</td>\n      <td>...</td>\n      <td>1</td>\n      <td>1</td>\n      <td>1</td>\n      <td>1</td>\n      <td>1</td>\n      <td>1</td>\n      <td>1</td>\n      <td>1</td>\n      <td>1</td>\n      <td>1</td>\n    </tr>\n    <tr>\n      <th>TA</th>\n      <td>1</td>\n      <td>1</td>\n      <td>1</td>\n      <td>1</td>\n      <td>1</td>\n      <td>1</td>\n      <td>1</td>\n      <td>1</td>\n      <td>1</td>\n      <td>1</td>\n      <td>...</td>\n      <td>1</td>\n      <td>1</td>\n      <td>1</td>\n      <td>1</td>\n      <td>1</td>\n      <td>1</td>\n      <td>1</td>\n      <td>1</td>\n      <td>1</td>\n      <td>1</td>\n    </tr>\n    <tr>\n      <th>TA</th>\n      <th>TA</th>\n      <td>13</td>\n      <td>13</td>\n      <td>13</td>\n      <td>13</td>\n      <td>10</td>\n      <td>13</td>\n      <td>13</td>\n      <td>13</td>\n      <td>13</td>\n      <td>13</td>\n      <td>...</td>\n      <td>13</td>\n      <td>13</td>\n      <td>13</td>\n      <td>13</td>\n      <td>13</td>\n      <td>13</td>\n      <td>13</td>\n      <td>13</td>\n      <td>13</td>\n      <td>13</td>\n    </tr>\n    <tr>\n      <th rowspan=\"13\" valign=\"top\">Detchd</th>\n      <th rowspan=\"2\" valign=\"top\">Ex</th>\n      <th>Ex</th>\n      <td>2</td>\n      <td>2</td>\n      <td>2</td>\n      <td>2</td>\n      <td>2</td>\n      <td>2</td>\n      <td>2</td>\n      <td>2</td>\n      <td>2</td>\n      <td>2</td>\n      <td>...</td>\n      <td>2</td>\n      <td>2</td>\n      <td>2</td>\n      <td>2</td>\n      <td>2</td>\n      <td>2</td>\n      <td>2</td>\n      <td>2</td>\n      <td>2</td>\n      <td>2</td>\n    </tr>\n    <tr>\n      <th>TA</th>\n      <td>1</td>\n      <td>1</td>\n      <td>1</td>\n      <td>1</td>\n      <td>1</td>\n      <td>1</td>\n      <td>1</td>\n      <td>1</td>\n      <td>1</td>\n      <td>1</td>\n      <td>...</td>\n      <td>1</td>\n      <td>1</td>\n      <td>1</td>\n      <td>1</td>\n      <td>1</td>\n      <td>1</td>\n      <td>1</td>\n      <td>1</td>\n      <td>1</td>\n      <td>1</td>\n    </tr>\n    <tr>\n      <th rowspan=\"3\" valign=\"top\">Fa</th>\n      <th>Fa</th>\n      <td>36</td>\n      <td>36</td>\n      <td>36</td>\n      <td>36</td>\n      <td>34</td>\n      <td>36</td>\n      <td>36</td>\n      <td>36</td>\n      <td>36</td>\n      <td>36</td>\n      <td>...</td>\n      <td>36</td>\n      <td>36</td>\n      <td>36</td>\n      <td>36</td>\n      <td>36</td>\n      <td>36</td>\n      <td>36</td>\n      <td>36</td>\n      <td>36</td>\n      <td>36</td>\n    </tr>\n    <tr>\n      <th>Po</th>\n      <td>7</td>\n      <td>7</td>\n      <td>7</td>\n      <td>7</td>\n      <td>6</td>\n      <td>7</td>\n      <td>7</td>\n      <td>7</td>\n      <td>7</td>\n      <td>7</td>\n      <td>...</td>\n      <td>7</td>\n      <td>7</td>\n      <td>7</td>\n      <td>7</td>\n      <td>7</td>\n      <td>7</td>\n      <td>7</td>\n      <td>7</td>\n      <td>7</td>\n      <td>7</td>\n    </tr>\n    <tr>\n      <th>TA</th>\n      <td>54</td>\n      <td>54</td>\n      <td>54</td>\n      <td>54</td>\n      <td>53</td>\n      <td>54</td>\n      <td>54</td>\n      <td>54</td>\n      <td>54</td>\n      <td>54</td>\n      <td>...</td>\n      <td>54</td>\n      <td>54</td>\n      <td>54</td>\n      <td>54</td>\n      <td>54</td>\n      <td>54</td>\n      <td>54</td>\n      <td>54</td>\n      <td>54</td>\n      <td>54</td>\n    </tr>\n    <tr>\n      <th rowspan=\"2\" valign=\"top\">Gd</th>\n      <th>Ex</th>\n      <td>1</td>\n      <td>1</td>\n      <td>1</td>\n      <td>1</td>\n      <td>1</td>\n      <td>1</td>\n      <td>1</td>\n      <td>1</td>\n      <td>1</td>\n      <td>1</td>\n      <td>...</td>\n      <td>1</td>\n      <td>1</td>\n      <td>1</td>\n      <td>1</td>\n      <td>1</td>\n      <td>1</td>\n      <td>1</td>\n      <td>1</td>\n      <td>1</td>\n      <td>1</td>\n    </tr>\n    <tr>\n      <th>TA</th>\n      <td>4</td>\n      <td>4</td>\n      <td>4</td>\n      <td>4</td>\n      <td>4</td>\n      <td>4</td>\n      <td>4</td>\n      <td>4</td>\n      <td>4</td>\n      <td>4</td>\n      <td>...</td>\n      <td>4</td>\n      <td>4</td>\n      <td>4</td>\n      <td>4</td>\n      <td>4</td>\n      <td>4</td>\n      <td>4</td>\n      <td>4</td>\n      <td>4</td>\n      <td>4</td>\n    </tr>\n    <tr>\n      <th rowspan=\"2\" valign=\"top\">Po</th>\n      <th>Fa</th>\n      <td>1</td>\n      <td>1</td>\n      <td>1</td>\n      <td>1</td>\n      <td>1</td>\n      <td>1</td>\n      <td>1</td>\n      <td>1</td>\n      <td>1</td>\n      <td>1</td>\n      <td>...</td>\n      <td>1</td>\n      <td>1</td>\n      <td>1</td>\n      <td>1</td>\n      <td>1</td>\n      <td>1</td>\n      <td>1</td>\n      <td>1</td>\n      <td>1</td>\n      <td>1</td>\n    </tr>\n    <tr>\n      <th>Po</th>\n      <td>4</td>\n      <td>4</td>\n      <td>4</td>\n      <td>4</td>\n      <td>4</td>\n      <td>4</td>\n      <td>4</td>\n      <td>4</td>\n      <td>4</td>\n      <td>4</td>\n      <td>...</td>\n      <td>4</td>\n      <td>4</td>\n      <td>4</td>\n      <td>4</td>\n      <td>4</td>\n      <td>4</td>\n      <td>4</td>\n      <td>4</td>\n      <td>4</td>\n      <td>4</td>\n    </tr>\n    <tr>\n      <th rowspan=\"4\" valign=\"top\">TA</th>\n      <th>Fa</th>\n      <td>30</td>\n      <td>30</td>\n      <td>30</td>\n      <td>29</td>\n      <td>24</td>\n      <td>30</td>\n      <td>30</td>\n      <td>30</td>\n      <td>30</td>\n      <td>30</td>\n      <td>...</td>\n      <td>30</td>\n      <td>30</td>\n      <td>30</td>\n      <td>30</td>\n      <td>30</td>\n      <td>30</td>\n      <td>30</td>\n      <td>30</td>\n      <td>30</td>\n      <td>30</td>\n    </tr>\n    <tr>\n      <th>Gd</th>\n      <td>3</td>\n      <td>3</td>\n      <td>3</td>\n      <td>3</td>\n      <td>3</td>\n      <td>3</td>\n      <td>3</td>\n      <td>3</td>\n      <td>3</td>\n      <td>3</td>\n      <td>...</td>\n      <td>3</td>\n      <td>3</td>\n      <td>3</td>\n      <td>3</td>\n      <td>3</td>\n      <td>3</td>\n      <td>3</td>\n      <td>3</td>\n      <td>3</td>\n      <td>3</td>\n    </tr>\n    <tr>\n      <th>Po</th>\n      <td>1</td>\n      <td>1</td>\n      <td>1</td>\n      <td>1</td>\n      <td>1</td>\n      <td>1</td>\n      <td>1</td>\n      <td>1</td>\n      <td>1</td>\n      <td>1</td>\n      <td>...</td>\n      <td>1</td>\n      <td>1</td>\n      <td>1</td>\n      <td>1</td>\n      <td>1</td>\n      <td>1</td>\n      <td>1</td>\n      <td>1</td>\n      <td>1</td>\n      <td>1</td>\n    </tr>\n    <tr>\n      <th>TA</th>\n      <td>634</td>\n      <td>634</td>\n      <td>634</td>\n      <td>633</td>\n      <td>563</td>\n      <td>634</td>\n      <td>634</td>\n      <td>634</td>\n      <td>634</td>\n      <td>634</td>\n      <td>...</td>\n      <td>634</td>\n      <td>634</td>\n      <td>634</td>\n      <td>634</td>\n      <td>634</td>\n      <td>634</td>\n      <td>634</td>\n      <td>634</td>\n      <td>634</td>\n      <td>634</td>\n    </tr>\n    <tr>\n      <th>NA</th>\n      <th>NA</th>\n      <th>NA</th>\n      <td>158</td>\n      <td>158</td>\n      <td>158</td>\n      <td>158</td>\n      <td>147</td>\n      <td>158</td>\n      <td>158</td>\n      <td>158</td>\n      <td>158</td>\n      <td>158</td>\n      <td>...</td>\n      <td>158</td>\n      <td>158</td>\n      <td>158</td>\n      <td>158</td>\n      <td>158</td>\n      <td>158</td>\n      <td>158</td>\n      <td>158</td>\n      <td>158</td>\n      <td>158</td>\n    </tr>\n  </tbody>\n</table>\n<p>35 rows × 80 columns</p>\n</div>"
     },
     "metadata": {},
     "execution_count": 583
    }
   ],
   "source": [
    "\n",
    "# Nos aseguramos de que sólo los que no tienen garaje no tienen informada la fecha de construcción del garaje\n",
    "all_data.loc[(all_data.GarageYrBlt.isnull()),garage_features] # 158\n",
    "all_data.loc[all_data.GarageType == 'NA'] #158\n",
    "all_data.loc[all_data.GarageType == 'NA'].groupby(['GarageType','GarageQual']).count() # 158\n",
    "all_data.loc[all_data.GarageType == 'NA'].groupby(['GarageType','GarageQual','GarageCond']).count() # 158\n",
    "all_data.groupby(['GarageType','GarageQual','GarageCond']).count() # 158"
   ]
  },
  {
   "cell_type": "code",
   "execution_count": 584,
   "metadata": {},
   "outputs": [],
   "source": [
    "# Rellenamos la fecha de construcción del garaje con 0\n",
    "all_data[['GarageYrBlt']] = all_data[['GarageYrBlt']].fillna(0)"
   ]
  },
  {
   "cell_type": "code",
   "execution_count": 585,
   "metadata": {
    "tags": []
   },
   "outputs": [
    {
     "output_type": "stream",
     "name": "stdout",
     "text": "<class 'pandas.core.frame.DataFrame'>\nRangeIndex: 2919 entries, 0 to 2918\nData columns (total 83 columns):\n #   Column         Non-Null Count  Dtype  \n---  ------         --------------  -----  \n 0   index          2919 non-null   int64  \n 1   Id             2919 non-null   int64  \n 2   MSSubClass     2919 non-null   int64  \n 3   MSZoning       2915 non-null   object \n 4   LotFrontage    2433 non-null   float64\n 5   LotArea        2919 non-null   int64  \n 6   Street         2919 non-null   object \n 7   Alley          2919 non-null   object \n 8   LotShape       2919 non-null   object \n 9   LandContour    2919 non-null   object \n 10  Utilities      2917 non-null   object \n 11  LotConfig      2919 non-null   object \n 12  LandSlope      2919 non-null   object \n 13  Neighborhood   2919 non-null   object \n 14  Condition1     2919 non-null   object \n 15  Condition2     2919 non-null   object \n 16  BldgType       2919 non-null   object \n 17  HouseStyle     2919 non-null   object \n 18  OverallQual    2919 non-null   int64  \n 19  OverallCond    2919 non-null   int64  \n 20  YearBuilt      2919 non-null   int64  \n 21  YearRemodAdd   2919 non-null   int64  \n 22  RoofStyle      2919 non-null   object \n 23  RoofMatl       2919 non-null   object \n 24  Exterior1st    2918 non-null   object \n 25  Exterior2nd    2918 non-null   object \n 26  MasVnrType     2895 non-null   object \n 27  MasVnrArea     2896 non-null   float64\n 28  ExterQual      2919 non-null   object \n 29  ExterCond      2919 non-null   object \n 30  Foundation     2919 non-null   object \n 31  BsmtQual       2919 non-null   object \n 32  BsmtCond       2919 non-null   object \n 33  BsmtExposure   2919 non-null   object \n 34  BsmtFinType1   2919 non-null   object \n 35  BsmtFinSF1     2918 non-null   float64\n 36  BsmtFinType2   2919 non-null   object \n 37  BsmtFinSF2     2918 non-null   float64\n 38  BsmtUnfSF      2918 non-null   float64\n 39  TotalBsmtSF    2918 non-null   float64\n 40  Heating        2919 non-null   object \n 41  HeatingQC      2919 non-null   object \n 42  CentralAir     2919 non-null   object \n 43  Electrical     2918 non-null   object \n 44  1stFlrSF       2919 non-null   int64  \n 45  2ndFlrSF       2919 non-null   int64  \n 46  LowQualFinSF   2919 non-null   int64  \n 47  GrLivArea      2919 non-null   int64  \n 48  BsmtFullBath   2917 non-null   float64\n 49  BsmtHalfBath   2917 non-null   float64\n 50  FullBath       2919 non-null   int64  \n 51  HalfBath       2919 non-null   int64  \n 52  BedroomAbvGr   2919 non-null   int64  \n 53  KitchenAbvGr   2919 non-null   int64  \n 54  KitchenQual    2918 non-null   object \n 55  TotRmsAbvGrd   2919 non-null   int64  \n 56  Functional     2919 non-null   object \n 57  Fireplaces     2919 non-null   int64  \n 58  FireplaceQu    2919 non-null   object \n 59  GarageType     2919 non-null   object \n 60  GarageYrBlt    2919 non-null   float64\n 61  GarageFinish   2919 non-null   object \n 62  GarageCars     2919 non-null   float64\n 63  GarageArea     2919 non-null   float64\n 64  GarageQual     2919 non-null   object \n 65  GarageCond     2919 non-null   object \n 66  PavedDrive     2919 non-null   object \n 67  WoodDeckSF     2919 non-null   int64  \n 68  OpenPorchSF    2919 non-null   int64  \n 69  EnclosedPorch  2919 non-null   int64  \n 70  3SsnPorch      2919 non-null   int64  \n 71  ScreenPorch    2919 non-null   int64  \n 72  PoolArea       2919 non-null   int64  \n 73  PoolQC         2919 non-null   object \n 74  Fence          2919 non-null   object \n 75  MiscFeature    2919 non-null   object \n 76  MiscVal        2919 non-null   int64  \n 77  MoSold         2919 non-null   int64  \n 78  YrSold         2919 non-null   int64  \n 79  SaleType       2918 non-null   object \n 80  SaleCondition  2919 non-null   object \n 81  SalePrice      2919 non-null   int64  \n 82  Type           2919 non-null   object \ndtypes: float64(11), int64(28), object(44)\nmemory usage: 1.8+ MB\n"
    }
   ],
   "source": [
    "all_data.info()"
   ]
  },
  {
   "cell_type": "code",
   "execution_count": 586,
   "metadata": {
    "tags": []
   },
   "outputs": [
    {
     "output_type": "stream",
     "name": "stdout",
     "text": "<class 'pandas.core.frame.DataFrame'>\nRangeIndex: 2919 entries, 0 to 2918\nData columns (total 83 columns):\n #   Column         Non-Null Count  Dtype  \n---  ------         --------------  -----  \n 0   index          2919 non-null   int64  \n 1   Id             2919 non-null   int64  \n 2   MSSubClass     2919 non-null   int64  \n 3   MSZoning       2915 non-null   object \n 4   LotFrontage    2433 non-null   float64\n 5   LotArea        2919 non-null   int64  \n 6   Street         2919 non-null   object \n 7   Alley          2919 non-null   object \n 8   LotShape       2919 non-null   object \n 9   LandContour    2919 non-null   object \n 10  Utilities      2917 non-null   object \n 11  LotConfig      2919 non-null   object \n 12  LandSlope      2919 non-null   object \n 13  Neighborhood   2919 non-null   object \n 14  Condition1     2919 non-null   object \n 15  Condition2     2919 non-null   object \n 16  BldgType       2919 non-null   object \n 17  HouseStyle     2919 non-null   object \n 18  OverallQual    2919 non-null   int64  \n 19  OverallCond    2919 non-null   int64  \n 20  YearBuilt      2919 non-null   int64  \n 21  YearRemodAdd   2919 non-null   int64  \n 22  RoofStyle      2919 non-null   object \n 23  RoofMatl       2919 non-null   object \n 24  Exterior1st    2918 non-null   object \n 25  Exterior2nd    2918 non-null   object \n 26  MasVnrType     2895 non-null   object \n 27  MasVnrArea     2896 non-null   float64\n 28  ExterQual      2919 non-null   object \n 29  ExterCond      2919 non-null   object \n 30  Foundation     2919 non-null   object \n 31  BsmtQual       2919 non-null   object \n 32  BsmtCond       2919 non-null   object \n 33  BsmtExposure   2919 non-null   object \n 34  BsmtFinType1   2919 non-null   object \n 35  BsmtFinSF1     2919 non-null   float64\n 36  BsmtFinType2   2919 non-null   object \n 37  BsmtFinSF2     2919 non-null   float64\n 38  BsmtUnfSF      2919 non-null   float64\n 39  TotalBsmtSF    2919 non-null   float64\n 40  Heating        2919 non-null   object \n 41  HeatingQC      2919 non-null   object \n 42  CentralAir     2919 non-null   object \n 43  Electrical     2918 non-null   object \n 44  1stFlrSF       2919 non-null   int64  \n 45  2ndFlrSF       2919 non-null   int64  \n 46  LowQualFinSF   2919 non-null   int64  \n 47  GrLivArea      2919 non-null   int64  \n 48  BsmtFullBath   2917 non-null   float64\n 49  BsmtHalfBath   2917 non-null   float64\n 50  FullBath       2919 non-null   int64  \n 51  HalfBath       2919 non-null   int64  \n 52  BedroomAbvGr   2919 non-null   int64  \n 53  KitchenAbvGr   2919 non-null   int64  \n 54  KitchenQual    2918 non-null   object \n 55  TotRmsAbvGrd   2919 non-null   int64  \n 56  Functional     2919 non-null   object \n 57  Fireplaces     2919 non-null   int64  \n 58  FireplaceQu    2919 non-null   object \n 59  GarageType     2919 non-null   object \n 60  GarageYrBlt    2919 non-null   float64\n 61  GarageFinish   2919 non-null   object \n 62  GarageCars     2919 non-null   float64\n 63  GarageArea     2919 non-null   float64\n 64  GarageQual     2919 non-null   object \n 65  GarageCond     2919 non-null   object \n 66  PavedDrive     2919 non-null   object \n 67  WoodDeckSF     2919 non-null   int64  \n 68  OpenPorchSF    2919 non-null   int64  \n 69  EnclosedPorch  2919 non-null   int64  \n 70  3SsnPorch      2919 non-null   int64  \n 71  ScreenPorch    2919 non-null   int64  \n 72  PoolArea       2919 non-null   int64  \n 73  PoolQC         2919 non-null   object \n 74  Fence          2919 non-null   object \n 75  MiscFeature    2919 non-null   object \n 76  MiscVal        2919 non-null   int64  \n 77  MoSold         2919 non-null   int64  \n 78  YrSold         2919 non-null   int64  \n 79  SaleType       2918 non-null   object \n 80  SaleCondition  2919 non-null   object \n 81  SalePrice      2919 non-null   int64  \n 82  Type           2919 non-null   object \ndtypes: float64(11), int64(28), object(44)\nmemory usage: 1.8+ MB\n"
    }
   ],
   "source": [
    "# Basement Cleaning\n",
    "bsmt_features = ['BsmtQual','BsmtCond','BsmtExposure','BsmtFinType1','BsmtFinSF1','BsmtFinType2','BsmtFinSF2','BsmtUnfSF','TotalBsmtSF']\n",
    "all_data.loc[(all_data.BsmtFinSF1.isnull()) | (all_data.BsmtFinSF2.isnull())| (all_data.BsmtUnfSF.isnull())| (all_data.TotalBsmtSF.isnull()),bsmt_features]\n",
    "all_data[bsmt_features] = all_data[bsmt_features].fillna(0)\n",
    "all_data.info()"
   ]
  },
  {
   "cell_type": "code",
   "execution_count": 587,
   "metadata": {},
   "outputs": [
    {
     "output_type": "execute_result",
     "data": {
      "text/plain": "              BsmtQual  BsmtCond  BsmtExposure  BsmtFinType1  BsmtFinSF1  \\\nBsmtFinType2                                                               \nBLQ                  1         1             1             1           1   \nNA                  79        79            79            79          79   \nUnf               2492      2492          2492          2492        2492   \n\n              BsmtFinSF2  BsmtUnfSF  TotalBsmtSF  \nBsmtFinType2                                      \nBLQ                    1          1            1  \nNA                    79         79           79  \nUnf                 2492       2492         2492  ",
      "text/html": "<div>\n<style scoped>\n    .dataframe tbody tr th:only-of-type {\n        vertical-align: middle;\n    }\n\n    .dataframe tbody tr th {\n        vertical-align: top;\n    }\n\n    .dataframe thead th {\n        text-align: right;\n    }\n</style>\n<table border=\"1\" class=\"dataframe\">\n  <thead>\n    <tr style=\"text-align: right;\">\n      <th></th>\n      <th>BsmtQual</th>\n      <th>BsmtCond</th>\n      <th>BsmtExposure</th>\n      <th>BsmtFinType1</th>\n      <th>BsmtFinSF1</th>\n      <th>BsmtFinSF2</th>\n      <th>BsmtUnfSF</th>\n      <th>TotalBsmtSF</th>\n    </tr>\n    <tr>\n      <th>BsmtFinType2</th>\n      <th></th>\n      <th></th>\n      <th></th>\n      <th></th>\n      <th></th>\n      <th></th>\n      <th></th>\n      <th></th>\n    </tr>\n  </thead>\n  <tbody>\n    <tr>\n      <th>BLQ</th>\n      <td>1</td>\n      <td>1</td>\n      <td>1</td>\n      <td>1</td>\n      <td>1</td>\n      <td>1</td>\n      <td>1</td>\n      <td>1</td>\n    </tr>\n    <tr>\n      <th>NA</th>\n      <td>79</td>\n      <td>79</td>\n      <td>79</td>\n      <td>79</td>\n      <td>79</td>\n      <td>79</td>\n      <td>79</td>\n      <td>79</td>\n    </tr>\n    <tr>\n      <th>Unf</th>\n      <td>2492</td>\n      <td>2492</td>\n      <td>2492</td>\n      <td>2492</td>\n      <td>2492</td>\n      <td>2492</td>\n      <td>2492</td>\n      <td>2492</td>\n    </tr>\n  </tbody>\n</table>\n</div>"
     },
     "metadata": {},
     "execution_count": 587
    }
   ],
   "source": [
    "all_data.loc[(all_data.BsmtQual != 'NA') & (all_data.BsmtFinSF1 == 0) & (all_data.BsmtFinSF2 == 0) & (all_data.BsmtUnfSF == 0), bsmt_features ]\n",
    "all_data.loc[(all_data.BsmtFinType1 != 'NA') & (all_data.BsmtFinType1 != 'Unf') & (all_data.BsmtFinSF1 == 0), bsmt_features ]\n",
    "all_data.loc[(all_data.BsmtFinType2 != 'NA') & (all_data.BsmtFinType2 != 'Unf') & (all_data.BsmtFinSF2 == 0), bsmt_features ]\n",
    "# all_data.loc[((all_data.BsmtFinType2 == 'NA') | (all_data.BsmtFinType2 == 'Unf')) & (all_data.BsmtFinSF2 == 0), bsmt_features ]\n",
    "all_data.loc[(all_data.BsmtFinSF2 == 0), bsmt_features ].groupby('BsmtFinType2').count()"
   ]
  },
  {
   "cell_type": "code",
   "execution_count": 588,
   "metadata": {},
   "outputs": [
    {
     "output_type": "execute_result",
     "data": {
      "text/plain": "              BsmtQual  BsmtCond  BsmtExposure  BsmtFinType1  BsmtFinSF1  \\\nBsmtFinType2                                                               \nNA                  79        79            79            79          79   \nUnf               2493      2493          2493          2493        2493   \n\n              BsmtFinSF2  BsmtUnfSF  TotalBsmtSF  \nBsmtFinType2                                      \nNA                    79         79           79  \nUnf                 2493       2493         2493  ",
      "text/html": "<div>\n<style scoped>\n    .dataframe tbody tr th:only-of-type {\n        vertical-align: middle;\n    }\n\n    .dataframe tbody tr th {\n        vertical-align: top;\n    }\n\n    .dataframe thead th {\n        text-align: right;\n    }\n</style>\n<table border=\"1\" class=\"dataframe\">\n  <thead>\n    <tr style=\"text-align: right;\">\n      <th></th>\n      <th>BsmtQual</th>\n      <th>BsmtCond</th>\n      <th>BsmtExposure</th>\n      <th>BsmtFinType1</th>\n      <th>BsmtFinSF1</th>\n      <th>BsmtFinSF2</th>\n      <th>BsmtUnfSF</th>\n      <th>TotalBsmtSF</th>\n    </tr>\n    <tr>\n      <th>BsmtFinType2</th>\n      <th></th>\n      <th></th>\n      <th></th>\n      <th></th>\n      <th></th>\n      <th></th>\n      <th></th>\n      <th></th>\n    </tr>\n  </thead>\n  <tbody>\n    <tr>\n      <th>NA</th>\n      <td>79</td>\n      <td>79</td>\n      <td>79</td>\n      <td>79</td>\n      <td>79</td>\n      <td>79</td>\n      <td>79</td>\n      <td>79</td>\n    </tr>\n    <tr>\n      <th>Unf</th>\n      <td>2493</td>\n      <td>2493</td>\n      <td>2493</td>\n      <td>2493</td>\n      <td>2493</td>\n      <td>2493</td>\n      <td>2493</td>\n      <td>2493</td>\n    </tr>\n  </tbody>\n</table>\n</div>"
     },
     "metadata": {},
     "execution_count": 588
    }
   ],
   "source": [
    "# Parece que existe un error en el Id 1471. BsmtFinType2 indica BLQ pero BsmtFinSF2 nos dice 0.0. Podría suceder que BsmtFinType2 = 'Unf'\n",
    "# Sustituimos por 'Unf'\n",
    "all_data.loc[all_data.Id == 1471, 'BsmtFinType2'] = 'Unf'\n",
    "all_data.loc[(all_data.BsmtFinSF2 == 0), bsmt_features ].groupby('BsmtFinType2').count()"
   ]
  },
  {
   "cell_type": "code",
   "execution_count": 589,
   "metadata": {
    "tags": []
   },
   "outputs": [
    {
     "output_type": "execute_result",
     "data": {
      "text/plain": "Empty DataFrame\nColumns: [BsmtQual, BsmtCond, BsmtExposure, BsmtFinType1, BsmtFinSF1, BsmtFinType2, BsmtFinSF2, BsmtUnfSF, TotalBsmtSF]\nIndex: []",
      "text/html": "<div>\n<style scoped>\n    .dataframe tbody tr th:only-of-type {\n        vertical-align: middle;\n    }\n\n    .dataframe tbody tr th {\n        vertical-align: top;\n    }\n\n    .dataframe thead th {\n        text-align: right;\n    }\n</style>\n<table border=\"1\" class=\"dataframe\">\n  <thead>\n    <tr style=\"text-align: right;\">\n      <th></th>\n      <th>BsmtQual</th>\n      <th>BsmtCond</th>\n      <th>BsmtExposure</th>\n      <th>BsmtFinType1</th>\n      <th>BsmtFinSF1</th>\n      <th>BsmtFinType2</th>\n      <th>BsmtFinSF2</th>\n      <th>BsmtUnfSF</th>\n      <th>TotalBsmtSF</th>\n    </tr>\n  </thead>\n  <tbody>\n  </tbody>\n</table>\n</div>"
     },
     "metadata": {},
     "execution_count": 589
    }
   ],
   "source": [
    "all_data.loc[all_data.BsmtFinSF1 + all_data.BsmtFinSF2 + all_data.BsmtUnfSF != all_data.TotalBsmtSF,bsmt_features]"
   ]
  },
  {
   "cell_type": "code",
   "execution_count": 590,
   "metadata": {
    "tags": []
   },
   "outputs": [
    {
     "output_type": "execute_result",
     "data": {
      "text/plain": "Empty DataFrame\nColumns: [BsmtQual, BsmtCond, BsmtExposure, BsmtFinType1, BsmtFinSF1, BsmtFinType2, BsmtFinSF2, BsmtUnfSF, TotalBsmtSF, BsmtFullBath, BsmtHalfBath]\nIndex: []",
      "text/html": "<div>\n<style scoped>\n    .dataframe tbody tr th:only-of-type {\n        vertical-align: middle;\n    }\n\n    .dataframe tbody tr th {\n        vertical-align: top;\n    }\n\n    .dataframe thead th {\n        text-align: right;\n    }\n</style>\n<table border=\"1\" class=\"dataframe\">\n  <thead>\n    <tr style=\"text-align: right;\">\n      <th></th>\n      <th>BsmtQual</th>\n      <th>BsmtCond</th>\n      <th>BsmtExposure</th>\n      <th>BsmtFinType1</th>\n      <th>BsmtFinSF1</th>\n      <th>BsmtFinType2</th>\n      <th>BsmtFinSF2</th>\n      <th>BsmtUnfSF</th>\n      <th>TotalBsmtSF</th>\n      <th>BsmtFullBath</th>\n      <th>BsmtHalfBath</th>\n    </tr>\n  </thead>\n  <tbody>\n  </tbody>\n</table>\n</div>"
     },
     "metadata": {},
     "execution_count": 590
    }
   ],
   "source": [
    "# Basement Baths\n",
    "bath_features = bsmt_features + ['BsmtFullBath','BsmtHalfBath']\n",
    "all_data[['BsmtFullBath','BsmtHalfBath']] = all_data[['BsmtFullBath','BsmtHalfBath']].fillna(0)\n",
    "all_data.loc[(all_data.BsmtFullBath.isnull()) | (all_data.BsmtHalfBath.isnull()) , bath_features]"
   ]
  },
  {
   "cell_type": "code",
   "execution_count": 591,
   "metadata": {
    "tags": []
   },
   "outputs": [
    {
     "output_type": "stream",
     "name": "stdout",
     "text": "<class 'pandas.core.frame.DataFrame'>\nRangeIndex: 2919 entries, 0 to 2918\nData columns (total 83 columns):\n #   Column         Non-Null Count  Dtype  \n---  ------         --------------  -----  \n 0   index          2919 non-null   int64  \n 1   Id             2919 non-null   int64  \n 2   MSSubClass     2919 non-null   int64  \n 3   MSZoning       2915 non-null   object \n 4   LotFrontage    2433 non-null   float64\n 5   LotArea        2919 non-null   int64  \n 6   Street         2919 non-null   object \n 7   Alley          2919 non-null   object \n 8   LotShape       2919 non-null   object \n 9   LandContour    2919 non-null   object \n 10  Utilities      2917 non-null   object \n 11  LotConfig      2919 non-null   object \n 12  LandSlope      2919 non-null   object \n 13  Neighborhood   2919 non-null   object \n 14  Condition1     2919 non-null   object \n 15  Condition2     2919 non-null   object \n 16  BldgType       2919 non-null   object \n 17  HouseStyle     2919 non-null   object \n 18  OverallQual    2919 non-null   int64  \n 19  OverallCond    2919 non-null   int64  \n 20  YearBuilt      2919 non-null   int64  \n 21  YearRemodAdd   2919 non-null   int64  \n 22  RoofStyle      2919 non-null   object \n 23  RoofMatl       2919 non-null   object \n 24  Exterior1st    2918 non-null   object \n 25  Exterior2nd    2918 non-null   object \n 26  MasVnrType     2895 non-null   object \n 27  MasVnrArea     2896 non-null   float64\n 28  ExterQual      2919 non-null   object \n 29  ExterCond      2919 non-null   object \n 30  Foundation     2919 non-null   object \n 31  BsmtQual       2919 non-null   object \n 32  BsmtCond       2919 non-null   object \n 33  BsmtExposure   2919 non-null   object \n 34  BsmtFinType1   2919 non-null   object \n 35  BsmtFinSF1     2919 non-null   float64\n 36  BsmtFinType2   2919 non-null   object \n 37  BsmtFinSF2     2919 non-null   float64\n 38  BsmtUnfSF      2919 non-null   float64\n 39  TotalBsmtSF    2919 non-null   float64\n 40  Heating        2919 non-null   object \n 41  HeatingQC      2919 non-null   object \n 42  CentralAir     2919 non-null   object \n 43  Electrical     2918 non-null   object \n 44  1stFlrSF       2919 non-null   int64  \n 45  2ndFlrSF       2919 non-null   int64  \n 46  LowQualFinSF   2919 non-null   int64  \n 47  GrLivArea      2919 non-null   int64  \n 48  BsmtFullBath   2919 non-null   float64\n 49  BsmtHalfBath   2919 non-null   float64\n 50  FullBath       2919 non-null   int64  \n 51  HalfBath       2919 non-null   int64  \n 52  BedroomAbvGr   2919 non-null   int64  \n 53  KitchenAbvGr   2919 non-null   int64  \n 54  KitchenQual    2918 non-null   object \n 55  TotRmsAbvGrd   2919 non-null   int64  \n 56  Functional     2919 non-null   object \n 57  Fireplaces     2919 non-null   int64  \n 58  FireplaceQu    2919 non-null   object \n 59  GarageType     2919 non-null   object \n 60  GarageYrBlt    2919 non-null   float64\n 61  GarageFinish   2919 non-null   object \n 62  GarageCars     2919 non-null   float64\n 63  GarageArea     2919 non-null   float64\n 64  GarageQual     2919 non-null   object \n 65  GarageCond     2919 non-null   object \n 66  PavedDrive     2919 non-null   object \n 67  WoodDeckSF     2919 non-null   int64  \n 68  OpenPorchSF    2919 non-null   int64  \n 69  EnclosedPorch  2919 non-null   int64  \n 70  3SsnPorch      2919 non-null   int64  \n 71  ScreenPorch    2919 non-null   int64  \n 72  PoolArea       2919 non-null   int64  \n 73  PoolQC         2919 non-null   object \n 74  Fence          2919 non-null   object \n 75  MiscFeature    2919 non-null   object \n 76  MiscVal        2919 non-null   int64  \n 77  MoSold         2919 non-null   int64  \n 78  YrSold         2919 non-null   int64  \n 79  SaleType       2918 non-null   object \n 80  SaleCondition  2919 non-null   object \n 81  SalePrice      2919 non-null   int64  \n 82  Type           2919 non-null   object \ndtypes: float64(11), int64(28), object(44)\nmemory usage: 1.8+ MB\n"
    }
   ],
   "source": [
    "all_data.info()"
   ]
  },
  {
   "cell_type": "code",
   "execution_count": 592,
   "metadata": {
    "tags": []
   },
   "outputs": [
    {
     "output_type": "stream",
     "name": "stdout",
     "text": "<class 'pandas.core.frame.DataFrame'>\nRangeIndex: 2919 entries, 0 to 2918\nData columns (total 83 columns):\n #   Column         Non-Null Count  Dtype  \n---  ------         --------------  -----  \n 0   index          2919 non-null   int64  \n 1   Id             2919 non-null   int64  \n 2   MSSubClass     2919 non-null   int64  \n 3   MSZoning       2915 non-null   object \n 4   LotFrontage    2433 non-null   float64\n 5   LotArea        2919 non-null   int64  \n 6   Street         2919 non-null   object \n 7   Alley          2919 non-null   object \n 8   LotShape       2919 non-null   object \n 9   LandContour    2919 non-null   object \n 10  Utilities      2917 non-null   object \n 11  LotConfig      2919 non-null   object \n 12  LandSlope      2919 non-null   object \n 13  Neighborhood   2919 non-null   object \n 14  Condition1     2919 non-null   object \n 15  Condition2     2919 non-null   object \n 16  BldgType       2919 non-null   object \n 17  HouseStyle     2919 non-null   object \n 18  OverallQual    2919 non-null   int64  \n 19  OverallCond    2919 non-null   int64  \n 20  YearBuilt      2919 non-null   int64  \n 21  YearRemodAdd   2919 non-null   int64  \n 22  RoofStyle      2919 non-null   object \n 23  RoofMatl       2919 non-null   object \n 24  Exterior1st    2918 non-null   object \n 25  Exterior2nd    2918 non-null   object \n 26  MasVnrType     2895 non-null   object \n 27  MasVnrArea     2896 non-null   float64\n 28  ExterQual      2919 non-null   object \n 29  ExterCond      2919 non-null   object \n 30  Foundation     2919 non-null   object \n 31  BsmtQual       2919 non-null   object \n 32  BsmtCond       2919 non-null   object \n 33  BsmtExposure   2919 non-null   object \n 34  BsmtFinType1   2919 non-null   object \n 35  BsmtFinSF1     2919 non-null   float64\n 36  BsmtFinType2   2919 non-null   object \n 37  BsmtFinSF2     2919 non-null   float64\n 38  BsmtUnfSF      2919 non-null   float64\n 39  TotalBsmtSF    2919 non-null   float64\n 40  Heating        2919 non-null   object \n 41  HeatingQC      2919 non-null   object \n 42  CentralAir     2919 non-null   object \n 43  Electrical     2918 non-null   object \n 44  1stFlrSF       2919 non-null   int64  \n 45  2ndFlrSF       2919 non-null   int64  \n 46  LowQualFinSF   2919 non-null   int64  \n 47  GrLivArea      2919 non-null   int64  \n 48  BsmtFullBath   2919 non-null   float64\n 49  BsmtHalfBath   2919 non-null   float64\n 50  FullBath       2919 non-null   int64  \n 51  HalfBath       2919 non-null   int64  \n 52  BedroomAbvGr   2919 non-null   int64  \n 53  KitchenAbvGr   2919 non-null   int64  \n 54  KitchenQual    2918 non-null   object \n 55  TotRmsAbvGrd   2919 non-null   int64  \n 56  Functional     2919 non-null   object \n 57  Fireplaces     2919 non-null   int64  \n 58  FireplaceQu    2919 non-null   object \n 59  GarageType     2919 non-null   object \n 60  GarageYrBlt    2919 non-null   float64\n 61  GarageFinish   2919 non-null   object \n 62  GarageCars     2919 non-null   float64\n 63  GarageArea     2919 non-null   float64\n 64  GarageQual     2919 non-null   object \n 65  GarageCond     2919 non-null   object \n 66  PavedDrive     2919 non-null   object \n 67  WoodDeckSF     2919 non-null   int64  \n 68  OpenPorchSF    2919 non-null   int64  \n 69  EnclosedPorch  2919 non-null   int64  \n 70  3SsnPorch      2919 non-null   int64  \n 71  ScreenPorch    2919 non-null   int64  \n 72  PoolArea       2919 non-null   int64  \n 73  PoolQC         2919 non-null   object \n 74  Fence          2919 non-null   object \n 75  MiscFeature    2919 non-null   object \n 76  MiscVal        2919 non-null   int64  \n 77  MoSold         2919 non-null   int64  \n 78  YrSold         2919 non-null   int64  \n 79  SaleType       2919 non-null   object \n 80  SaleCondition  2919 non-null   object \n 81  SalePrice      2919 non-null   int64  \n 82  Type           2919 non-null   object \ndtypes: float64(11), int64(28), object(44)\nmemory usage: 1.8+ MB\n"
    }
   ],
   "source": [
    "# SaleType Cleaning\n",
    "sale_features = ['MoSold','YrSold','SaleType','SaleCondition']\n",
    "all_data.loc[all_data.SaleType.isnull(), sale_features]\n",
    "all_data.loc[all_data.SaleCondition == 'Normal',sale_features].groupby(['SaleType','SaleCondition']).count()\n",
    "all_data[['SaleType']] = all_data[['SaleType']].fillna('WD')\n",
    "all_data.info()"
   ]
  },
  {
   "cell_type": "code",
   "execution_count": 593,
   "metadata": {},
   "outputs": [
    {
     "output_type": "execute_result",
     "data": {
      "text/plain": "Empty DataFrame\nColumns: [KitchenAbvGr, KitchenQual, OverallQual, Id]\nIndex: []",
      "text/html": "<div>\n<style scoped>\n    .dataframe tbody tr th:only-of-type {\n        vertical-align: middle;\n    }\n\n    .dataframe tbody tr th {\n        vertical-align: top;\n    }\n\n    .dataframe thead th {\n        text-align: right;\n    }\n</style>\n<table border=\"1\" class=\"dataframe\">\n  <thead>\n    <tr style=\"text-align: right;\">\n      <th></th>\n      <th>KitchenAbvGr</th>\n      <th>KitchenQual</th>\n      <th>OverallQual</th>\n      <th>Id</th>\n    </tr>\n  </thead>\n  <tbody>\n  </tbody>\n</table>\n</div>"
     },
     "metadata": {},
     "execution_count": 593
    }
   ],
   "source": [
    "# Kitche Quality Id 1556\n",
    "# Rellenamos nulos con TA que parece ser el más habitual en las casas con el mismo OverallQual\n",
    "kit_features = ['KitchenAbvGr','KitchenQual','OverallQual','Id']\n",
    "all_data.loc[(all_data.OverallQual == 5) & (all_data.YearRemodAdd <= 1953), kit_features].groupby(['KitchenAbvGr','KitchenQual','OverallQual']).count()\n",
    "# all_data.loc[(all_data.OverallQual == 10) , kit_features].groupby(['KitchenAbvGr','KitchenQual','OverallQual']).count()\n",
    "all_data[['KitchenQual']] = all_data[['KitchenQual']].fillna('TA')\n",
    "all_data.loc[all_data.KitchenQual.isnull(), kit_features]"
   ]
  },
  {
   "cell_type": "code",
   "execution_count": 594,
   "metadata": {
    "tags": []
   },
   "outputs": [
    {
     "output_type": "stream",
     "name": "stdout",
     "text": "<class 'pandas.core.frame.DataFrame'>\nRangeIndex: 2919 entries, 0 to 2918\nData columns (total 83 columns):\n #   Column         Non-Null Count  Dtype  \n---  ------         --------------  -----  \n 0   index          2919 non-null   int64  \n 1   Id             2919 non-null   int64  \n 2   MSSubClass     2919 non-null   int64  \n 3   MSZoning       2915 non-null   object \n 4   LotFrontage    2433 non-null   float64\n 5   LotArea        2919 non-null   int64  \n 6   Street         2919 non-null   object \n 7   Alley          2919 non-null   object \n 8   LotShape       2919 non-null   object \n 9   LandContour    2919 non-null   object \n 10  Utilities      2917 non-null   object \n 11  LotConfig      2919 non-null   object \n 12  LandSlope      2919 non-null   object \n 13  Neighborhood   2919 non-null   object \n 14  Condition1     2919 non-null   object \n 15  Condition2     2919 non-null   object \n 16  BldgType       2919 non-null   object \n 17  HouseStyle     2919 non-null   object \n 18  OverallQual    2919 non-null   int64  \n 19  OverallCond    2919 non-null   int64  \n 20  YearBuilt      2919 non-null   int64  \n 21  YearRemodAdd   2919 non-null   int64  \n 22  RoofStyle      2919 non-null   object \n 23  RoofMatl       2919 non-null   object \n 24  Exterior1st    2918 non-null   object \n 25  Exterior2nd    2918 non-null   object \n 26  MasVnrType     2895 non-null   object \n 27  MasVnrArea     2896 non-null   float64\n 28  ExterQual      2919 non-null   object \n 29  ExterCond      2919 non-null   object \n 30  Foundation     2919 non-null   object \n 31  BsmtQual       2919 non-null   object \n 32  BsmtCond       2919 non-null   object \n 33  BsmtExposure   2919 non-null   object \n 34  BsmtFinType1   2919 non-null   object \n 35  BsmtFinSF1     2919 non-null   float64\n 36  BsmtFinType2   2919 non-null   object \n 37  BsmtFinSF2     2919 non-null   float64\n 38  BsmtUnfSF      2919 non-null   float64\n 39  TotalBsmtSF    2919 non-null   float64\n 40  Heating        2919 non-null   object \n 41  HeatingQC      2919 non-null   object \n 42  CentralAir     2919 non-null   object \n 43  Electrical     2919 non-null   object \n 44  1stFlrSF       2919 non-null   int64  \n 45  2ndFlrSF       2919 non-null   int64  \n 46  LowQualFinSF   2919 non-null   int64  \n 47  GrLivArea      2919 non-null   int64  \n 48  BsmtFullBath   2919 non-null   float64\n 49  BsmtHalfBath   2919 non-null   float64\n 50  FullBath       2919 non-null   int64  \n 51  HalfBath       2919 non-null   int64  \n 52  BedroomAbvGr   2919 non-null   int64  \n 53  KitchenAbvGr   2919 non-null   int64  \n 54  KitchenQual    2919 non-null   object \n 55  TotRmsAbvGrd   2919 non-null   int64  \n 56  Functional     2919 non-null   object \n 57  Fireplaces     2919 non-null   int64  \n 58  FireplaceQu    2919 non-null   object \n 59  GarageType     2919 non-null   object \n 60  GarageYrBlt    2919 non-null   float64\n 61  GarageFinish   2919 non-null   object \n 62  GarageCars     2919 non-null   float64\n 63  GarageArea     2919 non-null   float64\n 64  GarageQual     2919 non-null   object \n 65  GarageCond     2919 non-null   object \n 66  PavedDrive     2919 non-null   object \n 67  WoodDeckSF     2919 non-null   int64  \n 68  OpenPorchSF    2919 non-null   int64  \n 69  EnclosedPorch  2919 non-null   int64  \n 70  3SsnPorch      2919 non-null   int64  \n 71  ScreenPorch    2919 non-null   int64  \n 72  PoolArea       2919 non-null   int64  \n 73  PoolQC         2919 non-null   object \n 74  Fence          2919 non-null   object \n 75  MiscFeature    2919 non-null   object \n 76  MiscVal        2919 non-null   int64  \n 77  MoSold         2919 non-null   int64  \n 78  YrSold         2919 non-null   int64  \n 79  SaleType       2919 non-null   object \n 80  SaleCondition  2919 non-null   object \n 81  SalePrice      2919 non-null   int64  \n 82  Type           2919 non-null   object \ndtypes: float64(11), int64(28), object(44)\nmemory usage: 1.8+ MB\n"
    }
   ],
   "source": [
    "all_data.loc[all_data.Electrical.isnull(),['YearBuilt']]\n",
    "all_data.loc[all_data.YearBuilt >= 2006].groupby('Electrical').count()\n",
    "all_data.groupby('Electrical').count()\n",
    "all_data[['Electrical']] = all_data[['Electrical']].fillna('SBrkr')\n",
    "all_data.info()"
   ]
  },
  {
   "cell_type": "code",
   "execution_count": 595,
   "metadata": {},
   "outputs": [],
   "source": [
    "ext_features = ['Exterior1st','Exterior2nd','MasVnrType','MasVnrArea','ExterQual','ExterCond','UniqueExterior']\n",
    "all_data[['Exterior2nd']] = all_data.apply(lambda x: 'WdShing' if x['Exterior2nd'] == 'Wd Shng' else x['Exterior2nd'],axis=1)\n",
    "all_data[['Exterior2nd']] = all_data.apply(lambda x: 'CemntBd' if x['Exterior2nd'] == 'CmentBd' else x['Exterior2nd'],axis=1)\n",
    "all_data[['Exterior2nd']] = all_data.apply(lambda x: 'BrkComm' if x['Exterior2nd'] == 'Brk Cmn' else x['Exterior2nd'],axis=1)\n",
    "all_data['UniqueExterior'] = all_data.apply(lambda x: 1 if x['Exterior1st'] == x['Exterior2nd'] else 0,axis=1)\n",
    "\n",
    "all_data.loc[(all_data.Exterior1st.isnull()) | (all_data.Exterior2nd.isnull()),['Exterior1st','Exterior2nd','OverallQual']]\n",
    "all_data.loc[all_data.OverallQual == 5, ext_features].groupby(['Exterior1st','Exterior2nd']).count()\n",
    "# La combinación MetalSd,MetalSd es la más habitual\n",
    "all_data[['Exterior1st','Exterior2nd']] = all_data[['Exterior1st','Exterior2nd']].fillna('MetalSd')"
   ]
  },
  {
   "cell_type": "code",
   "execution_count": 596,
   "metadata": {},
   "outputs": [
    {
     "output_type": "execute_result",
     "data": {
      "text/plain": "    Exterior1st Exterior2nd MasVnrType  MasVnrArea ExterQual ExterCond  \\\n529     Wd Sdng       Stone        NaN         NaN        Gd        TA   \n\n     UniqueExterior  \n529               0  ",
      "text/html": "<div>\n<style scoped>\n    .dataframe tbody tr th:only-of-type {\n        vertical-align: middle;\n    }\n\n    .dataframe tbody tr th {\n        vertical-align: top;\n    }\n\n    .dataframe thead th {\n        text-align: right;\n    }\n</style>\n<table border=\"1\" class=\"dataframe\">\n  <thead>\n    <tr style=\"text-align: right;\">\n      <th></th>\n      <th>Exterior1st</th>\n      <th>Exterior2nd</th>\n      <th>MasVnrType</th>\n      <th>MasVnrArea</th>\n      <th>ExterQual</th>\n      <th>ExterCond</th>\n      <th>UniqueExterior</th>\n    </tr>\n  </thead>\n  <tbody>\n    <tr>\n      <th>529</th>\n      <td>Wd Sdng</td>\n      <td>Stone</td>\n      <td>NaN</td>\n      <td>NaN</td>\n      <td>Gd</td>\n      <td>TA</td>\n      <td>0</td>\n    </tr>\n  </tbody>\n</table>\n</div>"
     },
     "metadata": {},
     "execution_count": 596
    }
   ],
   "source": [
    "\n",
    "\n",
    "all_data.loc[all_data.MasVnrType.isnull() == False,ext_features].groupby(['UniqueExterior','MasVnrType']).count() #.sort_values('MasVnrArea',ascending=False).head(50)\n",
    "all_data.loc[(all_data.UniqueExterior == 1) & (all_data.MasVnrType.isnull()),['MasVnrType']] = all_data.loc[(all_data.UniqueExterior == 1) & (all_data.MasVnrType.isnull()),['MasVnrType']].fillna('None')\n",
    "all_data.loc[all_data.MasVnrType.isnull(),ext_features]\n",
    "# set(all_data['Exterior2nd'].unique()).symmetric_difference(set(all_data['Exterior1st'].unique()))"
   ]
  },
  {
   "cell_type": "code",
   "execution_count": 597,
   "metadata": {},
   "outputs": [],
   "source": [
    "all_data.loc[(all_data.Exterior1st == 'Wd Sdng') & (all_data.Exterior2nd == 'Stone'),['MasVnrType']] = all_data.loc[(all_data.Exterior1st == 'Wd Sdng') & (all_data.Exterior2nd == 'Stone'),['MasVnrType']].fillna('None')\n"
   ]
  },
  {
   "cell_type": "code",
   "execution_count": 598,
   "metadata": {
    "tags": []
   },
   "outputs": [],
   "source": [
    "all_data[['MasVnrArea']] =all_data[['MasVnrArea']].fillna(0)"
   ]
  },
  {
   "cell_type": "code",
   "execution_count": 599,
   "metadata": {
    "tags": []
   },
   "outputs": [
    {
     "output_type": "stream",
     "name": "stdout",
     "text": "<class 'pandas.core.frame.DataFrame'>\nRangeIndex: 2919 entries, 0 to 2918\nData columns (total 84 columns):\n #   Column          Non-Null Count  Dtype  \n---  ------          --------------  -----  \n 0   index           2919 non-null   int64  \n 1   Id              2919 non-null   int64  \n 2   MSSubClass      2919 non-null   int64  \n 3   MSZoning        2915 non-null   object \n 4   LotFrontage     2433 non-null   float64\n 5   LotArea         2919 non-null   int64  \n 6   Street          2919 non-null   object \n 7   Alley           2919 non-null   object \n 8   LotShape        2919 non-null   object \n 9   LandContour     2919 non-null   object \n 10  Utilities       2917 non-null   object \n 11  LotConfig       2919 non-null   object \n 12  LandSlope       2919 non-null   object \n 13  Neighborhood    2919 non-null   object \n 14  Condition1      2919 non-null   object \n 15  Condition2      2919 non-null   object \n 16  BldgType        2919 non-null   object \n 17  HouseStyle      2919 non-null   object \n 18  OverallQual     2919 non-null   int64  \n 19  OverallCond     2919 non-null   int64  \n 20  YearBuilt       2919 non-null   int64  \n 21  YearRemodAdd    2919 non-null   int64  \n 22  RoofStyle       2919 non-null   object \n 23  RoofMatl        2919 non-null   object \n 24  Exterior1st     2919 non-null   object \n 25  Exterior2nd     2919 non-null   object \n 26  MasVnrType      2919 non-null   object \n 27  MasVnrArea      2919 non-null   float64\n 28  ExterQual       2919 non-null   object \n 29  ExterCond       2919 non-null   object \n 30  Foundation      2919 non-null   object \n 31  BsmtQual        2919 non-null   object \n 32  BsmtCond        2919 non-null   object \n 33  BsmtExposure    2919 non-null   object \n 34  BsmtFinType1    2919 non-null   object \n 35  BsmtFinSF1      2919 non-null   float64\n 36  BsmtFinType2    2919 non-null   object \n 37  BsmtFinSF2      2919 non-null   float64\n 38  BsmtUnfSF       2919 non-null   float64\n 39  TotalBsmtSF     2919 non-null   float64\n 40  Heating         2919 non-null   object \n 41  HeatingQC       2919 non-null   object \n 42  CentralAir      2919 non-null   object \n 43  Electrical      2919 non-null   object \n 44  1stFlrSF        2919 non-null   int64  \n 45  2ndFlrSF        2919 non-null   int64  \n 46  LowQualFinSF    2919 non-null   int64  \n 47  GrLivArea       2919 non-null   int64  \n 48  BsmtFullBath    2919 non-null   float64\n 49  BsmtHalfBath    2919 non-null   float64\n 50  FullBath        2919 non-null   int64  \n 51  HalfBath        2919 non-null   int64  \n 52  BedroomAbvGr    2919 non-null   int64  \n 53  KitchenAbvGr    2919 non-null   int64  \n 54  KitchenQual     2919 non-null   object \n 55  TotRmsAbvGrd    2919 non-null   int64  \n 56  Functional      2919 non-null   object \n 57  Fireplaces      2919 non-null   int64  \n 58  FireplaceQu     2919 non-null   object \n 59  GarageType      2919 non-null   object \n 60  GarageYrBlt     2919 non-null   float64\n 61  GarageFinish    2919 non-null   object \n 62  GarageCars      2919 non-null   float64\n 63  GarageArea      2919 non-null   float64\n 64  GarageQual      2919 non-null   object \n 65  GarageCond      2919 non-null   object \n 66  PavedDrive      2919 non-null   object \n 67  WoodDeckSF      2919 non-null   int64  \n 68  OpenPorchSF     2919 non-null   int64  \n 69  EnclosedPorch   2919 non-null   int64  \n 70  3SsnPorch       2919 non-null   int64  \n 71  ScreenPorch     2919 non-null   int64  \n 72  PoolArea        2919 non-null   int64  \n 73  PoolQC          2919 non-null   object \n 74  Fence           2919 non-null   object \n 75  MiscFeature     2919 non-null   object \n 76  MiscVal         2919 non-null   int64  \n 77  MoSold          2919 non-null   int64  \n 78  YrSold          2919 non-null   int64  \n 79  SaleType        2919 non-null   object \n 80  SaleCondition   2919 non-null   object \n 81  SalePrice       2919 non-null   int64  \n 82  Type            2919 non-null   object \n 83  UniqueExterior  2919 non-null   int64  \ndtypes: float64(11), int64(29), object(44)\nmemory usage: 1.9+ MB\n"
    }
   ],
   "source": [
    "all_data.info()"
   ]
  },
  {
   "cell_type": "code",
   "execution_count": 600,
   "metadata": {},
   "outputs": [],
   "source": [
    "# Utilities Cleaning\n",
    "all_data.loc[all_data.Utilities.isnull(), ['Utilities','Electrical','YearBuilt','YearRemodAdd']]\n",
    "all_data[['Utilities']] = all_data[['Utilities']].fillna('AllPub')"
   ]
  },
  {
   "cell_type": "code",
   "execution_count": 601,
   "metadata": {
    "tags": []
   },
   "outputs": [],
   "source": [
    "all_data.loc[all_data.Street == 'Grvl'].groupby('MSZoning',).count()\n",
    "all_data.loc[all_data.Street == 'Pave'].groupby('MSZoning',).count()\n",
    "# all_data.loc[all_data.MSZoning.isnull()]\n",
    "# all_data['MSZoning'].unique()\n",
    "all_data.loc[all_data.Street == 'Grvl', ['MSZoning']] = all_data.loc[all_data.Street == 'Grvl', ['MSZoning']].fillna('C (all)')\n",
    "all_data.loc[all_data.Street != 'Grvl', ['MSZoning']] = all_data.loc[all_data.Street != 'Grvl', ['MSZoning']].fillna('RL')"
   ]
  },
  {
   "cell_type": "code",
   "execution_count": 602,
   "metadata": {
    "tags": []
   },
   "outputs": [
    {
     "output_type": "stream",
     "name": "stdout",
     "text": "<class 'pandas.core.frame.DataFrame'>\nRangeIndex: 2919 entries, 0 to 2918\nData columns (total 84 columns):\n #   Column          Non-Null Count  Dtype  \n---  ------          --------------  -----  \n 0   index           2919 non-null   int64  \n 1   Id              2919 non-null   int64  \n 2   MSSubClass      2919 non-null   int64  \n 3   MSZoning        2919 non-null   object \n 4   LotFrontage     2433 non-null   float64\n 5   LotArea         2919 non-null   int64  \n 6   Street          2919 non-null   object \n 7   Alley           2919 non-null   object \n 8   LotShape        2919 non-null   object \n 9   LandContour     2919 non-null   object \n 10  Utilities       2919 non-null   object \n 11  LotConfig       2919 non-null   object \n 12  LandSlope       2919 non-null   object \n 13  Neighborhood    2919 non-null   object \n 14  Condition1      2919 non-null   object \n 15  Condition2      2919 non-null   object \n 16  BldgType        2919 non-null   object \n 17  HouseStyle      2919 non-null   object \n 18  OverallQual     2919 non-null   int64  \n 19  OverallCond     2919 non-null   int64  \n 20  YearBuilt       2919 non-null   int64  \n 21  YearRemodAdd    2919 non-null   int64  \n 22  RoofStyle       2919 non-null   object \n 23  RoofMatl        2919 non-null   object \n 24  Exterior1st     2919 non-null   object \n 25  Exterior2nd     2919 non-null   object \n 26  MasVnrType      2919 non-null   object \n 27  MasVnrArea      2919 non-null   float64\n 28  ExterQual       2919 non-null   object \n 29  ExterCond       2919 non-null   object \n 30  Foundation      2919 non-null   object \n 31  BsmtQual        2919 non-null   object \n 32  BsmtCond        2919 non-null   object \n 33  BsmtExposure    2919 non-null   object \n 34  BsmtFinType1    2919 non-null   object \n 35  BsmtFinSF1      2919 non-null   float64\n 36  BsmtFinType2    2919 non-null   object \n 37  BsmtFinSF2      2919 non-null   float64\n 38  BsmtUnfSF       2919 non-null   float64\n 39  TotalBsmtSF     2919 non-null   float64\n 40  Heating         2919 non-null   object \n 41  HeatingQC       2919 non-null   object \n 42  CentralAir      2919 non-null   object \n 43  Electrical      2919 non-null   object \n 44  1stFlrSF        2919 non-null   int64  \n 45  2ndFlrSF        2919 non-null   int64  \n 46  LowQualFinSF    2919 non-null   int64  \n 47  GrLivArea       2919 non-null   int64  \n 48  BsmtFullBath    2919 non-null   float64\n 49  BsmtHalfBath    2919 non-null   float64\n 50  FullBath        2919 non-null   int64  \n 51  HalfBath        2919 non-null   int64  \n 52  BedroomAbvGr    2919 non-null   int64  \n 53  KitchenAbvGr    2919 non-null   int64  \n 54  KitchenQual     2919 non-null   object \n 55  TotRmsAbvGrd    2919 non-null   int64  \n 56  Functional      2919 non-null   object \n 57  Fireplaces      2919 non-null   int64  \n 58  FireplaceQu     2919 non-null   object \n 59  GarageType      2919 non-null   object \n 60  GarageYrBlt     2919 non-null   float64\n 61  GarageFinish    2919 non-null   object \n 62  GarageCars      2919 non-null   float64\n 63  GarageArea      2919 non-null   float64\n 64  GarageQual      2919 non-null   object \n 65  GarageCond      2919 non-null   object \n 66  PavedDrive      2919 non-null   object \n 67  WoodDeckSF      2919 non-null   int64  \n 68  OpenPorchSF     2919 non-null   int64  \n 69  EnclosedPorch   2919 non-null   int64  \n 70  3SsnPorch       2919 non-null   int64  \n 71  ScreenPorch     2919 non-null   int64  \n 72  PoolArea        2919 non-null   int64  \n 73  PoolQC          2919 non-null   object \n 74  Fence           2919 non-null   object \n 75  MiscFeature     2919 non-null   object \n 76  MiscVal         2919 non-null   int64  \n 77  MoSold          2919 non-null   int64  \n 78  YrSold          2919 non-null   int64  \n 79  SaleType        2919 non-null   object \n 80  SaleCondition   2919 non-null   object \n 81  SalePrice       2919 non-null   int64  \n 82  Type            2919 non-null   object \n 83  UniqueExterior  2919 non-null   int64  \ndtypes: float64(11), int64(29), object(44)\nmemory usage: 1.9+ MB\n"
    }
   ],
   "source": [
    "all_data.info()"
   ]
  },
  {
   "cell_type": "code",
   "execution_count": 632,
   "metadata": {
    "tags": []
   },
   "outputs": [],
   "source": [
    "from custom_functions import get_resume, information_gain\n",
    "all_data[['LotFrontage']].var()\n",
    "gains = []\n",
    "for x in all_data.columns:\n",
    "    if x != 'LotFrontage' and pd.api.types.is_object_dtype(all_data[x].dtype):\n",
    "        gains.append((x,information_gain(all_data,'LotFrontage',x,norm=True)))\n",
    "# print(gains)\n",
    "gains.sort(key=lambda x: x[1], reverse = True)\n",
    "gains\n",
    "# print(\"Information gain: {}\".format(information_gain(all_data,'LotFrontage','BldgType', norm=True)))\n",
    "# get_resume(all_data,\"LotFrontage\",'BldgTypeNeighborhood')\n",
    "lf_means = all_data[['LotFrontage','BldgType']].groupby('BldgType').mean().to_dict()\n",
    "all_data['LotFrontage'] = all_data.apply(lambda x: lf_means['LotFrontage'][x['BldgType']] if math.isnan(x['LotFrontage']) else x['LotFrontage'], axis=1)\n",
    "\n"
   ]
  },
  {
   "cell_type": "code",
   "execution_count": 636,
   "metadata": {
    "tags": []
   },
   "outputs": [
    {
     "output_type": "stream",
     "name": "stdout",
     "text": "<class 'pandas.core.frame.DataFrame'>\nInt64Index: 1460 entries, 0 to 1459\nData columns (total 84 columns):\n #   Column          Non-Null Count  Dtype  \n---  ------          --------------  -----  \n 0   index           1460 non-null   int64  \n 1   Id              1460 non-null   int64  \n 2   MSSubClass      1460 non-null   int64  \n 3   MSZoning        1460 non-null   object \n 4   LotFrontage     1460 non-null   float64\n 5   LotArea         1460 non-null   int64  \n 6   Street          1460 non-null   object \n 7   Alley           1460 non-null   object \n 8   LotShape        1460 non-null   object \n 9   LandContour     1460 non-null   object \n 10  Utilities       1460 non-null   object \n 11  LotConfig       1460 non-null   object \n 12  LandSlope       1460 non-null   object \n 13  Neighborhood    1460 non-null   object \n 14  Condition1      1460 non-null   object \n 15  Condition2      1460 non-null   object \n 16  BldgType        1460 non-null   object \n 17  HouseStyle      1460 non-null   object \n 18  OverallQual     1460 non-null   int64  \n 19  OverallCond     1460 non-null   int64  \n 20  YearBuilt       1460 non-null   int64  \n 21  YearRemodAdd    1460 non-null   int64  \n 22  RoofStyle       1460 non-null   object \n 23  RoofMatl        1460 non-null   object \n 24  Exterior1st     1460 non-null   object \n 25  Exterior2nd     1460 non-null   object \n 26  MasVnrType      1460 non-null   object \n 27  MasVnrArea      1460 non-null   float64\n 28  ExterQual       1460 non-null   object \n 29  ExterCond       1460 non-null   object \n 30  Foundation      1460 non-null   object \n 31  BsmtQual        1460 non-null   object \n 32  BsmtCond        1460 non-null   object \n 33  BsmtExposure    1460 non-null   object \n 34  BsmtFinType1    1460 non-null   object \n 35  BsmtFinSF1      1460 non-null   float64\n 36  BsmtFinType2    1460 non-null   object \n 37  BsmtFinSF2      1460 non-null   float64\n 38  BsmtUnfSF       1460 non-null   float64\n 39  TotalBsmtSF     1460 non-null   float64\n 40  Heating         1460 non-null   object \n 41  HeatingQC       1460 non-null   object \n 42  CentralAir      1460 non-null   object \n 43  Electrical      1460 non-null   object \n 44  1stFlrSF        1460 non-null   int64  \n 45  2ndFlrSF        1460 non-null   int64  \n 46  LowQualFinSF    1460 non-null   int64  \n 47  GrLivArea       1460 non-null   int64  \n 48  BsmtFullBath    1460 non-null   float64\n 49  BsmtHalfBath    1460 non-null   float64\n 50  FullBath        1460 non-null   int64  \n 51  HalfBath        1460 non-null   int64  \n 52  BedroomAbvGr    1460 non-null   int64  \n 53  KitchenAbvGr    1460 non-null   int64  \n 54  KitchenQual     1460 non-null   object \n 55  TotRmsAbvGrd    1460 non-null   int64  \n 56  Functional      1460 non-null   object \n 57  Fireplaces      1460 non-null   int64  \n 58  FireplaceQu     1460 non-null   object \n 59  GarageType      1460 non-null   object \n 60  GarageYrBlt     1460 non-null   float64\n 61  GarageFinish    1460 non-null   object \n 62  GarageCars      1460 non-null   float64\n 63  GarageArea      1460 non-null   float64\n 64  GarageQual      1460 non-null   object \n 65  GarageCond      1460 non-null   object \n 66  PavedDrive      1460 non-null   object \n 67  WoodDeckSF      1460 non-null   int64  \n 68  OpenPorchSF     1460 non-null   int64  \n 69  EnclosedPorch   1460 non-null   int64  \n 70  3SsnPorch       1460 non-null   int64  \n 71  ScreenPorch     1460 non-null   int64  \n 72  PoolArea        1460 non-null   int64  \n 73  PoolQC          1460 non-null   object \n 74  Fence           1460 non-null   object \n 75  MiscFeature     1460 non-null   object \n 76  MiscVal         1460 non-null   int64  \n 77  MoSold          1460 non-null   int64  \n 78  YrSold          1460 non-null   int64  \n 79  SaleType        1460 non-null   object \n 80  SaleCondition   1460 non-null   object \n 81  SalePrice       1460 non-null   int64  \n 82  Type            1460 non-null   object \n 83  UniqueExterior  1460 non-null   int64  \ndtypes: float64(11), int64(29), object(44)\nmemory usage: 969.5+ KB\n<class 'pandas.core.frame.DataFrame'>\nInt64Index: 1459 entries, 1460 to 2918\nData columns (total 84 columns):\n #   Column          Non-Null Count  Dtype  \n---  ------          --------------  -----  \n 0   index           1459 non-null   int64  \n 1   Id              1459 non-null   int64  \n 2   MSSubClass      1459 non-null   int64  \n 3   MSZoning        1459 non-null   object \n 4   LotFrontage     1459 non-null   float64\n 5   LotArea         1459 non-null   int64  \n 6   Street          1459 non-null   object \n 7   Alley           1459 non-null   object \n 8   LotShape        1459 non-null   object \n 9   LandContour     1459 non-null   object \n 10  Utilities       1459 non-null   object \n 11  LotConfig       1459 non-null   object \n 12  LandSlope       1459 non-null   object \n 13  Neighborhood    1459 non-null   object \n 14  Condition1      1459 non-null   object \n 15  Condition2      1459 non-null   object \n 16  BldgType        1459 non-null   object \n 17  HouseStyle      1459 non-null   object \n 18  OverallQual     1459 non-null   int64  \n 19  OverallCond     1459 non-null   int64  \n 20  YearBuilt       1459 non-null   int64  \n 21  YearRemodAdd    1459 non-null   int64  \n 22  RoofStyle       1459 non-null   object \n 23  RoofMatl        1459 non-null   object \n 24  Exterior1st     1459 non-null   object \n 25  Exterior2nd     1459 non-null   object \n 26  MasVnrType      1459 non-null   object \n 27  MasVnrArea      1459 non-null   float64\n 28  ExterQual       1459 non-null   object \n 29  ExterCond       1459 non-null   object \n 30  Foundation      1459 non-null   object \n 31  BsmtQual        1459 non-null   object \n 32  BsmtCond        1459 non-null   object \n 33  BsmtExposure    1459 non-null   object \n 34  BsmtFinType1    1459 non-null   object \n 35  BsmtFinSF1      1459 non-null   float64\n 36  BsmtFinType2    1459 non-null   object \n 37  BsmtFinSF2      1459 non-null   float64\n 38  BsmtUnfSF       1459 non-null   float64\n 39  TotalBsmtSF     1459 non-null   float64\n 40  Heating         1459 non-null   object \n 41  HeatingQC       1459 non-null   object \n 42  CentralAir      1459 non-null   object \n 43  Electrical      1459 non-null   object \n 44  1stFlrSF        1459 non-null   int64  \n 45  2ndFlrSF        1459 non-null   int64  \n 46  LowQualFinSF    1459 non-null   int64  \n 47  GrLivArea       1459 non-null   int64  \n 48  BsmtFullBath    1459 non-null   float64\n 49  BsmtHalfBath    1459 non-null   float64\n 50  FullBath        1459 non-null   int64  \n 51  HalfBath        1459 non-null   int64  \n 52  BedroomAbvGr    1459 non-null   int64  \n 53  KitchenAbvGr    1459 non-null   int64  \n 54  KitchenQual     1459 non-null   object \n 55  TotRmsAbvGrd    1459 non-null   int64  \n 56  Functional      1459 non-null   object \n 57  Fireplaces      1459 non-null   int64  \n 58  FireplaceQu     1459 non-null   object \n 59  GarageType      1459 non-null   object \n 60  GarageYrBlt     1459 non-null   float64\n 61  GarageFinish    1459 non-null   object \n 62  GarageCars      1459 non-null   float64\n 63  GarageArea      1459 non-null   float64\n 64  GarageQual      1459 non-null   object \n 65  GarageCond      1459 non-null   object \n 66  PavedDrive      1459 non-null   object \n 67  WoodDeckSF      1459 non-null   int64  \n 68  OpenPorchSF     1459 non-null   int64  \n 69  EnclosedPorch   1459 non-null   int64  \n 70  3SsnPorch       1459 non-null   int64  \n 71  ScreenPorch     1459 non-null   int64  \n 72  PoolArea        1459 non-null   int64  \n 73  PoolQC          1459 non-null   object \n 74  Fence           1459 non-null   object \n 75  MiscFeature     1459 non-null   object \n 76  MiscVal         1459 non-null   int64  \n 77  MoSold          1459 non-null   int64  \n 78  YrSold          1459 non-null   int64  \n 79  SaleType        1459 non-null   object \n 80  SaleCondition   1459 non-null   object \n 81  SalePrice       1459 non-null   int64  \n 82  Type            1459 non-null   object \n 83  UniqueExterior  1459 non-null   int64  \ndtypes: float64(11), int64(29), object(44)\nmemory usage: 968.9+ KB\n"
    }
   ],
   "source": [
    "train = all_data.loc[all_data.Type == 'train']\n",
    "test = all_data.loc[all_data.Type == 'test']\n",
    "train.info()\n",
    "test.info()"
   ]
  },
  {
   "cell_type": "code",
   "execution_count": null,
   "metadata": {},
   "outputs": [],
   "source": [
    "drop_features = ['index','Id','Type']"
   ]
  }
 ]
}