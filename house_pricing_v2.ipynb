{
 "metadata": {
  "language_info": {
   "codemirror_mode": {
    "name": "ipython",
    "version": 3
   },
   "file_extension": ".py",
   "mimetype": "text/x-python",
   "name": "python",
   "nbconvert_exporter": "python",
   "pygments_lexer": "ipython3",
   "version": 3
  },
  "orig_nbformat": 2,
  "kernelspec": {
   "name": "python_defaultSpec_1595844914943",
   "display_name": "Python 3.7.7 64-bit ('tf': conda)"
  }
 },
 "nbformat": 4,
 "nbformat_minor": 2,
 "cells": [
  {
   "cell_type": "code",
   "execution_count": 70,
   "metadata": {},
   "outputs": [],
   "source": [
    "%matplotlib inline\n",
    "import pandas as pd\n",
    "import numpy as np\n",
    "import seaborn as sns\n",
    "import matplotlib.pyplot as plt\n",
    "from sklearn.preprocessing import OneHotEncoder, RobustScaler, OrdinalEncoder, MinMaxScaler\n",
    "from sklearn.experimental import enable_iterative_imputer\n",
    "from sklearn.impute import KNNImputer, IterativeImputer\n",
    "from sklearn.pipeline import Pipeline\n",
    "from sklearn.compose import ColumnTransformer\n",
    "from sklearn.model_selection import train_test_split, cross_val_score\n",
    "from sklearn.metrics import mean_squared_error, mean_squared_log_error\n",
    "from sklearn.model_selection import GridSearchCV\n",
    "from xgboost import XGBRegressor\n",
    "from lightgbm import LGBMRegressor\n",
    "from sklearn.linear_model import LinearRegression\n",
    "from sklearn.neural_network import MLPRegressor\n",
    "from sklearn.svm import SVR\n",
    "from sklearn.inspection import permutation_importance\n",
    "from sklearn.ensemble import VotingRegressor\n",
    "import math"
   ]
  },
  {
   "cell_type": "code",
   "execution_count": 71,
   "metadata": {
    "tags": []
   },
   "outputs": [
    {
     "output_type": "stream",
     "name": "stdout",
     "text": "<class 'pandas.core.frame.DataFrame'>\nRangeIndex: 2919 entries, 0 to 2918\nData columns (total 83 columns):\n #   Column         Non-Null Count  Dtype  \n---  ------         --------------  -----  \n 0   index          2919 non-null   int64  \n 1   Id             2919 non-null   int64  \n 2   MSSubClass     2919 non-null   int64  \n 3   MSZoning       2915 non-null   object \n 4   LotFrontage    2433 non-null   float64\n 5   LotArea        2919 non-null   int64  \n 6   Street         2919 non-null   object \n 7   Alley          198 non-null    object \n 8   LotShape       2919 non-null   object \n 9   LandContour    2919 non-null   object \n 10  Utilities      2917 non-null   object \n 11  LotConfig      2919 non-null   object \n 12  LandSlope      2919 non-null   object \n 13  Neighborhood   2919 non-null   object \n 14  Condition1     2919 non-null   object \n 15  Condition2     2919 non-null   object \n 16  BldgType       2919 non-null   object \n 17  HouseStyle     2919 non-null   object \n 18  OverallQual    2919 non-null   int64  \n 19  OverallCond    2919 non-null   int64  \n 20  YearBuilt      2919 non-null   int64  \n 21  YearRemodAdd   2919 non-null   int64  \n 22  RoofStyle      2919 non-null   object \n 23  RoofMatl       2919 non-null   object \n 24  Exterior1st    2918 non-null   object \n 25  Exterior2nd    2918 non-null   object \n 26  MasVnrType     2895 non-null   object \n 27  MasVnrArea     2896 non-null   float64\n 28  ExterQual      2919 non-null   object \n 29  ExterCond      2919 non-null   object \n 30  Foundation     2919 non-null   object \n 31  BsmtQual       2838 non-null   object \n 32  BsmtCond       2837 non-null   object \n 33  BsmtExposure   2837 non-null   object \n 34  BsmtFinType1   2840 non-null   object \n 35  BsmtFinSF1     2918 non-null   float64\n 36  BsmtFinType2   2839 non-null   object \n 37  BsmtFinSF2     2918 non-null   float64\n 38  BsmtUnfSF      2918 non-null   float64\n 39  TotalBsmtSF    2918 non-null   float64\n 40  Heating        2919 non-null   object \n 41  HeatingQC      2919 non-null   object \n 42  CentralAir     2919 non-null   object \n 43  Electrical     2918 non-null   object \n 44  1stFlrSF       2919 non-null   int64  \n 45  2ndFlrSF       2919 non-null   int64  \n 46  LowQualFinSF   2919 non-null   int64  \n 47  GrLivArea      2919 non-null   int64  \n 48  BsmtFullBath   2917 non-null   float64\n 49  BsmtHalfBath   2917 non-null   float64\n 50  FullBath       2919 non-null   int64  \n 51  HalfBath       2919 non-null   int64  \n 52  BedroomAbvGr   2919 non-null   int64  \n 53  KitchenAbvGr   2919 non-null   int64  \n 54  KitchenQual    2918 non-null   object \n 55  TotRmsAbvGrd   2919 non-null   int64  \n 56  Functional     2917 non-null   object \n 57  Fireplaces     2919 non-null   int64  \n 58  FireplaceQu    1499 non-null   object \n 59  GarageType     2762 non-null   object \n 60  GarageYrBlt    2760 non-null   float64\n 61  GarageFinish   2760 non-null   object \n 62  GarageCars     2918 non-null   float64\n 63  GarageArea     2918 non-null   float64\n 64  GarageQual     2760 non-null   object \n 65  GarageCond     2760 non-null   object \n 66  PavedDrive     2919 non-null   object \n 67  WoodDeckSF     2919 non-null   int64  \n 68  OpenPorchSF    2919 non-null   int64  \n 69  EnclosedPorch  2919 non-null   int64  \n 70  3SsnPorch      2919 non-null   int64  \n 71  ScreenPorch    2919 non-null   int64  \n 72  PoolArea       2919 non-null   int64  \n 73  PoolQC         10 non-null     object \n 74  Fence          571 non-null    object \n 75  MiscFeature    105 non-null    object \n 76  MiscVal        2919 non-null   int64  \n 77  MoSold         2919 non-null   int64  \n 78  YrSold         2919 non-null   int64  \n 79  SaleType       2918 non-null   object \n 80  SaleCondition  2919 non-null   object \n 81  SalePrice      2919 non-null   int64  \n 82  Type           2919 non-null   object \ndtypes: float64(11), int64(28), object(44)\nmemory usage: 1.8+ MB\n"
    }
   ],
   "source": [
    "data_train = pd.read_csv('train.csv')\n",
    "data_test = pd.read_csv('test.csv')\n",
    "data_test['SalePrice'] = -1\n",
    "all_data = pd.concat([data_train,data_test]).reset_index()\n",
    "all_data['Type'] = all_data.apply(lambda x: 'train' if x['SalePrice'] > -1 else 'test',axis=1)\n",
    "all_data.info()"
   ]
  },
  {
   "cell_type": "code",
   "execution_count": 72,
   "metadata": {
    "tags": []
   },
   "outputs": [],
   "source": [
    "# Cleaning\n",
    "# Primero rellenamos con 'NA' aquellos valores vacíos que no lo son en realidad\n",
    "NA_features = ['Alley','BsmtQual','BsmtCond','BsmtExposure','BsmtFinType1','BsmtFinType2','FireplaceQu','GarageType','GarageFinish','GarageQual','GarageCond','PoolQC','Fence','MiscFeature']\n",
    "all_data[NA_features] = all_data[NA_features].fillna('NA')\n",
    "# all_data.loc[(all_data.GarageType == 'NA') & (all_data.GarageCars != 0) ,'GarageCars']\n",
    "\n",
    "\n"
   ]
  },
  {
   "cell_type": "code",
   "execution_count": 73,
   "metadata": {
    "tags": []
   },
   "outputs": [
    {
     "output_type": "stream",
     "name": "stdout",
     "text": "<class 'pandas.core.frame.DataFrame'>\nRangeIndex: 2919 entries, 0 to 2918\nData columns (total 83 columns):\n #   Column         Non-Null Count  Dtype  \n---  ------         --------------  -----  \n 0   index          2919 non-null   int64  \n 1   Id             2919 non-null   int64  \n 2   MSSubClass     2919 non-null   int64  \n 3   MSZoning       2915 non-null   object \n 4   LotFrontage    2433 non-null   float64\n 5   LotArea        2919 non-null   int64  \n 6   Street         2919 non-null   object \n 7   Alley          2919 non-null   object \n 8   LotShape       2919 non-null   object \n 9   LandContour    2919 non-null   object \n 10  Utilities      2917 non-null   object \n 11  LotConfig      2919 non-null   object \n 12  LandSlope      2919 non-null   object \n 13  Neighborhood   2919 non-null   object \n 14  Condition1     2919 non-null   object \n 15  Condition2     2919 non-null   object \n 16  BldgType       2919 non-null   object \n 17  HouseStyle     2919 non-null   object \n 18  OverallQual    2919 non-null   int64  \n 19  OverallCond    2919 non-null   int64  \n 20  YearBuilt      2919 non-null   int64  \n 21  YearRemodAdd   2919 non-null   int64  \n 22  RoofStyle      2919 non-null   object \n 23  RoofMatl       2919 non-null   object \n 24  Exterior1st    2918 non-null   object \n 25  Exterior2nd    2918 non-null   object \n 26  MasVnrType     2895 non-null   object \n 27  MasVnrArea     2896 non-null   float64\n 28  ExterQual      2919 non-null   object \n 29  ExterCond      2919 non-null   object \n 30  Foundation     2919 non-null   object \n 31  BsmtQual       2919 non-null   object \n 32  BsmtCond       2919 non-null   object \n 33  BsmtExposure   2919 non-null   object \n 34  BsmtFinType1   2919 non-null   object \n 35  BsmtFinSF1     2918 non-null   float64\n 36  BsmtFinType2   2919 non-null   object \n 37  BsmtFinSF2     2918 non-null   float64\n 38  BsmtUnfSF      2918 non-null   float64\n 39  TotalBsmtSF    2918 non-null   float64\n 40  Heating        2919 non-null   object \n 41  HeatingQC      2919 non-null   object \n 42  CentralAir     2919 non-null   object \n 43  Electrical     2918 non-null   object \n 44  1stFlrSF       2919 non-null   int64  \n 45  2ndFlrSF       2919 non-null   int64  \n 46  LowQualFinSF   2919 non-null   int64  \n 47  GrLivArea      2919 non-null   int64  \n 48  BsmtFullBath   2917 non-null   float64\n 49  BsmtHalfBath   2917 non-null   float64\n 50  FullBath       2919 non-null   int64  \n 51  HalfBath       2919 non-null   int64  \n 52  BedroomAbvGr   2919 non-null   int64  \n 53  KitchenAbvGr   2919 non-null   int64  \n 54  KitchenQual    2918 non-null   object \n 55  TotRmsAbvGrd   2919 non-null   int64  \n 56  Functional     2919 non-null   object \n 57  Fireplaces     2919 non-null   int64  \n 58  FireplaceQu    2919 non-null   object \n 59  GarageType     2919 non-null   object \n 60  GarageYrBlt    2760 non-null   float64\n 61  GarageFinish   2919 non-null   object \n 62  GarageCars     2918 non-null   float64\n 63  GarageArea     2918 non-null   float64\n 64  GarageQual     2919 non-null   object \n 65  GarageCond     2919 non-null   object \n 66  PavedDrive     2919 non-null   object \n 67  WoodDeckSF     2919 non-null   int64  \n 68  OpenPorchSF    2919 non-null   int64  \n 69  EnclosedPorch  2919 non-null   int64  \n 70  3SsnPorch      2919 non-null   int64  \n 71  ScreenPorch    2919 non-null   int64  \n 72  PoolArea       2919 non-null   int64  \n 73  PoolQC         2919 non-null   object \n 74  Fence          2919 non-null   object \n 75  MiscFeature    2919 non-null   object \n 76  MiscVal        2919 non-null   int64  \n 77  MoSold         2919 non-null   int64  \n 78  YrSold         2919 non-null   int64  \n 79  SaleType       2918 non-null   object \n 80  SaleCondition  2919 non-null   object \n 81  SalePrice      2919 non-null   int64  \n 82  Type           2919 non-null   object \ndtypes: float64(11), int64(28), object(44)\nmemory usage: 1.8+ MB\n"
    }
   ],
   "source": [
    "# Data_description.txt nos dice que Functional es typical a menos que Deductions estén garantizadas/justificadas\n",
    "all_data[['Functional']] = all_data[['Functional']].fillna('Typ')\n",
    "all_data.info()"
   ]
  },
  {
   "cell_type": "code",
   "execution_count": 74,
   "metadata": {},
   "outputs": [
    {
     "output_type": "execute_result",
     "data": {
      "text/plain": "        Id GarageType  GarageYrBlt GarageFinish  GarageCars  GarageArea  \\\n2126  2127     Detchd          NaN           NA         1.0       360.0   \n\n     GarageQual GarageCond  Type  \n2126         NA         NA  test  ",
      "text/html": "<div>\n<style scoped>\n    .dataframe tbody tr th:only-of-type {\n        vertical-align: middle;\n    }\n\n    .dataframe tbody tr th {\n        vertical-align: top;\n    }\n\n    .dataframe thead th {\n        text-align: right;\n    }\n</style>\n<table border=\"1\" class=\"dataframe\">\n  <thead>\n    <tr style=\"text-align: right;\">\n      <th></th>\n      <th>Id</th>\n      <th>GarageType</th>\n      <th>GarageYrBlt</th>\n      <th>GarageFinish</th>\n      <th>GarageCars</th>\n      <th>GarageArea</th>\n      <th>GarageQual</th>\n      <th>GarageCond</th>\n      <th>Type</th>\n    </tr>\n  </thead>\n  <tbody>\n    <tr>\n      <th>2126</th>\n      <td>2127</td>\n      <td>Detchd</td>\n      <td>NaN</td>\n      <td>NA</td>\n      <td>1.0</td>\n      <td>360.0</td>\n      <td>NA</td>\n      <td>NA</td>\n      <td>test</td>\n    </tr>\n  </tbody>\n</table>\n</div>"
     },
     "metadata": {},
     "execution_count": 74
    }
   ],
   "source": [
    "# GarageCars / GarageArea\n",
    "garage_features = ['Id','GarageType','GarageYrBlt','GarageFinish','GarageCars','GarageArea','GarageQual','GarageCond','Type']\n",
    "# El registro con Id 2577 parece no tener Garaje, a pesar de que en su GarageType pone Detchd\n",
    "# Cambiamos ese valor por NA\n",
    "all_data.loc[all_data.Id == 2577,'GarageType'] = 'NA'\n",
    "all_data.loc[(all_data.GarageType != 'NA') & (all_data.GarageYrBlt.isnull()) ,garage_features]\n",
    "\n"
   ]
  },
  {
   "cell_type": "markdown",
   "metadata": {},
   "source": [
    "El registro Id 2127 nos da información contradictoria. Por un lado nos dice que tiene un Garaje tipo Detchd en el que cabe 1 coche y por otro nos dice que no tiene según Finish Qual y Cond.\n",
    "Tenemos que tomar la decisión de cuál es la info correcta. Optamos por dar por válido el hecho de que tiene garaje. \n",
    "Para rellenar Finish vemos que la mayoría de los garajes tipo Detchd son 'Unf'\n",
    "Más concretamente, vemos que para las casas con GarageCars == 1, la combinación más habitual de Finish, Qual y Cond es 'Unf', 'TA', 'TA' (481)\n",
    "Además debemos rellenar el GarageYrBlt. Usamos la fecha de última remodelación (1983)"
   ]
  },
  {
   "cell_type": "code",
   "execution_count": 75,
   "metadata": {
    "tags": []
   },
   "outputs": [
    {
     "output_type": "stream",
     "name": "stdout",
     "text": "<class 'pandas.core.frame.DataFrame'>\nRangeIndex: 2919 entries, 0 to 2918\nData columns (total 83 columns):\n #   Column         Non-Null Count  Dtype  \n---  ------         --------------  -----  \n 0   index          2919 non-null   int64  \n 1   Id             2919 non-null   int64  \n 2   MSSubClass     2919 non-null   int64  \n 3   MSZoning       2915 non-null   object \n 4   LotFrontage    2433 non-null   float64\n 5   LotArea        2919 non-null   int64  \n 6   Street         2919 non-null   object \n 7   Alley          2919 non-null   object \n 8   LotShape       2919 non-null   object \n 9   LandContour    2919 non-null   object \n 10  Utilities      2917 non-null   object \n 11  LotConfig      2919 non-null   object \n 12  LandSlope      2919 non-null   object \n 13  Neighborhood   2919 non-null   object \n 14  Condition1     2919 non-null   object \n 15  Condition2     2919 non-null   object \n 16  BldgType       2919 non-null   object \n 17  HouseStyle     2919 non-null   object \n 18  OverallQual    2919 non-null   int64  \n 19  OverallCond    2919 non-null   int64  \n 20  YearBuilt      2919 non-null   int64  \n 21  YearRemodAdd   2919 non-null   int64  \n 22  RoofStyle      2919 non-null   object \n 23  RoofMatl       2919 non-null   object \n 24  Exterior1st    2918 non-null   object \n 25  Exterior2nd    2918 non-null   object \n 26  MasVnrType     2895 non-null   object \n 27  MasVnrArea     2896 non-null   float64\n 28  ExterQual      2919 non-null   object \n 29  ExterCond      2919 non-null   object \n 30  Foundation     2919 non-null   object \n 31  BsmtQual       2919 non-null   object \n 32  BsmtCond       2919 non-null   object \n 33  BsmtExposure   2919 non-null   object \n 34  BsmtFinType1   2919 non-null   object \n 35  BsmtFinSF1     2918 non-null   float64\n 36  BsmtFinType2   2919 non-null   object \n 37  BsmtFinSF2     2918 non-null   float64\n 38  BsmtUnfSF      2918 non-null   float64\n 39  TotalBsmtSF    2918 non-null   float64\n 40  Heating        2919 non-null   object \n 41  HeatingQC      2919 non-null   object \n 42  CentralAir     2919 non-null   object \n 43  Electrical     2918 non-null   object \n 44  1stFlrSF       2919 non-null   int64  \n 45  2ndFlrSF       2919 non-null   int64  \n 46  LowQualFinSF   2919 non-null   int64  \n 47  GrLivArea      2919 non-null   int64  \n 48  BsmtFullBath   2917 non-null   float64\n 49  BsmtHalfBath   2917 non-null   float64\n 50  FullBath       2919 non-null   int64  \n 51  HalfBath       2919 non-null   int64  \n 52  BedroomAbvGr   2919 non-null   int64  \n 53  KitchenAbvGr   2919 non-null   int64  \n 54  KitchenQual    2918 non-null   object \n 55  TotRmsAbvGrd   2919 non-null   int64  \n 56  Functional     2919 non-null   object \n 57  Fireplaces     2919 non-null   int64  \n 58  FireplaceQu    2919 non-null   object \n 59  GarageType     2919 non-null   object \n 60  GarageYrBlt    2761 non-null   float64\n 61  GarageFinish   2919 non-null   object \n 62  GarageCars     2918 non-null   float64\n 63  GarageArea     2918 non-null   float64\n 64  GarageQual     2919 non-null   object \n 65  GarageCond     2919 non-null   object \n 66  PavedDrive     2919 non-null   object \n 67  WoodDeckSF     2919 non-null   int64  \n 68  OpenPorchSF    2919 non-null   int64  \n 69  EnclosedPorch  2919 non-null   int64  \n 70  3SsnPorch      2919 non-null   int64  \n 71  ScreenPorch    2919 non-null   int64  \n 72  PoolArea       2919 non-null   int64  \n 73  PoolQC         2919 non-null   object \n 74  Fence          2919 non-null   object \n 75  MiscFeature    2919 non-null   object \n 76  MiscVal        2919 non-null   int64  \n 77  MoSold         2919 non-null   int64  \n 78  YrSold         2919 non-null   int64  \n 79  SaleType       2918 non-null   object \n 80  SaleCondition  2919 non-null   object \n 81  SalePrice      2919 non-null   int64  \n 82  Type           2919 non-null   object \ndtypes: float64(11), int64(28), object(44)\nmemory usage: 1.8+ MB\n"
    }
   ],
   "source": [
    "all_data.loc[(all_data.GarageCars == 1)].groupby(['GarageFinish','GarageQual','GarageCond']).count()\n",
    "all_data.loc[(all_data.GarageCars == 1) & (all_data.GarageFinish == 'Unf') & (all_data.GarageQual == 'TA') & (all_data.GarageCond == 'TA')]\n",
    "all_data.loc[all_data.Id == 2127,['GarageFinish','GarageQual','GarageCond']] = ['Unf','TA','TA']\n",
    "all_data.loc[all_data.Id == 2127,['GarageYrBlt']] = all_data.loc[(all_data.Id == 2127),'YearRemodAdd'].values\n",
    "all_data.loc[(all_data.GarageType != 'NA') & (all_data.GarageYrBlt.isnull()) ,garage_features]\n",
    "all_data.info()"
   ]
  },
  {
   "cell_type": "code",
   "execution_count": 76,
   "metadata": {
    "tags": []
   },
   "outputs": [
    {
     "output_type": "stream",
     "name": "stdout",
     "text": "<class 'pandas.core.frame.DataFrame'>\nRangeIndex: 2919 entries, 0 to 2918\nData columns (total 83 columns):\n #   Column         Non-Null Count  Dtype  \n---  ------         --------------  -----  \n 0   index          2919 non-null   int64  \n 1   Id             2919 non-null   int64  \n 2   MSSubClass     2919 non-null   int64  \n 3   MSZoning       2915 non-null   object \n 4   LotFrontage    2433 non-null   float64\n 5   LotArea        2919 non-null   int64  \n 6   Street         2919 non-null   object \n 7   Alley          2919 non-null   object \n 8   LotShape       2919 non-null   object \n 9   LandContour    2919 non-null   object \n 10  Utilities      2917 non-null   object \n 11  LotConfig      2919 non-null   object \n 12  LandSlope      2919 non-null   object \n 13  Neighborhood   2919 non-null   object \n 14  Condition1     2919 non-null   object \n 15  Condition2     2919 non-null   object \n 16  BldgType       2919 non-null   object \n 17  HouseStyle     2919 non-null   object \n 18  OverallQual    2919 non-null   int64  \n 19  OverallCond    2919 non-null   int64  \n 20  YearBuilt      2919 non-null   int64  \n 21  YearRemodAdd   2919 non-null   int64  \n 22  RoofStyle      2919 non-null   object \n 23  RoofMatl       2919 non-null   object \n 24  Exterior1st    2918 non-null   object \n 25  Exterior2nd    2918 non-null   object \n 26  MasVnrType     2895 non-null   object \n 27  MasVnrArea     2896 non-null   float64\n 28  ExterQual      2919 non-null   object \n 29  ExterCond      2919 non-null   object \n 30  Foundation     2919 non-null   object \n 31  BsmtQual       2919 non-null   object \n 32  BsmtCond       2919 non-null   object \n 33  BsmtExposure   2919 non-null   object \n 34  BsmtFinType1   2919 non-null   object \n 35  BsmtFinSF1     2918 non-null   float64\n 36  BsmtFinType2   2919 non-null   object \n 37  BsmtFinSF2     2918 non-null   float64\n 38  BsmtUnfSF      2918 non-null   float64\n 39  TotalBsmtSF    2918 non-null   float64\n 40  Heating        2919 non-null   object \n 41  HeatingQC      2919 non-null   object \n 42  CentralAir     2919 non-null   object \n 43  Electrical     2918 non-null   object \n 44  1stFlrSF       2919 non-null   int64  \n 45  2ndFlrSF       2919 non-null   int64  \n 46  LowQualFinSF   2919 non-null   int64  \n 47  GrLivArea      2919 non-null   int64  \n 48  BsmtFullBath   2917 non-null   float64\n 49  BsmtHalfBath   2917 non-null   float64\n 50  FullBath       2919 non-null   int64  \n 51  HalfBath       2919 non-null   int64  \n 52  BedroomAbvGr   2919 non-null   int64  \n 53  KitchenAbvGr   2919 non-null   int64  \n 54  KitchenQual    2918 non-null   object \n 55  TotRmsAbvGrd   2919 non-null   int64  \n 56  Functional     2919 non-null   object \n 57  Fireplaces     2919 non-null   int64  \n 58  FireplaceQu    2919 non-null   object \n 59  GarageType     2919 non-null   object \n 60  GarageYrBlt    2761 non-null   float64\n 61  GarageFinish   2919 non-null   object \n 62  GarageCars     2919 non-null   float64\n 63  GarageArea     2919 non-null   float64\n 64  GarageQual     2919 non-null   object \n 65  GarageCond     2919 non-null   object \n 66  PavedDrive     2919 non-null   object \n 67  WoodDeckSF     2919 non-null   int64  \n 68  OpenPorchSF    2919 non-null   int64  \n 69  EnclosedPorch  2919 non-null   int64  \n 70  3SsnPorch      2919 non-null   int64  \n 71  ScreenPorch    2919 non-null   int64  \n 72  PoolArea       2919 non-null   int64  \n 73  PoolQC         2919 non-null   object \n 74  Fence          2919 non-null   object \n 75  MiscFeature    2919 non-null   object \n 76  MiscVal        2919 non-null   int64  \n 77  MoSold         2919 non-null   int64  \n 78  YrSold         2919 non-null   int64  \n 79  SaleType       2918 non-null   object \n 80  SaleCondition  2919 non-null   object \n 81  SalePrice      2919 non-null   int64  \n 82  Type           2919 non-null   object \ndtypes: float64(11), int64(28), object(44)\nmemory usage: 1.8+ MB\n"
    }
   ],
   "source": [
    "# Rellenamos los nulos de Cars y Area con cero puesto que es un registro que no tiene garaje\n",
    "all_data[['GarageCars','GarageArea']] = all_data[['GarageCars','GarageArea']].fillna(0)\n",
    "all_data.info()"
   ]
  },
  {
   "cell_type": "code",
   "execution_count": 77,
   "metadata": {
    "tags": []
   },
   "outputs": [
    {
     "output_type": "execute_result",
     "data": {
      "text/plain": "                                  index    Id  MSSubClass  MSZoning  \\\nGarageType GarageQual GarageCond                                      \n2Types     Fa         Fa              1     1           1         1   \n                      TA              1     1           1         1   \n           TA         TA             21    21          21        21   \nAttchd     Fa         Fa              1     1           1         1   \n                      Po              1     1           1         0   \n                      TA             14    14          14        13   \n           Gd         Gd              6     6           6         6   \n                      TA             11    11          11        11   \n           TA         Fa              4     4           4         4   \n                      Gd              6     6           6         6   \n                      Po              1     1           1         1   \n                      TA           1679  1679        1679      1679   \nBasment    Fa         TA              4     4           4         4   \n           Gd         TA              1     1           1         1   \n           TA         TA             31    31          31        31   \nBuiltIn    Fa         TA              3     3           3         3   \n           Gd         TA              1     1           1         1   \n           TA         TA            182   182         182       182   \nCarPort    Fa         Fa              1     1           1         1   \n                      TA              1     1           1         1   \n           TA         TA             13    13          13        13   \nDetchd     Ex         Ex              2     2           2         2   \n                      TA              1     1           1         1   \n           Fa         Fa             36    36          36        36   \n                      Po              7     7           7         7   \n                      TA             54    54          54        54   \n           Gd         Ex              1     1           1         1   \n                      TA              4     4           4         4   \n           Po         Fa              1     1           1         1   \n                      Po              4     4           4         4   \n           TA         Fa             30    30          30        29   \n                      Gd              3     3           3         3   \n                      Po              1     1           1         1   \n                      TA            634   634         634       633   \nNA         NA         NA            158   158         158       158   \n\n                                  LotFrontage  LotArea  Street  Alley  \\\nGarageType GarageQual GarageCond                                        \n2Types     Fa         Fa                    1        1       1      1   \n                      TA                    0        1       1      1   \n           TA         TA                   17       21      21     21   \nAttchd     Fa         Fa                    1        1       1      1   \n                      Po                    1        1       1      1   \n                      TA                   13       14      14     14   \n           Gd         Gd                    4        6       6      6   \n                      TA                   10       11      11     11   \n           TA         Fa                    4        4       4      4   \n                      Gd                    2        6       6      6   \n                      Po                    1        1       1      1   \n                      TA                 1357     1679    1679   1679   \nBasment    Fa         TA                    3        4       4      4   \n           Gd         TA                    0        1       1      1   \n           TA         TA                   23       31      31     31   \nBuiltIn    Fa         TA                    2        3       3      3   \n           Gd         TA                    1        1       1      1   \n           TA         TA                  137      182     182    182   \nCarPort    Fa         Fa                    1        1       1      1   \n                      TA                    1        1       1      1   \n           TA         TA                   10       13      13     13   \nDetchd     Ex         Ex                    2        2       2      2   \n                      TA                    1        1       1      1   \n           Fa         Fa                   34       36      36     36   \n                      Po                    6        7       7      7   \n                      TA                   53       54      54     54   \n           Gd         Ex                    1        1       1      1   \n                      TA                    4        4       4      4   \n           Po         Fa                    1        1       1      1   \n                      Po                    4        4       4      4   \n           TA         Fa                   24       30      30     30   \n                      Gd                    3        3       3      3   \n                      Po                    1        1       1      1   \n                      TA                  563      634     634    634   \nNA         NA         NA                  147      158     158    158   \n\n                                  LotShape  LandContour  ...  PoolQC  Fence  \\\nGarageType GarageQual GarageCond                         ...                  \n2Types     Fa         Fa                 1            1  ...       1      1   \n                      TA                 1            1  ...       1      1   \n           TA         TA                21           21  ...      21     21   \nAttchd     Fa         Fa                 1            1  ...       1      1   \n                      Po                 1            1  ...       1      1   \n                      TA                14           14  ...      14     14   \n           Gd         Gd                 6            6  ...       6      6   \n                      TA                11           11  ...      11     11   \n           TA         Fa                 4            4  ...       4      4   \n                      Gd                 6            6  ...       6      6   \n                      Po                 1            1  ...       1      1   \n                      TA              1679         1679  ...    1679   1679   \nBasment    Fa         TA                 4            4  ...       4      4   \n           Gd         TA                 1            1  ...       1      1   \n           TA         TA                31           31  ...      31     31   \nBuiltIn    Fa         TA                 3            3  ...       3      3   \n           Gd         TA                 1            1  ...       1      1   \n           TA         TA               182          182  ...     182    182   \nCarPort    Fa         Fa                 1            1  ...       1      1   \n                      TA                 1            1  ...       1      1   \n           TA         TA                13           13  ...      13     13   \nDetchd     Ex         Ex                 2            2  ...       2      2   \n                      TA                 1            1  ...       1      1   \n           Fa         Fa                36           36  ...      36     36   \n                      Po                 7            7  ...       7      7   \n                      TA                54           54  ...      54     54   \n           Gd         Ex                 1            1  ...       1      1   \n                      TA                 4            4  ...       4      4   \n           Po         Fa                 1            1  ...       1      1   \n                      Po                 4            4  ...       4      4   \n           TA         Fa                30           30  ...      30     30   \n                      Gd                 3            3  ...       3      3   \n                      Po                 1            1  ...       1      1   \n                      TA               634          634  ...     634    634   \nNA         NA         NA               158          158  ...     158    158   \n\n                                  MiscFeature  MiscVal  MoSold  YrSold  \\\nGarageType GarageQual GarageCond                                         \n2Types     Fa         Fa                    1        1       1       1   \n                      TA                    1        1       1       1   \n           TA         TA                   21       21      21      21   \nAttchd     Fa         Fa                    1        1       1       1   \n                      Po                    1        1       1       1   \n                      TA                   14       14      14      14   \n           Gd         Gd                    6        6       6       6   \n                      TA                   11       11      11      11   \n           TA         Fa                    4        4       4       4   \n                      Gd                    6        6       6       6   \n                      Po                    1        1       1       1   \n                      TA                 1679     1679    1679    1679   \nBasment    Fa         TA                    4        4       4       4   \n           Gd         TA                    1        1       1       1   \n           TA         TA                   31       31      31      31   \nBuiltIn    Fa         TA                    3        3       3       3   \n           Gd         TA                    1        1       1       1   \n           TA         TA                  182      182     182     182   \nCarPort    Fa         Fa                    1        1       1       1   \n                      TA                    1        1       1       1   \n           TA         TA                   13       13      13      13   \nDetchd     Ex         Ex                    2        2       2       2   \n                      TA                    1        1       1       1   \n           Fa         Fa                   36       36      36      36   \n                      Po                    7        7       7       7   \n                      TA                   54       54      54      54   \n           Gd         Ex                    1        1       1       1   \n                      TA                    4        4       4       4   \n           Po         Fa                    1        1       1       1   \n                      Po                    4        4       4       4   \n           TA         Fa                   30       30      30      30   \n                      Gd                    3        3       3       3   \n                      Po                    1        1       1       1   \n                      TA                  634      634     634     634   \nNA         NA         NA                  158      158     158     158   \n\n                                  SaleType  SaleCondition  SalePrice  Type  \nGarageType GarageQual GarageCond                                            \n2Types     Fa         Fa                 1              1          1     1  \n                      TA                 1              1          1     1  \n           TA         TA                21             21         21    21  \nAttchd     Fa         Fa                 1              1          1     1  \n                      Po                 1              1          1     1  \n                      TA                14             14         14    14  \n           Gd         Gd                 6              6          6     6  \n                      TA                11             11         11    11  \n           TA         Fa                 4              4          4     4  \n                      Gd                 6              6          6     6  \n                      Po                 1              1          1     1  \n                      TA              1678           1679       1679  1679  \nBasment    Fa         TA                 4              4          4     4  \n           Gd         TA                 1              1          1     1  \n           TA         TA                31             31         31    31  \nBuiltIn    Fa         TA                 3              3          3     3  \n           Gd         TA                 1              1          1     1  \n           TA         TA               182            182        182   182  \nCarPort    Fa         Fa                 1              1          1     1  \n                      TA                 1              1          1     1  \n           TA         TA                13             13         13    13  \nDetchd     Ex         Ex                 2              2          2     2  \n                      TA                 1              1          1     1  \n           Fa         Fa                36             36         36    36  \n                      Po                 7              7          7     7  \n                      TA                54             54         54    54  \n           Gd         Ex                 1              1          1     1  \n                      TA                 4              4          4     4  \n           Po         Fa                 1              1          1     1  \n                      Po                 4              4          4     4  \n           TA         Fa                30             30         30    30  \n                      Gd                 3              3          3     3  \n                      Po                 1              1          1     1  \n                      TA               634            634        634   634  \nNA         NA         NA               158            158        158   158  \n\n[35 rows x 80 columns]",
      "text/html": "<div>\n<style scoped>\n    .dataframe tbody tr th:only-of-type {\n        vertical-align: middle;\n    }\n\n    .dataframe tbody tr th {\n        vertical-align: top;\n    }\n\n    .dataframe thead th {\n        text-align: right;\n    }\n</style>\n<table border=\"1\" class=\"dataframe\">\n  <thead>\n    <tr style=\"text-align: right;\">\n      <th></th>\n      <th></th>\n      <th></th>\n      <th>index</th>\n      <th>Id</th>\n      <th>MSSubClass</th>\n      <th>MSZoning</th>\n      <th>LotFrontage</th>\n      <th>LotArea</th>\n      <th>Street</th>\n      <th>Alley</th>\n      <th>LotShape</th>\n      <th>LandContour</th>\n      <th>...</th>\n      <th>PoolQC</th>\n      <th>Fence</th>\n      <th>MiscFeature</th>\n      <th>MiscVal</th>\n      <th>MoSold</th>\n      <th>YrSold</th>\n      <th>SaleType</th>\n      <th>SaleCondition</th>\n      <th>SalePrice</th>\n      <th>Type</th>\n    </tr>\n    <tr>\n      <th>GarageType</th>\n      <th>GarageQual</th>\n      <th>GarageCond</th>\n      <th></th>\n      <th></th>\n      <th></th>\n      <th></th>\n      <th></th>\n      <th></th>\n      <th></th>\n      <th></th>\n      <th></th>\n      <th></th>\n      <th></th>\n      <th></th>\n      <th></th>\n      <th></th>\n      <th></th>\n      <th></th>\n      <th></th>\n      <th></th>\n      <th></th>\n      <th></th>\n      <th></th>\n    </tr>\n  </thead>\n  <tbody>\n    <tr>\n      <th rowspan=\"3\" valign=\"top\">2Types</th>\n      <th rowspan=\"2\" valign=\"top\">Fa</th>\n      <th>Fa</th>\n      <td>1</td>\n      <td>1</td>\n      <td>1</td>\n      <td>1</td>\n      <td>1</td>\n      <td>1</td>\n      <td>1</td>\n      <td>1</td>\n      <td>1</td>\n      <td>1</td>\n      <td>...</td>\n      <td>1</td>\n      <td>1</td>\n      <td>1</td>\n      <td>1</td>\n      <td>1</td>\n      <td>1</td>\n      <td>1</td>\n      <td>1</td>\n      <td>1</td>\n      <td>1</td>\n    </tr>\n    <tr>\n      <th>TA</th>\n      <td>1</td>\n      <td>1</td>\n      <td>1</td>\n      <td>1</td>\n      <td>0</td>\n      <td>1</td>\n      <td>1</td>\n      <td>1</td>\n      <td>1</td>\n      <td>1</td>\n      <td>...</td>\n      <td>1</td>\n      <td>1</td>\n      <td>1</td>\n      <td>1</td>\n      <td>1</td>\n      <td>1</td>\n      <td>1</td>\n      <td>1</td>\n      <td>1</td>\n      <td>1</td>\n    </tr>\n    <tr>\n      <th>TA</th>\n      <th>TA</th>\n      <td>21</td>\n      <td>21</td>\n      <td>21</td>\n      <td>21</td>\n      <td>17</td>\n      <td>21</td>\n      <td>21</td>\n      <td>21</td>\n      <td>21</td>\n      <td>21</td>\n      <td>...</td>\n      <td>21</td>\n      <td>21</td>\n      <td>21</td>\n      <td>21</td>\n      <td>21</td>\n      <td>21</td>\n      <td>21</td>\n      <td>21</td>\n      <td>21</td>\n      <td>21</td>\n    </tr>\n    <tr>\n      <th rowspan=\"9\" valign=\"top\">Attchd</th>\n      <th rowspan=\"3\" valign=\"top\">Fa</th>\n      <th>Fa</th>\n      <td>1</td>\n      <td>1</td>\n      <td>1</td>\n      <td>1</td>\n      <td>1</td>\n      <td>1</td>\n      <td>1</td>\n      <td>1</td>\n      <td>1</td>\n      <td>1</td>\n      <td>...</td>\n      <td>1</td>\n      <td>1</td>\n      <td>1</td>\n      <td>1</td>\n      <td>1</td>\n      <td>1</td>\n      <td>1</td>\n      <td>1</td>\n      <td>1</td>\n      <td>1</td>\n    </tr>\n    <tr>\n      <th>Po</th>\n      <td>1</td>\n      <td>1</td>\n      <td>1</td>\n      <td>0</td>\n      <td>1</td>\n      <td>1</td>\n      <td>1</td>\n      <td>1</td>\n      <td>1</td>\n      <td>1</td>\n      <td>...</td>\n      <td>1</td>\n      <td>1</td>\n      <td>1</td>\n      <td>1</td>\n      <td>1</td>\n      <td>1</td>\n      <td>1</td>\n      <td>1</td>\n      <td>1</td>\n      <td>1</td>\n    </tr>\n    <tr>\n      <th>TA</th>\n      <td>14</td>\n      <td>14</td>\n      <td>14</td>\n      <td>13</td>\n      <td>13</td>\n      <td>14</td>\n      <td>14</td>\n      <td>14</td>\n      <td>14</td>\n      <td>14</td>\n      <td>...</td>\n      <td>14</td>\n      <td>14</td>\n      <td>14</td>\n      <td>14</td>\n      <td>14</td>\n      <td>14</td>\n      <td>14</td>\n      <td>14</td>\n      <td>14</td>\n      <td>14</td>\n    </tr>\n    <tr>\n      <th rowspan=\"2\" valign=\"top\">Gd</th>\n      <th>Gd</th>\n      <td>6</td>\n      <td>6</td>\n      <td>6</td>\n      <td>6</td>\n      <td>4</td>\n      <td>6</td>\n      <td>6</td>\n      <td>6</td>\n      <td>6</td>\n      <td>6</td>\n      <td>...</td>\n      <td>6</td>\n      <td>6</td>\n      <td>6</td>\n      <td>6</td>\n      <td>6</td>\n      <td>6</td>\n      <td>6</td>\n      <td>6</td>\n      <td>6</td>\n      <td>6</td>\n    </tr>\n    <tr>\n      <th>TA</th>\n      <td>11</td>\n      <td>11</td>\n      <td>11</td>\n      <td>11</td>\n      <td>10</td>\n      <td>11</td>\n      <td>11</td>\n      <td>11</td>\n      <td>11</td>\n      <td>11</td>\n      <td>...</td>\n      <td>11</td>\n      <td>11</td>\n      <td>11</td>\n      <td>11</td>\n      <td>11</td>\n      <td>11</td>\n      <td>11</td>\n      <td>11</td>\n      <td>11</td>\n      <td>11</td>\n    </tr>\n    <tr>\n      <th rowspan=\"4\" valign=\"top\">TA</th>\n      <th>Fa</th>\n      <td>4</td>\n      <td>4</td>\n      <td>4</td>\n      <td>4</td>\n      <td>4</td>\n      <td>4</td>\n      <td>4</td>\n      <td>4</td>\n      <td>4</td>\n      <td>4</td>\n      <td>...</td>\n      <td>4</td>\n      <td>4</td>\n      <td>4</td>\n      <td>4</td>\n      <td>4</td>\n      <td>4</td>\n      <td>4</td>\n      <td>4</td>\n      <td>4</td>\n      <td>4</td>\n    </tr>\n    <tr>\n      <th>Gd</th>\n      <td>6</td>\n      <td>6</td>\n      <td>6</td>\n      <td>6</td>\n      <td>2</td>\n      <td>6</td>\n      <td>6</td>\n      <td>6</td>\n      <td>6</td>\n      <td>6</td>\n      <td>...</td>\n      <td>6</td>\n      <td>6</td>\n      <td>6</td>\n      <td>6</td>\n      <td>6</td>\n      <td>6</td>\n      <td>6</td>\n      <td>6</td>\n      <td>6</td>\n      <td>6</td>\n    </tr>\n    <tr>\n      <th>Po</th>\n      <td>1</td>\n      <td>1</td>\n      <td>1</td>\n      <td>1</td>\n      <td>1</td>\n      <td>1</td>\n      <td>1</td>\n      <td>1</td>\n      <td>1</td>\n      <td>1</td>\n      <td>...</td>\n      <td>1</td>\n      <td>1</td>\n      <td>1</td>\n      <td>1</td>\n      <td>1</td>\n      <td>1</td>\n      <td>1</td>\n      <td>1</td>\n      <td>1</td>\n      <td>1</td>\n    </tr>\n    <tr>\n      <th>TA</th>\n      <td>1679</td>\n      <td>1679</td>\n      <td>1679</td>\n      <td>1679</td>\n      <td>1357</td>\n      <td>1679</td>\n      <td>1679</td>\n      <td>1679</td>\n      <td>1679</td>\n      <td>1679</td>\n      <td>...</td>\n      <td>1679</td>\n      <td>1679</td>\n      <td>1679</td>\n      <td>1679</td>\n      <td>1679</td>\n      <td>1679</td>\n      <td>1678</td>\n      <td>1679</td>\n      <td>1679</td>\n      <td>1679</td>\n    </tr>\n    <tr>\n      <th rowspan=\"3\" valign=\"top\">Basment</th>\n      <th>Fa</th>\n      <th>TA</th>\n      <td>4</td>\n      <td>4</td>\n      <td>4</td>\n      <td>4</td>\n      <td>3</td>\n      <td>4</td>\n      <td>4</td>\n      <td>4</td>\n      <td>4</td>\n      <td>4</td>\n      <td>...</td>\n      <td>4</td>\n      <td>4</td>\n      <td>4</td>\n      <td>4</td>\n      <td>4</td>\n      <td>4</td>\n      <td>4</td>\n      <td>4</td>\n      <td>4</td>\n      <td>4</td>\n    </tr>\n    <tr>\n      <th>Gd</th>\n      <th>TA</th>\n      <td>1</td>\n      <td>1</td>\n      <td>1</td>\n      <td>1</td>\n      <td>0</td>\n      <td>1</td>\n      <td>1</td>\n      <td>1</td>\n      <td>1</td>\n      <td>1</td>\n      <td>...</td>\n      <td>1</td>\n      <td>1</td>\n      <td>1</td>\n      <td>1</td>\n      <td>1</td>\n      <td>1</td>\n      <td>1</td>\n      <td>1</td>\n      <td>1</td>\n      <td>1</td>\n    </tr>\n    <tr>\n      <th>TA</th>\n      <th>TA</th>\n      <td>31</td>\n      <td>31</td>\n      <td>31</td>\n      <td>31</td>\n      <td>23</td>\n      <td>31</td>\n      <td>31</td>\n      <td>31</td>\n      <td>31</td>\n      <td>31</td>\n      <td>...</td>\n      <td>31</td>\n      <td>31</td>\n      <td>31</td>\n      <td>31</td>\n      <td>31</td>\n      <td>31</td>\n      <td>31</td>\n      <td>31</td>\n      <td>31</td>\n      <td>31</td>\n    </tr>\n    <tr>\n      <th rowspan=\"3\" valign=\"top\">BuiltIn</th>\n      <th>Fa</th>\n      <th>TA</th>\n      <td>3</td>\n      <td>3</td>\n      <td>3</td>\n      <td>3</td>\n      <td>2</td>\n      <td>3</td>\n      <td>3</td>\n      <td>3</td>\n      <td>3</td>\n      <td>3</td>\n      <td>...</td>\n      <td>3</td>\n      <td>3</td>\n      <td>3</td>\n      <td>3</td>\n      <td>3</td>\n      <td>3</td>\n      <td>3</td>\n      <td>3</td>\n      <td>3</td>\n      <td>3</td>\n    </tr>\n    <tr>\n      <th>Gd</th>\n      <th>TA</th>\n      <td>1</td>\n      <td>1</td>\n      <td>1</td>\n      <td>1</td>\n      <td>1</td>\n      <td>1</td>\n      <td>1</td>\n      <td>1</td>\n      <td>1</td>\n      <td>1</td>\n      <td>...</td>\n      <td>1</td>\n      <td>1</td>\n      <td>1</td>\n      <td>1</td>\n      <td>1</td>\n      <td>1</td>\n      <td>1</td>\n      <td>1</td>\n      <td>1</td>\n      <td>1</td>\n    </tr>\n    <tr>\n      <th>TA</th>\n      <th>TA</th>\n      <td>182</td>\n      <td>182</td>\n      <td>182</td>\n      <td>182</td>\n      <td>137</td>\n      <td>182</td>\n      <td>182</td>\n      <td>182</td>\n      <td>182</td>\n      <td>182</td>\n      <td>...</td>\n      <td>182</td>\n      <td>182</td>\n      <td>182</td>\n      <td>182</td>\n      <td>182</td>\n      <td>182</td>\n      <td>182</td>\n      <td>182</td>\n      <td>182</td>\n      <td>182</td>\n    </tr>\n    <tr>\n      <th rowspan=\"3\" valign=\"top\">CarPort</th>\n      <th rowspan=\"2\" valign=\"top\">Fa</th>\n      <th>Fa</th>\n      <td>1</td>\n      <td>1</td>\n      <td>1</td>\n      <td>1</td>\n      <td>1</td>\n      <td>1</td>\n      <td>1</td>\n      <td>1</td>\n      <td>1</td>\n      <td>1</td>\n      <td>...</td>\n      <td>1</td>\n      <td>1</td>\n      <td>1</td>\n      <td>1</td>\n      <td>1</td>\n      <td>1</td>\n      <td>1</td>\n      <td>1</td>\n      <td>1</td>\n      <td>1</td>\n    </tr>\n    <tr>\n      <th>TA</th>\n      <td>1</td>\n      <td>1</td>\n      <td>1</td>\n      <td>1</td>\n      <td>1</td>\n      <td>1</td>\n      <td>1</td>\n      <td>1</td>\n      <td>1</td>\n      <td>1</td>\n      <td>...</td>\n      <td>1</td>\n      <td>1</td>\n      <td>1</td>\n      <td>1</td>\n      <td>1</td>\n      <td>1</td>\n      <td>1</td>\n      <td>1</td>\n      <td>1</td>\n      <td>1</td>\n    </tr>\n    <tr>\n      <th>TA</th>\n      <th>TA</th>\n      <td>13</td>\n      <td>13</td>\n      <td>13</td>\n      <td>13</td>\n      <td>10</td>\n      <td>13</td>\n      <td>13</td>\n      <td>13</td>\n      <td>13</td>\n      <td>13</td>\n      <td>...</td>\n      <td>13</td>\n      <td>13</td>\n      <td>13</td>\n      <td>13</td>\n      <td>13</td>\n      <td>13</td>\n      <td>13</td>\n      <td>13</td>\n      <td>13</td>\n      <td>13</td>\n    </tr>\n    <tr>\n      <th rowspan=\"13\" valign=\"top\">Detchd</th>\n      <th rowspan=\"2\" valign=\"top\">Ex</th>\n      <th>Ex</th>\n      <td>2</td>\n      <td>2</td>\n      <td>2</td>\n      <td>2</td>\n      <td>2</td>\n      <td>2</td>\n      <td>2</td>\n      <td>2</td>\n      <td>2</td>\n      <td>2</td>\n      <td>...</td>\n      <td>2</td>\n      <td>2</td>\n      <td>2</td>\n      <td>2</td>\n      <td>2</td>\n      <td>2</td>\n      <td>2</td>\n      <td>2</td>\n      <td>2</td>\n      <td>2</td>\n    </tr>\n    <tr>\n      <th>TA</th>\n      <td>1</td>\n      <td>1</td>\n      <td>1</td>\n      <td>1</td>\n      <td>1</td>\n      <td>1</td>\n      <td>1</td>\n      <td>1</td>\n      <td>1</td>\n      <td>1</td>\n      <td>...</td>\n      <td>1</td>\n      <td>1</td>\n      <td>1</td>\n      <td>1</td>\n      <td>1</td>\n      <td>1</td>\n      <td>1</td>\n      <td>1</td>\n      <td>1</td>\n      <td>1</td>\n    </tr>\n    <tr>\n      <th rowspan=\"3\" valign=\"top\">Fa</th>\n      <th>Fa</th>\n      <td>36</td>\n      <td>36</td>\n      <td>36</td>\n      <td>36</td>\n      <td>34</td>\n      <td>36</td>\n      <td>36</td>\n      <td>36</td>\n      <td>36</td>\n      <td>36</td>\n      <td>...</td>\n      <td>36</td>\n      <td>36</td>\n      <td>36</td>\n      <td>36</td>\n      <td>36</td>\n      <td>36</td>\n      <td>36</td>\n      <td>36</td>\n      <td>36</td>\n      <td>36</td>\n    </tr>\n    <tr>\n      <th>Po</th>\n      <td>7</td>\n      <td>7</td>\n      <td>7</td>\n      <td>7</td>\n      <td>6</td>\n      <td>7</td>\n      <td>7</td>\n      <td>7</td>\n      <td>7</td>\n      <td>7</td>\n      <td>...</td>\n      <td>7</td>\n      <td>7</td>\n      <td>7</td>\n      <td>7</td>\n      <td>7</td>\n      <td>7</td>\n      <td>7</td>\n      <td>7</td>\n      <td>7</td>\n      <td>7</td>\n    </tr>\n    <tr>\n      <th>TA</th>\n      <td>54</td>\n      <td>54</td>\n      <td>54</td>\n      <td>54</td>\n      <td>53</td>\n      <td>54</td>\n      <td>54</td>\n      <td>54</td>\n      <td>54</td>\n      <td>54</td>\n      <td>...</td>\n      <td>54</td>\n      <td>54</td>\n      <td>54</td>\n      <td>54</td>\n      <td>54</td>\n      <td>54</td>\n      <td>54</td>\n      <td>54</td>\n      <td>54</td>\n      <td>54</td>\n    </tr>\n    <tr>\n      <th rowspan=\"2\" valign=\"top\">Gd</th>\n      <th>Ex</th>\n      <td>1</td>\n      <td>1</td>\n      <td>1</td>\n      <td>1</td>\n      <td>1</td>\n      <td>1</td>\n      <td>1</td>\n      <td>1</td>\n      <td>1</td>\n      <td>1</td>\n      <td>...</td>\n      <td>1</td>\n      <td>1</td>\n      <td>1</td>\n      <td>1</td>\n      <td>1</td>\n      <td>1</td>\n      <td>1</td>\n      <td>1</td>\n      <td>1</td>\n      <td>1</td>\n    </tr>\n    <tr>\n      <th>TA</th>\n      <td>4</td>\n      <td>4</td>\n      <td>4</td>\n      <td>4</td>\n      <td>4</td>\n      <td>4</td>\n      <td>4</td>\n      <td>4</td>\n      <td>4</td>\n      <td>4</td>\n      <td>...</td>\n      <td>4</td>\n      <td>4</td>\n      <td>4</td>\n      <td>4</td>\n      <td>4</td>\n      <td>4</td>\n      <td>4</td>\n      <td>4</td>\n      <td>4</td>\n      <td>4</td>\n    </tr>\n    <tr>\n      <th rowspan=\"2\" valign=\"top\">Po</th>\n      <th>Fa</th>\n      <td>1</td>\n      <td>1</td>\n      <td>1</td>\n      <td>1</td>\n      <td>1</td>\n      <td>1</td>\n      <td>1</td>\n      <td>1</td>\n      <td>1</td>\n      <td>1</td>\n      <td>...</td>\n      <td>1</td>\n      <td>1</td>\n      <td>1</td>\n      <td>1</td>\n      <td>1</td>\n      <td>1</td>\n      <td>1</td>\n      <td>1</td>\n      <td>1</td>\n      <td>1</td>\n    </tr>\n    <tr>\n      <th>Po</th>\n      <td>4</td>\n      <td>4</td>\n      <td>4</td>\n      <td>4</td>\n      <td>4</td>\n      <td>4</td>\n      <td>4</td>\n      <td>4</td>\n      <td>4</td>\n      <td>4</td>\n      <td>...</td>\n      <td>4</td>\n      <td>4</td>\n      <td>4</td>\n      <td>4</td>\n      <td>4</td>\n      <td>4</td>\n      <td>4</td>\n      <td>4</td>\n      <td>4</td>\n      <td>4</td>\n    </tr>\n    <tr>\n      <th rowspan=\"4\" valign=\"top\">TA</th>\n      <th>Fa</th>\n      <td>30</td>\n      <td>30</td>\n      <td>30</td>\n      <td>29</td>\n      <td>24</td>\n      <td>30</td>\n      <td>30</td>\n      <td>30</td>\n      <td>30</td>\n      <td>30</td>\n      <td>...</td>\n      <td>30</td>\n      <td>30</td>\n      <td>30</td>\n      <td>30</td>\n      <td>30</td>\n      <td>30</td>\n      <td>30</td>\n      <td>30</td>\n      <td>30</td>\n      <td>30</td>\n    </tr>\n    <tr>\n      <th>Gd</th>\n      <td>3</td>\n      <td>3</td>\n      <td>3</td>\n      <td>3</td>\n      <td>3</td>\n      <td>3</td>\n      <td>3</td>\n      <td>3</td>\n      <td>3</td>\n      <td>3</td>\n      <td>...</td>\n      <td>3</td>\n      <td>3</td>\n      <td>3</td>\n      <td>3</td>\n      <td>3</td>\n      <td>3</td>\n      <td>3</td>\n      <td>3</td>\n      <td>3</td>\n      <td>3</td>\n    </tr>\n    <tr>\n      <th>Po</th>\n      <td>1</td>\n      <td>1</td>\n      <td>1</td>\n      <td>1</td>\n      <td>1</td>\n      <td>1</td>\n      <td>1</td>\n      <td>1</td>\n      <td>1</td>\n      <td>1</td>\n      <td>...</td>\n      <td>1</td>\n      <td>1</td>\n      <td>1</td>\n      <td>1</td>\n      <td>1</td>\n      <td>1</td>\n      <td>1</td>\n      <td>1</td>\n      <td>1</td>\n      <td>1</td>\n    </tr>\n    <tr>\n      <th>TA</th>\n      <td>634</td>\n      <td>634</td>\n      <td>634</td>\n      <td>633</td>\n      <td>563</td>\n      <td>634</td>\n      <td>634</td>\n      <td>634</td>\n      <td>634</td>\n      <td>634</td>\n      <td>...</td>\n      <td>634</td>\n      <td>634</td>\n      <td>634</td>\n      <td>634</td>\n      <td>634</td>\n      <td>634</td>\n      <td>634</td>\n      <td>634</td>\n      <td>634</td>\n      <td>634</td>\n    </tr>\n    <tr>\n      <th>NA</th>\n      <th>NA</th>\n      <th>NA</th>\n      <td>158</td>\n      <td>158</td>\n      <td>158</td>\n      <td>158</td>\n      <td>147</td>\n      <td>158</td>\n      <td>158</td>\n      <td>158</td>\n      <td>158</td>\n      <td>158</td>\n      <td>...</td>\n      <td>158</td>\n      <td>158</td>\n      <td>158</td>\n      <td>158</td>\n      <td>158</td>\n      <td>158</td>\n      <td>158</td>\n      <td>158</td>\n      <td>158</td>\n      <td>158</td>\n    </tr>\n  </tbody>\n</table>\n<p>35 rows × 80 columns</p>\n</div>"
     },
     "metadata": {},
     "execution_count": 77
    }
   ],
   "source": [
    "\n",
    "# Nos aseguramos de que sólo los que no tienen garaje no tienen informada la fecha de construcción del garaje\n",
    "all_data.loc[(all_data.GarageYrBlt.isnull()),garage_features] # 158\n",
    "all_data.loc[all_data.GarageType == 'NA'] #158\n",
    "all_data.loc[all_data.GarageType == 'NA'].groupby(['GarageType','GarageQual']).count() # 158\n",
    "all_data.loc[all_data.GarageType == 'NA'].groupby(['GarageType','GarageQual','GarageCond']).count() # 158\n",
    "all_data.groupby(['GarageType','GarageQual','GarageCond']).count() # 158"
   ]
  },
  {
   "cell_type": "code",
   "execution_count": 78,
   "metadata": {},
   "outputs": [],
   "source": [
    "# Rellenamos la fecha de construcción del garaje con 0\n",
    "all_data[['GarageYrBlt']] = all_data[['GarageYrBlt']].fillna(0)"
   ]
  },
  {
   "cell_type": "code",
   "execution_count": 79,
   "metadata": {
    "tags": []
   },
   "outputs": [
    {
     "output_type": "stream",
     "name": "stdout",
     "text": "<class 'pandas.core.frame.DataFrame'>\nRangeIndex: 2919 entries, 0 to 2918\nData columns (total 83 columns):\n #   Column         Non-Null Count  Dtype  \n---  ------         --------------  -----  \n 0   index          2919 non-null   int64  \n 1   Id             2919 non-null   int64  \n 2   MSSubClass     2919 non-null   int64  \n 3   MSZoning       2915 non-null   object \n 4   LotFrontage    2433 non-null   float64\n 5   LotArea        2919 non-null   int64  \n 6   Street         2919 non-null   object \n 7   Alley          2919 non-null   object \n 8   LotShape       2919 non-null   object \n 9   LandContour    2919 non-null   object \n 10  Utilities      2917 non-null   object \n 11  LotConfig      2919 non-null   object \n 12  LandSlope      2919 non-null   object \n 13  Neighborhood   2919 non-null   object \n 14  Condition1     2919 non-null   object \n 15  Condition2     2919 non-null   object \n 16  BldgType       2919 non-null   object \n 17  HouseStyle     2919 non-null   object \n 18  OverallQual    2919 non-null   int64  \n 19  OverallCond    2919 non-null   int64  \n 20  YearBuilt      2919 non-null   int64  \n 21  YearRemodAdd   2919 non-null   int64  \n 22  RoofStyle      2919 non-null   object \n 23  RoofMatl       2919 non-null   object \n 24  Exterior1st    2918 non-null   object \n 25  Exterior2nd    2918 non-null   object \n 26  MasVnrType     2895 non-null   object \n 27  MasVnrArea     2896 non-null   float64\n 28  ExterQual      2919 non-null   object \n 29  ExterCond      2919 non-null   object \n 30  Foundation     2919 non-null   object \n 31  BsmtQual       2919 non-null   object \n 32  BsmtCond       2919 non-null   object \n 33  BsmtExposure   2919 non-null   object \n 34  BsmtFinType1   2919 non-null   object \n 35  BsmtFinSF1     2918 non-null   float64\n 36  BsmtFinType2   2919 non-null   object \n 37  BsmtFinSF2     2918 non-null   float64\n 38  BsmtUnfSF      2918 non-null   float64\n 39  TotalBsmtSF    2918 non-null   float64\n 40  Heating        2919 non-null   object \n 41  HeatingQC      2919 non-null   object \n 42  CentralAir     2919 non-null   object \n 43  Electrical     2918 non-null   object \n 44  1stFlrSF       2919 non-null   int64  \n 45  2ndFlrSF       2919 non-null   int64  \n 46  LowQualFinSF   2919 non-null   int64  \n 47  GrLivArea      2919 non-null   int64  \n 48  BsmtFullBath   2917 non-null   float64\n 49  BsmtHalfBath   2917 non-null   float64\n 50  FullBath       2919 non-null   int64  \n 51  HalfBath       2919 non-null   int64  \n 52  BedroomAbvGr   2919 non-null   int64  \n 53  KitchenAbvGr   2919 non-null   int64  \n 54  KitchenQual    2918 non-null   object \n 55  TotRmsAbvGrd   2919 non-null   int64  \n 56  Functional     2919 non-null   object \n 57  Fireplaces     2919 non-null   int64  \n 58  FireplaceQu    2919 non-null   object \n 59  GarageType     2919 non-null   object \n 60  GarageYrBlt    2919 non-null   float64\n 61  GarageFinish   2919 non-null   object \n 62  GarageCars     2919 non-null   float64\n 63  GarageArea     2919 non-null   float64\n 64  GarageQual     2919 non-null   object \n 65  GarageCond     2919 non-null   object \n 66  PavedDrive     2919 non-null   object \n 67  WoodDeckSF     2919 non-null   int64  \n 68  OpenPorchSF    2919 non-null   int64  \n 69  EnclosedPorch  2919 non-null   int64  \n 70  3SsnPorch      2919 non-null   int64  \n 71  ScreenPorch    2919 non-null   int64  \n 72  PoolArea       2919 non-null   int64  \n 73  PoolQC         2919 non-null   object \n 74  Fence          2919 non-null   object \n 75  MiscFeature    2919 non-null   object \n 76  MiscVal        2919 non-null   int64  \n 77  MoSold         2919 non-null   int64  \n 78  YrSold         2919 non-null   int64  \n 79  SaleType       2918 non-null   object \n 80  SaleCondition  2919 non-null   object \n 81  SalePrice      2919 non-null   int64  \n 82  Type           2919 non-null   object \ndtypes: float64(11), int64(28), object(44)\nmemory usage: 1.8+ MB\n"
    }
   ],
   "source": [
    "all_data.info()"
   ]
  },
  {
   "cell_type": "code",
   "execution_count": 80,
   "metadata": {
    "tags": []
   },
   "outputs": [
    {
     "output_type": "stream",
     "name": "stdout",
     "text": "<class 'pandas.core.frame.DataFrame'>\nRangeIndex: 2919 entries, 0 to 2918\nData columns (total 83 columns):\n #   Column         Non-Null Count  Dtype  \n---  ------         --------------  -----  \n 0   index          2919 non-null   int64  \n 1   Id             2919 non-null   int64  \n 2   MSSubClass     2919 non-null   int64  \n 3   MSZoning       2915 non-null   object \n 4   LotFrontage    2433 non-null   float64\n 5   LotArea        2919 non-null   int64  \n 6   Street         2919 non-null   object \n 7   Alley          2919 non-null   object \n 8   LotShape       2919 non-null   object \n 9   LandContour    2919 non-null   object \n 10  Utilities      2917 non-null   object \n 11  LotConfig      2919 non-null   object \n 12  LandSlope      2919 non-null   object \n 13  Neighborhood   2919 non-null   object \n 14  Condition1     2919 non-null   object \n 15  Condition2     2919 non-null   object \n 16  BldgType       2919 non-null   object \n 17  HouseStyle     2919 non-null   object \n 18  OverallQual    2919 non-null   int64  \n 19  OverallCond    2919 non-null   int64  \n 20  YearBuilt      2919 non-null   int64  \n 21  YearRemodAdd   2919 non-null   int64  \n 22  RoofStyle      2919 non-null   object \n 23  RoofMatl       2919 non-null   object \n 24  Exterior1st    2918 non-null   object \n 25  Exterior2nd    2918 non-null   object \n 26  MasVnrType     2895 non-null   object \n 27  MasVnrArea     2896 non-null   float64\n 28  ExterQual      2919 non-null   object \n 29  ExterCond      2919 non-null   object \n 30  Foundation     2919 non-null   object \n 31  BsmtQual       2919 non-null   object \n 32  BsmtCond       2919 non-null   object \n 33  BsmtExposure   2919 non-null   object \n 34  BsmtFinType1   2919 non-null   object \n 35  BsmtFinSF1     2919 non-null   float64\n 36  BsmtFinType2   2919 non-null   object \n 37  BsmtFinSF2     2919 non-null   float64\n 38  BsmtUnfSF      2919 non-null   float64\n 39  TotalBsmtSF    2919 non-null   float64\n 40  Heating        2919 non-null   object \n 41  HeatingQC      2919 non-null   object \n 42  CentralAir     2919 non-null   object \n 43  Electrical     2918 non-null   object \n 44  1stFlrSF       2919 non-null   int64  \n 45  2ndFlrSF       2919 non-null   int64  \n 46  LowQualFinSF   2919 non-null   int64  \n 47  GrLivArea      2919 non-null   int64  \n 48  BsmtFullBath   2917 non-null   float64\n 49  BsmtHalfBath   2917 non-null   float64\n 50  FullBath       2919 non-null   int64  \n 51  HalfBath       2919 non-null   int64  \n 52  BedroomAbvGr   2919 non-null   int64  \n 53  KitchenAbvGr   2919 non-null   int64  \n 54  KitchenQual    2918 non-null   object \n 55  TotRmsAbvGrd   2919 non-null   int64  \n 56  Functional     2919 non-null   object \n 57  Fireplaces     2919 non-null   int64  \n 58  FireplaceQu    2919 non-null   object \n 59  GarageType     2919 non-null   object \n 60  GarageYrBlt    2919 non-null   float64\n 61  GarageFinish   2919 non-null   object \n 62  GarageCars     2919 non-null   float64\n 63  GarageArea     2919 non-null   float64\n 64  GarageQual     2919 non-null   object \n 65  GarageCond     2919 non-null   object \n 66  PavedDrive     2919 non-null   object \n 67  WoodDeckSF     2919 non-null   int64  \n 68  OpenPorchSF    2919 non-null   int64  \n 69  EnclosedPorch  2919 non-null   int64  \n 70  3SsnPorch      2919 non-null   int64  \n 71  ScreenPorch    2919 non-null   int64  \n 72  PoolArea       2919 non-null   int64  \n 73  PoolQC         2919 non-null   object \n 74  Fence          2919 non-null   object \n 75  MiscFeature    2919 non-null   object \n 76  MiscVal        2919 non-null   int64  \n 77  MoSold         2919 non-null   int64  \n 78  YrSold         2919 non-null   int64  \n 79  SaleType       2918 non-null   object \n 80  SaleCondition  2919 non-null   object \n 81  SalePrice      2919 non-null   int64  \n 82  Type           2919 non-null   object \ndtypes: float64(11), int64(28), object(44)\nmemory usage: 1.8+ MB\n"
    }
   ],
   "source": [
    "# Basement Cleaning\n",
    "bsmt_features = ['BsmtQual','BsmtCond','BsmtExposure','BsmtFinType1','BsmtFinSF1','BsmtFinType2','BsmtFinSF2','BsmtUnfSF','TotalBsmtSF']\n",
    "all_data.loc[(all_data.BsmtFinSF1.isnull()) | (all_data.BsmtFinSF2.isnull())| (all_data.BsmtUnfSF.isnull())| (all_data.TotalBsmtSF.isnull()),bsmt_features]\n",
    "all_data[bsmt_features] = all_data[bsmt_features].fillna(0)\n",
    "all_data.info()"
   ]
  },
  {
   "cell_type": "code",
   "execution_count": 81,
   "metadata": {},
   "outputs": [
    {
     "output_type": "execute_result",
     "data": {
      "text/plain": "              BsmtQual  BsmtCond  BsmtExposure  BsmtFinType1  BsmtFinSF1  \\\nBsmtFinType2                                                               \nBLQ                  1         1             1             1           1   \nNA                  79        79            79            79          79   \nUnf               2492      2492          2492          2492        2492   \n\n              BsmtFinSF2  BsmtUnfSF  TotalBsmtSF  \nBsmtFinType2                                      \nBLQ                    1          1            1  \nNA                    79         79           79  \nUnf                 2492       2492         2492  ",
      "text/html": "<div>\n<style scoped>\n    .dataframe tbody tr th:only-of-type {\n        vertical-align: middle;\n    }\n\n    .dataframe tbody tr th {\n        vertical-align: top;\n    }\n\n    .dataframe thead th {\n        text-align: right;\n    }\n</style>\n<table border=\"1\" class=\"dataframe\">\n  <thead>\n    <tr style=\"text-align: right;\">\n      <th></th>\n      <th>BsmtQual</th>\n      <th>BsmtCond</th>\n      <th>BsmtExposure</th>\n      <th>BsmtFinType1</th>\n      <th>BsmtFinSF1</th>\n      <th>BsmtFinSF2</th>\n      <th>BsmtUnfSF</th>\n      <th>TotalBsmtSF</th>\n    </tr>\n    <tr>\n      <th>BsmtFinType2</th>\n      <th></th>\n      <th></th>\n      <th></th>\n      <th></th>\n      <th></th>\n      <th></th>\n      <th></th>\n      <th></th>\n    </tr>\n  </thead>\n  <tbody>\n    <tr>\n      <th>BLQ</th>\n      <td>1</td>\n      <td>1</td>\n      <td>1</td>\n      <td>1</td>\n      <td>1</td>\n      <td>1</td>\n      <td>1</td>\n      <td>1</td>\n    </tr>\n    <tr>\n      <th>NA</th>\n      <td>79</td>\n      <td>79</td>\n      <td>79</td>\n      <td>79</td>\n      <td>79</td>\n      <td>79</td>\n      <td>79</td>\n      <td>79</td>\n    </tr>\n    <tr>\n      <th>Unf</th>\n      <td>2492</td>\n      <td>2492</td>\n      <td>2492</td>\n      <td>2492</td>\n      <td>2492</td>\n      <td>2492</td>\n      <td>2492</td>\n      <td>2492</td>\n    </tr>\n  </tbody>\n</table>\n</div>"
     },
     "metadata": {},
     "execution_count": 81
    }
   ],
   "source": [
    "all_data.loc[(all_data.BsmtQual != 'NA') & (all_data.BsmtFinSF1 == 0) & (all_data.BsmtFinSF2 == 0) & (all_data.BsmtUnfSF == 0), bsmt_features ]\n",
    "all_data.loc[(all_data.BsmtFinType1 != 'NA') & (all_data.BsmtFinType1 != 'Unf') & (all_data.BsmtFinSF1 == 0), bsmt_features ]\n",
    "all_data.loc[(all_data.BsmtFinType2 != 'NA') & (all_data.BsmtFinType2 != 'Unf') & (all_data.BsmtFinSF2 == 0), bsmt_features ]\n",
    "# all_data.loc[((all_data.BsmtFinType2 == 'NA') | (all_data.BsmtFinType2 == 'Unf')) & (all_data.BsmtFinSF2 == 0), bsmt_features ]\n",
    "all_data.loc[(all_data.BsmtFinSF2 == 0), bsmt_features ].groupby('BsmtFinType2').count()"
   ]
  },
  {
   "cell_type": "code",
   "execution_count": 82,
   "metadata": {},
   "outputs": [
    {
     "output_type": "execute_result",
     "data": {
      "text/plain": "              BsmtQual  BsmtCond  BsmtExposure  BsmtFinType1  BsmtFinSF1  \\\nBsmtFinType2                                                               \nNA                  79        79            79            79          79   \nUnf               2493      2493          2493          2493        2493   \n\n              BsmtFinSF2  BsmtUnfSF  TotalBsmtSF  \nBsmtFinType2                                      \nNA                    79         79           79  \nUnf                 2493       2493         2493  ",
      "text/html": "<div>\n<style scoped>\n    .dataframe tbody tr th:only-of-type {\n        vertical-align: middle;\n    }\n\n    .dataframe tbody tr th {\n        vertical-align: top;\n    }\n\n    .dataframe thead th {\n        text-align: right;\n    }\n</style>\n<table border=\"1\" class=\"dataframe\">\n  <thead>\n    <tr style=\"text-align: right;\">\n      <th></th>\n      <th>BsmtQual</th>\n      <th>BsmtCond</th>\n      <th>BsmtExposure</th>\n      <th>BsmtFinType1</th>\n      <th>BsmtFinSF1</th>\n      <th>BsmtFinSF2</th>\n      <th>BsmtUnfSF</th>\n      <th>TotalBsmtSF</th>\n    </tr>\n    <tr>\n      <th>BsmtFinType2</th>\n      <th></th>\n      <th></th>\n      <th></th>\n      <th></th>\n      <th></th>\n      <th></th>\n      <th></th>\n      <th></th>\n    </tr>\n  </thead>\n  <tbody>\n    <tr>\n      <th>NA</th>\n      <td>79</td>\n      <td>79</td>\n      <td>79</td>\n      <td>79</td>\n      <td>79</td>\n      <td>79</td>\n      <td>79</td>\n      <td>79</td>\n    </tr>\n    <tr>\n      <th>Unf</th>\n      <td>2493</td>\n      <td>2493</td>\n      <td>2493</td>\n      <td>2493</td>\n      <td>2493</td>\n      <td>2493</td>\n      <td>2493</td>\n      <td>2493</td>\n    </tr>\n  </tbody>\n</table>\n</div>"
     },
     "metadata": {},
     "execution_count": 82
    }
   ],
   "source": [
    "# Parece que existe un error en el Id 1471. BsmtFinType2 indica BLQ pero BsmtFinSF2 nos dice 0.0. Podría suceder que BsmtFinType2 = 'Unf'\n",
    "# Sustituimos por 'Unf'\n",
    "all_data.loc[all_data.Id == 1471, 'BsmtFinType2'] = 'Unf'\n",
    "all_data.loc[(all_data.BsmtFinSF2 == 0), bsmt_features ].groupby('BsmtFinType2').count()"
   ]
  },
  {
   "cell_type": "code",
   "execution_count": 83,
   "metadata": {
    "tags": []
   },
   "outputs": [
    {
     "output_type": "execute_result",
     "data": {
      "text/plain": "Empty DataFrame\nColumns: [BsmtQual, BsmtCond, BsmtExposure, BsmtFinType1, BsmtFinSF1, BsmtFinType2, BsmtFinSF2, BsmtUnfSF, TotalBsmtSF]\nIndex: []",
      "text/html": "<div>\n<style scoped>\n    .dataframe tbody tr th:only-of-type {\n        vertical-align: middle;\n    }\n\n    .dataframe tbody tr th {\n        vertical-align: top;\n    }\n\n    .dataframe thead th {\n        text-align: right;\n    }\n</style>\n<table border=\"1\" class=\"dataframe\">\n  <thead>\n    <tr style=\"text-align: right;\">\n      <th></th>\n      <th>BsmtQual</th>\n      <th>BsmtCond</th>\n      <th>BsmtExposure</th>\n      <th>BsmtFinType1</th>\n      <th>BsmtFinSF1</th>\n      <th>BsmtFinType2</th>\n      <th>BsmtFinSF2</th>\n      <th>BsmtUnfSF</th>\n      <th>TotalBsmtSF</th>\n    </tr>\n  </thead>\n  <tbody>\n  </tbody>\n</table>\n</div>"
     },
     "metadata": {},
     "execution_count": 83
    }
   ],
   "source": [
    "all_data.loc[all_data.BsmtFinSF1 + all_data.BsmtFinSF2 + all_data.BsmtUnfSF != all_data.TotalBsmtSF,bsmt_features]"
   ]
  },
  {
   "cell_type": "code",
   "execution_count": 84,
   "metadata": {
    "tags": []
   },
   "outputs": [
    {
     "output_type": "execute_result",
     "data": {
      "text/plain": "Empty DataFrame\nColumns: [BsmtQual, BsmtCond, BsmtExposure, BsmtFinType1, BsmtFinSF1, BsmtFinType2, BsmtFinSF2, BsmtUnfSF, TotalBsmtSF, BsmtFullBath, BsmtHalfBath]\nIndex: []",
      "text/html": "<div>\n<style scoped>\n    .dataframe tbody tr th:only-of-type {\n        vertical-align: middle;\n    }\n\n    .dataframe tbody tr th {\n        vertical-align: top;\n    }\n\n    .dataframe thead th {\n        text-align: right;\n    }\n</style>\n<table border=\"1\" class=\"dataframe\">\n  <thead>\n    <tr style=\"text-align: right;\">\n      <th></th>\n      <th>BsmtQual</th>\n      <th>BsmtCond</th>\n      <th>BsmtExposure</th>\n      <th>BsmtFinType1</th>\n      <th>BsmtFinSF1</th>\n      <th>BsmtFinType2</th>\n      <th>BsmtFinSF2</th>\n      <th>BsmtUnfSF</th>\n      <th>TotalBsmtSF</th>\n      <th>BsmtFullBath</th>\n      <th>BsmtHalfBath</th>\n    </tr>\n  </thead>\n  <tbody>\n  </tbody>\n</table>\n</div>"
     },
     "metadata": {},
     "execution_count": 84
    }
   ],
   "source": [
    "# Basement Baths\n",
    "bath_features = bsmt_features + ['BsmtFullBath','BsmtHalfBath']\n",
    "all_data[['BsmtFullBath','BsmtHalfBath']] = all_data[['BsmtFullBath','BsmtHalfBath']].fillna(0)\n",
    "all_data.loc[(all_data.BsmtFullBath.isnull()) | (all_data.BsmtHalfBath.isnull()) , bath_features]"
   ]
  },
  {
   "cell_type": "code",
   "execution_count": 85,
   "metadata": {
    "tags": []
   },
   "outputs": [
    {
     "output_type": "stream",
     "name": "stdout",
     "text": "<class 'pandas.core.frame.DataFrame'>\nRangeIndex: 2919 entries, 0 to 2918\nData columns (total 83 columns):\n #   Column         Non-Null Count  Dtype  \n---  ------         --------------  -----  \n 0   index          2919 non-null   int64  \n 1   Id             2919 non-null   int64  \n 2   MSSubClass     2919 non-null   int64  \n 3   MSZoning       2915 non-null   object \n 4   LotFrontage    2433 non-null   float64\n 5   LotArea        2919 non-null   int64  \n 6   Street         2919 non-null   object \n 7   Alley          2919 non-null   object \n 8   LotShape       2919 non-null   object \n 9   LandContour    2919 non-null   object \n 10  Utilities      2917 non-null   object \n 11  LotConfig      2919 non-null   object \n 12  LandSlope      2919 non-null   object \n 13  Neighborhood   2919 non-null   object \n 14  Condition1     2919 non-null   object \n 15  Condition2     2919 non-null   object \n 16  BldgType       2919 non-null   object \n 17  HouseStyle     2919 non-null   object \n 18  OverallQual    2919 non-null   int64  \n 19  OverallCond    2919 non-null   int64  \n 20  YearBuilt      2919 non-null   int64  \n 21  YearRemodAdd   2919 non-null   int64  \n 22  RoofStyle      2919 non-null   object \n 23  RoofMatl       2919 non-null   object \n 24  Exterior1st    2918 non-null   object \n 25  Exterior2nd    2918 non-null   object \n 26  MasVnrType     2895 non-null   object \n 27  MasVnrArea     2896 non-null   float64\n 28  ExterQual      2919 non-null   object \n 29  ExterCond      2919 non-null   object \n 30  Foundation     2919 non-null   object \n 31  BsmtQual       2919 non-null   object \n 32  BsmtCond       2919 non-null   object \n 33  BsmtExposure   2919 non-null   object \n 34  BsmtFinType1   2919 non-null   object \n 35  BsmtFinSF1     2919 non-null   float64\n 36  BsmtFinType2   2919 non-null   object \n 37  BsmtFinSF2     2919 non-null   float64\n 38  BsmtUnfSF      2919 non-null   float64\n 39  TotalBsmtSF    2919 non-null   float64\n 40  Heating        2919 non-null   object \n 41  HeatingQC      2919 non-null   object \n 42  CentralAir     2919 non-null   object \n 43  Electrical     2918 non-null   object \n 44  1stFlrSF       2919 non-null   int64  \n 45  2ndFlrSF       2919 non-null   int64  \n 46  LowQualFinSF   2919 non-null   int64  \n 47  GrLivArea      2919 non-null   int64  \n 48  BsmtFullBath   2919 non-null   float64\n 49  BsmtHalfBath   2919 non-null   float64\n 50  FullBath       2919 non-null   int64  \n 51  HalfBath       2919 non-null   int64  \n 52  BedroomAbvGr   2919 non-null   int64  \n 53  KitchenAbvGr   2919 non-null   int64  \n 54  KitchenQual    2918 non-null   object \n 55  TotRmsAbvGrd   2919 non-null   int64  \n 56  Functional     2919 non-null   object \n 57  Fireplaces     2919 non-null   int64  \n 58  FireplaceQu    2919 non-null   object \n 59  GarageType     2919 non-null   object \n 60  GarageYrBlt    2919 non-null   float64\n 61  GarageFinish   2919 non-null   object \n 62  GarageCars     2919 non-null   float64\n 63  GarageArea     2919 non-null   float64\n 64  GarageQual     2919 non-null   object \n 65  GarageCond     2919 non-null   object \n 66  PavedDrive     2919 non-null   object \n 67  WoodDeckSF     2919 non-null   int64  \n 68  OpenPorchSF    2919 non-null   int64  \n 69  EnclosedPorch  2919 non-null   int64  \n 70  3SsnPorch      2919 non-null   int64  \n 71  ScreenPorch    2919 non-null   int64  \n 72  PoolArea       2919 non-null   int64  \n 73  PoolQC         2919 non-null   object \n 74  Fence          2919 non-null   object \n 75  MiscFeature    2919 non-null   object \n 76  MiscVal        2919 non-null   int64  \n 77  MoSold         2919 non-null   int64  \n 78  YrSold         2919 non-null   int64  \n 79  SaleType       2918 non-null   object \n 80  SaleCondition  2919 non-null   object \n 81  SalePrice      2919 non-null   int64  \n 82  Type           2919 non-null   object \ndtypes: float64(11), int64(28), object(44)\nmemory usage: 1.8+ MB\n"
    }
   ],
   "source": [
    "all_data.info()"
   ]
  },
  {
   "cell_type": "code",
   "execution_count": 86,
   "metadata": {
    "tags": []
   },
   "outputs": [
    {
     "output_type": "stream",
     "name": "stdout",
     "text": "<class 'pandas.core.frame.DataFrame'>\nRangeIndex: 2919 entries, 0 to 2918\nData columns (total 83 columns):\n #   Column         Non-Null Count  Dtype  \n---  ------         --------------  -----  \n 0   index          2919 non-null   int64  \n 1   Id             2919 non-null   int64  \n 2   MSSubClass     2919 non-null   int64  \n 3   MSZoning       2915 non-null   object \n 4   LotFrontage    2433 non-null   float64\n 5   LotArea        2919 non-null   int64  \n 6   Street         2919 non-null   object \n 7   Alley          2919 non-null   object \n 8   LotShape       2919 non-null   object \n 9   LandContour    2919 non-null   object \n 10  Utilities      2917 non-null   object \n 11  LotConfig      2919 non-null   object \n 12  LandSlope      2919 non-null   object \n 13  Neighborhood   2919 non-null   object \n 14  Condition1     2919 non-null   object \n 15  Condition2     2919 non-null   object \n 16  BldgType       2919 non-null   object \n 17  HouseStyle     2919 non-null   object \n 18  OverallQual    2919 non-null   int64  \n 19  OverallCond    2919 non-null   int64  \n 20  YearBuilt      2919 non-null   int64  \n 21  YearRemodAdd   2919 non-null   int64  \n 22  RoofStyle      2919 non-null   object \n 23  RoofMatl       2919 non-null   object \n 24  Exterior1st    2918 non-null   object \n 25  Exterior2nd    2918 non-null   object \n 26  MasVnrType     2895 non-null   object \n 27  MasVnrArea     2896 non-null   float64\n 28  ExterQual      2919 non-null   object \n 29  ExterCond      2919 non-null   object \n 30  Foundation     2919 non-null   object \n 31  BsmtQual       2919 non-null   object \n 32  BsmtCond       2919 non-null   object \n 33  BsmtExposure   2919 non-null   object \n 34  BsmtFinType1   2919 non-null   object \n 35  BsmtFinSF1     2919 non-null   float64\n 36  BsmtFinType2   2919 non-null   object \n 37  BsmtFinSF2     2919 non-null   float64\n 38  BsmtUnfSF      2919 non-null   float64\n 39  TotalBsmtSF    2919 non-null   float64\n 40  Heating        2919 non-null   object \n 41  HeatingQC      2919 non-null   object \n 42  CentralAir     2919 non-null   object \n 43  Electrical     2918 non-null   object \n 44  1stFlrSF       2919 non-null   int64  \n 45  2ndFlrSF       2919 non-null   int64  \n 46  LowQualFinSF   2919 non-null   int64  \n 47  GrLivArea      2919 non-null   int64  \n 48  BsmtFullBath   2919 non-null   float64\n 49  BsmtHalfBath   2919 non-null   float64\n 50  FullBath       2919 non-null   int64  \n 51  HalfBath       2919 non-null   int64  \n 52  BedroomAbvGr   2919 non-null   int64  \n 53  KitchenAbvGr   2919 non-null   int64  \n 54  KitchenQual    2918 non-null   object \n 55  TotRmsAbvGrd   2919 non-null   int64  \n 56  Functional     2919 non-null   object \n 57  Fireplaces     2919 non-null   int64  \n 58  FireplaceQu    2919 non-null   object \n 59  GarageType     2919 non-null   object \n 60  GarageYrBlt    2919 non-null   float64\n 61  GarageFinish   2919 non-null   object \n 62  GarageCars     2919 non-null   float64\n 63  GarageArea     2919 non-null   float64\n 64  GarageQual     2919 non-null   object \n 65  GarageCond     2919 non-null   object \n 66  PavedDrive     2919 non-null   object \n 67  WoodDeckSF     2919 non-null   int64  \n 68  OpenPorchSF    2919 non-null   int64  \n 69  EnclosedPorch  2919 non-null   int64  \n 70  3SsnPorch      2919 non-null   int64  \n 71  ScreenPorch    2919 non-null   int64  \n 72  PoolArea       2919 non-null   int64  \n 73  PoolQC         2919 non-null   object \n 74  Fence          2919 non-null   object \n 75  MiscFeature    2919 non-null   object \n 76  MiscVal        2919 non-null   int64  \n 77  MoSold         2919 non-null   int64  \n 78  YrSold         2919 non-null   int64  \n 79  SaleType       2919 non-null   object \n 80  SaleCondition  2919 non-null   object \n 81  SalePrice      2919 non-null   int64  \n 82  Type           2919 non-null   object \ndtypes: float64(11), int64(28), object(44)\nmemory usage: 1.8+ MB\n"
    }
   ],
   "source": [
    "# SaleType Cleaning\n",
    "sale_features = ['MoSold','YrSold','SaleType','SaleCondition']\n",
    "all_data.loc[all_data.SaleType.isnull(), sale_features]\n",
    "all_data.loc[all_data.SaleCondition == 'Normal',sale_features].groupby(['SaleType','SaleCondition']).count()\n",
    "all_data[['SaleType']] = all_data[['SaleType']].fillna('WD')\n",
    "all_data.info()"
   ]
  },
  {
   "cell_type": "code",
   "execution_count": 87,
   "metadata": {},
   "outputs": [
    {
     "output_type": "execute_result",
     "data": {
      "text/plain": "Empty DataFrame\nColumns: [KitchenAbvGr, KitchenQual, OverallQual, Id]\nIndex: []",
      "text/html": "<div>\n<style scoped>\n    .dataframe tbody tr th:only-of-type {\n        vertical-align: middle;\n    }\n\n    .dataframe tbody tr th {\n        vertical-align: top;\n    }\n\n    .dataframe thead th {\n        text-align: right;\n    }\n</style>\n<table border=\"1\" class=\"dataframe\">\n  <thead>\n    <tr style=\"text-align: right;\">\n      <th></th>\n      <th>KitchenAbvGr</th>\n      <th>KitchenQual</th>\n      <th>OverallQual</th>\n      <th>Id</th>\n    </tr>\n  </thead>\n  <tbody>\n  </tbody>\n</table>\n</div>"
     },
     "metadata": {},
     "execution_count": 87
    }
   ],
   "source": [
    "# Kitche Quality Id 1556\n",
    "# Rellenamos nulos con TA que parece ser el más habitual en las casas con el mismo OverallQual\n",
    "kit_features = ['KitchenAbvGr','KitchenQual','OverallQual','Id']\n",
    "all_data.loc[(all_data.OverallQual == 5) & (all_data.YearRemodAdd <= 1953), kit_features].groupby(['KitchenAbvGr','KitchenQual','OverallQual']).count()\n",
    "# all_data.loc[(all_data.OverallQual == 10) , kit_features].groupby(['KitchenAbvGr','KitchenQual','OverallQual']).count()\n",
    "all_data[['KitchenQual']] = all_data[['KitchenQual']].fillna('TA')\n",
    "all_data.loc[all_data.KitchenQual.isnull(), kit_features]"
   ]
  },
  {
   "cell_type": "code",
   "execution_count": 88,
   "metadata": {
    "tags": []
   },
   "outputs": [
    {
     "output_type": "stream",
     "name": "stdout",
     "text": "<class 'pandas.core.frame.DataFrame'>\nRangeIndex: 2919 entries, 0 to 2918\nData columns (total 83 columns):\n #   Column         Non-Null Count  Dtype  \n---  ------         --------------  -----  \n 0   index          2919 non-null   int64  \n 1   Id             2919 non-null   int64  \n 2   MSSubClass     2919 non-null   int64  \n 3   MSZoning       2915 non-null   object \n 4   LotFrontage    2433 non-null   float64\n 5   LotArea        2919 non-null   int64  \n 6   Street         2919 non-null   object \n 7   Alley          2919 non-null   object \n 8   LotShape       2919 non-null   object \n 9   LandContour    2919 non-null   object \n 10  Utilities      2917 non-null   object \n 11  LotConfig      2919 non-null   object \n 12  LandSlope      2919 non-null   object \n 13  Neighborhood   2919 non-null   object \n 14  Condition1     2919 non-null   object \n 15  Condition2     2919 non-null   object \n 16  BldgType       2919 non-null   object \n 17  HouseStyle     2919 non-null   object \n 18  OverallQual    2919 non-null   int64  \n 19  OverallCond    2919 non-null   int64  \n 20  YearBuilt      2919 non-null   int64  \n 21  YearRemodAdd   2919 non-null   int64  \n 22  RoofStyle      2919 non-null   object \n 23  RoofMatl       2919 non-null   object \n 24  Exterior1st    2918 non-null   object \n 25  Exterior2nd    2918 non-null   object \n 26  MasVnrType     2895 non-null   object \n 27  MasVnrArea     2896 non-null   float64\n 28  ExterQual      2919 non-null   object \n 29  ExterCond      2919 non-null   object \n 30  Foundation     2919 non-null   object \n 31  BsmtQual       2919 non-null   object \n 32  BsmtCond       2919 non-null   object \n 33  BsmtExposure   2919 non-null   object \n 34  BsmtFinType1   2919 non-null   object \n 35  BsmtFinSF1     2919 non-null   float64\n 36  BsmtFinType2   2919 non-null   object \n 37  BsmtFinSF2     2919 non-null   float64\n 38  BsmtUnfSF      2919 non-null   float64\n 39  TotalBsmtSF    2919 non-null   float64\n 40  Heating        2919 non-null   object \n 41  HeatingQC      2919 non-null   object \n 42  CentralAir     2919 non-null   object \n 43  Electrical     2919 non-null   object \n 44  1stFlrSF       2919 non-null   int64  \n 45  2ndFlrSF       2919 non-null   int64  \n 46  LowQualFinSF   2919 non-null   int64  \n 47  GrLivArea      2919 non-null   int64  \n 48  BsmtFullBath   2919 non-null   float64\n 49  BsmtHalfBath   2919 non-null   float64\n 50  FullBath       2919 non-null   int64  \n 51  HalfBath       2919 non-null   int64  \n 52  BedroomAbvGr   2919 non-null   int64  \n 53  KitchenAbvGr   2919 non-null   int64  \n 54  KitchenQual    2919 non-null   object \n 55  TotRmsAbvGrd   2919 non-null   int64  \n 56  Functional     2919 non-null   object \n 57  Fireplaces     2919 non-null   int64  \n 58  FireplaceQu    2919 non-null   object \n 59  GarageType     2919 non-null   object \n 60  GarageYrBlt    2919 non-null   float64\n 61  GarageFinish   2919 non-null   object \n 62  GarageCars     2919 non-null   float64\n 63  GarageArea     2919 non-null   float64\n 64  GarageQual     2919 non-null   object \n 65  GarageCond     2919 non-null   object \n 66  PavedDrive     2919 non-null   object \n 67  WoodDeckSF     2919 non-null   int64  \n 68  OpenPorchSF    2919 non-null   int64  \n 69  EnclosedPorch  2919 non-null   int64  \n 70  3SsnPorch      2919 non-null   int64  \n 71  ScreenPorch    2919 non-null   int64  \n 72  PoolArea       2919 non-null   int64  \n 73  PoolQC         2919 non-null   object \n 74  Fence          2919 non-null   object \n 75  MiscFeature    2919 non-null   object \n 76  MiscVal        2919 non-null   int64  \n 77  MoSold         2919 non-null   int64  \n 78  YrSold         2919 non-null   int64  \n 79  SaleType       2919 non-null   object \n 80  SaleCondition  2919 non-null   object \n 81  SalePrice      2919 non-null   int64  \n 82  Type           2919 non-null   object \ndtypes: float64(11), int64(28), object(44)\nmemory usage: 1.8+ MB\n"
    }
   ],
   "source": [
    "all_data.loc[all_data.Electrical.isnull(),['YearBuilt']]\n",
    "all_data.loc[all_data.YearBuilt >= 2006].groupby('Electrical').count()\n",
    "all_data.groupby('Electrical').count()\n",
    "all_data[['Electrical']] = all_data[['Electrical']].fillna('SBrkr')\n",
    "all_data.info()"
   ]
  },
  {
   "cell_type": "code",
   "execution_count": 89,
   "metadata": {},
   "outputs": [],
   "source": [
    "ext_features = ['Exterior1st','Exterior2nd','MasVnrType','MasVnrArea','ExterQual','ExterCond','UniqueExterior']\n",
    "all_data[['Exterior2nd']] = all_data.apply(lambda x: 'WdShing' if x['Exterior2nd'] == 'Wd Shng' else x['Exterior2nd'],axis=1)\n",
    "all_data[['Exterior2nd']] = all_data.apply(lambda x: 'CemntBd' if x['Exterior2nd'] == 'CmentBd' else x['Exterior2nd'],axis=1)\n",
    "all_data[['Exterior2nd']] = all_data.apply(lambda x: 'BrkComm' if x['Exterior2nd'] == 'Brk Cmn' else x['Exterior2nd'],axis=1)\n",
    "all_data['UniqueExterior'] = all_data.apply(lambda x: 1 if x['Exterior1st'] == x['Exterior2nd'] else 0,axis=1)\n",
    "\n",
    "all_data.loc[(all_data.Exterior1st.isnull()) | (all_data.Exterior2nd.isnull()),['Exterior1st','Exterior2nd','OverallQual']]\n",
    "all_data.loc[all_data.OverallQual == 5, ext_features].groupby(['Exterior1st','Exterior2nd']).count()\n",
    "# La combinación MetalSd,MetalSd es la más habitual\n",
    "all_data[['Exterior1st','Exterior2nd']] = all_data[['Exterior1st','Exterior2nd']].fillna('MetalSd')"
   ]
  },
  {
   "cell_type": "code",
   "execution_count": 90,
   "metadata": {},
   "outputs": [
    {
     "output_type": "execute_result",
     "data": {
      "text/plain": "    Exterior1st Exterior2nd MasVnrType  MasVnrArea ExterQual ExterCond  \\\n529     Wd Sdng       Stone        NaN         NaN        Gd        TA   \n\n     UniqueExterior  \n529               0  ",
      "text/html": "<div>\n<style scoped>\n    .dataframe tbody tr th:only-of-type {\n        vertical-align: middle;\n    }\n\n    .dataframe tbody tr th {\n        vertical-align: top;\n    }\n\n    .dataframe thead th {\n        text-align: right;\n    }\n</style>\n<table border=\"1\" class=\"dataframe\">\n  <thead>\n    <tr style=\"text-align: right;\">\n      <th></th>\n      <th>Exterior1st</th>\n      <th>Exterior2nd</th>\n      <th>MasVnrType</th>\n      <th>MasVnrArea</th>\n      <th>ExterQual</th>\n      <th>ExterCond</th>\n      <th>UniqueExterior</th>\n    </tr>\n  </thead>\n  <tbody>\n    <tr>\n      <th>529</th>\n      <td>Wd Sdng</td>\n      <td>Stone</td>\n      <td>NaN</td>\n      <td>NaN</td>\n      <td>Gd</td>\n      <td>TA</td>\n      <td>0</td>\n    </tr>\n  </tbody>\n</table>\n</div>"
     },
     "metadata": {},
     "execution_count": 90
    }
   ],
   "source": [
    "\n",
    "\n",
    "all_data.loc[all_data.MasVnrType.isnull() == False,ext_features].groupby(['UniqueExterior','MasVnrType']).count() #.sort_values('MasVnrArea',ascending=False).head(50)\n",
    "all_data.loc[(all_data.UniqueExterior == 1) & (all_data.MasVnrType.isnull()),['MasVnrType']] = all_data.loc[(all_data.UniqueExterior == 1) & (all_data.MasVnrType.isnull()),['MasVnrType']].fillna('None')\n",
    "all_data.loc[all_data.MasVnrType.isnull(),ext_features]\n",
    "# set(all_data['Exterior2nd'].unique()).symmetric_difference(set(all_data['Exterior1st'].unique()))"
   ]
  },
  {
   "cell_type": "code",
   "execution_count": 91,
   "metadata": {},
   "outputs": [],
   "source": [
    "all_data.loc[(all_data.Exterior1st == 'Wd Sdng') & (all_data.Exterior2nd == 'Stone'),['MasVnrType']] = all_data.loc[(all_data.Exterior1st == 'Wd Sdng') & (all_data.Exterior2nd == 'Stone'),['MasVnrType']].fillna('None')\n"
   ]
  },
  {
   "cell_type": "code",
   "execution_count": 92,
   "metadata": {
    "tags": []
   },
   "outputs": [],
   "source": [
    "all_data[['MasVnrArea']] =all_data[['MasVnrArea']].fillna(0)"
   ]
  },
  {
   "cell_type": "code",
   "execution_count": 93,
   "metadata": {
    "tags": []
   },
   "outputs": [
    {
     "output_type": "stream",
     "name": "stdout",
     "text": "<class 'pandas.core.frame.DataFrame'>\nRangeIndex: 2919 entries, 0 to 2918\nData columns (total 84 columns):\n #   Column          Non-Null Count  Dtype  \n---  ------          --------------  -----  \n 0   index           2919 non-null   int64  \n 1   Id              2919 non-null   int64  \n 2   MSSubClass      2919 non-null   int64  \n 3   MSZoning        2915 non-null   object \n 4   LotFrontage     2433 non-null   float64\n 5   LotArea         2919 non-null   int64  \n 6   Street          2919 non-null   object \n 7   Alley           2919 non-null   object \n 8   LotShape        2919 non-null   object \n 9   LandContour     2919 non-null   object \n 10  Utilities       2917 non-null   object \n 11  LotConfig       2919 non-null   object \n 12  LandSlope       2919 non-null   object \n 13  Neighborhood    2919 non-null   object \n 14  Condition1      2919 non-null   object \n 15  Condition2      2919 non-null   object \n 16  BldgType        2919 non-null   object \n 17  HouseStyle      2919 non-null   object \n 18  OverallQual     2919 non-null   int64  \n 19  OverallCond     2919 non-null   int64  \n 20  YearBuilt       2919 non-null   int64  \n 21  YearRemodAdd    2919 non-null   int64  \n 22  RoofStyle       2919 non-null   object \n 23  RoofMatl        2919 non-null   object \n 24  Exterior1st     2919 non-null   object \n 25  Exterior2nd     2919 non-null   object \n 26  MasVnrType      2919 non-null   object \n 27  MasVnrArea      2919 non-null   float64\n 28  ExterQual       2919 non-null   object \n 29  ExterCond       2919 non-null   object \n 30  Foundation      2919 non-null   object \n 31  BsmtQual        2919 non-null   object \n 32  BsmtCond        2919 non-null   object \n 33  BsmtExposure    2919 non-null   object \n 34  BsmtFinType1    2919 non-null   object \n 35  BsmtFinSF1      2919 non-null   float64\n 36  BsmtFinType2    2919 non-null   object \n 37  BsmtFinSF2      2919 non-null   float64\n 38  BsmtUnfSF       2919 non-null   float64\n 39  TotalBsmtSF     2919 non-null   float64\n 40  Heating         2919 non-null   object \n 41  HeatingQC       2919 non-null   object \n 42  CentralAir      2919 non-null   object \n 43  Electrical      2919 non-null   object \n 44  1stFlrSF        2919 non-null   int64  \n 45  2ndFlrSF        2919 non-null   int64  \n 46  LowQualFinSF    2919 non-null   int64  \n 47  GrLivArea       2919 non-null   int64  \n 48  BsmtFullBath    2919 non-null   float64\n 49  BsmtHalfBath    2919 non-null   float64\n 50  FullBath        2919 non-null   int64  \n 51  HalfBath        2919 non-null   int64  \n 52  BedroomAbvGr    2919 non-null   int64  \n 53  KitchenAbvGr    2919 non-null   int64  \n 54  KitchenQual     2919 non-null   object \n 55  TotRmsAbvGrd    2919 non-null   int64  \n 56  Functional      2919 non-null   object \n 57  Fireplaces      2919 non-null   int64  \n 58  FireplaceQu     2919 non-null   object \n 59  GarageType      2919 non-null   object \n 60  GarageYrBlt     2919 non-null   float64\n 61  GarageFinish    2919 non-null   object \n 62  GarageCars      2919 non-null   float64\n 63  GarageArea      2919 non-null   float64\n 64  GarageQual      2919 non-null   object \n 65  GarageCond      2919 non-null   object \n 66  PavedDrive      2919 non-null   object \n 67  WoodDeckSF      2919 non-null   int64  \n 68  OpenPorchSF     2919 non-null   int64  \n 69  EnclosedPorch   2919 non-null   int64  \n 70  3SsnPorch       2919 non-null   int64  \n 71  ScreenPorch     2919 non-null   int64  \n 72  PoolArea        2919 non-null   int64  \n 73  PoolQC          2919 non-null   object \n 74  Fence           2919 non-null   object \n 75  MiscFeature     2919 non-null   object \n 76  MiscVal         2919 non-null   int64  \n 77  MoSold          2919 non-null   int64  \n 78  YrSold          2919 non-null   int64  \n 79  SaleType        2919 non-null   object \n 80  SaleCondition   2919 non-null   object \n 81  SalePrice       2919 non-null   int64  \n 82  Type            2919 non-null   object \n 83  UniqueExterior  2919 non-null   int64  \ndtypes: float64(11), int64(29), object(44)\nmemory usage: 1.9+ MB\n"
    }
   ],
   "source": [
    "all_data.info()"
   ]
  },
  {
   "cell_type": "code",
   "execution_count": 94,
   "metadata": {},
   "outputs": [],
   "source": [
    "# Utilities Cleaning\n",
    "all_data.loc[all_data.Utilities.isnull(), ['Utilities','Electrical','YearBuilt','YearRemodAdd']]\n",
    "all_data[['Utilities']] = all_data[['Utilities']].fillna('AllPub')"
   ]
  },
  {
   "cell_type": "code",
   "execution_count": 95,
   "metadata": {
    "tags": []
   },
   "outputs": [],
   "source": [
    "all_data.loc[all_data.Street == 'Grvl'].groupby('MSZoning',).count()\n",
    "all_data.loc[all_data.Street == 'Pave'].groupby('MSZoning',).count()\n",
    "# all_data.loc[all_data.MSZoning.isnull()]\n",
    "# all_data['MSZoning'].unique()\n",
    "all_data.loc[all_data.Street == 'Grvl', ['MSZoning']] = all_data.loc[all_data.Street == 'Grvl', ['MSZoning']].fillna('C (all)')\n",
    "all_data.loc[all_data.Street != 'Grvl', ['MSZoning']] = all_data.loc[all_data.Street != 'Grvl', ['MSZoning']].fillna('RL')"
   ]
  },
  {
   "cell_type": "code",
   "execution_count": 96,
   "metadata": {
    "tags": []
   },
   "outputs": [
    {
     "output_type": "stream",
     "name": "stdout",
     "text": "<class 'pandas.core.frame.DataFrame'>\nRangeIndex: 2919 entries, 0 to 2918\nData columns (total 84 columns):\n #   Column          Non-Null Count  Dtype  \n---  ------          --------------  -----  \n 0   index           2919 non-null   int64  \n 1   Id              2919 non-null   int64  \n 2   MSSubClass      2919 non-null   int64  \n 3   MSZoning        2919 non-null   object \n 4   LotFrontage     2433 non-null   float64\n 5   LotArea         2919 non-null   int64  \n 6   Street          2919 non-null   object \n 7   Alley           2919 non-null   object \n 8   LotShape        2919 non-null   object \n 9   LandContour     2919 non-null   object \n 10  Utilities       2919 non-null   object \n 11  LotConfig       2919 non-null   object \n 12  LandSlope       2919 non-null   object \n 13  Neighborhood    2919 non-null   object \n 14  Condition1      2919 non-null   object \n 15  Condition2      2919 non-null   object \n 16  BldgType        2919 non-null   object \n 17  HouseStyle      2919 non-null   object \n 18  OverallQual     2919 non-null   int64  \n 19  OverallCond     2919 non-null   int64  \n 20  YearBuilt       2919 non-null   int64  \n 21  YearRemodAdd    2919 non-null   int64  \n 22  RoofStyle       2919 non-null   object \n 23  RoofMatl        2919 non-null   object \n 24  Exterior1st     2919 non-null   object \n 25  Exterior2nd     2919 non-null   object \n 26  MasVnrType      2919 non-null   object \n 27  MasVnrArea      2919 non-null   float64\n 28  ExterQual       2919 non-null   object \n 29  ExterCond       2919 non-null   object \n 30  Foundation      2919 non-null   object \n 31  BsmtQual        2919 non-null   object \n 32  BsmtCond        2919 non-null   object \n 33  BsmtExposure    2919 non-null   object \n 34  BsmtFinType1    2919 non-null   object \n 35  BsmtFinSF1      2919 non-null   float64\n 36  BsmtFinType2    2919 non-null   object \n 37  BsmtFinSF2      2919 non-null   float64\n 38  BsmtUnfSF       2919 non-null   float64\n 39  TotalBsmtSF     2919 non-null   float64\n 40  Heating         2919 non-null   object \n 41  HeatingQC       2919 non-null   object \n 42  CentralAir      2919 non-null   object \n 43  Electrical      2919 non-null   object \n 44  1stFlrSF        2919 non-null   int64  \n 45  2ndFlrSF        2919 non-null   int64  \n 46  LowQualFinSF    2919 non-null   int64  \n 47  GrLivArea       2919 non-null   int64  \n 48  BsmtFullBath    2919 non-null   float64\n 49  BsmtHalfBath    2919 non-null   float64\n 50  FullBath        2919 non-null   int64  \n 51  HalfBath        2919 non-null   int64  \n 52  BedroomAbvGr    2919 non-null   int64  \n 53  KitchenAbvGr    2919 non-null   int64  \n 54  KitchenQual     2919 non-null   object \n 55  TotRmsAbvGrd    2919 non-null   int64  \n 56  Functional      2919 non-null   object \n 57  Fireplaces      2919 non-null   int64  \n 58  FireplaceQu     2919 non-null   object \n 59  GarageType      2919 non-null   object \n 60  GarageYrBlt     2919 non-null   float64\n 61  GarageFinish    2919 non-null   object \n 62  GarageCars      2919 non-null   float64\n 63  GarageArea      2919 non-null   float64\n 64  GarageQual      2919 non-null   object \n 65  GarageCond      2919 non-null   object \n 66  PavedDrive      2919 non-null   object \n 67  WoodDeckSF      2919 non-null   int64  \n 68  OpenPorchSF     2919 non-null   int64  \n 69  EnclosedPorch   2919 non-null   int64  \n 70  3SsnPorch       2919 non-null   int64  \n 71  ScreenPorch     2919 non-null   int64  \n 72  PoolArea        2919 non-null   int64  \n 73  PoolQC          2919 non-null   object \n 74  Fence           2919 non-null   object \n 75  MiscFeature     2919 non-null   object \n 76  MiscVal         2919 non-null   int64  \n 77  MoSold          2919 non-null   int64  \n 78  YrSold          2919 non-null   int64  \n 79  SaleType        2919 non-null   object \n 80  SaleCondition   2919 non-null   object \n 81  SalePrice       2919 non-null   int64  \n 82  Type            2919 non-null   object \n 83  UniqueExterior  2919 non-null   int64  \ndtypes: float64(11), int64(29), object(44)\nmemory usage: 1.9+ MB\n"
    }
   ],
   "source": [
    "all_data.info()"
   ]
  },
  {
   "cell_type": "code",
   "execution_count": 97,
   "metadata": {
    "tags": []
   },
   "outputs": [],
   "source": [
    "from custom_functions import get_resume, information_gain\n",
    "all_data[['LotFrontage']].var()\n",
    "gains = []\n",
    "for x in all_data.columns:\n",
    "    if x != 'LotFrontage' and pd.api.types.is_object_dtype(all_data[x].dtype):\n",
    "        gains.append((x,information_gain(all_data,'LotFrontage',x,norm=True)))\n",
    "# print(gains)\n",
    "gains.sort(key=lambda x: x[1], reverse = True)\n",
    "gains\n",
    "# print(\"Information gain: {}\".format(information_gain(all_data,'LotFrontage','BldgType', norm=True)))\n",
    "# get_resume(all_data,\"LotFrontage\",'BldgTypeNeighborhood')\n",
    "\n",
    "lf_means = all_data[['LotFrontage','BldgType']].groupby('BldgType').mean().to_dict()\n",
    "all_data['LotFrontage'] = all_data.apply(lambda x: lf_means['LotFrontage'][x['BldgType']] if math.isnan(x['LotFrontage']) else x['LotFrontage'], axis=1)\n",
    "#  all_data[['LotFrontage']] = all_data[['LotFrontage']].fillna(all_data['LotFrontage'].mean())\n"
   ]
  },
  {
   "cell_type": "code",
   "execution_count": 98,
   "metadata": {
    "tags": []
   },
   "outputs": [],
   "source": [
    "# New Features\n",
    "all_data['LotAreaNorm'] = np.log(all_data.LotArea + 1)\n",
    "all_data['FireplacesNorm'] = np.log(all_data.Fireplaces + 1)\n",
    "all_data['OpenPorchSFNorm'] = np.log(all_data.OpenPorchSF + 1)\n",
    "all_data[\"BsmtFinType1BsmtFinType2\"] = all_data[\"BsmtFinType1\"]+all_data[\"BsmtFinType2\"]\n",
    "all_data[\"HeatingHeatingQC\"] = all_data[\"Heating\"] + all_data[\"HeatingQC\"]\n",
    "all_data[\"1stFlrSF2ndFlrSF\"] = all_data[\"1stFlrSF\"] + all_data[\"2ndFlrSF\"]\n",
    "all_data[\"TotalBaths\"] = all_data[\"HalfBath\"] + all_data[\"FullBath\"] + all_data[\"BsmtHalfBath\"] + all_data[\"BsmtFullBath\"]\n",
    "all_data['OverallQualOverallCond'] = all_data['OverallQual'] * all_data['OverallCond']\n",
    "tags = ['Po','Fa','TA','Gd','Ex']\n",
    "all_data['ExterQualExterCond'] = all_data.apply(lambda x: (tags.index(x['ExterQual'])+1)*(tags.index(x['ExterCond'])+1),axis=1)\n",
    "all_data['LotDepth'] = all_data['LotArea'] / all_data['LotFrontage']\n",
    "# columns_dict = {}\n",
    "# treatments = []\n",
    "# for x in all_data.columns:\n",
    "#     if pd.api.types.is_numeric_dtype(all_data[x].dtype):\n",
    "#         treatments.append('num')\n",
    "#     else:\n",
    "#         treatments.append('cat')\n",
    "# columns_dict = {'feature':all_data.columns, 'treatment':treatments}\n",
    "# columns_df = pd.DataFrame(columns_dict)\n",
    "# columns_df['good'] = 0\n",
    "# columns_df['bad'] = 0\n",
    "# columns_df.to_csv('columns_df.csv')"
   ]
  },
  {
   "cell_type": "code",
   "execution_count": 99,
   "metadata": {},
   "outputs": [
    {
     "output_type": "execute_result",
     "data": {
      "text/plain": "array(['MSSubClass', 'MSZoning', 'Street', 'Alley', 'LotShape',\n       'LandContour', 'Utilities', 'LotConfig', 'LandSlope',\n       'Neighborhood', 'Condition1', 'Condition2', 'BldgType',\n       'HouseStyle', 'RoofStyle', 'RoofMatl', 'Exterior1st',\n       'Exterior2nd', 'MasVnrType', 'ExterQual', 'ExterCond',\n       'Foundation', 'BsmtQual', 'BsmtCond', 'BsmtExposure',\n       'BsmtFinType1', 'BsmtFinType2', 'Heating', 'HeatingQC',\n       'CentralAir', 'Electrical', 'KitchenQual', 'Functional',\n       'FireplaceQu', 'GarageType', 'GarageFinish', 'GarageQual',\n       'GarageCond', 'PavedDrive', 'PoolQC', 'Fence', 'MiscFeature',\n       'SaleType', 'SaleCondition', 'BsmtFinType1BsmtFinType2'],\n      dtype=object)"
     },
     "metadata": {},
     "execution_count": 99
    }
   ],
   "source": [
    "columns_df = pd.read_csv('columns_df.csv', index_col = 'index')\n",
    "drop_features = columns_df.loc[columns_df.treatment == 'drop','feature'].unique()\n",
    "cat_features = columns_df.loc[columns_df.treatment == 'cat','feature'].unique()\n",
    "num_features = columns_df.loc[columns_df.treatment == 'num','feature'].unique()\n",
    "pass_features = columns_df.loc[columns_df.treatment == 'pass','feature'].unique()\n",
    "cat_features"
   ]
  },
  {
   "cell_type": "code",
   "execution_count": 100,
   "metadata": {
    "tags": []
   },
   "outputs": [
    {
     "output_type": "execute_result",
     "data": {
      "text/plain": "           SalePrice         Type      LotArea    YearBuilt  YearRemodAdd  \\\ncount    2919.000000  2919.000000  2919.000000  2919.000000   2919.000000   \nmean    90491.088386     0.499829     0.041450     0.719658      0.571075   \nstd    106496.804191     0.500086     0.036865     0.219503      0.348239   \nmin        -1.000000     0.000000     0.000000     0.000000      0.000000   \n25%        -1.000000     0.000000     0.028877     0.590580      0.250000   \n50%     34900.000000     0.000000     0.038108     0.731884      0.716667   \n75%    163000.000000     1.000000     0.048003     0.934783      0.900000   \nmax    755000.000000     1.000000     1.000000     1.000000      1.000000   \n\n        MasVnrArea   BsmtFinSF1   BsmtFinSF2    BsmtUnfSF  TotalBsmtSF  ...  \\\ncount  2919.000000  2919.000000  2919.000000  2919.000000  2919.000000  ...   \nmean      0.063373     0.078184     0.032481     0.239974     0.172081  ...   \nstd       0.111784     0.080724     0.110864     0.188181     0.072196  ...   \nmin       0.000000     0.000000     0.000000     0.000000     0.000000  ...   \n25%       0.000000     0.000000     0.000000     0.094178     0.129787  ...   \n50%       0.000000     0.065202     0.000000     0.199914     0.161866  ...   \n75%       0.102187     0.129872     0.000000     0.344606     0.213093  ...   \nmax       1.000000     1.000000     1.000000     1.000000     1.000000  ...   \n\n        x44_LwQGLQ   x44_LwQRec   x44_LwQUnf     x44_NANA   x44_RecALQ  \\\ncount  2919.000000  2919.000000  2919.000000  2919.000000  2919.000000   \nmean      0.004796     0.005481     0.033916     0.027064     0.006509   \nstd       0.069100     0.073845     0.181043     0.162298     0.080430   \nmin       0.000000     0.000000     0.000000     0.000000     0.000000   \n25%       0.000000     0.000000     0.000000     0.000000     0.000000   \n50%       0.000000     0.000000     0.000000     0.000000     0.000000   \n75%       0.000000     0.000000     0.000000     0.000000     0.000000   \nmax       1.000000     1.000000     1.000000     1.000000     1.000000   \n\n        x44_RecBLQ   x44_RecGLQ   x44_RecLwQ   x44_RecUnf   x44_UnfUnf  \ncount  2919.000000  2919.000000  2919.000000  2919.000000  2919.000000  \nmean      0.006509     0.002398     0.006852     0.076396     0.291538  \nstd       0.080430     0.048920     0.082505     0.265676     0.454549  \nmin       0.000000     0.000000     0.000000     0.000000     0.000000  \n25%       0.000000     0.000000     0.000000     0.000000     0.000000  \n50%       0.000000     0.000000     0.000000     0.000000     0.000000  \n75%       0.000000     0.000000     0.000000     0.000000     1.000000  \nmax       1.000000     1.000000     1.000000     1.000000     1.000000  \n\n[8 rows x 345 columns]",
      "text/html": "<div>\n<style scoped>\n    .dataframe tbody tr th:only-of-type {\n        vertical-align: middle;\n    }\n\n    .dataframe tbody tr th {\n        vertical-align: top;\n    }\n\n    .dataframe thead th {\n        text-align: right;\n    }\n</style>\n<table border=\"1\" class=\"dataframe\">\n  <thead>\n    <tr style=\"text-align: right;\">\n      <th></th>\n      <th>SalePrice</th>\n      <th>Type</th>\n      <th>LotArea</th>\n      <th>YearBuilt</th>\n      <th>YearRemodAdd</th>\n      <th>MasVnrArea</th>\n      <th>BsmtFinSF1</th>\n      <th>BsmtFinSF2</th>\n      <th>BsmtUnfSF</th>\n      <th>TotalBsmtSF</th>\n      <th>...</th>\n      <th>x44_LwQGLQ</th>\n      <th>x44_LwQRec</th>\n      <th>x44_LwQUnf</th>\n      <th>x44_NANA</th>\n      <th>x44_RecALQ</th>\n      <th>x44_RecBLQ</th>\n      <th>x44_RecGLQ</th>\n      <th>x44_RecLwQ</th>\n      <th>x44_RecUnf</th>\n      <th>x44_UnfUnf</th>\n    </tr>\n  </thead>\n  <tbody>\n    <tr>\n      <th>count</th>\n      <td>2919.000000</td>\n      <td>2919.000000</td>\n      <td>2919.000000</td>\n      <td>2919.000000</td>\n      <td>2919.000000</td>\n      <td>2919.000000</td>\n      <td>2919.000000</td>\n      <td>2919.000000</td>\n      <td>2919.000000</td>\n      <td>2919.000000</td>\n      <td>...</td>\n      <td>2919.000000</td>\n      <td>2919.000000</td>\n      <td>2919.000000</td>\n      <td>2919.000000</td>\n      <td>2919.000000</td>\n      <td>2919.000000</td>\n      <td>2919.000000</td>\n      <td>2919.000000</td>\n      <td>2919.000000</td>\n      <td>2919.000000</td>\n    </tr>\n    <tr>\n      <th>mean</th>\n      <td>90491.088386</td>\n      <td>0.499829</td>\n      <td>0.041450</td>\n      <td>0.719658</td>\n      <td>0.571075</td>\n      <td>0.063373</td>\n      <td>0.078184</td>\n      <td>0.032481</td>\n      <td>0.239974</td>\n      <td>0.172081</td>\n      <td>...</td>\n      <td>0.004796</td>\n      <td>0.005481</td>\n      <td>0.033916</td>\n      <td>0.027064</td>\n      <td>0.006509</td>\n      <td>0.006509</td>\n      <td>0.002398</td>\n      <td>0.006852</td>\n      <td>0.076396</td>\n      <td>0.291538</td>\n    </tr>\n    <tr>\n      <th>std</th>\n      <td>106496.804191</td>\n      <td>0.500086</td>\n      <td>0.036865</td>\n      <td>0.219503</td>\n      <td>0.348239</td>\n      <td>0.111784</td>\n      <td>0.080724</td>\n      <td>0.110864</td>\n      <td>0.188181</td>\n      <td>0.072196</td>\n      <td>...</td>\n      <td>0.069100</td>\n      <td>0.073845</td>\n      <td>0.181043</td>\n      <td>0.162298</td>\n      <td>0.080430</td>\n      <td>0.080430</td>\n      <td>0.048920</td>\n      <td>0.082505</td>\n      <td>0.265676</td>\n      <td>0.454549</td>\n    </tr>\n    <tr>\n      <th>min</th>\n      <td>-1.000000</td>\n      <td>0.000000</td>\n      <td>0.000000</td>\n      <td>0.000000</td>\n      <td>0.000000</td>\n      <td>0.000000</td>\n      <td>0.000000</td>\n      <td>0.000000</td>\n      <td>0.000000</td>\n      <td>0.000000</td>\n      <td>...</td>\n      <td>0.000000</td>\n      <td>0.000000</td>\n      <td>0.000000</td>\n      <td>0.000000</td>\n      <td>0.000000</td>\n      <td>0.000000</td>\n      <td>0.000000</td>\n      <td>0.000000</td>\n      <td>0.000000</td>\n      <td>0.000000</td>\n    </tr>\n    <tr>\n      <th>25%</th>\n      <td>-1.000000</td>\n      <td>0.000000</td>\n      <td>0.028877</td>\n      <td>0.590580</td>\n      <td>0.250000</td>\n      <td>0.000000</td>\n      <td>0.000000</td>\n      <td>0.000000</td>\n      <td>0.094178</td>\n      <td>0.129787</td>\n      <td>...</td>\n      <td>0.000000</td>\n      <td>0.000000</td>\n      <td>0.000000</td>\n      <td>0.000000</td>\n      <td>0.000000</td>\n      <td>0.000000</td>\n      <td>0.000000</td>\n      <td>0.000000</td>\n      <td>0.000000</td>\n      <td>0.000000</td>\n    </tr>\n    <tr>\n      <th>50%</th>\n      <td>34900.000000</td>\n      <td>0.000000</td>\n      <td>0.038108</td>\n      <td>0.731884</td>\n      <td>0.716667</td>\n      <td>0.000000</td>\n      <td>0.065202</td>\n      <td>0.000000</td>\n      <td>0.199914</td>\n      <td>0.161866</td>\n      <td>...</td>\n      <td>0.000000</td>\n      <td>0.000000</td>\n      <td>0.000000</td>\n      <td>0.000000</td>\n      <td>0.000000</td>\n      <td>0.000000</td>\n      <td>0.000000</td>\n      <td>0.000000</td>\n      <td>0.000000</td>\n      <td>0.000000</td>\n    </tr>\n    <tr>\n      <th>75%</th>\n      <td>163000.000000</td>\n      <td>1.000000</td>\n      <td>0.048003</td>\n      <td>0.934783</td>\n      <td>0.900000</td>\n      <td>0.102187</td>\n      <td>0.129872</td>\n      <td>0.000000</td>\n      <td>0.344606</td>\n      <td>0.213093</td>\n      <td>...</td>\n      <td>0.000000</td>\n      <td>0.000000</td>\n      <td>0.000000</td>\n      <td>0.000000</td>\n      <td>0.000000</td>\n      <td>0.000000</td>\n      <td>0.000000</td>\n      <td>0.000000</td>\n      <td>0.000000</td>\n      <td>1.000000</td>\n    </tr>\n    <tr>\n      <th>max</th>\n      <td>755000.000000</td>\n      <td>1.000000</td>\n      <td>1.000000</td>\n      <td>1.000000</td>\n      <td>1.000000</td>\n      <td>1.000000</td>\n      <td>1.000000</td>\n      <td>1.000000</td>\n      <td>1.000000</td>\n      <td>1.000000</td>\n      <td>...</td>\n      <td>1.000000</td>\n      <td>1.000000</td>\n      <td>1.000000</td>\n      <td>1.000000</td>\n      <td>1.000000</td>\n      <td>1.000000</td>\n      <td>1.000000</td>\n      <td>1.000000</td>\n      <td>1.000000</td>\n      <td>1.000000</td>\n    </tr>\n  </tbody>\n</table>\n<p>8 rows × 345 columns</p>\n</div>"
     },
     "metadata": {},
     "execution_count": 100
    }
   ],
   "source": [
    "all_data['Type'] = all_data.apply(lambda x: 0 if x['Type'] == 'train' or x['Type'] == 0 else 1,axis=1)\n",
    "num_pipeline = Pipeline([\n",
    "    (\"1\",RobustScaler()),\n",
    "    (\"2\",MinMaxScaler()),\n",
    "])\n",
    "pipeline = ColumnTransformer([    \n",
    "    ('pass','passthrough',pass_features),\n",
    "    # ('num',RobustScaler(),num_features),\n",
    "    ('num',num_pipeline,num_features),\n",
    "    ('cat',OneHotEncoder(sparse=False),cat_features)\n",
    "    # ('cat',OrdinalEncoder(),cat_features)\n",
    "])\n",
    "all_data_prep_array = pipeline.fit_transform(all_data)\n",
    "ohe_features = pipeline.named_transformers_['cat'].get_feature_names()\n",
    "all_features = np.concatenate([pass_features,num_features,ohe_features])\n",
    "all_data_prep = pd.DataFrame(all_data_prep_array,columns = all_features)\n",
    "# all_features = np.concatenate([pass_features,num_features,cat_features])\n",
    "all_data_prep = pd.DataFrame(all_data_prep_array,columns = all_features)\n",
    "all_data_prep.describe()"
   ]
  },
  {
   "cell_type": "code",
   "execution_count": 101,
   "metadata": {
    "tags": []
   },
   "outputs": [],
   "source": [
    "train = all_data_prep.loc[all_data_prep.Type == 0,:]\n",
    "test = all_data_prep.loc[all_data_prep.Type == 1,:]\n",
    "test_prepared = test.drop(['SalePrice','Type'],axis=1)\n",
    "X = train.drop(['SalePrice','Type'],axis=1)\n",
    "y = train['SalePrice']"
   ]
  },
  {
   "cell_type": "code",
   "execution_count": 102,
   "metadata": {},
   "outputs": [
    {
     "output_type": "execute_result",
     "data": {
      "text/plain": "1        GrLivArea\n2       GarageCars\n3       GarageArea\n4      TotalBsmtSF\n5       TotalBaths\n          ...     \n340         x31_TA\n341         x19_TA\n342           Type\n343         x0_150\n344     x44_RecGLQ\nName: index, Length: 344, dtype: object"
     },
     "metadata": {},
     "execution_count": 102
    }
   ],
   "source": [
    "corr_columns = train.corr().sort_values(by='SalePrice',ascending = False).reset_index()['index']\n",
    "corr_columns.drop(0, inplace= True)\n",
    "corr_columns"
   ]
  },
  {
   "cell_type": "code",
   "execution_count": 103,
   "metadata": {
    "tags": []
   },
   "outputs": [
    {
     "output_type": "stream",
     "name": "stdout",
     "text": "0.13123649835737763\n"
    }
   ],
   "source": [
    "# clf = SVR(C=100400 ,degree=2,epsilon=2500, kernel='poly')\n",
    "clf = XGBRegressor(objective=\"reg:squarederror\")\n",
    "# clf = LGBMRegressor()\n",
    "# # cross_val_score(clf,X.values,y,scoring='neg_mean_squared_log_error', cv=10,verbose=1)\n",
    "# clf.fit(X,y)\n",
    "# feature_importance = pd.DataFrame({\"feature\": X.columns, \"importance\":map(lambda x: round(x,4),clf.feature_importances_)}).sort_values(by='importance',ascending=False)\n",
    "# feature_importance\n",
    "# lr_clf = LinearRegression()\n",
    "# params = [{\"max_depth\":[3,6,7,10,60],\"lambda\":[1,1.5,2],\"estimators\":[20,30,100,300,600],\"gamma\":[0,0.01,0.03,0.1] }]\n",
    "# params = [{\"C\":[10,30,60,100,600,1000100,1000000],\"degree\":[1,2,3,4,5]}]\n",
    "# params = [{\"max_depth\":[3,6,10,60,100,500,-1],\"learning_rate\":[0.01,0.05,0,1],\"estimators\":[20,30,100,300,600],\"num_leaves\":[15,31,63,127] }]\n",
    "# grid = GridSearchCV(clf,params,scoring=\"neg_mean_squared_log_error\", cv=8, verbose=1,n_jobs=-1)\n",
    "# grid.fit(X,y)\n",
    "# clf_best = grid.best_estimator_\n",
    "# print(\"Best:\", grid.best_params_)\n",
    "print(math.sqrt(-1*cross_val_score(clf,X,y,cv=6,n_jobs=-1,scoring='neg_mean_squared_log_error').mean()))"
   ]
  },
  {
   "cell_type": "code",
   "execution_count": 104,
   "metadata": {
    "tags": []
   },
   "outputs": [
    {
     "output_type": "stream",
     "name": "stdout",
     "text": "Fitting 6 folds for each of 135 candidates, totalling 810 fits\n[Parallel(n_jobs=-1)]: Using backend LokyBackend with 16 concurrent workers.\n[Parallel(n_jobs=-1)]: Done  18 tasks      | elapsed:    1.9s\n[Parallel(n_jobs=-1)]: Done 168 tasks      | elapsed:   15.6s\n[Parallel(n_jobs=-1)]: Done 418 tasks      | elapsed:   39.9s\n[Parallel(n_jobs=-1)]: Done 768 tasks      | elapsed:  1.2min\n[Parallel(n_jobs=-1)]: Done 810 out of 810 | elapsed:  1.3min finished\nBest: {'estimators': 3, 'lambda': 1, 'max_depth': 5, 'min_child_weight': 1.5} | Error: 0.12769741034153878\n"
    }
   ],
   "source": [
    "clf = XGBRegressor(objective=\"reg:squarederror\")\n",
    "params = [{\"max_depth\":[3,5,7],\"estimators\":[3,5,10,20,50], \"lambda\":[1,1.5,2], \"min_child_weight\":[0.5,1,1.5]}]\n",
    "# params = [{\"C\":[100090,100420,100030,100040],\"epsilon\":[6,7,9,10,40,200], \"degree\":[2,3] }]\n",
    "grid = GridSearchCV(clf,params,scoring=\"neg_mean_squared_log_error\", cv=6, verbose=1,n_jobs=-1)\n",
    "grid.fit(X,y)\n",
    "clf_best = grid.best_estimator_\n",
    "print(\"Best: {} | Error: {}\".format(grid.best_params_, math.sqrt(-1*grid.best_score_.mean())))\n",
    "\n"
   ]
  },
  {
   "cell_type": "code",
   "execution_count": 105,
   "metadata": {},
   "outputs": [
    {
     "output_type": "execute_result",
     "data": {
      "text/plain": "                    feature  importance\n11                GrLivArea      0.1409\n30   OverallQualOverallCond      0.0600\n17               GarageCars      0.0457\n7               TotalBsmtSF      0.0439\n1                 YearBuilt      0.0210\n29               TotalBaths      0.0187\n4                BsmtFinSF1      0.0165\n195                  x22_Ex      0.0153\n0                   LotArea      0.0133\n199                  x22_TA      0.0107\n9                  2ndFlrSF      0.0098\n183                  x19_TA      0.0098\n8                  1stFlrSF      0.0080\n242                  x31_Ex      0.0054\n2              YearRemodAdd      0.0046\n18               GarageArea      0.0044\n206                  x24_Gd      0.0028\n15               Fireplaces      0.0025\n103                x10_Norm      0.0024\n6                 BsmtUnfSF      0.0021\n209                  x24_No      0.0020\n19               WoodDeckSF      0.0020\n20              OpenPorchSF      0.0019\n16              GarageYrBlt      0.0019\n14             TotRmsAbvGrd      0.0019\n82               x9_Crawfor      0.0018\n148             x16_BrkFace      0.0017",
      "text/html": "<div>\n<style scoped>\n    .dataframe tbody tr th:only-of-type {\n        vertical-align: middle;\n    }\n\n    .dataframe tbody tr th {\n        vertical-align: top;\n    }\n\n    .dataframe thead th {\n        text-align: right;\n    }\n</style>\n<table border=\"1\" class=\"dataframe\">\n  <thead>\n    <tr style=\"text-align: right;\">\n      <th></th>\n      <th>feature</th>\n      <th>importance</th>\n    </tr>\n  </thead>\n  <tbody>\n    <tr>\n      <th>11</th>\n      <td>GrLivArea</td>\n      <td>0.1409</td>\n    </tr>\n    <tr>\n      <th>30</th>\n      <td>OverallQualOverallCond</td>\n      <td>0.0600</td>\n    </tr>\n    <tr>\n      <th>17</th>\n      <td>GarageCars</td>\n      <td>0.0457</td>\n    </tr>\n    <tr>\n      <th>7</th>\n      <td>TotalBsmtSF</td>\n      <td>0.0439</td>\n    </tr>\n    <tr>\n      <th>1</th>\n      <td>YearBuilt</td>\n      <td>0.0210</td>\n    </tr>\n    <tr>\n      <th>29</th>\n      <td>TotalBaths</td>\n      <td>0.0187</td>\n    </tr>\n    <tr>\n      <th>4</th>\n      <td>BsmtFinSF1</td>\n      <td>0.0165</td>\n    </tr>\n    <tr>\n      <th>195</th>\n      <td>x22_Ex</td>\n      <td>0.0153</td>\n    </tr>\n    <tr>\n      <th>0</th>\n      <td>LotArea</td>\n      <td>0.0133</td>\n    </tr>\n    <tr>\n      <th>199</th>\n      <td>x22_TA</td>\n      <td>0.0107</td>\n    </tr>\n    <tr>\n      <th>9</th>\n      <td>2ndFlrSF</td>\n      <td>0.0098</td>\n    </tr>\n    <tr>\n      <th>183</th>\n      <td>x19_TA</td>\n      <td>0.0098</td>\n    </tr>\n    <tr>\n      <th>8</th>\n      <td>1stFlrSF</td>\n      <td>0.0080</td>\n    </tr>\n    <tr>\n      <th>242</th>\n      <td>x31_Ex</td>\n      <td>0.0054</td>\n    </tr>\n    <tr>\n      <th>2</th>\n      <td>YearRemodAdd</td>\n      <td>0.0046</td>\n    </tr>\n    <tr>\n      <th>18</th>\n      <td>GarageArea</td>\n      <td>0.0044</td>\n    </tr>\n    <tr>\n      <th>206</th>\n      <td>x24_Gd</td>\n      <td>0.0028</td>\n    </tr>\n    <tr>\n      <th>15</th>\n      <td>Fireplaces</td>\n      <td>0.0025</td>\n    </tr>\n    <tr>\n      <th>103</th>\n      <td>x10_Norm</td>\n      <td>0.0024</td>\n    </tr>\n    <tr>\n      <th>6</th>\n      <td>BsmtUnfSF</td>\n      <td>0.0021</td>\n    </tr>\n    <tr>\n      <th>209</th>\n      <td>x24_No</td>\n      <td>0.0020</td>\n    </tr>\n    <tr>\n      <th>19</th>\n      <td>WoodDeckSF</td>\n      <td>0.0020</td>\n    </tr>\n    <tr>\n      <th>20</th>\n      <td>OpenPorchSF</td>\n      <td>0.0019</td>\n    </tr>\n    <tr>\n      <th>16</th>\n      <td>GarageYrBlt</td>\n      <td>0.0019</td>\n    </tr>\n    <tr>\n      <th>14</th>\n      <td>TotRmsAbvGrd</td>\n      <td>0.0019</td>\n    </tr>\n    <tr>\n      <th>82</th>\n      <td>x9_Crawfor</td>\n      <td>0.0018</td>\n    </tr>\n    <tr>\n      <th>148</th>\n      <td>x16_BrkFace</td>\n      <td>0.0017</td>\n    </tr>\n  </tbody>\n</table>\n</div>"
     },
     "metadata": {},
     "execution_count": 105
    }
   ],
   "source": [
    "r = permutation_importance(clf_best,X, y, n_repeats=20, random_state=42, n_jobs=-1)\n",
    "feature_importance = pd.DataFrame({\"feature\": X.columns, \"importance\":map(lambda x: round(x,4),r.importances_mean)}).sort_values(by='importance',ascending=False)\n",
    "feature_importance.loc[feature_importance.importance > 0.0015]"
   ]
  },
  {
   "cell_type": "code",
   "execution_count": 106,
   "metadata": {
    "tags": [
     "outputPrepend"
    ]
   },
   "outputs": [
    {
     "output_type": "stream",
     "name": "stdout",
     "text": " | Step: x44_BLQLwQ: 156/343\nSqrt Error: 0.12646664873640595 | Features: 334 | Min Error: 0.12646664873640595 | Step: x37_Po: 157/343\nSqrt Error: 0.12646664873640595 | Features: 334 | Min Error: 0.12646664873640595 | Step: x44_ALQBLQ: 158/343\nSqrt Error: 0.12664234818330886 | Features: 334 | Min Error: 0.12646664873640595 | Step: x38_P: 159/343\nSqrt Error: 0.12754209874335623 | Features: 334 | Min Error: 0.12646664873640595 | Step: x38_Y: 160/343\nSqrt Error: 0.12646664873640595 | Features: 334 | Min Error: 0.12646664873640595 | Step: x39_Ex: 161/343\nSqrt Error: 0.12646664873640595 | Features: 334 | Min Error: 0.12646664873640595 | Step: x39_Fa: 162/343\nSqrt Error: 0.12646664873640595 | Features: 334 | Min Error: 0.12646664873640595 | Step: x39_Gd: 163/343\nSqrt Error: 0.12646664873640595 | Features: 334 | Min Error: 0.12646664873640595 | Step: x39_NA: 164/343\nSqrt Error: 0.1265970839263903 | Features: 334 | Min Error: 0.12646664873640595 | Step: x40_GdPrv: 165/343\nSqrt Error: 0.1269163709231903 | Features: 334 | Min Error: 0.12646664873640595 | Step: x40_GdWo: 166/343\nSqrt Error: 0.1272304681604251 | Features: 334 | Min Error: 0.12646664873640595 | Step: x40_MnPrv: 167/343\nSqrt Error: 0.12646664873640595 | Features: 334 | Min Error: 0.12646664873640595 | Step: x40_MnWw: 168/343\nSqrt Error: 0.12677893849088467 | Features: 334 | Min Error: 0.12646664873640595 | Step: x40_NA: 169/343\nSqrt Error: 0.12671105456922502 | Features: 334 | Min Error: 0.12646664873640595 | Step: x43_Partial: 170/343\nSqrt Error: 0.12646664873640595 | Features: 334 | Min Error: 0.12646664873640595 | Step: x41_Gar2: 171/343\nSqrt Error: 0.12646664873640595 | Features: 334 | Min Error: 0.12646664873640595 | Step: x41_NA: 172/343\nSqrt Error: 0.1264059706964055 | Features: 334 | Min Error: 0.1264059706964055 | Step: x43_Alloca: 173/343\nSqrt Error: 0.1264059706964055 | Features: 333 | Min Error: 0.1264059706964055 | Step: x41_Othr: 174/343\nSqrt Error: 0.1264059706964055 | Features: 333 | Min Error: 0.1264059706964055 | Step: x43_AdjLand: 175/343\nSqrt Error: 0.1264059706964055 | Features: 333 | Min Error: 0.1264059706964055 | Step: x41_Shed: 176/343\nSqrt Error: 0.1264059706964055 | Features: 333 | Min Error: 0.1264059706964055 | Step: x42_Oth: 177/343\nSqrt Error: 0.1264059706964055 | Features: 333 | Min Error: 0.1264059706964055 | Step: x42_ConLw: 178/343\nSqrt Error: 0.1264059706964055 | Features: 333 | Min Error: 0.1264059706964055 | Step: x41_TenC: 179/343\nSqrt Error: 0.12680872769854254 | Features: 333 | Min Error: 0.1264059706964055 | Step: x42_COD: 180/343\nSqrt Error: 0.12664903993853976 | Features: 333 | Min Error: 0.1264059706964055 | Step: x42_CWD: 181/343\nSqrt Error: 0.1264059706964055 | Features: 333 | Min Error: 0.1264059706964055 | Step: x42_ConLI: 182/343\nSqrt Error: 0.12863515593597577 | Features: 333 | Min Error: 0.1264059706964055 | Step: x38_N: 183/343\nSqrt Error: 0.1264059706964055 | Features: 333 | Min Error: 0.1264059706964055 | Step: x37_NA: 184/343\nSqrt Error: 0.12726651915589607 | Features: 333 | Min Error: 0.1264059706964055 | Step: x33_Ex: 185/343\nSqrt Error: 0.1264059706964055 | Features: 333 | Min Error: 0.1264059706964055 | Step: x37_Gd: 186/343\nSqrt Error: 0.1264059706964055 | Features: 333 | Min Error: 0.1264059706964055 | Step: x42_ConLD: 187/343\nSqrt Error: 0.12680877110040792 | Features: 333 | Min Error: 0.1264059706964055 | Step: x33_Fa: 188/343\nSqrt Error: 0.12639787548585482 | Features: 333 | Min Error: 0.12639787548585482 | Step: x44_BLQGLQ: 189/343\nSqrt Error: 0.12639787548585482 | Features: 332 | Min Error: 0.12639787548585482 | Step: x44_BLQBLQ: 190/343\nSqrt Error: 0.12639787548585482 | Features: 332 | Min Error: 0.12639787548585482 | Step: x33_NA: 191/343\nSqrt Error: 0.12708712425919813 | Features: 332 | Min Error: 0.12639787548585482 | Step: x33_Po: 192/343\nSqrt Error: 0.12757245527179611 | Features: 332 | Min Error: 0.12639787548585482 | Step: x33_TA: 193/343\nSqrt Error: 0.12639787548585482 | Features: 332 | Min Error: 0.12639787548585482 | Step: x34_2Types: 194/343\nSqrt Error: 0.12639787548585482 | Features: 332 | Min Error: 0.12639787548585482 | Step: x44_BLQALQ: 195/343\nSqrt Error: 0.12666170587388784 | Features: 332 | Min Error: 0.12639787548585482 | Step: x34_Basment: 196/343\nSqrt Error: 0.12649947226353983 | Features: 332 | Min Error: 0.12639787548585482 | Step: x34_BuiltIn: 197/343\nSqrt Error: 0.12708064147216921 | Features: 332 | Min Error: 0.12639787548585482 | Step: x34_Detchd: 198/343\nSqrt Error: 0.12639787548585482 | Features: 332 | Min Error: 0.12639787548585482 | Step: x34_NA: 199/343\nSqrt Error: 0.1269835319534791 | Features: 332 | Min Error: 0.12639787548585482 | Step: x44_ALQUnf: 200/343\nSqrt Error: 0.12639787548585482 | Features: 332 | Min Error: 0.12639787548585482 | Step: x35_NA: 201/343\nSqrt Error: 0.12639787548585482 | Features: 332 | Min Error: 0.12639787548585482 | Step: x44_ALQRec: 202/343\nSqrt Error: 0.12639787548585482 | Features: 332 | Min Error: 0.12639787548585482 | Step: x36_Ex: 203/343\nSqrt Error: 0.12668316274654023 | Features: 332 | Min Error: 0.12639787548585482 | Step: x36_Fa: 204/343\nSqrt Error: 0.12639787548585482 | Features: 332 | Min Error: 0.12639787548585482 | Step: x44_ALQGLQ: 205/343\nSqrt Error: 0.12682467105872233 | Features: 332 | Min Error: 0.12639787548585482 | Step: x36_Gd: 206/343\nSqrt Error: 0.12639787548585482 | Features: 332 | Min Error: 0.12639787548585482 | Step: x36_NA: 207/343\nSqrt Error: 0.12639787548585482 | Features: 332 | Min Error: 0.12639787548585482 | Step: x36_Po: 208/343\nSqrt Error: 0.12741753236468525 | Features: 332 | Min Error: 0.12639787548585482 | Step: x36_TA: 209/343\nSqrt Error: 0.12639787548585482 | Features: 332 | Min Error: 0.12639787548585482 | Step: x37_Ex: 210/343\nSqrt Error: 0.12639787548585482 | Features: 332 | Min Error: 0.12639787548585482 | Step: x37_Fa: 211/343\nSqrt Error: 0.12675637639873033 | Features: 332 | Min Error: 0.12639787548585482 | Step: x25_LwQ: 212/343\nSqrt Error: 0.12639787548585482 | Features: 332 | Min Error: 0.12639787548585482 | Step: x17_Stone: 213/343\nSqrt Error: 0.12660496916811925 | Features: 332 | Min Error: 0.12639787548585482 | Step: x25_BLQ: 214/343\nSqrt Error: 0.12639787548585482 | Features: 332 | Min Error: 0.12639787548585482 | Step: x9_Blueste: 215/343\nSqrt Error: 0.1272975596315434 | Features: 332 | Min Error: 0.12639787548585482 | Step: x9_CollgCr: 216/343\nSqrt Error: 0.12685394430053712 | Features: 332 | Min Error: 0.12639787548585482 | Step: x9_Gilbert: 217/343\nSqrt Error: 0.1267741347543409 | Features: 332 | Min Error: 0.12639787548585482 | Step: x9_IDOTRR: 218/343\nSqrt Error: 0.12639787548585482 | Features: 332 | Min Error: 0.12639787548585482 | Step: x9_MeadowV: 219/343\nSqrt Error: 0.1265364109583698 | Features: 332 | Min Error: 0.12639787548585482 | Step: x9_Mitchel: 220/343\nSqrt Error: 0.12639787548585482 | Features: 332 | Min Error: 0.12639787548585482 | Step: x9_NPkVill: 221/343\nSqrt Error: 0.12673336721111186 | Features: 332 | Min Error: 0.12639787548585482 | Step: x9_NWAmes: 222/343\nSqrt Error: 0.12658249808600827 | Features: 332 | Min Error: 0.12639787548585482 | Step: x9_NoRidge: 223/343\nSqrt Error: 0.1268390489219627 | Features: 332 | Min Error: 0.12639787548585482 | Step: x9_SWISU: 224/343\nSqrt Error: 0.12664363652255517 | Features: 332 | Min Error: 0.12639787548585482 | Step: x9_Sawyer: 225/343\nSqrt Error: 0.12648277777109818 | Features: 332 | Min Error: 0.12639787548585482 | Step: x9_SawyerW: 226/343\nSqrt Error: 0.12641043850515304 | Features: 332 | Min Error: 0.12639787548585482 | Step: x9_Veenker: 227/343\nSqrt Error: 0.12735715926633867 | Features: 332 | Min Error: 0.12639787548585482 | Step: x10_Feedr: 228/343\nSqrt Error: 0.12639787548585482 | Features: 332 | Min Error: 0.12639787548585482 | Step: x10_PosA: 229/343\nSqrt Error: 0.12748880818005928 | Features: 332 | Min Error: 0.12639787548585482 | Step: x10_PosN: 230/343\nSqrt Error: 0.12636454558194768 | Features: 332 | Min Error: 0.12636454558194768 | Step: x10_RRAn: 231/343\nSqrt Error: 0.12636454558194768 | Features: 331 | Min Error: 0.12636454558194768 | Step: x10_RRNe: 232/343\nSqrt Error: 0.12636454558194768 | Features: 331 | Min Error: 0.12636454558194768 | Step: x10_RRNn: 233/343\nSqrt Error: 0.12636454558194768 | Features: 331 | Min Error: 0.12636454558194768 | Step: x11_Artery: 234/343\nSqrt Error: 0.12636454558194768 | Features: 331 | Min Error: 0.12636454558194768 | Step: x11_Feedr: 235/343\nSqrt Error: 0.1263659843869127 | Features: 331 | Min Error: 0.12636454558194768 | Step: x11_Norm: 236/343\nSqrt Error: 0.12636454558194768 | Features: 331 | Min Error: 0.12636454558194768 | Step: x11_PosA: 237/343\nSqrt Error: 0.12636454558194768 | Features: 331 | Min Error: 0.12636454558194768 | Step: x11_PosN: 238/343\nSqrt Error: 0.12636454558194768 | Features: 331 | Min Error: 0.12636454558194768 | Step: x11_RRAe: 239/343\nSqrt Error: 0.12636454558194768 | Features: 331 | Min Error: 0.12636454558194768 | Step: x11_RRAn: 240/343\nSqrt Error: 0.12636454558194768 | Features: 331 | Min Error: 0.12636454558194768 | Step: x11_RRNn: 241/343\nSqrt Error: 0.12636454558194768 | Features: 331 | Min Error: 0.12636454558194768 | Step: x12_2fmCon: 242/343\nSqrt Error: 0.12636454558194768 | Features: 331 | Min Error: 0.12636454558194768 | Step: x12_Duplex: 243/343\nSqrt Error: 0.12688974821018506 | Features: 331 | Min Error: 0.12636454558194768 | Step: x12_Twnhs: 244/343\nSqrt Error: 0.12636454558194768 | Features: 331 | Min Error: 0.12636454558194768 | Step: x9_BrDale: 245/343\nSqrt Error: 0.12681976642594067 | Features: 331 | Min Error: 0.12636454558194768 | Step: x9_Blmngtn: 246/343\nSqrt Error: 0.1269911077557658 | Features: 331 | Min Error: 0.12636454558194768 | Step: x25_ALQ: 247/343\nSqrt Error: 0.12636454558194768 | Features: 331 | Min Error: 0.12636454558194768 | Step: x8_Sev: 248/343\nSqrt Error: 0.1271669004781905 | Features: 331 | Min Error: 0.12636454558194768 | Step: BsmtFinSF2: 249/343\nSqrt Error: 0.12685292281427887 | Features: 331 | Min Error: 0.12636454558194768 | Step: LowQualFinSF: 250/343\nSqrt Error: 0.12689221237047185 | Features: 331 | Min Error: 0.12636454558194768 | Step: x0_20: 251/343\nSqrt Error: 0.12636454558194768 | Features: 331 | Min Error: 0.12636454558194768 | Step: x0_40: 252/343\nSqrt Error: 0.12636454558194768 | Features: 331 | Min Error: 0.12636454558194768 | Step: x0_45: 253/343\nSqrt Error: 0.1280926985247602 | Features: 331 | Min Error: 0.12636454558194768 | Step: x0_60: 254/343\nSqrt Error: 0.1263446328347348 | Features: 331 | Min Error: 0.1263446328347348 | Step: x0_75: 255/343\nSqrt Error: 0.12712726472291094 | Features: 330 | Min Error: 0.1263446328347348 | Step: x0_80: 256/343\nSqrt Error: 0.1263446328347348 | Features: 330 | Min Error: 0.1263446328347348 | Step: x0_85: 257/343\nSqrt Error: 0.1263446328347348 | Features: 330 | Min Error: 0.1263446328347348 | Step: x0_90: 258/343\nSqrt Error: 0.12636559791386234 | Features: 330 | Min Error: 0.1263446328347348 | Step: x0_120: 259/343\nSqrt Error: 0.1263446328347348 | Features: 330 | Min Error: 0.1263446328347348 | Step: x0_150: 260/343\nSqrt Error: 0.1263446328347348 | Features: 330 | Min Error: 0.1263446328347348 | Step: x0_160: 261/343\nSqrt Error: 0.1263446328347348 | Features: 330 | Min Error: 0.1263446328347348 | Step: x0_180: 262/343\nSqrt Error: 0.1263494708293527 | Features: 330 | Min Error: 0.1263446328347348 | Step: x0_190: 263/343\nSqrt Error: 0.12644350667088447 | Features: 330 | Min Error: 0.1263446328347348 | Step: x1_RH: 264/343\nSqrt Error: 0.1263446328347348 | Features: 330 | Min Error: 0.1263446328347348 | Step: x2_Grvl: 265/343\nSqrt Error: 0.1263446328347348 | Features: 330 | Min Error: 0.1263446328347348 | Step: x2_Pave: 266/343\nSqrt Error: 0.12671475567166257 | Features: 330 | Min Error: 0.1263446328347348 | Step: x3_Grvl: 267/343\nSqrt Error: 0.12659727633627524 | Features: 330 | Min Error: 0.1263446328347348 | Step: x3_Pave: 268/343\nSqrt Error: 0.1270099820979435 | Features: 330 | Min Error: 0.1263446328347348 | Step: x4_IR2: 269/343\nSqrt Error: 0.1280005223218706 | Features: 330 | Min Error: 0.1263446328347348 | Step: x4_IR3: 270/343\nSqrt Error: 0.12802326380298967 | Features: 330 | Min Error: 0.1263446328347348 | Step: x4_Reg: 271/343\nSqrt Error: 0.12802412291724674 | Features: 330 | Min Error: 0.1263446328347348 | Step: x5_Low: 272/343\nSqrt Error: 0.1263446328347348 | Features: 330 | Min Error: 0.1263446328347348 | Step: x6_AllPub: 273/343\nSqrt Error: 0.1263446328347348 | Features: 330 | Min Error: 0.1263446328347348 | Step: x6_NoSeWa: 274/343\nSqrt Error: 0.12636490445640738 | Features: 330 | Min Error: 0.1263446328347348 | Step: x7_FR3: 275/343\nSqrt Error: 0.12740629983241672 | Features: 330 | Min Error: 0.1263446328347348 | Step: x8_Gtl: 276/343\nSqrt Error: 0.12682993713854504 | Features: 330 | Min Error: 0.1263446328347348 | Step: x8_Mod: 277/343\nSqrt Error: 0.12621016004883281 | Features: 330 | Min Error: 0.12621016004883281 | Step: x12_TwnhsE: 278/343\nSqrt Error: 0.12680156556657496 | Features: 329 | Min Error: 0.12621016004883281 | Step: x13_1.5Fin: 279/343\nSqrt Error: 0.12649751343533908 | Features: 329 | Min Error: 0.12621016004883281 | Step: x13_1.5Unf: 280/343\nSqrt Error: 0.12609463768359608 | Features: 329 | Min Error: 0.12609463768359608 | Step: x13_1Story: 281/343\nSqrt Error: 0.1261677346968695 | Features: 328 | Min Error: 0.12609463768359608 | Step: x17_BrkFace: 282/343\nSqrt Error: 0.12609463768359608 | Features: 328 | Min Error: 0.12609463768359608 | Step: x17_CBlock: 283/343\nSqrt Error: 0.1268210485106098 | Features: 328 | Min Error: 0.12609463768359608 | Step: x17_CemntBd: 284/343\nSqrt Error: 0.12609463768359608 | Features: 328 | Min Error: 0.12609463768359608 | Step: x17_ImStucc: 285/343\nSqrt Error: 0.12609463768359608 | Features: 328 | Min Error: 0.12609463768359608 | Step: x17_Other: 286/343\nSqrt Error: 0.1264243364342017 | Features: 328 | Min Error: 0.12609463768359608 | Step: x17_Plywood: 287/343\nSqrt Error: 0.12596810987854853 | Features: 328 | Min Error: 0.12596810987854853 | Step: x17_Stucco: 288/343\nSqrt Error: 0.12612227977540635 | Features: 327 | Min Error: 0.12596810987854853 | Step: x17_VinylSd: 289/343\nSqrt Error: 0.12588063617915923 | Features: 327 | Min Error: 0.12588063617915923 | Step: x17_WdShing: 290/343\nSqrt Error: 0.12683879610780066 | Features: 326 | Min Error: 0.12588063617915923 | Step: x18_BrkCmn: 291/343\nSqrt Error: 0.12631846995870266 | Features: 326 | Min Error: 0.12588063617915923 | Step: x18_None: 292/343\nSqrt Error: 0.12763893366933604 | Features: 326 | Min Error: 0.12588063617915923 | Step: x18_Stone: 293/343\nSqrt Error: 0.12595584768408466 | Features: 326 | Min Error: 0.12588063617915923 | Step: x20_Ex: 294/343\nSqrt Error: 0.12617388820222947 | Features: 326 | Min Error: 0.12588063617915923 | Step: x20_Gd: 295/343\nSqrt Error: 0.12588063617915923 | Features: 326 | Min Error: 0.12588063617915923 | Step: x20_Po: 296/343\nSqrt Error: 0.126143688106345 | Features: 326 | Min Error: 0.12588063617915923 | Step: x20_TA: 297/343\nSqrt Error: 0.12585101308515947 | Features: 326 | Min Error: 0.12585101308515947 | Step: x21_BrkTil: 298/343\nSqrt Error: 0.12657322696621895 | Features: 325 | Min Error: 0.12585101308515947 | Step: x21_PConc: 299/343\nSqrt Error: 0.12585101308515947 | Features: 325 | Min Error: 0.12585101308515947 | Step: x21_Slab: 300/343\nSqrt Error: 0.12585101308515947 | Features: 325 | Min Error: 0.12585101308515947 | Step: x21_Stone: 301/343\nSqrt Error: 0.12594335120867087 | Features: 325 | Min Error: 0.12585101308515947 | Step: x21_Wood: 302/343\nSqrt Error: 0.12583411578531414 | Features: 325 | Min Error: 0.12583411578531414 | Step: x22_Fa: 303/343\nSqrt Error: 0.12583411578531414 | Features: 324 | Min Error: 0.12583411578531414 | Step: x22_NA: 304/343\nSqrt Error: 0.12672999457390277 | Features: 324 | Min Error: 0.12583411578531414 | Step: x23_Fa: 305/343\nSqrt Error: 0.1259535327580513 | Features: 324 | Min Error: 0.12583411578531414 | Step: x23_Gd: 306/343\nSqrt Error: 0.12583411578531414 | Features: 324 | Min Error: 0.12583411578531414 | Step: x23_NA: 307/343\nSqrt Error: 0.1258495426372787 | Features: 324 | Min Error: 0.12583411578531414 | Step: x23_Po: 308/343\nSqrt Error: 0.12574459822756343 | Features: 324 | Min Error: 0.12574459822756343 | Step: x24_Mn: 309/343\nSqrt Error: 0.12574459822756343 | Features: 323 | Min Error: 0.12574459822756343 | Step: x24_NA: 310/343\nSqrt Error: 0.12574459822756343 | Features: 323 | Min Error: 0.12574459822756343 | Step: x17_BrkComm: 311/343\nSqrt Error: 0.12574459822756343 | Features: 323 | Min Error: 0.12574459822756343 | Step: x17_AsphShn: 312/343\nSqrt Error: 0.12574459822756343 | Features: 323 | Min Error: 0.12574459822756343 | Step: x17_AsbShng: 313/343\nSqrt Error: 0.12574459822756343 | Features: 323 | Min Error: 0.12574459822756343 | Step: x15_Roll: 314/343\nSqrt Error: 0.12574459822756343 | Features: 323 | Min Error: 0.12574459822756343 | Step: x13_2.5Fin: 315/343\nSqrt Error: 0.12574459822756343 | Features: 323 | Min Error: 0.12574459822756343 | Step: x13_2.5Unf: 316/343\nSqrt Error: 0.12631695748666028 | Features: 323 | Min Error: 0.12574459822756343 | Step: x13_2Story: 317/343\nSqrt Error: 0.12574459822756343 | Features: 323 | Min Error: 0.12574459822756343 | Step: x13_SFoyer: 318/343\nSqrt Error: 0.12574459822756343 | Features: 323 | Min Error: 0.12574459822756343 | Step: x14_Flat: 319/343\nSqrt Error: 0.12574459822756343 | Features: 323 | Min Error: 0.12574459822756343 | Step: x14_Gambrel: 320/343\nSqrt Error: 0.12649686490251066 | Features: 323 | Min Error: 0.12574459822756343 | Step: x14_Hip: 321/343\nSqrt Error: 0.1260508726329089 | Features: 323 | Min Error: 0.12574459822756343 | Step: x14_Mansard: 322/343\nSqrt Error: 0.12574459822756343 | Features: 323 | Min Error: 0.12574459822756343 | Step: x14_Shed: 323/343\nSqrt Error: 0.12574459822756343 | Features: 323 | Min Error: 0.12574459822756343 | Step: x15_ClyTile: 324/343\nSqrt Error: 0.12588670764261567 | Features: 323 | Min Error: 0.12574459822756343 | Step: x15_CompShg: 325/343\nSqrt Error: 0.12574459822756343 | Features: 323 | Min Error: 0.12574459822756343 | Step: x15_Membran: 326/343\nSqrt Error: 0.12574459822756343 | Features: 323 | Min Error: 0.12574459822756343 | Step: x15_Metal: 327/343\nSqrt Error: 0.12578447046324162 | Features: 323 | Min Error: 0.12574459822756343 | Step: x15_Tar&Grv: 328/343\nSqrt Error: 0.12568694305114186 | Features: 323 | Min Error: 0.12568694305114186 | Step: x16_WdShing: 329/343\nSqrt Error: 0.12568694305114186 | Features: 322 | Min Error: 0.12568694305114186 | Step: x15_WdShake: 330/343\nSqrt Error: 0.12592509107895977 | Features: 322 | Min Error: 0.12568694305114186 | Step: x15_WdShngl: 331/343\nSqrt Error: 0.12568694305114186 | Features: 322 | Min Error: 0.12568694305114186 | Step: x16_AsbShng: 332/343\nSqrt Error: 0.12568694305114186 | Features: 322 | Min Error: 0.12568694305114186 | Step: x16_AsphShn: 333/343\nSqrt Error: 0.12568694305114186 | Features: 322 | Min Error: 0.12568694305114186 | Step: x16_BrkComm: 334/343\nSqrt Error: 0.12568694305114186 | Features: 322 | Min Error: 0.12568694305114186 | Step: x16_CBlock: 335/343\nSqrt Error: 0.12571076951477267 | Features: 322 | Min Error: 0.12568694305114186 | Step: x16_CemntBd: 336/343\nSqrt Error: 0.12568694305114186 | Features: 322 | Min Error: 0.12568694305114186 | Step: x16_ImStucc: 337/343\nSqrt Error: 0.12572643821943386 | Features: 322 | Min Error: 0.12568694305114186 | Step: x16_Plywood: 338/343\nSqrt Error: 0.12568694305114186 | Features: 322 | Min Error: 0.12568694305114186 | Step: x16_Stone: 339/343\nSqrt Error: 0.12635214065158323 | Features: 322 | Min Error: 0.12568694305114186 | Step: x16_Stucco: 340/343\nSqrt Error: 0.1266187674500868 | Features: 322 | Min Error: 0.12568694305114186 | Step: x16_VinylSd: 341/343\nSqrt Error: 0.126185412016904 | Features: 322 | Min Error: 0.12568694305114186 | Step: x16_Wd Sdng: 342/343\nSqrt Error: 0.12568694305114186 | Features: 322 | Min Error: 0.12568694305114186 | Step: x44_UnfUnf: 343/343\n"
    }
   ],
   "source": [
    "finals = X.columns.values\n",
    "X_train_finals = X[finals]\n",
    "error = -1 * cross_val_score(clf_best,X_train_finals.values,y,scoring='neg_mean_squared_log_error', cv=6).mean()\n",
    "min_error = error    \n",
    "removed = []\n",
    "finals_temp = []\n",
    "i = 0\n",
    "for f in feature_importance['feature']:\n",
    "    removed.append(f)\n",
    "    X_train_finals = X.drop(removed,axis=1)\n",
    "    error = -1 * cross_val_score(clf_best,X_train_finals.values,y,scoring='neg_mean_squared_log_error', cv=6).mean()\n",
    "    if min_error > error:\n",
    "        min_error = error\n",
    "    else:        \n",
    "        removed.remove(f) \n",
    "    print(\"Sqrt Error: {} | Features: {} | Min Error: {} | Step: {}: {}/{}\".format(math.sqrt(error),X_train_finals.shape[1],math.sqrt(min_error),f,i+1,X.shape[1]))  \n",
    "    i += 1   \n"
   ]
  },
  {
   "cell_type": "code",
   "execution_count": 107,
   "metadata": {
    "tags": []
   },
   "outputs": [],
   "source": [
    "X_final = X.drop(removed,axis=1)\n",
    "clf_best.fit(X_final,y)\n",
    "y_pred = clf_best.predict(test_prepared.drop(removed,axis=1))\n",
    "data_test['SalePrice'] = y_pred\n",
    "data_test[['Id','SalePrice']].to_csv('result3.csv',index=False)"
   ]
  },
  {
   "cell_type": "code",
   "execution_count": 108,
   "metadata": {
    "tags": []
   },
   "outputs": [
    {
     "output_type": "execute_result",
     "data": {
      "text/plain": "['TotalBaths',\n 'x16_MetalSd',\n 'x0_70',\n 'x19_Fa',\n 'x4_IR1',\n 'x32_Maj2',\n 'x32_Min1',\n 'x26_Rec',\n 'x43_Alloca',\n 'x44_BLQGLQ',\n 'x10_RRAn',\n 'x0_75',\n 'x12_TwnhsE',\n 'x13_1Story',\n 'x17_Stucco',\n 'x17_WdShing',\n 'x21_BrkTil',\n 'x22_Fa',\n 'x24_Mn',\n 'x16_WdShing']"
     },
     "metadata": {},
     "execution_count": 108
    }
   ],
   "source": [
    "removed\n",
    "# # test_prepared[['x0_20','x0_60','x0_120']].head(20)\n",
    "# # data_test.head(20)\n",
    "# finals2 = feature_importance.iloc[:,0].unique()\n",
    "# print(math.sqrt(-1*cross_val_score(clf,X[finals2],y,cv=8,n_jobs=-1,scoring='neg_mean_squared_log_error').mean()))\n",
    "# clf.fit(X[finals2],y)\n",
    "# y_pred = clf.predict(test_prepared[finals2])\n",
    "# data_test['SalePrice'] = y_pred\n",
    "# data_test[['Id','SalePrice']].to_csv('result4.csv',index=False)"
   ]
  },
  {
   "cell_type": "code",
   "execution_count": 114,
   "metadata": {
    "tags": []
   },
   "outputs": [
    {
     "output_type": "stream",
     "name": "stdout",
     "text": "Order        PID  MS SubClass MS Zoning  Lot Frontage  Lot Area Street  \\\n0      1  526301100           20        RL         141.0     31770   Pave   \n\n  Alley Lot Shape Land Contour  ... Pool Area Pool QC Fence Misc Feature  \\\n0   NaN       IR1          Lvl  ...         0     NaN   NaN          NaN   \n\n  Misc Val Mo Sold Yr Sold Sale Type  Sale Condition  SalePrice  \n0        0       5    2010       WD           Normal     215000  \n\n[1 rows x 82 columns]\n      Id  MSSubClass MSZoning  LotFrontage  LotArea Street Alley LotShape  \\\n171  172          20       RL        141.0    31770   Pave   NaN      IR1   \n\n    LandContour Utilities  ... PoolArea PoolQC Fence MiscFeature MiscVal  \\\n171         Lvl    AllPub  ...        0    NaN   NaN         NaN       0   \n\n    MoSold YrSold  SaleType  SaleCondition  SalePrice  \n171      5   2010        WD         Normal     215000  \n\n[1 rows x 81 columns]\n"
    }
   ],
   "source": []
  }
 ]
}