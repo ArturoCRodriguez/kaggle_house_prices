{
 "metadata": {
  "language_info": {
   "codemirror_mode": {
    "name": "ipython",
    "version": 3
   },
   "file_extension": ".py",
   "mimetype": "text/x-python",
   "name": "python",
   "nbconvert_exporter": "python",
   "pygments_lexer": "ipython3",
   "version": 3
  },
  "orig_nbformat": 2,
  "kernelspec": {
   "name": "python_defaultSpec_1595181721423",
   "display_name": "Python 3.7.7 64-bit ('tf': conda)"
  }
 },
 "nbformat": 4,
 "nbformat_minor": 2,
 "cells": [
  {
   "cell_type": "code",
   "execution_count": 7,
   "metadata": {
    "tags": []
   },
   "outputs": [],
   "source": [
    "%matplotlib inline\n",
    "import pandas as pd\n",
    "import numpy as np\n",
    "import seaborn as sns\n",
    "import matplotlib.pyplot as plt\n",
    "from custom_functions import get_resume, information_gain\n",
    "pd.set_option('display.max_columns', None)\n",
    "pd.set_option('display.max_rows', None)\n",
    "\n",
    "data = pd.read_csv('train.csv')\n",
    "data_test = pd.read_csv('test.csv')\n",
    "exploration = pd.read_csv('columns_treatment.csv',sep=\";\",decimal=\",\") "
   ]
  },
  {
   "cell_type": "code",
   "execution_count": null,
   "metadata": {},
   "outputs": [],
   "source": [
    "# Clean Data\n",
    "data[\"LotFrontage\"] = data[\"LotFrontage\"].fillna(data[\"LotFrontage\"].mode())\n"
   ]
  },
  {
   "cell_type": "code",
   "execution_count": null,
   "metadata": {},
   "outputs": [],
   "source": [
    "# Derived columns\n",
    "data[\"LotAreaNorm\"] = np.log(data.LotArea + 1)\n",
    "data[\"ExtTotal\"] = data[\"Exterior1st\"] + data[\"Exterior2nd\"]\n"
   ]
  },
  {
   "cell_type": "code",
   "execution_count": 10,
   "metadata": {},
   "outputs": [
    {
     "output_type": "execute_result",
     "data": {
      "text/plain": "['MSSubClass',\n 'MSZoning',\n 'LotFrontage',\n 'LotAreaNorm',\n 'Neighborhood',\n 'HouseStyle',\n 'OverallQual',\n 'OverallCond',\n 'YearBuilt',\n 'YearRemodAdd',\n 'Exterior1st',\n 'Exterior2nd',\n 'ExtTotal',\n 'MasVnrType',\n 'MasVnrArea',\n 'ExterQual',\n 'Foundation',\n 'BsmtQual',\n 'BsmtExposure',\n 'BsmtFinType1',\n 'BsmtFinSF1',\n 'BsmtFinType1+2',\n 'BsmtUnfSF',\n 'TotalBsmtSF',\n 'HeatingQC',\n 'Heating+QC',\n '1stFlrSF',\n '2ndFlrSF',\n '1stFlrSF2ndFlrSF',\n 'GrLivArea',\n 'BsmtFullBath',\n 'FullBath',\n 'TotalBathsWB',\n 'TotalBaths',\n 'BedroomAbvGr',\n 'KitchenQual',\n 'TotRmsAbvGrd',\n 'Fireplaces',\n 'FireplacesNorm',\n 'GarageType',\n 'GarageYrBlt',\n 'GarageFinish',\n 'GarageCars',\n 'WoodDeckSF',\n 'OpenPorchSF',\n 'OpenPorchSFNorm']"
     },
     "metadata": {},
     "execution_count": 10
    }
   ],
   "source": [
    "selected_columns = []\n",
    "for index,row in exploration.iterrows():\n",
    "    if row['type'] == 'cat' or row['type'] == 'num':\n",
    "        selected_columns.append(row['name'])\n",
    "selected_columns"
   ]
  }
 ]
}